{
 "cells": [
  {
   "cell_type": "markdown",
   "metadata": {
    "id": "AQW_t3euRsod"
   },
   "source": [
    "<img src=\"../img/Dolan.png\" width=\"180px\" align=\"right\">\n",
    "\n",
    "# **Lesson 8: Lists**\n",
    "_If you can only have one collection type, make it a list_"
   ]
  },
  {
   "cell_type": "markdown",
   "metadata": {
    "id": "N7vTESzBRsoe"
   },
   "source": [
    "## **Learning Objectives**\n",
    "\n",
    "### Theory / Be able to explain ...\n",
    "- The list as a mutable sequential type\n",
    "- Slice Assignment\n",
    "- The various list methods and functions\n",
    "- The effects of list aliasing\n",
    "- The function and syntax of list comprehensions\n",
    "\n",
    "### Skills / Know how to  ...\n",
    "- Create and modify lists in place\n",
    "- Splice one list into another\n",
    "- Make shallow and deep copies of lists\n",
    "\n",
    "---"
   ]
  },
  {
   "cell_type": "markdown",
   "metadata": {
    "id": "vBDy98u1Rsoe"
   },
   "source": [
    "## **C Arrays: A Lingering Legacy**\n",
    "> \"Real Programmers write in FORTRAN.\"    \n",
    "> -- [The Story of Mel](http://www.catb.org/~esr/jargon/html/story-of-mel.html) in _The Cathedral and the Bazaar_\n",
    "\n",
    "If we dig deep enough into the [Python libraries](https://github.com/python/cpython), we eventually find that much of [Python itself is actually written in C](https://github.com/python/cpython/blob/master/Objects/listobject.c), a language that is still commonly used for operating systems and certain high performance applications. C is about as close to programming in assembly language, one step up from machine code, as we might ever want to venture. Writing C code is like driving a 1960s Amercan \"muscle\" car: it runs everything as fast as possible but lacks any and all safety features. It is, as Ralph Nader famously described one muscle car, _Unsafe at Any Speed_.  \n",
    "\n",
    "Writing code in C that dealt with collections of things meant using *arrays*. A C array was a block of raw memory (RAM) set aside in advance to fit whatever data was poured into it (as bytes). The array data itself was always of one data type (usually `int`, `float`, or `char`) and it was darn near impossible to safely resize the array after the memory was allocated. Fortunately in the heyday of C for data analysis datasets tended to be small enough to estimate in advance how much memory was needed. \n",
    "\n",
    "To avoid the need to think too hard when creating arrays, smart and lazy programmers wrote utility code like this (from _Numerical Recipes in C_) to handle basic memory management with some degree of safety:\n",
    "```c\n",
    "\n",
    "float *vector(nl,nh)\n",
    "int nl, nh;\n",
    "Allocates a float Vector with range [nl..nh] \n",
    "{\n",
    "    v=(float *)malloc((unsigned) (nh-nl+1)*sizeof(float);\n",
    "    if ((!v) nerror(\"allocation failure in vector()\");\n",
    "    return v-nl;\n",
    "}\n",
    "```\n",
    "\n",
    "What a great innovation! We could specify that we wanted a `float` array of a given size (`nh-nl+1`) and it would do all the tricky math for us. \n",
    "\n",
    "Now for the scary part ... Let's say that we have allocated an array to hold 100 items but then we try to insert 101 items into it? C would just do it anyway, overwriting whatever was already in memory just beyond the end of the array. The result? Usually either a major security bug or a random system crash. It was possible to write code that would run flawlessly for days at a time before randomly crashing. The programmer then might spend weeks hunting through the code looking for the error. Imagine if you had to run something a week at a time just to test it one time! You would make sure you looked over every line of code a dozen times before kicking off the next test. \n",
    "\n",
    "So, it is perhaps no surprise that smart and lazy programmers tend to write their code in Python these days. It's just so much more time efficient. \n",
    "\n",
    "Python has a data type called `array` that is like the old C arrays but with all the proper data protections built in. Not many people use it, however. Instead they just use a `list` which is so much more convenient:\n",
    "\n",
    "- A list can contain **any number of items**, subject to how much memory is available.\n",
    "- Each list item can be of **any data type**. We can even **mix data types** within the list. \n",
    "- Lists can be **extended**, **sliced**, and even **truncated** as needed. \n",
    "\n",
    "We have already seen lists in action in the previous lessons. In this lesson we will fill in the details.  "
   ]
  },
  {
   "cell_type": "markdown",
   "metadata": {
    "id": "UD0bD0qMRsof"
   },
   "source": [
    "---\n",
    "## **Lists as Mutable Sequences**\n",
    "The two types of sequences we have looked at so far, files and strings, are very hard or impossible to modify in place. A list, however, is designed to be modified. Mutability is sort of why we make lists.\n",
    "\n",
    "So, for example, consider the following snippet:"
   ]
  },
  {
   "cell_type": "code",
   "execution_count": null,
   "metadata": {
    "colab": {
     "base_uri": "https://localhost:8080/"
    },
    "executionInfo": {
     "elapsed": 15,
     "status": "ok",
     "timestamp": 1623631832161,
     "user": {
      "displayName": "Christopher Huntley",
      "photoUrl": "",
      "userId": "11069151036176747256"
     },
     "user_tz": 240
    },
    "id": "pXG5dAkORsog",
    "outputId": "6c73b827-65bd-4a7b-906e-d123d0e7ba80"
   },
   "outputs": [
    {
     "name": "stdout",
     "output_type": "stream",
     "text": [
      "Go Stags!\n",
      "['G', 'o', ' ', 'S', 't', 'a', 'g', 's', '!']\n",
      "['G', 'o', ' ', 'L', 'a', 'd', 'y', ' ', 'S', 't', 'a', 'g', 's', '!']\n",
      "['G', 'o', ' ', 'L', 'a', 'd', 'y', ' ', 'S', 't', 'a', 'g', 's']\n",
      "['G', 'o', ' ', 'L', 'a', 'd', 'y', ' ', 'S', 't', 'a', 'g', 's', '!', ' ', 'G', 'o', '!']\n",
      "Go Lady Stags! Go!\n"
     ]
    }
   ],
   "source": [
    "print(\"Go Stags!\")\n",
    "\n",
    "go_stags = list(\"Go Stags!\")   # Convert to a list\n",
    "print(go_stags)\n",
    "\n",
    "go_stags[3:3]=\"Lady \"          # Insert items into the middle of the list\n",
    "print(go_stags)\n",
    "\n",
    "del go_stags[len(go_stags)-1]  # Truncate the list \n",
    "print(go_stags)\n",
    "\n",
    "go_stags += list(\"! Go!\")      # Extend the list\n",
    "print(go_stags)\n",
    "\n",
    "print(\"\".join(go_stags))       # convert back to a string"
   ]
  },
  {
   "cell_type": "markdown",
   "metadata": {
    "id": "0xjMQjBQRsok"
   },
   "source": [
    "### **Appending and Deleting List Items**\n",
    "The `+=` operator works just like with strings except that it works in place. The expression to the right of the `+=` must evaluate to a list, even if it is just one item. \n",
    "\n",
    "To remove an item from a specific position in a list we use the `del` statement as shown in the example above, which removed the trailing exclamation point from the list.  "
   ]
  },
  {
   "cell_type": "markdown",
   "metadata": {
    "id": "n12djYYeRsok"
   },
   "source": [
    "### **Lists of Lists**\n",
    "Lists can contain items of any data type, including lists. To refer to elements in the inner (\"nested\") list you just add another bracket operator [] to the end. This works for string items as well."
   ]
  },
  {
   "cell_type": "code",
   "execution_count": null,
   "metadata": {
    "colab": {
     "base_uri": "https://localhost:8080/"
    },
    "executionInfo": {
     "elapsed": 5,
     "status": "ok",
     "timestamp": 1646096305740,
     "user": {
      "displayName": "Christopher Huntley",
      "photoUrl": "https://lh3.googleusercontent.com/a/default-user=s64",
      "userId": "11069151036176747256"
     },
     "user_tz": 300
    },
    "id": "HNHXdsOgRsol",
    "outputId": "cb68ca01-4282-4ee2-8506-e28231151ae5"
   },
   "outputs": [
    {
     "name": "stdout",
     "output_type": "stream",
     "text": [
      "[1, ['alpha', 'beta', 'gamma'], 3, 4]\n",
      "['alpha', 'beta', 'gamma']\n",
      "gamma\n",
      "m\n"
     ]
    }
   ],
   "source": [
    "a_list = [1, [\"alpha\",\"beta\",\"gamma\"], 3, 4]\n",
    "\n",
    "print(a_list)           # the full list\n",
    "print(a_list[1])        # the nested sublist\n",
    "print(a_list[1][2])     # an item ('Gamma') in the nested sublist \n",
    "print(a_list[1][2][3])  # the second 'm' from the string 'Gamma'"
   ]
  },
  {
   "cell_type": "markdown",
   "metadata": {
    "id": "3-tcHM-GRson"
   },
   "source": [
    "### **Slice Assignment (Splicing)**\n",
    "We used slices with strings. They work almost the same with lists, with one notable exception: we can **use the slice operator in assignment statements**. \n",
    "\n",
    "When we slice a list, the part \"sliced out\" is replaceable with something else. It's like Python creates a temporary variable (representing the gap in the list) that we can assign list values to as we please."
   ]
  },
  {
   "cell_type": "code",
   "execution_count": null,
   "metadata": {
    "colab": {
     "base_uri": "https://localhost:8080/"
    },
    "executionInfo": {
     "elapsed": 10,
     "status": "ok",
     "timestamp": 1623631832163,
     "user": {
      "displayName": "Christopher Huntley",
      "photoUrl": "",
      "userId": "11069151036176747256"
     },
     "user_tz": 240
    },
    "id": "7vgAjHt0Rsoo",
    "outputId": "5cb7fa6e-53ad-4996-c909-64a6d608c271"
   },
   "outputs": [
    {
     "name": "stdout",
     "output_type": "stream",
     "text": [
      "[2, 3]\n",
      "[1, 'a', 'b', 'c', 'd', 4]\n"
     ]
    }
   ],
   "source": [
    "my_list = [1,2,3,4]\n",
    "print(my_list)\n",
    "print(my_list[1:3])\n",
    "\n",
    "my_list[1:3] = [\"a\",\"b\",\"c\",\"d\"]\n",
    "print(my_list)"
   ]
  },
  {
   "cell_type": "markdown",
   "metadata": {
    "id": "JpXFm4ejRsoq"
   },
   "source": [
    "In essence we cut the list just before positions 1 and 3 (the slice) and then spliced a new sequence into the gap. If we want to do the splicing without losing any items in the list, then we just use a 0-position slice (with the same number on either side of the `:`)."
   ]
  },
  {
   "cell_type": "code",
   "execution_count": null,
   "metadata": {
    "colab": {
     "base_uri": "https://localhost:8080/"
    },
    "executionInfo": {
     "elapsed": 175,
     "status": "ok",
     "timestamp": 1623631832331,
     "user": {
      "displayName": "Christopher Huntley",
      "photoUrl": "",
      "userId": "11069151036176747256"
     },
     "user_tz": 240
    },
    "id": "bdbiPBNURsor",
    "outputId": "313bac4b-2088-4b23-fe30-1bfa3ac488d7"
   },
   "outputs": [
    {
     "name": "stdout",
     "output_type": "stream",
     "text": [
      "[1, 'a', 'b', 'c', 'd', 2, 3, 4]\n"
     ]
    }
   ],
   "source": [
    "my_list = [1,2,3,4]\n",
    "print(my_list)\n",
    "my_list[1:1] = [\"a\",\"b\",\"c\",\"d\"]\n",
    "print(my_list)"
   ]
  },
  {
   "cell_type": "markdown",
   "metadata": {
    "id": "hK9VD_HeRsot"
   },
   "source": [
    "### **Pulse Check ...**\n",
    "**Rewrite the code below so that it inserts `[\"a\",\"b\",\"c\",\"d\"]` as a nested list.** The result should be `[1, ['a', 'b', 'c', 'd'], 2, 3, 4]`"
   ]
  },
  {
   "cell_type": "code",
   "execution_count": null,
   "metadata": {
    "colab": {
     "base_uri": "https://localhost:8080/"
    },
    "executionInfo": {
     "elapsed": 35,
     "status": "ok",
     "timestamp": 1623631832332,
     "user": {
      "displayName": "Christopher Huntley",
      "photoUrl": "",
      "userId": "11069151036176747256"
     },
     "user_tz": 240
    },
    "id": "7w_6WmFXRsou",
    "outputId": "8b250c9e-a7a7-467b-fc66-6b1f9282dab6"
   },
   "outputs": [
    {
     "name": "stdout",
     "output_type": "stream",
     "text": [
      "[1, 'a', 'b', 'c', 'd', 2, 3, 4]\n"
     ]
    }
   ],
   "source": [
    "# REWRITE THIS CODE CELL\n",
    "my_list = [1,2,3,4]\n",
    "my_list[1:1] = [\"a\",\"b\",\"c\",\"d\"]\n",
    "print(my_list)"
   ]
  },
  {
   "cell_type": "code",
   "execution_count": null,
   "metadata": {
    "jupyter": {
     "source_hidden": true
    },
    "tags": []
   },
   "outputs": [],
   "source": [
    "\n",
    "my_list = [1,2,3,4]\n",
    "my_list[1:1] = [[\"a\",\"b\",\"c\",\"d\"]]\n",
    "my_list"
   ]
  },
  {
   "cell_type": "markdown",
   "metadata": {
    "id": "7BXmWOoURsow"
   },
   "source": [
    "---\n",
    "## **List Methods**\n",
    "While the methods available for lists are not as impressive as for strings, they are more than adequate:\n",
    "- `count()` counts the number of times a  given item appears in the list\n",
    "- `index()` returns the first position where a given item appears in the list\n",
    "- `reverse()` and `sort()` reorder the items in the list\n",
    "- `append()`, `extend()`, and `insert()` splice in new items into the list\n",
    "- `remove()`, `pop()`, and `clear()` delete items from the list\n",
    "- `copy()` returns a **shallow copy** of the list; we'll come back to this in a bit"
   ]
  },
  {
   "cell_type": "markdown",
   "metadata": {
    "id": "oLuOBkIVRsox"
   },
   "source": [
    "### **Pulse Check ...**\n",
    "**Write a function called `mirror()` that returns the reverse of a string appended to itself.**\n",
    "`mirror(\"Go Stags!\")` returns `'Go Stags!!sgatS oG'`. \n",
    "\n",
    "**Note:** Four different correct answers are hiodden behind the ... below. STudy all four to understand why they work. "
   ]
  },
  {
   "cell_type": "code",
   "execution_count": null,
   "metadata": {
    "id": "szUN4PhrRsox"
   },
   "outputs": [],
   "source": [
    "# YOUR CODE HERE"
   ]
  },
  {
   "cell_type": "code",
   "execution_count": null,
   "metadata": {
    "jupyter": {
     "source_hidden": true
    },
    "tags": []
   },
   "outputs": [],
   "source": [
    "# Version 1: Using string slices\n",
    "def mirror(s):\n",
    "  return s + s[::-1]\n",
    "mirror(\"Go Stags!\")"
   ]
  },
  {
   "cell_type": "code",
   "execution_count": null,
   "metadata": {
    "jupyter": {
     "source_hidden": true
    },
    "tags": []
   },
   "outputs": [],
   "source": [
    "# Version 2: Using the reversed method\n",
    "def mirror(s):\n",
    "  lst = list(s)\n",
    "  lst_rev = list(s).reverse()\n",
    "  return lst + lst_rev\n",
    "mirror(\"Go Stags!\")"
   ]
  },
  {
   "cell_type": "code",
   "execution_count": null,
   "metadata": {
    "jupyter": {
     "source_hidden": true
    },
    "tags": []
   },
   "outputs": [],
   "source": [
    "# Version 3: Reversing after copying\n",
    "def mirror(s):\n",
    "  lst = list(s)\n",
    "  lst_rev = list(s)\n",
    "  lst_rev.reverse()\n",
    "  return lst + lst_rev\n",
    "mirror(\"Go Stags!\")"
   ]
  },
  {
   "cell_type": "code",
   "execution_count": null,
   "metadata": {
    "jupyter": {
     "source_hidden": true
    },
    "tags": []
   },
   "outputs": [],
   "source": [
    "# Version 4: Converting back to string from a list\n",
    "def mirror(s):\n",
    "  lst = list(s)\n",
    "  lst_rev = list(s)\n",
    "  lst_rev.reverse()\n",
    "  return \"\".join(lst + lst_rev)   # stitches the characters into a string\n",
    "mirror(\"Go Stags!\")"
   ]
  },
  {
   "cell_type": "markdown",
   "metadata": {
    "id": "dQ5at7gxRso0"
   },
   "source": [
    "---\n",
    "## **List Functions**\n",
    "Many of Python's built-in functions work with lists.\n",
    "- `len()` counts the items in the list.\n",
    "- `sum()` totals the values of the items in the list.\n",
    "- `min()` and `max()` do what they appear to do.\n",
    "- `sorted()` and `reversed()` return iterators of the list items in the indicated order.\n",
    "\n",
    "Other functions work too, once you translate the list to an iterator with `sorted()`, `reversed()` or `__iter__()`. "
   ]
  },
  {
   "cell_type": "markdown",
   "metadata": {
    "id": "f26AQ9yuRso0"
   },
   "source": [
    "### **Pulse Check ...**\n",
    "**Rewrite the `mirror()` function below so that it uses the `reversed()` function.** "
   ]
  },
  {
   "cell_type": "code",
   "execution_count": 2,
   "metadata": {},
   "outputs": [
    {
     "data": {
      "text/plain": [
       "'Go Stags!!sgatS oG'"
      ]
     },
     "execution_count": 2,
     "metadata": {},
     "output_type": "execute_result"
    }
   ],
   "source": [
    "def mirror(s):\n",
    "  lst = list(s)\n",
    "  lst_rev = list(s)\n",
    "  lst_rev.reverse()\n",
    "  return \"\".join(lst + lst_rev)\n",
    "mirror(\"Go Stags!\")"
   ]
  },
  {
   "cell_type": "code",
   "execution_count": null,
   "metadata": {
    "jupyter": {
     "source_hidden": true
    },
    "tags": []
   },
   "outputs": [],
   "source": [
    "# Version 1: convert iterator to list\n",
    "def mirror(s):\n",
    "  lst = list(s)\n",
    "  lst_rev = list(reversed(lst)) \n",
    "  return \"\".join(lst + lst_rev)\n",
    "print(mirror(\"Go Stags!\"))"
   ]
  },
  {
   "cell_type": "code",
   "execution_count": null,
   "metadata": {
    "jupyter": {
     "source_hidden": true
    },
    "tags": []
   },
   "outputs": [],
   "source": [
    "# Version 2: all on one line, because why not? \n",
    "def mirror(s):\n",
    "    return \"\".join(list(s) + list(reversed(list(s))))\n",
    "print(mirror(\"Go Stags!\"))"
   ]
  },
  {
   "cell_type": "markdown",
   "metadata": {},
   "source": [
    "**Why does the following throw an error? _Explain_ the error.**"
   ]
  },
  {
   "cell_type": "code",
   "execution_count": 4,
   "metadata": {
    "tags": []
   },
   "outputs": [
    {
     "ename": "TypeError",
     "evalue": "can only concatenate list (not \"list_reverseiterator\") to list",
     "output_type": "error",
     "traceback": [
      "\u001b[0;31m---------------------------------------------------------------------------\u001b[0m",
      "\u001b[0;31mTypeError\u001b[0m                                 Traceback (most recent call last)",
      "Cell \u001b[0;32mIn[4], line 5\u001b[0m\n\u001b[1;32m      3\u001b[0m   lst_rev \u001b[38;5;241m=\u001b[39m \u001b[38;5;28mreversed\u001b[39m(lst)\n\u001b[1;32m      4\u001b[0m   \u001b[38;5;28;01mreturn\u001b[39;00m \u001b[38;5;124m\"\u001b[39m\u001b[38;5;124m\"\u001b[39m\u001b[38;5;241m.\u001b[39mjoin(lst \u001b[38;5;241m+\u001b[39m lst_rev) \u001b[38;5;66;03m# Error!\u001b[39;00m\n\u001b[0;32m----> 5\u001b[0m \u001b[38;5;28mprint\u001b[39m(\u001b[43mmirror\u001b[49m\u001b[43m(\u001b[49m\u001b[38;5;124;43m\"\u001b[39;49m\u001b[38;5;124;43mGo Stags!\u001b[39;49m\u001b[38;5;124;43m\"\u001b[39;49m\u001b[43m)\u001b[49m)\n",
      "Cell \u001b[0;32mIn[4], line 4\u001b[0m, in \u001b[0;36mmirror\u001b[0;34m(s)\u001b[0m\n\u001b[1;32m      2\u001b[0m lst \u001b[38;5;241m=\u001b[39m \u001b[38;5;28mlist\u001b[39m(s)\n\u001b[1;32m      3\u001b[0m lst_rev \u001b[38;5;241m=\u001b[39m \u001b[38;5;28mreversed\u001b[39m(lst)\n\u001b[0;32m----> 4\u001b[0m \u001b[38;5;28;01mreturn\u001b[39;00m \u001b[38;5;124m\"\u001b[39m\u001b[38;5;124m\"\u001b[39m\u001b[38;5;241m.\u001b[39mjoin(\u001b[43mlst\u001b[49m\u001b[43m \u001b[49m\u001b[38;5;241;43m+\u001b[39;49m\u001b[43m \u001b[49m\u001b[43mlst_rev\u001b[49m)\n",
      "\u001b[0;31mTypeError\u001b[0m: can only concatenate list (not \"list_reverseiterator\") to list"
     ]
    }
   ],
   "source": [
    "def mirror(s):\n",
    "  lst = list(s)\n",
    "  lst_rev = reversed(lst)\n",
    "  return \"\".join(lst + lst_rev) # Error!\n",
    "print(mirror(\"Go Stags!\"))"
   ]
  },
  {
   "cell_type": "markdown",
   "metadata": {},
   "source": [
    "YOUR ANSWER HERE"
   ]
  },
  {
   "cell_type": "markdown",
   "metadata": {
    "jupyter": {
     "source_hidden": true
    },
    "tags": []
   },
   "source": [
    "\n",
    "> Because the `reverse()` method does not actually return a list. It instead returns a _generator_ that can be used to create a list. You need to convert it wth a list() call. \n",
    "\n",
    "```\n",
    "def mirror(s):\n",
    "  lst = list(s)\n",
    "  lst_rev = list(reversed(lst)) # note the conversion to list\n",
    "  return \"\".join(lst + lst_rev) # no error now!\n",
    "print(mirror(\"Go Stags!\"))\n",
    "```\n"
   ]
  },
  {
   "cell_type": "markdown",
   "metadata": {
    "id": "sqAb9d3BRso3"
   },
   "source": [
    "---\n",
    "## **Lists as Objects**"
   ]
  },
  {
   "cell_type": "markdown",
   "metadata": {
    "id": "CQGohbeXRso3"
   },
   "source": [
    "### **Aliases vs Copies**\n",
    "All of the data types we have considered so far can be considered as singular, (somewhat) immutable entities. In order to divide them we have to create new entities. While 2 = 1 + 1 that does not mean we can turn 1 into 2. Or, though \"Go\" is composed of the characters 'G' and 'o', the characters are each different strings from the original. \n",
    "\n",
    "A list is different. It exists to be a **container** for other entities. So, mull over the following: "
   ]
  },
  {
   "cell_type": "code",
   "execution_count": null,
   "metadata": {
    "colab": {
     "base_uri": "https://localhost:8080/"
    },
    "executionInfo": {
     "elapsed": 30,
     "status": "ok",
     "timestamp": 1623631832337,
     "user": {
      "displayName": "Christopher Huntley",
      "photoUrl": "",
      "userId": "11069151036176747256"
     },
     "user_tz": 240
    },
    "id": "fHwDUz9pRso4",
    "outputId": "8c9b2b95-e279-4872-9e60-46e4790b8b58"
   },
   "outputs": [
    {
     "name": "stdout",
     "output_type": "stream",
     "text": [
      "1\n",
      "[1, 2, 'a', 4]\n"
     ]
    }
   ],
   "source": [
    "x = 1 \n",
    "y = x     # assignment y = value of x\n",
    "y = 2     # modify y\n",
    "print(x)  # x is unchanged\n",
    "\n",
    "a = [1,2,3,4]\n",
    "b = a     # assignment b = value of a\n",
    "b[2]=\"a\"  # modify b\n",
    "print(a)  # a is changed too!"
   ]
  },
  {
   "cell_type": "markdown",
   "metadata": {
    "id": "z3ng_3HjRso6"
   },
   "source": [
    "It's like voodoo action at a distance. By changing `b` we also change `a`. How is that possible? Because the assignment `b = a` sets the value of `b` to the _container_ `a`. If we alter the contents of the container, we modify the value of both `a` and `b`. In Python terms we say that `a` and `b` are **aliases** for the same list.\n",
    "\n",
    "To eliminate such alias effects make a **copy** of the list. "
   ]
  },
  {
   "cell_type": "code",
   "execution_count": null,
   "metadata": {
    "colab": {
     "base_uri": "https://localhost:8080/"
    },
    "executionInfo": {
     "elapsed": 27,
     "status": "ok",
     "timestamp": 1623631832338,
     "user": {
      "displayName": "Christopher Huntley",
      "photoUrl": "",
      "userId": "11069151036176747256"
     },
     "user_tz": 240
    },
    "id": "FBWIfHxXRso6",
    "outputId": "34f41cd1-b0a4-4088-d6ea-2004f5d61e19"
   },
   "outputs": [
    {
     "name": "stdout",
     "output_type": "stream",
     "text": [
      "[1, 2, 3, 4]\n"
     ]
    }
   ],
   "source": [
    "a = [1,2,3,4]\n",
    "b = list(a)\n",
    "b[2]=\"a\"\n",
    "print(a)"
   ]
  },
  {
   "cell_type": "markdown",
   "metadata": {
    "id": "mH11NzudRso9"
   },
   "source": [
    "Calling `list()` to construct a list from the original list creates a **shallow copy**. The copy has _exactly_ the same items as the original list (but is nonetheless a new list). If any of those copied items is a nested list, then **the same container** (the nested list) is in both copies. "
   ]
  },
  {
   "cell_type": "code",
   "execution_count": null,
   "metadata": {
    "colab": {
     "base_uri": "https://localhost:8080/"
    },
    "executionInfo": {
     "elapsed": 25,
     "status": "ok",
     "timestamp": 1623631832339,
     "user": {
      "displayName": "Christopher Huntley",
      "photoUrl": "",
      "userId": "11069151036176747256"
     },
     "user_tz": 240
    },
    "id": "ZCXG0bu_Rso-",
    "outputId": "b2b25648-4276-4518-9087-9f86413e9e60"
   },
   "outputs": [
    {
     "name": "stdout",
     "output_type": "stream",
     "text": [
      "[1, ['alpha', 2, 'gamma'], 3, 4]\n"
     ]
    }
   ],
   "source": [
    "a_list = [1, [\"alpha\",\"beta\",\"gamma\"], 3, 4]\n",
    "b_shallow = list(a_list)         # a shallow copy of a_list\n",
    "b_shallow[1][1]=2                # modify the nested list\n",
    "print(a_list)                    # also modifies a_list"
   ]
  },
  {
   "cell_type": "markdown",
   "metadata": {
    "id": "NXJif0qIRspA"
   },
   "source": [
    "To make a **deep copy** (without any aliasing of nested lists) we need the `copy` module from the standard library."
   ]
  },
  {
   "cell_type": "code",
   "execution_count": null,
   "metadata": {
    "colab": {
     "base_uri": "https://localhost:8080/"
    },
    "executionInfo": {
     "elapsed": 22,
     "status": "ok",
     "timestamp": 1623631832339,
     "user": {
      "displayName": "Christopher Huntley",
      "photoUrl": "",
      "userId": "11069151036176747256"
     },
     "user_tz": 240
    },
    "id": "Dzjd1rcCRspA",
    "outputId": "d0ef9fee-0803-414c-f2b9-a9b02bef1ced"
   },
   "outputs": [
    {
     "name": "stdout",
     "output_type": "stream",
     "text": [
      "[1, ['alpha', 'beta', 'gamma'], 3, 4]\n"
     ]
    }
   ],
   "source": [
    "import copy\n",
    "a_list = [1, [\"alpha\",\"beta\",\"gamma\"], 3, 4]\n",
    "b_deep = copy.deepcopy(a_list)   # deep copy of a_list\n",
    "b_deep[1][1]=2                   # modify the deep copy\n",
    "print(a_list)                    # a_list is unchanged"
   ]
  },
  {
   "cell_type": "markdown",
   "metadata": {
    "id": "znBJqvv3RspC"
   },
   "source": [
    "### **Impact of List Aliasing on Functions**\n",
    "Just as assignment to a list creates an alias, so it also works for functions. After all, a function parameter is just a kind of local variable. The parameters get set via assignment from the arguments just before executing the function body. So, if the function modifies the list in any way, then the modifications live on after the function is done. If that is not what you want, then be sure to pass copies as arguments instead of the lists themselves. That way the _copies_ get aliased and then discarded after the function returns.  "
   ]
  },
  {
   "cell_type": "markdown",
   "metadata": {
    "id": "ZHy2ufrERspD"
   },
   "source": [
    "### **Pulse Check ...**\n",
    "**The code below has an infinite loop. Debug it to eliminate the loop.** (You will need to scroll down to the cell with `# REWRITE THIS CODE CELL` at the top.)\n",
    "\n",
    "```python\n",
    "def add_0(lst):\n",
    "    lst += [0]\n",
    "\n",
    "x = [1,2,3,4]\n",
    "for i in x:\n",
    "    add_0(x)\n",
    "    print(x)\n",
    "```\n",
    "After fixing the loop, the correct output is:\n",
    "```\n",
    "[1,2,3,4,0]\n",
    "[1,2,3,4,0,0]\n",
    "[1,2,3,4,0,0,0]\n",
    "[1,2,3,4,0,0,0,0]\n",
    "```\n",
    "Hints\n",
    "- You will need to make a shallow copy of `x` somewhere in your code.\n",
    "- The fix only affects one line of code and it is outside the loop body.\n",
    "- If you get stuck in an infinite loop, then restart the runtime."
   ]
  },
  {
   "cell_type": "code",
   "execution_count": null,
   "metadata": {
    "id": "vTOowBr8RspD",
    "tags": []
   },
   "outputs": [],
   "source": [
    "# REWRITE THIS CODE CELL\n",
    "\n",
    "# The Infinite Loop Code\n",
    "def add_0(lst):\n",
    "    lst += [0]\n",
    "\n",
    "x = [1,2,3,4]\n",
    "for i in x:\n",
    "    add_0(x)\n",
    "    print(x)"
   ]
  },
  {
   "cell_type": "code",
   "execution_count": null,
   "metadata": {
    "jupyter": {
     "source_hidden": true
    },
    "tags": []
   },
   "outputs": [],
   "source": [
    "# Corrected code\n",
    "\n",
    "# The Infinite Loop Code\n",
    "def add_0(lst):\n",
    "    lst += [0]\n",
    "\n",
    "x = [1,2,3,4]\n",
    "for i in list(x): # <--- copying x fixes the loop\n",
    "    add_0(x)\n",
    "    print(x)"
   ]
  },
  {
   "cell_type": "markdown",
   "metadata": {
    "id": "H_T6zyomRspH"
   },
   "source": [
    "---"
   ]
  },
  {
   "cell_type": "markdown",
   "metadata": {
    "id": "pRgwzZbIRspH"
   },
   "source": [
    "### **List Comprehensions**\n",
    "A list comprehension is a quirky one-line combination of a `for` loop with a conditional expression. The result is a list. The syntax is\n",
    "```python\n",
    "[ expression for item in sequence if condition]\n",
    "```\n",
    "- the `for` loop iterates through the sequence\n",
    "- the value of `expression` (which likely includes `item`) is added to the list\n",
    "- skips `expression` whenever the `condition` (which also likely includes `item`) is False\n",
    "\n",
    "A comprehension is 100% equivalent to \n",
    "```python\n",
    "lst = [] # an empty list\n",
    "for item in sequence:\n",
    "    if condition:\n",
    "        lst.append(expression)\n",
    "```\n",
    "Except, of course, that the comprehension doesn't need to create a local variable for the list. A comprehension is an expression to be evaluated, not a statement to be executed. If we want the comprehension to be remembered then we use an assignment statement. \n",
    "\n",
    "List comprehensions are very handy at times, especially when you only need a list one time, say as an argument to a function call. You may never need to use one, but when you do, it can save a lot of effort. "
   ]
  },
  {
   "cell_type": "markdown",
   "metadata": {
    "id": "_J6_5GY3RspH"
   },
   "source": [
    "#### **Slicing as a sublist operator**\n",
    "In Lesson 6 we saw how slicing could be used to extract substrings of characters."
   ]
  },
  {
   "cell_type": "code",
   "execution_count": null,
   "metadata": {
    "colab": {
     "base_uri": "https://localhost:8080/",
     "height": 35
    },
    "executionInfo": {
     "elapsed": 163,
     "status": "ok",
     "timestamp": 1623631915978,
     "user": {
      "displayName": "Christopher Huntley",
      "photoUrl": "",
      "userId": "11069151036176747256"
     },
     "user_tz": 240
    },
    "id": "zLz15UsxRspI",
    "outputId": "60027745-115a-4df8-e9a1-c2a6cc3c900a"
   },
   "outputs": [
    {
     "data": {
      "application/vnd.google.colaboratory.intrinsic+json": {
       "type": "string"
      },
      "text/plain": [
       "'og'"
      ]
     },
     "execution_count": 20,
     "metadata": {
      "tags": []
     },
     "output_type": "execute_result"
    }
   ],
   "source": [
    "'Google'[2:4]"
   ]
  },
  {
   "cell_type": "markdown",
   "metadata": {
    "id": "H9HfK295RspL"
   },
   "source": [
    "Here is what Python is doing behind the scenes. "
   ]
  },
  {
   "cell_type": "code",
   "execution_count": null,
   "metadata": {
    "colab": {
     "base_uri": "https://localhost:8080/",
     "height": 35
    },
    "executionInfo": {
     "elapsed": 136,
     "status": "ok",
     "timestamp": 1623631918207,
     "user": {
      "displayName": "Christopher Huntley",
      "photoUrl": "",
      "userId": "11069151036176747256"
     },
     "user_tz": 240
    },
    "id": "N3ljFIbeRspL",
    "outputId": "3b87c592-4bed-42e7-f0a6-f717a599d1fc"
   },
   "outputs": [
    {
     "data": {
      "application/vnd.google.colaboratory.intrinsic+json": {
       "type": "string"
      },
      "text/plain": [
       "'og'"
      ]
     },
     "execution_count": 21,
     "metadata": {
      "tags": []
     },
     "output_type": "execute_result"
    }
   ],
   "source": [
    "''.join( ['Google'[i] for i in range(2,4)] )  # we are using join() to reassemble the characters into a string"
   ]
  },
  {
   "cell_type": "markdown",
   "metadata": {
    "id": "QvzF7wNXRspN"
   },
   "source": [
    "The logic is the same for lists, of course, only without the `join()`. "
   ]
  },
  {
   "cell_type": "code",
   "execution_count": null,
   "metadata": {
    "colab": {
     "base_uri": "https://localhost:8080/"
    },
    "executionInfo": {
     "elapsed": 176,
     "status": "ok",
     "timestamp": 1623631920329,
     "user": {
      "displayName": "Christopher Huntley",
      "photoUrl": "",
      "userId": "11069151036176747256"
     },
     "user_tz": 240
    },
    "id": "aBV-6R9ARspN",
    "outputId": "9e787677-de1d-4c91-c6d5-78a316ab8aae"
   },
   "outputs": [
    {
     "name": "stdout",
     "output_type": "stream",
     "text": [
      "['peanut butter', 'jelly']\n"
     ]
    }
   ],
   "source": [
    "lst = [\"bread\", \"peanut butter\", \"jelly\", \"chips\"]   # don't judge!\n",
    "print( lst[1:3] )"
   ]
  },
  {
   "cell_type": "markdown",
   "metadata": {
    "id": "lCdOuBV3RspP"
   },
   "source": [
    "In Lesson 11, we'll see how pandas can slice sequences with non-integer keys (e.g., 'fname', 'lname','bdate') instead of position numbers. The logic behind the scenes uses something like a list comprehension, pretty much like this:"
   ]
  },
  {
   "cell_type": "code",
   "execution_count": null,
   "metadata": {
    "colab": {
     "base_uri": "https://localhost:8080/"
    },
    "executionInfo": {
     "elapsed": 137,
     "status": "ok",
     "timestamp": 1623631922797,
     "user": {
      "displayName": "Christopher Huntley",
      "photoUrl": "",
      "userId": "11069151036176747256"
     },
     "user_tz": 240
    },
    "id": "iWZbZGyV_p4T",
    "outputId": "85a5eab3-4a25-40bf-9fd5-96d408f2a983"
   },
   "outputs": [
    {
     "name": "stdout",
     "output_type": "stream",
     "text": [
      "['peanut butter', 'jelly']\n"
     ]
    }
   ],
   "source": [
    "print( [lst[i] for i in range(1,3)] )"
   ]
  },
  {
   "cell_type": "markdown",
   "metadata": {
    "id": "EutsdZX_Q-dS"
   },
   "source": [
    "---\n",
    "## **Before you go ... Save your notebook to be sure it is up to date.**"
   ]
  },
  {
   "cell_type": "markdown",
   "metadata": {
    "id": "NclWcJceqDOa"
   },
   "source": [
    "---\n",
    "> ## Every Tee Shirt Has a Story\n",
    "> ABOUT DB2    \n",
    "> When I was in engineering school, a bunch of my classmates (including my future spouse) were taking jobs on Wall Street working with this new thing called DB2. It sounded pretty silly to me. The software was supposed to make it easy to read and write data to and from a hard disk? I could do that already ... just write a file system like the real programmers do it. DB2, of course, was a pioneering relational database package from IBM. Given that I now teach relational database design (and a few other things) for a living, I suppose I should have listened to them. IBM, Oracle, and the other RDBMS vendors won out in the end, as they should have, and I learned a great lesson about humility and keeping an open mind about technology. Try everything you can and try not to prejudge what you don't understand.     \n",
    "\n",
    "![L8 Tee Front](../Photos/L08_TeeFront.jpeg)\n",
    "\n",
    "## Copyright &copy; 2020 Christopher Huntley. All rights reserved. "
   ]
  },
  {
   "cell_type": "code",
   "execution_count": null,
   "metadata": {},
   "outputs": [],
   "source": []
  }
 ],
 "metadata": {
  "colab": {
   "collapsed_sections": [],
   "name": "L08_Lists.ipynb",
   "provenance": []
  },
  "kernelspec": {
   "display_name": "Python 3 (ipykernel)",
   "language": "python",
   "name": "python3"
  },
  "language_info": {
   "codemirror_mode": {
    "name": "ipython",
    "version": 3
   },
   "file_extension": ".py",
   "mimetype": "text/x-python",
   "name": "python",
   "nbconvert_exporter": "python",
   "pygments_lexer": "ipython3",
   "version": "3.8.15"
  }
 },
 "nbformat": 4,
 "nbformat_minor": 4
}
