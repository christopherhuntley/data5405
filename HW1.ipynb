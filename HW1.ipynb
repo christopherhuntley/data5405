{
 "cells": [
  {
   "cell_type": "markdown",
   "metadata": {
    "id": "kUYXaKGzwRJp"
   },
   "source": [
    "<img src=\"../img/Dolan.png\" width=\"180px\" align=\"right\">\n",
    "\n",
    "# **Homework Exercises, Week 1**\n",
    "_Practice Exercises for Lessons 1-3._"
   ]
  },
  {
   "cell_type": "markdown",
   "metadata": {},
   "source": [
    "## Lesson 2 Exercises\n",
    "\n",
    "### L2.E1\n",
    "Write a program to calculate a `waist2hip_ratio` given raw input from the user. Use the `variable names` as directed. \n",
    "\n",
    "1. Read up on how [Waist to Hip Ratios are calculated](https://en.wikipedia.org/wiki/Waist%E2%80%93hip_ratio). \n",
    "2. Use [`input()` function calls](https://docs.python.org/3/library/functions.html#input) to ask for waist (`waist_str`) and hip (`hip_str`) measurements. \n",
    "3. Calculate the `waist2hip_ratio` from `waist_str` and `hip_str`. Hints: You will have to do type conversions to make this work. \n",
    "4. Print the ratio, prepended with the text `\"Your waist to hip ratio is \"`. \n",
    "5. Run your code to make sure it works. For `waist_str` equal to 48 and `hip_str` equal to 42, the program should print 'Your waist to hip ratio is 1.1428571428571428'."
   ]
  },
  {
   "cell_type": "code",
   "execution_count": 1,
   "metadata": {},
   "outputs": [],
   "source": [
    "# Your L2.E1 Code Here"
   ]
  },
  {
   "cell_type": "markdown",
   "metadata": {},
   "source": [
    "## Lesson 3 Exercises\n",
    "\n",
    "### L3.E1\n",
    "Extend the `waist2hip_ratio` calculation from Lesson 2 to indicate body shape. \n",
    "- Copy your `waist2_hip_ratio` code from Lesson 2. \n",
    "- Add an `input()` statement to ask for the person's `gender`. \n",
    "- Add logic to return print \"Your shape is Apple\" or \"Your shape is Pear\" depending on the ratio and `gender`. For males, a `wasit2hip_ratio` greater than 0.9 is Apple shaped; othewise it is Pear shaped. For females, the threshold is 0.8.  \n",
    "- Comments might be nice too.\n",
    "\n",
    "Your output should look something like this:\n",
    "\n",
    "```\n",
    "Waist? 35\n",
    "Hip? 42\n",
    "Gender? M\n",
    "Your waist to hip ratio is 0.8333333333333334\n",
    "Your shape is Pear\n",
    "```\n"
   ]
  },
  {
   "cell_type": "code",
   "execution_count": null,
   "metadata": {},
   "outputs": [],
   "source": [
    "# YOUR L3.E1 code here"
   ]
  }
 ],
 "metadata": {
  "colab": {
   "collapsed_sections": [],
   "name": "Quiz5_Instructions.ipynb",
   "provenance": []
  },
  "kernelspec": {
   "display_name": "Python 3 (ipykernel)",
   "language": "python",
   "name": "python3"
  },
  "language_info": {
   "codemirror_mode": {
    "name": "ipython",
    "version": 3
   },
   "file_extension": ".py",
   "mimetype": "text/x-python",
   "name": "python",
   "nbconvert_exporter": "python",
   "pygments_lexer": "ipython3",
   "version": "3.8.15"
  }
 },
 "nbformat": 4,
 "nbformat_minor": 4
}
