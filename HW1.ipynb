{
 "cells": [
  {
   "cell_type": "markdown",
   "metadata": {
    "id": "kUYXaKGzwRJp"
   },
   "source": [
    "<img src=\"./img/Dolan.png\" width=\"180px\" align=\"right\">\n",
    "\n",
    "# **Homework Exercises, Week 1**\n",
    "_Practice Exercises for Lesson 2._"
   ]
  },
  {
   "cell_type": "markdown",
   "metadata": {},
   "source": [
    "## Lesson 2 Exercises\n",
    "\n",
    "### L2.E1\n",
    "Write a program to calculate a `waist2hip_ratio` given raw input from the user. Use the `variable names` as directed. \n",
    "\n",
    "1. Read up on how [Waist to Hip Ratios are calculated](https://en.wikipedia.org/wiki/Waist%E2%80%93hip_ratio). \n",
    "2. Use [`input()` function calls](https://docs.python.org/3/library/functions.html#input) to ask for waist (`waist_str`) and hip (`hip_str`) measurements. \n",
    "3. Calculate the `waist2hip_ratio` from `waist_str` and `hip_str`. Hints: You will have to do type conversions to make this work. \n",
    "4. Print the ratio, prepended with the text `\"Your waist to hip ratio is \"`. \n",
    "5. Run your code to make sure it works. For `waist_str` equal to 48 and `hip_str` equal to 42, the program should print 'Your waist to hip ratio is 1.1428571428571428'."
   ]
  },
  {
   "cell_type": "code",
   "execution_count": 1,
   "metadata": {},
   "outputs": [],
   "source": [
    "# Your L2.E1 Code Here"
   ]
  }
 ],
 "metadata": {
  "colab": {
   "collapsed_sections": [],
   "name": "Quiz5_Instructions.ipynb",
   "provenance": []
  },
  "kernelspec": {
   "display_name": "Python 3 (ipykernel)",
   "language": "python",
   "name": "python3"
  },
  "language_info": {
   "codemirror_mode": {
    "name": "ipython",
    "version": 3
   },
   "file_extension": ".py",
   "mimetype": "text/x-python",
   "name": "python",
   "nbconvert_exporter": "python",
   "pygments_lexer": "ipython3",
   "version": "3.8.15"
  }
 },
 "nbformat": 4,
 "nbformat_minor": 4
}
