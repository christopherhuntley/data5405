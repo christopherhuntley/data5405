{
 "cells": [
  {
   "cell_type": "markdown",
   "metadata": {
    "id": "vlpKISqgPJkY",
    "tags": []
   },
   "source": [
    "<img src=\"../img/Dolan.png\" width=\"180px\" align=\"right\">\n",
    "\n",
    "# **Lesson 2: Basic Computation**\n",
    "_Variables, Expressions, and Statements_"
   ]
  },
  {
   "cell_type": "markdown",
   "metadata": {
    "id": "O1Tb_0XIPJkZ"
   },
   "source": [
    "## **Learning Objectives**\n",
    "\n",
    "### Theory / Be able to explain ...\n",
    "- Basic terminology like values, data types, statements, expressions, ... as they apply to Python\n",
    "- The key role of data types when writing, reading, and executing Python code \n",
    "- The rules for naming variables and other things in Python code\n",
    "- How Python breaks down statements into their constituent parts\n",
    "- Order of operations and its effect on evaluating Python expressions\n",
    "- The concept of literate code and how comments and syntax highlighting can improve code readability\n",
    "\n",
    "### Skills / Know how to  ...\n",
    "- Use variables, expressions, and operators to perform calculations\n",
    "- Convert data from one type to another\n",
    "- Use comments to get Python to help you debug faulty code\n",
    "\n",
    "---"
   ]
  },
  {
   "cell_type": "markdown",
   "metadata": {
    "id": "ym9jn6nYPJka"
   },
   "source": [
    "## **Data, Information, and Knowledge**\n",
    "\n",
    "> \"What is essential is invisible to the eye.\" -- _The Little Prince_\n",
    "\n",
    "The concepts in this lesson actually go all the way back to ancient times, when philosophers studied how they thought about ... thought. Plato, for example, spent significant time on the idea of [essentialism](https://en.wikipedia.org/wiki/Essentialism): the idea that **every entity (physical or conceptual) has an essential form** that defines its substance. That form has **features** consisting of facts that distinguish it from other entities. Entities also have **functions** that they carry out in the world. These essential forms and functions together define **types** or **categories** that are considered eternal, at which point philosophy starts to become theology ...\n",
    "\n",
    "Today, we still use this basic framework to model the world around us, though with slightly different terminology:\n",
    "\n",
    "- **Data** refers to facts. Each fact has a **value** that captures substance but not importance or meaning. The number 42 can mean lots of things to different people. If you are a Monty Python fan then perhaps you remember it from _The Hitchhiker's Guide to the Galaxy_. If you are a baseball fan then 42 could be associated with Mariano Rivera or Jackie Robinson. Or it could just be the answer to \"What's 6 times 9?\" ... ([but only in base 13](https://spooniom.com/6-9-42/)). \n",
    "- **Information** refers to facts that have formal **meaning** and **structure**. When associating facts to entities, the facts are given names, kind of like attaching sticky labels, so we know how each fact relates to the entity. For example we can say that 42 is the _uniform number_ (feature) of _Jackie Robinson_ (entity), the famous _baseball player_ (essential type). Data itself can also have a type, just like entities do. Is it 42 or \"42\" or 42.0? It matters a lot, at least to a data scientist. However, it's hard to tell without knowing how it is to be interpreted. \n",
    "- **Knowledge** refers to functionality: the ability to use information to do things. A knowledgeable person can do a lot of things, once they have the necessary information. A less knowledgeable person might not be able to do anything useful, even when given perfect information. In Python, **the programs that we write are knowledge.** They are how we get the computer to do what we want it to do. \n",
    "\n",
    "As you may have noticed, each of these things builds on the ones before it. We could of course continue on to **wisdom** (knowing what to do at a given time) and **virtue** (knowing right vs wrong), but then we'd be getting into theology again instead of science."
   ]
  },
  {
   "cell_type": "markdown",
   "metadata": {
    "id": "Dab66rIJPJkb"
   },
   "source": [
    "## **Values and Types**\n",
    "In Python a **value** is a representation of a fact. Each value has a **data type** that defines \n",
    "- what kinds of facts it can represent\n",
    "- how it can be used\n",
    "\n",
    "Returning to the example from the last section, let's consider 42, which can be represented as:\n",
    "- \"42\", a string of text characters\n",
    "- 42, an integer number between 41 and 43\n",
    "- 42.0, a rational number \n",
    "- 41.99999 (repeating forever)\n",
    "\n",
    "Depending on the data type 42 could come about many ways:\n",
    "- If it is text then we can _literally_ extract it from a sentence. \n",
    "- If it is an integer then it might be the number of people at a holiday party.\n",
    "- If it is a rational number then it may be the result of 420/10. \n",
    "- If it is a real number then it could be the value of the calculation 7.0 / 3.0 * 18.0, which is _of course_ 41.99999 (repeating). \n",
    "\n",
    "Let's see what Python thinks about this:"
   ]
  },
  {
   "cell_type": "code",
   "execution_count": null,
   "metadata": {
    "id": "q1i2STcZPJkc",
    "outputId": "51d87639-b7ce-41a8-a2ea-e6338391b686"
   },
   "outputs": [
    {
     "data": {
      "text/plain": [
       "str"
      ]
     },
     "execution_count": 1,
     "metadata": {
      "tags": []
     },
     "output_type": "execute_result"
    }
   ],
   "source": [
    "type(\"42\")"
   ]
  },
  {
   "cell_type": "code",
   "execution_count": null,
   "metadata": {
    "id": "ypD9mM62PJkg",
    "outputId": "70c59c41-028b-4bb5-b415-b229420ae4e0"
   },
   "outputs": [
    {
     "data": {
      "text/plain": [
       "int"
      ]
     },
     "execution_count": 2,
     "metadata": {
      "tags": []
     },
     "output_type": "execute_result"
    }
   ],
   "source": [
    "type(42)"
   ]
  },
  {
   "cell_type": "code",
   "execution_count": null,
   "metadata": {
    "id": "gcWJm4H3PJki",
    "outputId": "d596ba62-1ed5-4492-eb28-ff8cf064aecf"
   },
   "outputs": [
    {
     "data": {
      "text/plain": [
       "float"
      ]
     },
     "execution_count": 3,
     "metadata": {
      "tags": []
     },
     "output_type": "execute_result"
    }
   ],
   "source": [
    "type(42.0)"
   ]
  },
  {
   "cell_type": "code",
   "execution_count": null,
   "metadata": {
    "id": "NTfH1DD_PJkl",
    "outputId": "be547060-b300-4358-b361-79f75f6b0f5d"
   },
   "outputs": [
    {
     "data": {
      "text/plain": [
       "float"
      ]
     },
     "execution_count": 4,
     "metadata": {
      "tags": []
     },
     "output_type": "execute_result"
    }
   ],
   "source": [
    "type(7.0 / 3.0 * 18.0)"
   ]
  },
  {
   "cell_type": "markdown",
   "metadata": {
    "id": "bVEF-BdWPJkn"
   },
   "source": [
    "Well, 3 out of 4 isn't too bad. `floats` are not quite the same thing as real numbers. It turns out that Python needs a little help to work with real numbers like $\\pi$ that can't be represented as rationals. We'll just have to make do with the `float` data type for now.\n",
    "\n",
    "So what do these things mean exactly:\n",
    "- `str` represents literal text\n",
    "- `int` represents any integer number\n",
    "- `float` represents any floating point (rational) number\n",
    "\n",
    "There are, of course, lots of data types built into Python, but these are the simplest to use, at first anyway. \n",
    "\n",
    "### **Pulse Check ...**\n",
    "For each of the following calculations, try to guess the result _before_ running the cell. Then explain what happened. If the result surprised you, say why. As always, don't worry so much about being right for now. To find out the right answers watch the video. "
   ]
  },
  {
   "cell_type": "code",
   "execution_count": null,
   "metadata": {
    "id": "HGF-xzz0PJko"
   },
   "outputs": [],
   "source": [
    "type(7*6)"
   ]
  },
  {
   "cell_type": "markdown",
   "metadata": {
    "id": "x6_m9nW3ydP0"
   },
   "source": [
    "YOUR ANSWER HERE"
   ]
  },
  {
   "cell_type": "code",
   "execution_count": null,
   "metadata": {
    "id": "Evx-koTAPJkt"
   },
   "outputs": [],
   "source": [
    "type(42/6)"
   ]
  },
  {
   "cell_type": "markdown",
   "metadata": {
    "id": "kGf0UZzlyqqM"
   },
   "source": [
    "YOUR ANSWER HERE"
   ]
  },
  {
   "cell_type": "code",
   "execution_count": null,
   "metadata": {
    "id": "wXaN2VIBPJky"
   },
   "outputs": [],
   "source": [
    "int(\"42.0\")"
   ]
  },
  {
   "cell_type": "markdown",
   "metadata": {
    "id": "-IjJQeB6PJk0"
   },
   "source": [
    "YOUR ANSWER HERE"
   ]
  },
  {
   "cell_type": "code",
   "execution_count": null,
   "metadata": {
    "id": "UOfxm0CHPJk0"
   },
   "outputs": [],
   "source": [
    "\"42\"/6"
   ]
  },
  {
   "cell_type": "markdown",
   "metadata": {
    "id": "aIwwmrECPJk3"
   },
   "source": [
    "YOUR ANSWER HERE"
   ]
  },
  {
   "cell_type": "code",
   "execution_count": null,
   "metadata": {
    "id": "wJjElu8wPJk3"
   },
   "outputs": [],
   "source": [
    "\"42\"*6"
   ]
  },
  {
   "cell_type": "markdown",
   "metadata": {
    "id": "QyD2ADvPPJk5"
   },
   "source": [
    "YOUR ANSWER HERE"
   ]
  },
  {
   "cell_type": "code",
   "execution_count": null,
   "metadata": {
    "id": "Ut0R1H1zPJk5"
   },
   "outputs": [],
   "source": [
    "\"42\"*6.0"
   ]
  },
  {
   "cell_type": "markdown",
   "metadata": {
    "id": "AYuMZgr0PJk7"
   },
   "source": [
    "YOUR ANSWER HERE"
   ]
  },
  {
   "cell_type": "markdown",
   "metadata": {
    "id": "tt8Y8Jy0PJk8"
   },
   "source": [
    "---\n",
    "## **Type Conversions**\n",
    "There are times when we might want to convert a value from one type or another. For that we use type conversion **functions** that come built into Python. For example:"
   ]
  },
  {
   "cell_type": "code",
   "execution_count": null,
   "metadata": {
    "id": "A_WQEz9tPJk8",
    "outputId": "2e7d75cd-8ac4-43f9-e090-8635d30ca638"
   },
   "outputs": [
    {
     "data": {
      "text/plain": [
       "int"
      ]
     },
     "execution_count": 5,
     "metadata": {
      "tags": []
     },
     "output_type": "execute_result"
    }
   ],
   "source": [
    "type(int(\"42\"))"
   ]
  },
  {
   "cell_type": "code",
   "execution_count": null,
   "metadata": {
    "id": "zKLV9DYsPJk-",
    "outputId": "040c1118-3fe6-4fb8-e4f6-8f0e2c0e829c"
   },
   "outputs": [
    {
     "data": {
      "text/plain": [
       "str"
      ]
     },
     "execution_count": 6,
     "metadata": {
      "tags": []
     },
     "output_type": "execute_result"
    }
   ],
   "source": [
    "type(str(42))"
   ]
  },
  {
   "cell_type": "code",
   "execution_count": null,
   "metadata": {
    "id": "2RqmucZ3PJlC",
    "outputId": "ff804533-35eb-446c-fa73-bde00f891247"
   },
   "outputs": [
    {
     "data": {
      "text/plain": [
       "str"
      ]
     },
     "execution_count": 7,
     "metadata": {
      "tags": []
     },
     "output_type": "execute_result"
    }
   ],
   "source": [
    "type(str(int(42.0)))"
   ]
  },
  {
   "cell_type": "markdown",
   "metadata": {
    "id": "W_eEYiOMPJlD"
   },
   "source": [
    "**How can you tell these are function calls?**  \n",
    "Anytime you see a name immediately followed by a left parenthesis `(`, Python assumes you are trying to call a function. **The parentheses come in pairs.** As long as each left parenthesis `(` is matched by a right parenthesis `)`, Python will find and call the function from among its many libraries. Also, note that **function calls can be nested inside each other**, with the innermost function call executed first.\n",
    "\n",
    "> **Heads up:**\n",
    "> - `type ()` is not the same thing as `type()`. **Spaces in Python have meaning. The parentheses are part of the function call.** Inserting a space between the function name and parentheses triggers a syntax error; Python does not know what you intend for it to do with the extra space.\n",
    "> - **Not all type conversions are valid.** It’s not always possible to convert data from one type to another. Either there is no type equivalency or the conversion itself would be ambiguous. For example, we can't convert \"42.0\" to the integer 42, at least not directly. Instead we have to convert the string \"42.0\" to the float 42.0 and then convert the float to the integer 42. "
   ]
  },
  {
   "cell_type": "markdown",
   "metadata": {
    "id": "Nivkst5dPJlE"
   },
   "source": [
    "### **Pulse Check ...**\n",
    "Use type conversions to 'fix' the broken calculations below. Make each cell return a `float` data type. As in previous Pulse Checks, click the ... to check your work. Note that there are mutiple right answers. "
   ]
  },
  {
   "cell_type": "code",
   "execution_count": null,
   "metadata": {
    "id": "W9X3tgGsPJlF"
   },
   "outputs": [],
   "source": [
    "\"42\"/6"
   ]
  },
  {
   "cell_type": "code",
   "execution_count": null,
   "metadata": {
    "id": "Orjlc629PJlH",
    "jupyter": {
     "source_hidden": true
    },
    "tags": []
   },
   "outputs": [],
   "source": [
    "\n",
    "int(\"42\")/6"
   ]
  },
  {
   "cell_type": "code",
   "execution_count": null,
   "metadata": {
    "id": "W9ypgf2yPJlH"
   },
   "outputs": [],
   "source": [
    "\"42\"*6"
   ]
  },
  {
   "cell_type": "code",
   "execution_count": null,
   "metadata": {
    "jupyter": {
     "source_hidden": true
    },
    "tags": []
   },
   "outputs": [],
   "source": [
    "\n",
    "float( int(\"42\")*6 )"
   ]
  },
  {
   "cell_type": "code",
   "execution_count": null,
   "metadata": {
    "id": "ElmwzKKZPJlK",
    "jupyter": {
     "source_hidden": true
    },
    "tags": []
   },
   "outputs": [],
   "source": [
    "\n",
    "float( int(\"42\"*6) )"
   ]
  },
  {
   "cell_type": "code",
   "execution_count": null,
   "metadata": {
    "id": "RY7JhuGOPJlK"
   },
   "outputs": [],
   "source": [
    "\"42\"*6.0"
   ]
  },
  {
   "cell_type": "code",
   "execution_count": null,
   "metadata": {
    "jupyter": {
     "source_hidden": true
    },
    "tags": []
   },
   "outputs": [],
   "source": [
    "\n",
    "float( \"42\"*int(6.0) )"
   ]
  },
  {
   "cell_type": "code",
   "execution_count": null,
   "metadata": {
    "jupyter": {
     "source_hidden": true
    },
    "tags": []
   },
   "outputs": [],
   "source": [
    "\n",
    "float( int(\"42\") * 6.0 )"
   ]
  },
  {
   "cell_type": "markdown",
   "metadata": {
    "id": "Qu4YdBE-PJlM",
    "tags": []
   },
   "source": [
    "----\n",
    "## **Variables**\n",
    "Remember those sticky labels we talked about in the section on _Data, Information, and Knowledge_ at the start of this lesson? These are what we call **variables**. A variable is a **name** we can use to refer to a value. It represents the smallest possible unit of information. However, just as we can move sticky notes around, so we can change (\"vary\") what value a variable is referring to. That turns out to be pretty useful, as you will see in a moment. \n",
    "\n",
    "Variables references get set (or changed) through assignment:\n",
    "```python\n",
    "uniform_number = 42\n",
    "player_name = \"Jackie Robinson\"\n",
    "print(player_name + \" wore number \" + str(uniform_number))\n",
    "\n",
    "player_name = \"Mariano Rivera\"\n",
    "print(player_name + \" wore number \" + str(uniform_number))\n",
    "\n",
    "```\n",
    "Let's try it, but first predict what the above code will do before running it. "
   ]
  },
  {
   "cell_type": "markdown",
   "metadata": {
    "id": "MNV41u6QPJlM"
   },
   "source": [
    "YOUR PREDICTION HERE."
   ]
  },
  {
   "cell_type": "code",
   "execution_count": null,
   "metadata": {
    "id": "RftpaPDEPJlN"
   },
   "outputs": [],
   "source": [
    "uniform_number = 42\n",
    "player_name = \"Jackie Robinson\"\n",
    "print(player_name + \" wore number \" + str(uniform_number))\n",
    "\n",
    "player_name = \"Mariano Rivera\"\n",
    "print(player_name + \" wore number \" + str(uniform_number))"
   ]
  },
  {
   "cell_type": "markdown",
   "metadata": {},
   "source": [
    "> **Note to Shanghai students: Jackie Robinson and Mariano Rivera are very famous baseball players who happened to wear the same uniform number on their jerseys.** "
   ]
  },
  {
   "cell_type": "markdown",
   "metadata": {
    "id": "EPL7v4JyPJlP"
   },
   "source": [
    "There is actually a lot going on here in this code. \n",
    "\n",
    "- Line 1. The variable `uniform_number` is used to refer to the integer `42`. If this is the first time we've used the variable `uniform_number` then it creates the variable name as well. \n",
    "- Line 2. The variable `player_name` is used to refer to the string `Jackie Robinson`. \n",
    "- Line 3. The code prints out `Jackie Robinson wore number 42`. This uses the two variables to construct the output string before printing. In order to append the number 42 to the end, we had to convert it to a string. \n",
    "- Line 4. This line is intentionally left blank to make the code easier to read. White space is part of your code.\n",
    "- Line 5. The variable `player_name` is updated to refer to the string `Mariano Rivera`. This changes the value of the `player_name` variable. The old value, `Jackie Robinson` is forgotten. There is no way to refer to it anymore. \n",
    "- Line 6. The code prints out `Mariano Rivera wore number 42`. The code is exactly the same as in line 3 but with a different result this time. This is a key point. We have separated the data  from the process so the process can be reused at will. "
   ]
  },
  {
   "cell_type": "markdown",
   "metadata": {
    "id": "CPaFwVRlvy-O"
   },
   "source": [
    "### **Variable Assignment**\n",
    "Before moving on to how we select variable names, it's worth nothing that even an assignment statement like `player_name = \"Jackie Robinson\"` is a multi-step process:\n",
    "\n",
    "1. The value to the right of the equal sign is calculated if needed.\n",
    "2. If the variable to the left of the equal sign doesn't exist yet, then define it. If the variable exists then retrieve it, unsetting its value from whatever it was before. \n",
    "3. The variable is set to refer to the value on the right. \n",
    "\n",
    "Consider the following example, which illustrates several possible variations:"
   ]
  },
  {
   "cell_type": "code",
   "execution_count": null,
   "metadata": {
    "id": "fHiPA2aMPJlP",
    "outputId": "3bb86128-5896-4ee5-ea15-7e58ea045bf3"
   },
   "outputs": [
    {
     "name": "stdout",
     "output_type": "stream",
     "text": [
      "Mariano Rivera\n",
      "Jackie Robinson\n"
     ]
    }
   ],
   "source": [
    "first_name = \"Jackie\"\n",
    "last_name = \"Robinson\"\n",
    "person1 = first_name + \" \" + last_name\n",
    "person2 = person1\n",
    "person1 = \"Mariano Rivera\"\n",
    "print(person1)\n",
    "print(person2)"
   ]
  },
  {
   "cell_type": "markdown",
   "metadata": {
    "id": "oxOhJkDdPJlR"
   },
   "source": [
    "Take your time to make sure you understand each line _given the lines above it_: \n",
    "- lines 1 and 2: create and set new variables `first_name` and `last_name`\n",
    "- line 3: calculate `first_name + \" \" + last_name`, create the variable `person1`, and then assign it the value calculated to the right of the `=`\n",
    "- line 4: recall the value of `person1` and assign it to the new variable `person2`\n",
    "- line 5: update the value of `person1` to `Mariano Rivera`\n",
    "- line 6: print the value of `person1`\n",
    "- line 7: print the value of `person2`\n",
    "\n",
    "Note that even though in line 5 we updated `person1` to `Mariano Rivera`, the value of `person2` remained `Jackie Robinson`, just as it was before. This is how things tend to work in Python, though we will eventually see some exceptions when we discuss mutable data structures like lists and dictionaries. "
   ]
  },
  {
   "cell_type": "markdown",
   "metadata": {
    "id": "fVCVIrYqPJlR"
   },
   "source": [
    "### **Variable Naming**\n",
    "\n",
    ">There are only two hard problems in Computer Science: naming things and cache invalidation. --Phil Karlton\n",
    "\n",
    "In order to use variables we have to give them names. A few basic principles apply, regardless of the language:\n",
    "\n",
    "- **Each name has to be unique** in the context they are being used. We can't, for example, have the same name for two different entities. We can label two different entities with the same name, but never at the same time. Variable assignment only allows one value at a time. \n",
    "- **Names should be descriptive** enough that we, the programmers, know what each one stands for. Otherwise we can't follow each other's code without a road map, and who's got time for that? Even if we are the only ones to ever see the code, once a program gets larger than a couple dozen lines or so, it can get hard to remember everything. You want it to fit nicely in your head. \n",
    "- **Names should also be short** enough that fat fingered typists can use them without lots of typos. \n",
    "\n",
    "The official [Python Language Definition](https://docs.python.org/3/reference/index.html) includes [some other rules](https://docs.python.org/3/reference/lexical_analysis.html#identifiers):\n",
    "- names can include letters, numbers, and underscores\n",
    "- names cannot start with a number\n",
    "- names can be any length, but anything over 79 characters may not work in older versions of Python\n",
    "- names must include at least one letter or an underscore (note: `_` by itself is a special variable in Jupyter)\n",
    "\n",
    "These are some examples of bad variable names in Python:\n",
    "- `x`, `c`, `fizz`, `buzz`, `name` are not very descriptive. Only use these for sections of code where the meanings can easily be deduced by context or convention.\n",
    "- `this_is_the_theme_for_garrys_show` is certainly descriptive if it refers to the theme some from the _Garry Shandling Show_ but it may also be a bit long and too specific. What if Garry had chosen to rename his theme song? All our code would be trashed. \n",
    "- `in`, `for`,`def`, etc. are keywords. They are already taken.\n",
    "- `My Drive` has spaces in it. Python can't tell that `My` and `Drive` are part of the same name. **Use underscores (`_`) between words** instead. \n",
    "- `My_Drive` is also improper. In Python **variables should be lower case letters only.** Python will accept capital letters, but other programmers will complain. It's just not done. \n",
    "- `dollar$` is a bad name because it includes an illegal character. Leave that stuff for other languages. Python wants it clean. \n",
    "\n",
    "While this section is about variable names, **many of these same rules also apply to just everything else**:\n",
    "- Functions\n",
    "- Files\n",
    "- Data types\n",
    "- Libraries and modules\n",
    "- ...\n",
    "\n",
    "There are a couple notable exceptions, though:\n",
    "- CONSTANTS (i.e., variables that don't actually vary) are often in `ALL_CAPS_WITH_UNDERSCORES`\n",
    "- Third-party data types (a.k.a., `classes`) should use `CamelCaseNaming` with the first letter of each word capitalized and no underscores. \n",
    "\n",
    "These are nonstandard because they are _intended_ to stand out. That they don't follow the rules clues us in that they have special meanings and uses.    \n",
    "\n",
    "For more about Python naming conventions, take a peek at the official [Style Guide for Python Code](https://www.python.org/dev/peps/pep-0008/#naming-conventions), also known as PEP-8.\n",
    "\n",
    "### **Pulse Check ...**\n",
    "**Why do variable names need to be unique? What do you suppose we mean by \"in the context they are being used?\"**"
   ]
  },
  {
   "cell_type": "markdown",
   "metadata": {
    "id": "amTOcf7FPJlR"
   },
   "source": [
    "YOUR ANSWER HERE"
   ]
  },
  {
   "cell_type": "markdown",
   "metadata": {
    "id": "w99auWkCPJlS"
   },
   "source": [
    "**What, if anything, is wrong with each of the variable names below?**"
   ]
  },
  {
   "cell_type": "markdown",
   "metadata": {
    "id": "CtM5jksSPJlT"
   },
   "source": [
    "**`1password`**"
   ]
  },
  {
   "cell_type": "markdown",
   "metadata": {
    "id": "s_zHALTKPJlT"
   },
   "source": [
    "YOUR ANSWER HERE"
   ]
  },
  {
   "cell_type": "markdown",
   "metadata": {
    "jupyter": {
     "source_hidden": true
    },
    "tags": []
   },
   "source": [
    "\n",
    "> Python names cannot start with a number"
   ]
  },
  {
   "cell_type": "markdown",
   "metadata": {
    "id": "rdm_nr7sPJlT"
   },
   "source": [
    "**`onePassword`**"
   ]
  },
  {
   "cell_type": "markdown",
   "metadata": {
    "id": "orBJXLIzPJlU"
   },
   "source": [
    "YOUR ANSWER HERE"
   ]
  },
  {
   "cell_type": "markdown",
   "metadata": {
    "jupyter": {
     "source_hidden": true
    },
    "tags": []
   },
   "source": [
    "\n",
    "> Python prefers underscores to camel case naming"
   ]
  },
  {
   "cell_type": "markdown",
   "metadata": {
    "id": "eR0DTlP1PJlU"
   },
   "source": [
    "**`one password`**"
   ]
  },
  {
   "cell_type": "markdown",
   "metadata": {
    "id": "MhqOWif2PJlV"
   },
   "source": [
    "YOUR ANSWER HERE"
   ]
  },
  {
   "cell_type": "markdown",
   "metadata": {
    "jupyter": {
     "source_hidden": true
    },
    "tags": []
   },
   "source": [
    "\n",
    "> Spaces are not allowed in Python names"
   ]
  },
  {
   "cell_type": "markdown",
   "metadata": {
    "id": "TpBIxftdPJlV"
   },
   "source": [
    "**`one_password`**"
   ]
  },
  {
   "cell_type": "markdown",
   "metadata": {
    "id": "Q0iD-GmXPJlV"
   },
   "source": [
    "YOUR ANSWER HERE"
   ]
  },
  {
   "cell_type": "markdown",
   "metadata": {
    "jupyter": {
     "source_hidden": true
    },
    "tags": []
   },
   "source": [
    "\n",
    "> Nothing wrong with this one"
   ]
  },
  {
   "cell_type": "markdown",
   "metadata": {
    "id": "o5qNUWOuPJlW"
   },
   "source": [
    "**`onep@ssw0rd`**"
   ]
  },
  {
   "cell_type": "markdown",
   "metadata": {
    "id": "rWZW3_fvPJlW"
   },
   "source": [
    "YOUR ANSWER HERE"
   ]
  },
  {
   "cell_type": "markdown",
   "metadata": {
    "jupyter": {
     "source_hidden": true
    },
    "tags": []
   },
   "source": [
    "\n",
    "> Python only allows latin letters, numbers, and underscores"
   ]
  },
  {
   "cell_type": "markdown",
   "metadata": {
    "id": "E3syspHzPJlX"
   },
   "source": [
    "----\n",
    "## **Lexical Structure: Statements, Expressions, Operators, Literals, and Punctuation**\n",
    "\n",
    "Sometimes you can learn a lot from just one line of code. For example, let's revisit a line from the section on variable assignment:\n",
    "```python\n",
    "person1 = first_name + \" \" + last_name\n",
    "```\n",
    "\n",
    "In this one line we see a **statement**, an **operator**, and **an expression**. (Actually, there are three expressions, two operators, and a text literal but who's counting?)\n",
    "- the entire line of code `person1 = first_name + \" \" + last_name` is an assignment **statement**\n",
    "- the addition **operator** is denoted by the plus sign `+`\n",
    "- the calculation `first_name + \" \" + last_name` is an **expression**\n",
    "\n",
    "**A statement is the Python equivalent of an imperative sentence. Statements _do_ things that change the state (value) of other things.** A statement is one semantically complete thought (for the programmer) or one syntactically complete unit of code for Python to execute. Each time we ask the computer to do something, we give it a statement. If we give the computer a sequence of statements then it executes them one at a time in the order they are given. \n",
    "\n",
    "Just as sentences in human language have syntactic structure (parts of speech), so do Python statements. In fact the precise grammar for all legal Python statements is defined in one surprisingly short document, [Python Language Definition](https://docs.python.org/3/reference/index.html). The grammar rules defined there break each sentence down into variables, operations, keywords, literals, and punctuation. Everything is covered in fine detail. Consider, for example, how Python defines integer numbers:   \n",
    "![Integer Grammar Rule](../img/L2_1_Integer_Grammar.png)  \n",
    "While the notation (called BNF grammar, first used to design Fortran) is pretty arcane, just know that these 10 grammar rules (one per line) together describe every possible integer in every possible format recognized by Python. \n",
    "\n",
    "So far we have only seen a few kinds of statements. The examples so far have been mostly assignment statements, which _always_ follow the same pattern: _`variable = expression`_. As we learned before, the _`expression`_ on the right is always evaluated first and then assigned to the _`variable`_ on the left. \n",
    "\n",
    "**An expression is anything that can be evaluated to produce a value. Expressions _are_ things.** So, each calculation like `1+1` or `first_name + \" \" + last_name` is an expression, but so is recalling the value of a variable like `first_name` or `last_name`. They each produce a value when evaluated. Expressions can be composed of other expressions. In order to evaluate them Python will break them down into smaller and smaller expressions, until all that's left is some combination of variables, operators, and **literal** values. **Literals** are things like numbers or text strings that don't need to be broken down any further. \n",
    "\n",
    "**An operator represents a calculation with a symbol like `+` or `%`.** In order for operators to be useful they have to be applied to one or more **operands** according to a specific pattern. So, for example, the `+` operator follows this pattern: _`expression1 + expression2`_, where the operands are `expression1` and `expression2`.  In principle, an operator can have any number of operands: unary operators have one operand, binary operators have two, ternary operators have three, etc. However, all of Python's built-in operators are binary, with one operand on the left and another on the right. \n",
    "\n",
    "When we apply an operator to a set of operands we call it an **operation**. Since operations always produce a value, they are also expressions and can also be broken down into smaller and smaller parts. When doing so we need to know which operations to evaluate first. For that we can use the same [PEMDAS rule](https://en.wikipedia.org/wiki/Order_of_operations) you likely learned in middle school. Operations are evaluated **left to right** _except_ ...\n",
    "- operations inside **parentheses** (or other grouping operation) must be evaluated before ...\n",
    "- **exponents** and roots, which must be evaluated before ...\n",
    "- **multiplication** and **division**, which must be evaluated before ...\n",
    "- **addition** and **subtraction**\n",
    "\n",
    "Thus, `3*6+1/2` evaluates to 18.5 while `3*(6+1)/2` evaluates to 10.5. If in doubt about how an expression is going to be evaluated, use parentheses to force it to go the way you want it to go. \n",
    "\n",
    "**Punctuation is everything else we need to structure our statements.** We haven't seen much of that yet but we will. Besides **white space** (which we learned about in lesson 1) we will also use dots `.`, colons `:`, parentheses `()`, brackets `[]` and other symbols as hints to help Python break statements down into their various parts.  \n",
    "\n",
    "### **Pulse Check ...**"
   ]
  },
  {
   "cell_type": "markdown",
   "metadata": {
    "id": "a35ozPvXPJlX"
   },
   "source": [
    "**Why aren't expressions considered statements?** (After all, they do calculate things.)"
   ]
  },
  {
   "cell_type": "markdown",
   "metadata": {
    "id": "BmYfq3ZuPJlX"
   },
   "source": [
    "YOUR ANSWER HERE"
   ]
  },
  {
   "cell_type": "markdown",
   "metadata": {
    "jupyter": {
     "source_hidden": true
    },
    "tags": []
   },
   "source": [
    "\n",
    "> Because they do not _do_ anything beyind calculate. They generally execute without _side effects_ (changing anything) along the way. "
   ]
  },
  {
   "cell_type": "markdown",
   "metadata": {
    "id": "deb1LB1tPJlY"
   },
   "source": [
    "**Why is the equals sign not an operator?** (This one is very subtle. Many professional programmers get it wrong.)"
   ]
  },
  {
   "cell_type": "markdown",
   "metadata": {
    "id": "PKHFdI-ZPJlY"
   },
   "source": [
    "YOUR ANSWER HERE"
   ]
  },
  {
   "cell_type": "markdown",
   "metadata": {
    "jupyter": {
     "source_hidden": true
    },
    "tags": []
   },
   "source": [
    "\n",
    "> Because it does not return a value. It issues a command to Python to do something with side effects. "
   ]
  },
  {
   "cell_type": "markdown",
   "metadata": {
    "id": "dGj7FTm6PJlY"
   },
   "source": [
    "**In what order would the operations in `1 + int(\"1\")/float(2)` be executed?**"
   ]
  },
  {
   "cell_type": "markdown",
   "metadata": {
    "id": "uuGD1c4KPJlZ"
   },
   "source": [
    "YOUR ANSWER HERE; FILL IN THE OPERATION FOR EACH STEP\n",
    "\n",
    "1.  \n",
    "2. \n",
    "3. \n",
    "4. "
   ]
  },
  {
   "cell_type": "markdown",
   "metadata": {
    "jupyter": {
     "source_hidden": true
    },
    "tags": []
   },
   "source": [
    "\n",
    "---\n",
    "1. `int(\"1\")`\n",
    "2. `float(2)`\n",
    "3. `1 / 2.0`\n",
    "4. `1 + 0.5`"
   ]
  },
  {
   "cell_type": "markdown",
   "metadata": {
    "id": "xoE6Lq3CPJlZ"
   },
   "source": [
    "**In the statement `person1 = first_name + \" \" + last_name` what are the variables, expressions, literals, and operators?**"
   ]
  },
  {
   "cell_type": "markdown",
   "metadata": {
    "id": "2_sv0pmKPJlZ"
   },
   "source": [
    "YOUR ANSWER HERE\n",
    "\n",
    "- Variables:\n",
    "- Expressions:\n",
    "- Literals: \n",
    "- Operators: "
   ]
  },
  {
   "cell_type": "markdown",
   "metadata": {
    "cellView": "form",
    "id": "DtDzM0QahbBO",
    "jupyter": {
     "source_hidden": true
    },
    "tags": []
   },
   "source": [
    "---\n",
    "- **variables:** `person1`, `first_name`, and `last_name`\n",
    "- **expressions:** `first_name + \" \" + last_name` \n",
    "_but also_ `first_name + \" \"` and `(first_name + \" \") + last_name`\n",
    "- **literals:** \" \" (space character)\n",
    "- **operators:** `+` (addition)"
   ]
  },
  {
   "cell_type": "markdown",
   "metadata": {},
   "source": [
    "### **Syntax Highlighting**\n",
    "Programming environments like Jupyter often come with real-time (as you type) syntax parsing for whatever language you are using at the time. The result is that code is highlighted to show how it will interpret.\n",
    "```python\n",
    "# comments are dark green\n",
    "\"literal text strings are red\"\n",
    "keywords like for or in are green unless they are quoted like \"for\" or \"in\"\n",
    "```\n",
    "The actual colors may vary (e.g., Google Colab uses a different color scheme for text cells and code cells) but the actual Python grammar rules don't. So, if you forgot the second double-quote at the end of a string literal, then all remaining code on the line that will appear in whatever color is used for string literals. Similarly, if a variable name appears in the same color as the one for keywords, you know that you are going to need to rename the variable to something else. That name is already taken."
   ]
  },
  {
   "cell_type": "markdown",
   "metadata": {
    "id": "9RnbN3zRPJla"
   },
   "source": [
    "----\n",
    "## **Code Comments**\n",
    "\n",
    "In Jupyter we use Markdown to enter text for humans to read and code cells for Python to execute. However, sometimes it is useful to mix human-friendly (but not executable) **comments** into our Python code. Comments are used like annotations, explaining what a bit of code does so we don't have to figure it out again later. \n",
    "\n",
    "In Python we use the _hash_ symbol `#` to indicate comments. Everything on a line of code after the `#` is ignored by Python. Those are just for us humans. \n",
    "```python\n",
    "# stock the fridge\n",
    "the_fridge = [\"bud\", \"bud\", \"stella\", \"miller\",\"homebrew\"]\n",
    "the_fridge += [\"heinie\"] # don't forget the Heineken\n",
    "\n",
    "# drink each beer in the fridge, one at a time\n",
    "for beer in the_fridge:\n",
    "    empty_bottle = drink(beer)\n",
    "    burp()                # that's why we drink beer, right? \n",
    "    dispose(empty_bottle) # don't just leave empties lying around\n",
    "    \n",
    "    # be joyful\n",
    "    print(beer)           \n",
    "    print(\"And another one gone, and another one gone, another one bites the dust.\")\n",
    "\n",
    "```\n",
    "\n",
    "**While it might be tempting to just skip writing the comments, please resist the urge to do so.** Comments are an important part of your code. In fact, you may want to **write the comments first, before writing any Python code.** That way you can plan out your logic in **pseudo-code** before having to think in Python. First write out the steps as pseudo-code comments and then add Python statements to implement them.  \n",
    "\n",
    "> **Heads Up:** take note of the indentation used for the comments above. **Comments are considered as part of your code and should follow the same indentation rules as runnable Python code.** \n",
    ">\n",
    "> Don't do this, for example:\n",
    ">\n",
    "> ```python\n",
    "> for beer in the_fridge:\n",
    ">    empty_bottle = drink(beer)\n",
    ">    burp()                # that's why we drink beer, right? \n",
    ">    dispose(empty_bottle) # don't just leave empties lying around\n",
    "> \n",
    "># be joyful   <--- VERY BAD FORM. YOU'RE FIRED!\n",
    ">    print(beer)           \n",
    ">    print(\"And another one gone, and another one gone, another one bites the dust.\")\n",
    "> \n",
    ">\n",
    "> ```\n",
    "> **If a comment is to appear on a line by itself, _always_ indent it to match the code immediately below. Anything else is considered _extremely_ bad form because it makes the Python code (where indentation matters) very hard to read.** Are the Python statements `dispose(empty_bottle)` and `print(beer)` indented the same? It's hard to tell when the comments don't line up with the Python code."
   ]
  },
  {
   "cell_type": "markdown",
   "metadata": {
    "id": "NWEpomh3i5gh"
   },
   "source": [
    "### **Literate Programming**\n",
    "The best programs don't actually need a lot of comments beyond whatever is needed for basic documentation. Instead, every effort is made to make the code itself as easy to read and interpret as possible. Such code is said to be **literate** because an experienced programmer can read it like a book. When your code gets to book length -- a mobile app might have 100,000 lines of code -- you really start to appreciate the value of readability. While it might not be possible to make your code readable while you are creating and debugging it, professionals always take the time to clean it up afterwards. The Python Style Guide for Code (PEP-8) provides lots of recommendations and even some tools to help you do the cleanup. \n"
   ]
  },
  {
   "cell_type": "markdown",
   "metadata": {
    "id": "dFooHQ9fPJla"
   },
   "source": [
    "### **Commenting Out in Debugging**\n",
    "Comments are used for more than just annotating code. When a block of code isn't working it can be useful to \"comment out\" code as we narrow down the source of the error. For example, consider what happens when we run the code above:"
   ]
  },
  {
   "cell_type": "code",
   "execution_count": null,
   "metadata": {
    "id": "_n8V3OJvPJlb",
    "outputId": "cd619bab-e442-463c-ae2f-0ba3b5ebee83"
   },
   "outputs": [
    {
     "ename": "NameError",
     "evalue": "name 'drink' is not defined",
     "output_type": "error",
     "traceback": [
      "\u001b[0;31m---------------------------------------------------------------------------\u001b[0m",
      "\u001b[0;31mNameError\u001b[0m                                 Traceback (most recent call last)",
      "\u001b[0;32m<ipython-input-9-b0e9c397359b>\u001b[0m in \u001b[0;36m<module>\u001b[0;34m\u001b[0m\n\u001b[1;32m      5\u001b[0m \u001b[0;31m# drink each beer in the fridge, one at a time\u001b[0m\u001b[0;34m\u001b[0m\u001b[0;34m\u001b[0m\u001b[0;34m\u001b[0m\u001b[0m\n\u001b[1;32m      6\u001b[0m \u001b[0;32mfor\u001b[0m \u001b[0mbeer\u001b[0m \u001b[0;32min\u001b[0m \u001b[0mthe_fridge\u001b[0m\u001b[0;34m:\u001b[0m\u001b[0;34m\u001b[0m\u001b[0;34m\u001b[0m\u001b[0m\n\u001b[0;32m----> 7\u001b[0;31m     \u001b[0mempty_bottle\u001b[0m \u001b[0;34m=\u001b[0m \u001b[0mdrink\u001b[0m\u001b[0;34m(\u001b[0m\u001b[0mbeer\u001b[0m\u001b[0;34m)\u001b[0m\u001b[0;34m\u001b[0m\u001b[0;34m\u001b[0m\u001b[0m\n\u001b[0m\u001b[1;32m      8\u001b[0m     \u001b[0mburp\u001b[0m\u001b[0;34m(\u001b[0m\u001b[0;34m)\u001b[0m                \u001b[0;31m# that's why we drink beer, right?\u001b[0m\u001b[0;34m\u001b[0m\u001b[0;34m\u001b[0m\u001b[0m\n\u001b[1;32m      9\u001b[0m     \u001b[0mdispose\u001b[0m\u001b[0;34m(\u001b[0m\u001b[0mempty_bottle\u001b[0m\u001b[0;34m)\u001b[0m \u001b[0;31m# don't just leave empties lying around\u001b[0m\u001b[0;34m\u001b[0m\u001b[0;34m\u001b[0m\u001b[0m\n",
      "\u001b[0;31mNameError\u001b[0m: name 'drink' is not defined"
     ]
    }
   ],
   "source": [
    "# stock the fridge\n",
    "the_fridge = [\"bud\", \"bud\", \"stella\", \"miller\",\"homebrew\"]\n",
    "the_fridge += [\"heinie\"] # don't forget the Heineken\n",
    "\n",
    "# drink each beer in the fridge, one at a time\n",
    "for beer in the_fridge:\n",
    "    empty_bottle = drink(beer)\n",
    "    burp()                # that's why we drink beer, right? \n",
    "    dispose(empty_bottle) # don't just leave empties lying around\n",
    "\n",
    "    # be joyful\n",
    "    print(beer)           \n",
    "    print(\"And another one gone, and another one gone, another one bites the dust.\")"
   ]
  },
  {
   "cell_type": "markdown",
   "metadata": {
    "id": "5nE9DVoJPJlc"
   },
   "source": [
    "Oops. It doesn't work! We've failed! Now we need to see if we can figure out exactly which lines are not working. \n",
    "\n",
    "Let's start by commenting out line 7 with the `drink` function in it."
   ]
  },
  {
   "cell_type": "code",
   "execution_count": null,
   "metadata": {
    "id": "TCHcM8FkPJld",
    "outputId": "6e462d43-b583-406c-f418-ce2ec24c5553"
   },
   "outputs": [
    {
     "ename": "NameError",
     "evalue": "name 'burp' is not defined",
     "output_type": "error",
     "traceback": [
      "\u001b[0;31m---------------------------------------------------------------------------\u001b[0m",
      "\u001b[0;31mNameError\u001b[0m                                 Traceback (most recent call last)",
      "\u001b[0;32m<ipython-input-10-86326dab1fa7>\u001b[0m in \u001b[0;36m<module>\u001b[0;34m\u001b[0m\n\u001b[1;32m      6\u001b[0m \u001b[0;32mfor\u001b[0m \u001b[0mbeer\u001b[0m \u001b[0;32min\u001b[0m \u001b[0mthe_fridge\u001b[0m\u001b[0;34m:\u001b[0m\u001b[0;34m\u001b[0m\u001b[0;34m\u001b[0m\u001b[0m\n\u001b[1;32m      7\u001b[0m     \u001b[0;31m# empty_bottle = drink(beer)\u001b[0m\u001b[0;34m\u001b[0m\u001b[0;34m\u001b[0m\u001b[0;34m\u001b[0m\u001b[0m\n\u001b[0;32m----> 8\u001b[0;31m     \u001b[0mburp\u001b[0m\u001b[0;34m(\u001b[0m\u001b[0;34m)\u001b[0m                \u001b[0;31m# that's why we drink beer, right?\u001b[0m\u001b[0;34m\u001b[0m\u001b[0;34m\u001b[0m\u001b[0m\n\u001b[0m\u001b[1;32m      9\u001b[0m     \u001b[0mdispose\u001b[0m\u001b[0;34m(\u001b[0m\u001b[0mempty_bottle\u001b[0m\u001b[0;34m)\u001b[0m \u001b[0;31m# don't just leave empties lying around\u001b[0m\u001b[0;34m\u001b[0m\u001b[0;34m\u001b[0m\u001b[0m\n\u001b[1;32m     10\u001b[0m \u001b[0;34m\u001b[0m\u001b[0m\n",
      "\u001b[0;31mNameError\u001b[0m: name 'burp' is not defined"
     ]
    }
   ],
   "source": [
    "# stock the fridge\n",
    "the_fridge = [\"bud\", \"bud\", \"stella\", \"miller\",\"homebrew\"]\n",
    "the_fridge += [\"heinie\"] # don't forget the Heineken\n",
    "\n",
    "# drink each beer in the fridge, one at a time\n",
    "for beer in the_fridge:\n",
    "    # empty_bottle = drink(beer)\n",
    "    burp()                # that's why we drink beer, right? \n",
    "    dispose(empty_bottle) # don't just leave empties lying around\n",
    "\n",
    "    # be joyful\n",
    "    print(beer)           \n",
    "    print(\"And another one gone, and another one gone, another one bites the dust.\")"
   ]
  },
  {
   "cell_type": "markdown",
   "metadata": {
    "id": "Iu0mL9gzPJlf"
   },
   "source": [
    "Okay, so that led to another bug. The `burp` function doesn't exist either. Let's comment out line 8 too. "
   ]
  },
  {
   "cell_type": "code",
   "execution_count": null,
   "metadata": {
    "id": "QDZ6esZTPJlf",
    "outputId": "ed40fa3c-c1c5-4097-dca0-15d0cff925b9"
   },
   "outputs": [
    {
     "ename": "NameError",
     "evalue": "name 'dispose' is not defined",
     "output_type": "error",
     "traceback": [
      "\u001b[0;31m---------------------------------------------------------------------------\u001b[0m",
      "\u001b[0;31mNameError\u001b[0m                                 Traceback (most recent call last)",
      "\u001b[0;32m<ipython-input-11-85b8e30f477c>\u001b[0m in \u001b[0;36m<module>\u001b[0;34m\u001b[0m\n\u001b[1;32m      7\u001b[0m     \u001b[0;31m# empty_bottle = drink(beer)\u001b[0m\u001b[0;34m\u001b[0m\u001b[0;34m\u001b[0m\u001b[0;34m\u001b[0m\u001b[0m\n\u001b[1;32m      8\u001b[0m     \u001b[0;31m# burp()                # that's why we drink beer, right?\u001b[0m\u001b[0;34m\u001b[0m\u001b[0;34m\u001b[0m\u001b[0;34m\u001b[0m\u001b[0m\n\u001b[0;32m----> 9\u001b[0;31m     \u001b[0mdispose\u001b[0m\u001b[0;34m(\u001b[0m\u001b[0mempty_bottle\u001b[0m\u001b[0;34m)\u001b[0m \u001b[0;31m# don't just leave empties lying around\u001b[0m\u001b[0;34m\u001b[0m\u001b[0;34m\u001b[0m\u001b[0m\n\u001b[0m\u001b[1;32m     10\u001b[0m \u001b[0;34m\u001b[0m\u001b[0m\n\u001b[1;32m     11\u001b[0m     \u001b[0;31m# be joyful\u001b[0m\u001b[0;34m\u001b[0m\u001b[0;34m\u001b[0m\u001b[0;34m\u001b[0m\u001b[0m\n",
      "\u001b[0;31mNameError\u001b[0m: name 'dispose' is not defined"
     ]
    }
   ],
   "source": [
    "# stock the fridge\n",
    "the_fridge = [\"bud\", \"bud\", \"stella\", \"miller\",\"homebrew\"]\n",
    "the_fridge += [\"heinie\"] # don't forget the Heineken\n",
    "\n",
    "# drink each beer in the fridge, one at a time\n",
    "for beer in the_fridge:\n",
    "    # empty_bottle = drink(beer)\n",
    "    # burp()                # that's why we drink beer, right? \n",
    "    dispose(empty_bottle) # don't just leave empties lying around\n",
    "\n",
    "    # be joyful\n",
    "    print(beer)           \n",
    "    print(\"And another one gone, and another one gone, another one bites the dust.\")"
   ]
  },
  {
   "cell_type": "markdown",
   "metadata": {
    "id": "HDBu9wYSPJlh"
   },
   "source": [
    "Yet again, Python is telling us that we forgot to define something. Let's comment out line 9."
   ]
  },
  {
   "cell_type": "code",
   "execution_count": null,
   "metadata": {
    "id": "beqVEe7kPJlh",
    "outputId": "f30e9806-1e11-4354-ebb4-94a758661ea5"
   },
   "outputs": [
    {
     "name": "stdout",
     "output_type": "stream",
     "text": [
      "bud\n",
      "And another one gone, and another one gone, another one bites the dust.\n",
      "bud\n",
      "And another one gone, and another one gone, another one bites the dust.\n",
      "stella\n",
      "And another one gone, and another one gone, another one bites the dust.\n",
      "miller\n",
      "And another one gone, and another one gone, another one bites the dust.\n",
      "homebrew\n",
      "And another one gone, and another one gone, another one bites the dust.\n",
      "heinie\n",
      "And another one gone, and another one gone, another one bites the dust.\n"
     ]
    }
   ],
   "source": [
    "# stock the fridge\n",
    "the_fridge = [\"bud\", \"bud\", \"stella\", \"miller\",\"homebrew\"]\n",
    "the_fridge += [\"heinie\"] # don't forget the Heineken\n",
    "\n",
    "# drink each beer in the fridge, one at a time\n",
    "for beer in the_fridge:\n",
    "    # empty_bottle = drink(beer)\n",
    "    # burp()                # that's why we drink beer, right? \n",
    "    # dispose(empty_bottle) # don't just leave empties lying around\n",
    "\n",
    "    # be joyful\n",
    "    print(beer)           \n",
    "    print(\"And another one gone, and another one gone, another one bites the dust.\")"
   ]
  },
  {
   "cell_type": "markdown",
   "metadata": {
    "id": "PN6UE8PVPJlj"
   },
   "source": [
    "#### **So what? This didn't actually fix anything, right?**\n",
    "Now the code runs at least, though it doesn't do everything we wanted. However, **we did learn something here**. By commenting out lines one at a time _we let Python tell us exactly_ what we needed to do to get the code running: define the functions `drink`, `burp`, and `dispose`. If all we saw was the first error message (before we commented things out) then we would have only discovered the first error about the missing `drink` function. The other two bugs would have been hidden behind the first error message. "
   ]
  },
  {
   "cell_type": "markdown",
   "metadata": {
    "id": "lvX_3UoePJlm"
   },
   "source": [
    "---\n",
    "## **Before you go ... Save your notebook to be sure it is up to date.**"
   ]
  },
  {
   "cell_type": "markdown",
   "metadata": {
    "id": "v-OC5Na2QKB4"
   },
   "source": [
    "---\n",
    "> ## Every Tee Has a Story\n",
    "> ABOUT GOOGLE CLASSROOM AND PRICELINE    \n",
    "> In 2014 I was approached by an alum to round up students to test a new app called Google Classroom, which was in private beta (with an NDA). I said I would be glad to get some of my classes to try it out _very quietly_ if the development team paid us a visit at the end of the semester. They came, asked and answered lots of questions, and left me with a monster box of these tee shirts in black and green. I gave away what I could but kept this one black tee as a souvenir. \n",
    ">\n",
    ">This was not the first time we had a top secret beta test at Fairfield. In my first year I was approached by an alum about this new service being developed at Walker Digital. It was, of course, Priceline. Fairfield students were used as focus groups, including the one that picked William Shatner as the spokeperson. It was entirely based on his voice (for radio ads). Shatner beat out Hellen Mirren and a couple others with distinctive voices. After that we also got juicy details from the first couple years of website development. Lots of things broke back then -- it wasn't until version 3 that they could actually issue electronic tickets without having to print and snail mail them to you -- and I am always a sucker for a good war story. \n",
    ">\n",
    "![L2 Tee Front](../Photos/L02_TeeFront.jpeg)![L2 Tee Back](../Photos/L02_TeeBack.jpeg)\n",
    "\n",
    "## Copyright &copy; 2020 Christopher Huntley. All rights reserved. "
   ]
  }
 ],
 "metadata": {
  "colab": {
   "collapsed_sections": [],
   "name": "L02_Basic_Computation.ipynb",
   "provenance": []
  },
  "kernelspec": {
   "display_name": "Python 3 (ipykernel)",
   "language": "python",
   "name": "python3"
  },
  "language_info": {
   "codemirror_mode": {
    "name": "ipython",
    "version": 3
   },
   "file_extension": ".py",
   "mimetype": "text/x-python",
   "name": "python",
   "nbconvert_exporter": "python",
   "pygments_lexer": "ipython3",
   "version": "3.8.15"
  }
 },
 "nbformat": 4,
 "nbformat_minor": 4
}
