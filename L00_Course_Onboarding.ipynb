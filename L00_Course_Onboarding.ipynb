{
 "cells": [
  {
   "cell_type": "markdown",
   "metadata": {
    "id": "Bg-kfZIelFyL"
   },
   "source": [
    "<img src=\"../img/Dolan.png\" width=\"180px\" align=\"right\">\n",
    "\n",
    "# **Course Onboarding**\n",
    "_Everything you need to know and do before the first day of class_\n"
   ]
  },
  {
   "cell_type": "markdown",
   "metadata": {
    "id": "OZs5QOMWlFyN"
   },
   "source": [
    "## Where am I and how did I get here?\n",
    "Welcome to [Jupyter](https://jupyter.org/), a web based coding environment for Python, R, SQL, Markdown, and a bunch of other languages we use in Business Analytics courses. This document is what is called a _notebook_, which is composed of _cells_ that flow vertically from top to bottom. Each cell is either formatted text or code. \n",
    "\n",
    "**Text cells** use Markdown notations to format the text. For example, to make `text look like computer code` we wrap it in _backticks_ like this: \\`text look like computer code\\`. (On most keyboards the backtick character is just above the tab key.) We can also create bookmarkable section titles, insert hyperlinks, create fancy tables, and all sorts of things. In fact the syllabus for this course as well as everything else on the class website is written in Markdown. For more, take a spin through GitHub's [Mastering Markdown Guide](https://guides.github.com/features/mastering-markdown/). Or, you could just double-click on a text cell (like the one you are reading right now) to see the Markdown; to hide the Markdown code, just double-click on the rendered (pretty) text to the right. It toggles like a light switch.  \n",
    "\n",
    "**Code cells** can be identified by the little boxes `[]` that may or may not have numbers in them. The cells have runnable programming code in them. Select the cell and hit the \"play\" button to run it. Any output produced will appear just below the code. You'll also note that the `[]` box has a number inside. The number tells us what order the cells were run. If you re-run a cell then the number inside automatically updates. \n",
    "\n",
    "You may be wondering why we would choose to use these weird sorts of documents for our online lessons. It's pretty simple, really. First, they allow you to **write, run and share code without installing any software**. Second it makes **all code visible, with nothing hidden from you**. Want to see well written code? Then just read the notebooks! It's all there. \n",
    "\n",
    "__The rest of this document asks you to perform a few tasks designed to introduce the course, sign up for some of the online tools, and set up your workspace in Jupyter.__\n",
    "\n",
    "__Expect to spend between 30 minutes and an hour, depending on your luck and skills.__\n",
    "\n",
    "-------"
   ]
  },
  {
   "cell_type": "markdown",
   "metadata": {
    "id": "BpNJ70Yqa93Y"
   },
   "source": [
    "## 1. Review the syllabus to get familiar with the course objectives, policies, and schedule of assignments. \n",
    "## 2. Read chapters 1 and 2 of the [Python 4 Everybody](https://www.py4e.com/book.php) book. \n",
    "It's 100% free. The website has it in various formats (Kindle, PDF, etc.). There is even a version in Jupyter with live examples. The lessons here assume you read the PDF version. \n",
    "\n"
   ]
  }
 ],
 "metadata": {
  "colab": {
   "collapsed_sections": [],
   "include_colab_link": true,
   "name": "L0_5405_Course_Onboarding.ipynb",
   "provenance": []
  },
  "kernelspec": {
   "display_name": "Python 3 (ipykernel)",
   "language": "python",
   "name": "python3"
  },
  "language_info": {
   "codemirror_mode": {
    "name": "ipython",
    "version": 3
   },
   "file_extension": ".py",
   "mimetype": "text/x-python",
   "name": "python",
   "nbconvert_exporter": "python",
   "pygments_lexer": "ipython3",
   "version": "3.8.15"
  }
 },
 "nbformat": 4,
 "nbformat_minor": 4
}
