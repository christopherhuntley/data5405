{
 "cells": [
  {
   "cell_type": "markdown",
   "metadata": {
    "id": "kUYXaKGzwRJp"
   },
   "source": [
    "<img src=\"../img/Dolan.png\" width=\"180px\" align=\"right\">\n",
    "\n",
    "# **Homework Exercises, Week 2**\n",
    "_Practice Exercises for Lessons 4-6._"
   ]
  },
  {
   "cell_type": "markdown",
   "metadata": {},
   "source": [
    "## Lesson 4 Exercises"
   ]
  },
  {
   "cell_type": "markdown",
   "metadata": {},
   "source": [
    "### L4.E1\n",
    "Repackage your `waist2hip_ratio` calculation from Lesson 3 as a function with the following requirements:\n",
    "- Name the function `w2h_ratio` with three parameters: `waist_inches`, `hip_inches`, `gender`\n",
    "- The function should return a string with the pattern \"For a {gender} with waist {waist} and hip {hip}, the w2h ratio is {waist2hip_ratio}, with a shape {shape}.\" \n",
    "- Round the ratio to 2 decimal places. \n",
    "- The shape is either \"Apple\" or \"Pear\".\n",
    "- Do not use `input()` to get data. **Let that be passed into the function via arguments.**\n",
    "- `waist_inches` and `hip_inches` can be given as anything that can be converted to `floats`.\n",
    "- You will need to santize your inputs before doing the calculations. The waist and hip measurements should be in inches. The gender needs to be either \"M\" or \"F\". \n",
    "- If `waist_inches` or `hip_inches` are invalid then return the string \"w2h_ratio: Invalid measurement(s)\"\n",
    "- If the gender is not \"M\" or \"F\" then return the string \"w2h_ratio: Unknown gender\""
   ]
  },
  {
   "cell_type": "code",
   "execution_count": null,
   "metadata": {
    "tags": []
   },
   "outputs": [],
   "source": [
    "# YOUR L4.E1 CODE HERE"
   ]
  },
  {
   "cell_type": "markdown",
   "metadata": {},
   "source": [
    "#### Use the code below to test your work. It should run without any exceptions/errors. Otherwise you have a bug in your function. \n"
   ]
  },
  {
   "cell_type": "code",
   "execution_count": null,
   "metadata": {},
   "outputs": [],
   "source": [
    "# Do not edit the test assertions below. Repeatedly edit your code (above) and rerun this cell until everything works. \n",
    "\n",
    "# Is function defined? Does it have the right signature? \n",
    "assert w2h_ratio(waist_inches=36,hip_inches=44,gender=\"M\") \\\n",
    "        == 'For a M with waist 36.0 and hip 44.0 the w2h ratio is 0.82 with shape Pear.'\n",
    "\n",
    "# Does it handle invalid genders correctly? \n",
    "assert w2h_ratio(36,44,\"B\") == \"w2h_ratio: Unknown gender\"\n",
    "\n",
    "# Does it handle \"divide by zero\" errors?\n",
    "assert w2h_ratio(36,0,\"M\") == \"w2h_ratio: Invalid measurement(s)\"\n",
    "\n",
    "# Does it handle negative numbers?\n",
    "assert w2h_ratio(-36,44,\"M\") == \"w2h_ratio: Invalid measurement(s)\"\n",
    "assert w2h_ratio(36,-44,\"M\") == \"w2h_ratio: Invalid measurement(s)\"\n",
    "\n",
    "# Does it handle non-numeric input?\n",
    "assert w2h_ratio(\"36 and a half\",44,\"M\") == \"w2h_ratio: Invalid measurement(s)\"\n",
    "assert w2h_ratio(\"36\",\"44 and a half\",\"M\") == \"w2h_ratio: Invalid measurement(s)\"\n",
    "assert w2h_ratio(\"36\",\"44\",\"M\") == 'For a M with waist 36.0 and hip 44.0 the w2h ratio is 0.82 with shape Pear.'\n",
    "\n",
    "# Does it calculate correctly for valid input?\n",
    "assert w2h_ratio(\"36\",\"38\",\"M\") == 'For a M with waist 36.0 and hip 38.0 the w2h ratio is 0.95 with shape Apple.'\n",
    "assert w2h_ratio(\"36\",\"42\",\"M\") == 'For a M with waist 36.0 and hip 42.0 the w2h ratio is 0.86 with shape Pear.'\n",
    "assert w2h_ratio(\"33\",\"36\",\"F\") == 'For a F with waist 33.0 and hip 36.0 the w2h ratio is 0.92 with shape Apple.'\n",
    "assert w2h_ratio(\"33\",\"44\",\"F\") == 'For a F with waist 33.0 and hip 44.0 the w2h ratio is 0.75 with shape Pear.'"
   ]
  },
  {
   "cell_type": "markdown",
   "metadata": {},
   "source": [
    "## Lesson 5 Exercises\n",
    "\n",
    "### L5.E1\n",
    "**Write a `for` loop to string together the first 20 natural numbers as a single integer. Then check to see if that integer is divisible by 3.** For the first 3 numbers the integer would be 123, which is 41*3."
   ]
  },
  {
   "cell_type": "code",
   "execution_count": null,
   "metadata": {},
   "outputs": [],
   "source": [
    "# YOUR L5.E1 CODE HERE"
   ]
  },
  {
   "cell_type": "code",
   "execution_count": null,
   "metadata": {
    "jupyter": {
     "source_hidden": true
    },
    "tags": []
   },
   "outputs": [],
   "source": [
    "# An L5.E1 solution\n",
    "\n",
    "number = \"\"\n",
    "for i in range(1,21):\n",
    "    number += str(i)\n",
    "number = int(number)\n",
    "    \n",
    "if number % 3:\n",
    "    print(number,\"is divisible by 3\")\n",
    "else:\n",
    "    print(number,\"is not divisible by 3\")"
   ]
  },
  {
   "cell_type": "markdown",
   "metadata": {},
   "source": [
    "### L5.E2\n",
    "**Rewrite this code so that it prints all powers of 2 up to 2<sup>20</sup> _without using * or ** or pow()_.**     \n",
    "```python\n",
    "i = 0            # initialize the counter variable\n",
    "while i <= 20:   # stop when i > 20 \n",
    "    print(i * i) # output i squared\n",
    "    i += 1       # update the counter\n",
    "```\n",
    "Hints: \n",
    "- Initialize and update an accumulator variable `power_of_2`. \n",
    "- One way to double something is to add it to itself."
   ]
  },
  {
   "cell_type": "code",
   "execution_count": null,
   "metadata": {},
   "outputs": [],
   "source": [
    "# YOUR L5.E2 CODE HERE"
   ]
  },
  {
   "cell_type": "code",
   "execution_count": null,
   "metadata": {
    "jupyter": {
     "source_hidden": true
    },
    "tags": []
   },
   "outputs": [],
   "source": [
    "# L5.E2 solution\n",
    "\n",
    "i = 0 # initialize the counter variable\n",
    "power_of_2 = 1\n",
    "while i <= 20:   # stop when i > 20 \n",
    "    print(i, power_of_2) # output \n",
    "    power_of_2 += power_of_2\n",
    "    i += 1       # update the counter"
   ]
  },
  {
   "cell_type": "markdown",
   "metadata": {},
   "source": [
    "### L5.E3\n",
    "**Genius Challenge: Rewrite this code so that it prints every square up to 400 _without using * or ** or pow()_.** Take care not to ceate an infinite loop. \n",
    "```python\n",
    "odd = 1               # initialize our odd number sequence\n",
    "square = 0            # initialize the square number sequence\n",
    "while square < 400:   # stop when i > 20 \n",
    "    \n",
    "    # your code here\n",
    "    \n",
    "    print(square)     \n",
    "```\n",
    "Hints:\n",
    "- The first few squares are 1, 4, 9, 16, ...\n",
    "- You can generate a sequence of odd numbers by starting with 1 and incrementing by 2 each time: 1, 3, 5, 7, ...\n",
    "- The increment from each square n<sup>2</sup> to the next (n+1)<sup>2</sup> is an increasing sequence of odd numbers:  (n+1)<sup>2</sup> - n<sup>2</sup> = n<sup>2</sup> +  2n + 1 -  n<sup>2</sup> = 2n+1."
   ]
  },
  {
   "cell_type": "code",
   "execution_count": null,
   "metadata": {},
   "outputs": [],
   "source": [
    "# YOUR L5.E3 CODE HERE"
   ]
  },
  {
   "cell_type": "code",
   "execution_count": null,
   "metadata": {
    "jupyter": {
     "source_hidden": true
    },
    "tags": []
   },
   "outputs": [],
   "source": [
    "# L5.E3 Solution\n",
    "i = 0 # initialize the counter variable\n",
    "power_of_2 = 1\n",
    "while i <= 20:   # stop when i > 20 \n",
    "    print(i, power_of_2) # output \n",
    "    power_of_2 += power_of_2\n",
    "    i += 1       # update the counter"
   ]
  },
  {
   "cell_type": "markdown",
   "metadata": {},
   "source": [
    "## Lesson 6 Exercises\n",
    "\n",
    "### L6.E1\n",
    "**Rewrite your `waist2hip_ratio()` function from Lesson 4 to use an f-string for the output text.** "
   ]
  },
  {
   "cell_type": "code",
   "execution_count": null,
   "metadata": {},
   "outputs": [],
   "source": []
  },
  {
   "cell_type": "markdown",
   "metadata": {},
   "source": [
    "### L6.E2\n",
    "**Write a function called `char_rotate()` that moves the first character of a string to the end of the string.** The function has one parameter (the string) and returns a new string with the first character rotated to the end.\n",
    "\n",
    "So for example ...\n",
    "```\n",
    "char_rotate(\"abcdef\")\n",
    "```\n",
    "\n",
    "returns \n",
    "```\n",
    "'bcdefa'\n",
    "```"
   ]
  },
  {
   "cell_type": "code",
   "execution_count": null,
   "metadata": {},
   "outputs": [],
   "source": [
    "# YOUR L6.E2 CODE HERE"
   ]
  },
  {
   "cell_type": "markdown",
   "metadata": {},
   "source": [
    "### L6.E3\n",
    "**Write a function called `igpay()` that takes in a word and returns the pig latin equivalent.**\n",
    "- Convert every letter to upper case. Latin does not have lowercase letters. \n",
    "- If the word starts with a vowel, then add \"YAY\" to the end of the word.\n",
    "- if the word starts with one or more consonants in a row, then move the consonants to the end (so the word starts with a vowel) and add \"AY\"\n",
    "- If the word does not contain at least one vowel then just return the word\n",
    "- Look out for infinite loops! Interrupt/restart the runtime if needed\n",
    "- There should not be any `print()` calls in your code.\n",
    "\n",
    "Hints: \n",
    "- Use your `char_rotate()` function from L6.E2.\n",
    "- There may be a string method or two that can simplify your code.\n",
    "- `igpay(\"pig\")` is \"IGPAY\"\n",
    "- `igpay(\"art\")` is \"ARTYAY\"\n",
    "- `igpay(\"thx\")` is \"thx\"\n",
    "- `igpay(\"\")`  is \"\""
   ]
  },
  {
   "cell_type": "code",
   "execution_count": null,
   "metadata": {},
   "outputs": [],
   "source": [
    "# YOUR L6.E3 CODE HERE"
   ]
  },
  {
   "cell_type": "code",
   "execution_count": 10,
   "metadata": {},
   "outputs": [],
   "source": [
    "# Run the assertions below to test your code. All should run without errors. \n",
    "assert igpay(\"pig\") == \"IGPAY\"\n",
    "assert igpay(\"art\") == \"ARTYAY\"\n",
    "assert igpay(\"thx\") == \"thx\"\n",
    "assert igpay(\"\") == \"\""
   ]
  }
 ],
 "metadata": {
  "colab": {
   "collapsed_sections": [],
   "name": "Quiz5_Instructions.ipynb",
   "provenance": []
  },
  "kernelspec": {
   "display_name": "Python 3 (ipykernel)",
   "language": "python",
   "name": "python3"
  },
  "language_info": {
   "codemirror_mode": {
    "name": "ipython",
    "version": 3
   },
   "file_extension": ".py",
   "mimetype": "text/x-python",
   "name": "python",
   "nbconvert_exporter": "python",
   "pygments_lexer": "ipython3",
   "version": "3.8.15"
  }
 },
 "nbformat": 4,
 "nbformat_minor": 4
}
