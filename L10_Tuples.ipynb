{
 "cells": [
  {
   "cell_type": "markdown",
   "metadata": {
    "id": "yJ4aUr25SDkW"
   },
   "source": [
    "<img src=\"../img/Dolan.png\" width=\"180px\" align=\"right\">\n",
    "\n",
    "# **Lesson 10: Tuples**\n",
    "_The label maker of Python data types_"
   ]
  },
  {
   "cell_type": "markdown",
   "metadata": {
    "id": "VHzAUxxzSDkX"
   },
   "source": [
    "## **Learning Objectives**\n",
    "\n",
    "### Theory / Be able to explain ...\n",
    "- The uses and features of tuple collections\n",
    "- The role of immutable iterators to prevent crashes and security bugs\n",
    "- How tuple assignment works \n",
    "\n",
    "### Skills / Know how to  ...\n",
    "- Create tuples from literals or other sequences\n",
    "- Use tuple assignment to iterate over `dicts`\n",
    "---"
   ]
  },
  {
   "cell_type": "markdown",
   "metadata": {
    "id": "rsigPNj4SDkY"
   },
   "source": [
    "## **Why Immutable Collections?**\n",
    "> \"Truth is necessary and immutable.\"    \n",
    "> -- Étienne Gilson\n",
    "\n",
    "> \"Beauty is truth, truth beauty.\"    \n",
    "> --John Keats, _Ode on a Grecian Urn_\n",
    "\n",
    "As we said when discussing key hashing in the last lesson, there are good reasons why one might want immutable types like strings or numbers. But, why would we want a data type for immutable sequences? We can't add new values. We can't change values. We can't delete them. All we can do is create a tuple literal and then use it ... somehow. Is this really better than a list? No, it's not. It's just different. \n",
    "\n",
    "In this brief lesson we will review a few properties and uses for tuples that can make your code a lot easier and safer to use. \n",
    "\n",
    "## **Tuple Literals**\n",
    "Any comma separated sequence of values (without `[]` or `{}` brackets) is a tuple. We usually enclose the tuple with parentheses so it stands out, but we don't have to. "
   ]
  },
  {
   "cell_type": "code",
   "execution_count": null,
   "metadata": {
    "id": "hrexaDy0SDkY",
    "outputId": "2ec601b9-9b9e-4243-ebb4-b4b1a7b1daab"
   },
   "outputs": [
    {
     "data": {
      "text/plain": [
       "('one', 'two', 'three')"
      ]
     },
     "execution_count": 1,
     "metadata": {
      "tags": []
     },
     "output_type": "execute_result"
    }
   ],
   "source": [
    "numbers = 'one', 'two','three' \n",
    "numbers"
   ]
  },
  {
   "cell_type": "markdown",
   "metadata": {
    "id": "Qce7udg8SDkd"
   },
   "source": [
    "We can, of course, generate tuples from strings, lists, or other iterable types. "
   ]
  },
  {
   "cell_type": "code",
   "execution_count": null,
   "metadata": {
    "id": "2gPrIHMKSDke",
    "outputId": "5e40fc36-f9b8-4c71-c052-fac2f7521038"
   },
   "outputs": [
    {
     "data": {
      "text/plain": [
       "('a', 'b', 'c', 'd')"
      ]
     },
     "execution_count": 2,
     "metadata": {
      "tags": []
     },
     "output_type": "execute_result"
    }
   ],
   "source": [
    "letters = tuple(\"abcd\") # string --> tuple\n",
    "letters"
   ]
  },
  {
   "cell_type": "code",
   "execution_count": null,
   "metadata": {
    "id": "Fv331qX7SDkh",
    "outputId": "195555c6-4145-4b22-9bab-1dc03a50b573"
   },
   "outputs": [
    {
     "data": {
      "text/plain": [
       "['a', 'b', 'c', 'd']"
      ]
     },
     "execution_count": 3,
     "metadata": {
      "tags": []
     },
     "output_type": "execute_result"
    }
   ],
   "source": [
    "letters = list(letters) # tuple --> list\n",
    "letters"
   ]
  },
  {
   "cell_type": "code",
   "execution_count": null,
   "metadata": {
    "id": "Hl0tCNCDSDkm",
    "outputId": "40d92ac0-8611-4989-eaff-565bbf8ec0c9"
   },
   "outputs": [
    {
     "data": {
      "text/plain": [
       "('a', 'b', 'c', 'd')"
      ]
     },
     "execution_count": 4,
     "metadata": {
      "tags": []
     },
     "output_type": "execute_result"
    }
   ],
   "source": [
    "letters = tuple(letters) # list --> tuple\n",
    "letters"
   ]
  },
  {
   "cell_type": "code",
   "execution_count": null,
   "metadata": {
    "id": "hfsJyajxSDko",
    "outputId": "3eec09d9-fbd0-46e5-fbfb-709ab4fc36a7"
   },
   "outputs": [
    {
     "data": {
      "text/plain": [
       "\"('a', 'b', 'c', 'd')\""
      ]
     },
     "execution_count": 5,
     "metadata": {
      "tags": []
     },
     "output_type": "execute_result"
    }
   ],
   "source": [
    "letters = str(letters)\n",
    "letters"
   ]
  },
  {
   "cell_type": "markdown",
   "metadata": {
    "id": "XiPM1wYzSDkr"
   },
   "source": [
    "Oops. That made a string but it's the wrong string. We needed `letters = ''.join(letters)` instead. "
   ]
  },
  {
   "cell_type": "markdown",
   "metadata": {
    "id": "uUmmrRMfSDks"
   },
   "source": [
    "## **Tuples are Comparable and Sortable** \n",
    "While we can sort the items _in a list_, we cannot sort _lists of lists_ because there is no way to compare one list with another. By the time you finished the comparison, one or the other of the lists may have changed, making the sort order invalid. We can, however, sort lists of tuples. The tuple-to-tuple comparison is [lexicographic](https://docs.python.org/3/reference/expressions.html#comparisons), as with strings. "
   ]
  },
  {
   "cell_type": "code",
   "execution_count": null,
   "metadata": {
    "id": "tONGbTaMSDks",
    "outputId": "be6cbbc2-5f67-47bf-8152-f38f084e986e"
   },
   "outputs": [
    {
     "data": {
      "text/plain": [
       "[('1', '2', '3', '4'), ('one', 'two', 'three', 'four')]"
      ]
     },
     "execution_count": 6,
     "metadata": {
      "tags": []
     },
     "output_type": "execute_result"
    }
   ],
   "source": [
    "number_tuples = [(\"one\", \"two\",\"three\",\"four\"), (\"1\",\"2\",\"3\",\"4\")]\n",
    "number_tuples.sort()\n",
    "number_tuples"
   ]
  },
  {
   "cell_type": "markdown",
   "metadata": {
    "id": "IMvKax9jSDkv"
   },
   "source": [
    "## **Tuples as Composite Keys**\n",
    "When creating databases, creating keys out of multiple columns is unavoidable though perhaps inconvenient. We can do the same thing with dictionary keys by converting each part of the key to a string and then concatenating them all together. Or, we could just use a tuple. Recall that a dictionary key can be any immutable type ... like a tuple."
   ]
  },
  {
   "cell_type": "code",
   "execution_count": null,
   "metadata": {
    "id": "Wy3-pu1fSDkw",
    "outputId": "79cd8ade-f851-4539-a9c9-4624d7589943"
   },
   "outputs": [
    {
     "data": {
      "text/plain": [
       "{(1, 'George', 'Washington'): '1732-02-22',\n",
       " (2, 'John', 'Adams'): '1735-10-30',\n",
       " (3, 'Thomas', 'Jefferson'): '1743-04-13'}"
      ]
     },
     "execution_count": 7,
     "metadata": {
      "tags": []
     },
     "output_type": "execute_result"
    }
   ],
   "source": [
    "birthdays = {(1, \"George\",\"Washington\"): '1732-02-22', (2, \"John\",\"Adams\"): '1735-10-30', (3, \"Thomas\", \"Jefferson\") : '1743-04-13' }\n",
    "birthdays"
   ]
  },
  {
   "cell_type": "markdown",
   "metadata": {
    "id": "cyDhQvzWSDky"
   },
   "source": [
    "## **No More (Accidentally) Infinite Loops**\n",
    "Recall the infinite loop problem in Lesson 8?\n",
    "```python\n",
    "\n",
    "# The Infinite Loop Code\n",
    "def add_0(lst):\n",
    "    lst += [0]\n",
    "\n",
    "x = [1,2,3,4]\n",
    "for i in x:\n",
    "    add_0(x)\n",
    "    print(x)\n",
    "```\n",
    "We fixed it by making a shallow copy of x in the header to the `for` loop. However, there was another, **even safer** way to do it: just use a tuple for the loop iterator."
   ]
  },
  {
   "cell_type": "code",
   "execution_count": null,
   "metadata": {
    "id": "mBBkjyE4SDkz",
    "outputId": "8e34fcf1-a34a-48ec-e0ea-15eb9b4f9943"
   },
   "outputs": [
    {
     "name": "stdout",
     "output_type": "stream",
     "text": [
      "[1, 2, 3, 4, 0]\n",
      "[1, 2, 3, 4, 0, 0]\n",
      "[1, 2, 3, 4, 0, 0, 0]\n",
      "[1, 2, 3, 4, 0, 0, 0, 0]\n"
     ]
    }
   ],
   "source": [
    "# The (No Longer) Infinite Loop Code\n",
    "def add_0(lst):\n",
    "    lst += [0]\n",
    "\n",
    "x = [1,2,3,4]\n",
    "for i in tuple(x):  # converting to a tuple is always safe\n",
    "    add_0(x)\n",
    "    print(x)"
   ]
  },
  {
   "cell_type": "markdown",
   "metadata": {
    "id": "VEG34ZVmSDk1"
   },
   "source": [
    "Because tuples are always immutable there is never any risk that a loop will accidentally modify its iterator. You will find lots and lots of tuples used this way in high security applications where cracking (i.e., black hat hacking) is a constant threat. "
   ]
  },
  {
   "cell_type": "markdown",
   "metadata": {
    "id": "V4yRLClOSDk2"
   },
   "source": [
    "### **Tuple Assignment**\n",
    "Tuples allow a unique sort of assignment statement where there are **multiple variables on the left side of the `=` sign:**"
   ]
  },
  {
   "cell_type": "code",
   "execution_count": null,
   "metadata": {
    "id": "6Tfak-x_SDk2",
    "outputId": "c0a15d28-eb8e-4b0a-9caf-911f087804b4"
   },
   "outputs": [
    {
     "name": "stdout",
     "output_type": "stream",
     "text": [
      "2 3 4\n",
      "3 3\n"
     ]
    }
   ],
   "source": [
    "x,y,z = [2,3,4]\n",
    "print(x,y,z)\n",
    "\n",
    "x += 1\n",
    "\n",
    "a,b = y,x\n",
    "print(a,b)"
   ]
  },
  {
   "cell_type": "markdown",
   "metadata": {
    "id": "gayeeuOXSDk5"
   },
   "source": [
    "The values on the right can be any kind of sequence, as long the number of items is the same as the tuple on the left.  "
   ]
  },
  {
   "cell_type": "markdown",
   "metadata": {
    "id": "DUK3juWGSDk5"
   },
   "source": [
    "This may seem like a useless feature until you use it to iterate over dictionary items:"
   ]
  },
  {
   "cell_type": "code",
   "execution_count": null,
   "metadata": {
    "id": "miJxALAvSDk6",
    "outputId": "6a140b8e-f497-47e9-9ed5-241c3909ee95"
   },
   "outputs": [
    {
     "name": "stdout",
     "output_type": "stream",
     "text": [
      "Washington 1732-02-22\n",
      "Jefferson 1743-04-13\n",
      "Lincoln 1809-02-12\n"
     ]
    }
   ],
   "source": [
    "birthdays = {'Washington':'1732-02-22','Jefferson':'1743-04-13','Lincoln':'1809-02-12'}\n",
    "\n",
    "# note: a tuple of variables to the left of the in\n",
    "for president, bday in birthdays.items(): \n",
    "    print(president,bday)"
   ]
  },
  {
   "cell_type": "markdown",
   "metadata": {
    "id": "EutsdZX_Q-dS"
   },
   "source": [
    "---\n",
    "## **Before you go ... Save your notebook to be sure it is up to date.**"
   ]
  },
  {
   "cell_type": "markdown",
   "metadata": {
    "id": "xlIOBUg3qWDx"
   },
   "source": [
    "---\n",
    "> ## Every Tee Shirt Has a Story\n",
    "> ABOUT FAIRFIELD FRIDAYS    \n",
    "> Of all the roles I've taken up at Fairfield, my favorite has been building up [Fairfield StartUp](https://faifield.edu/startup) from nothing to a signature program of the university. A close second, however, was my time as NCAA Faculty Athletics Representative in 2011-2017. The student-athletes showed me what hard work looked like! There were whole teams that both won their conference championships and held an average GPA above 3.6, sometimes for several years in a row. Amazing!\n",
    "> \n",
    "> One day a friend in the athletics department observed that I was not properly respecting the athletes I served by not wearing red on Fridays, as is tradition. Somebody then handed me this tee shirt, which I happily wore the rest of the day. I now have a closet full of red dress shirts and I try to remember to wear one of them every Friday during the school year.  \n",
    "\n",
    "![L10 Tee Front](../Photos/L10_TeeFront.jpeg)\n",
    "\n",
    "## Copyright &copy; 2020 Christopher Huntley. All rights reserved. "
   ]
  }
 ],
 "metadata": {
  "colab": {
   "collapsed_sections": [],
   "name": "L10_Tuples.ipynb",
   "provenance": []
  },
  "kernelspec": {
   "display_name": "Python 3 (ipykernel)",
   "language": "python",
   "name": "python3"
  },
  "language_info": {
   "codemirror_mode": {
    "name": "ipython",
    "version": 3
   },
   "file_extension": ".py",
   "mimetype": "text/x-python",
   "name": "python",
   "nbconvert_exporter": "python",
   "pygments_lexer": "ipython3",
   "version": "3.8.15"
  }
 },
 "nbformat": 4,
 "nbformat_minor": 4
}
