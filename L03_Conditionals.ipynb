{
 "cells": [
  {
   "cell_type": "markdown",
   "metadata": {
    "id": "0gWwZEgtPoi9"
   },
   "source": [
    "<img src=\"../img/Dolan.png\" width=\"180px\" align=\"right\">\n",
    "\n",
    "# **Lesson 3: Conditional Execution**\n",
    "_The many forms of \"it depends\"_"
   ]
  },
  {
   "cell_type": "markdown",
   "metadata": {
    "id": "NGO2G6q3Poi-"
   },
   "source": [
    "## **Learning Objectives**\n",
    "\n",
    "## Theory / Be able to explain ...\n",
    "- The four elements of programming logic that underlie every computer language\n",
    "- How boolean expressions work in various ways\n",
    "- The various forms of `if` statements\n",
    "- Defensive programming to head off crashes and other bugs\n",
    "\n",
    "## Skills / Know how to  ...\n",
    "- Determine whether an expression is True or False\n",
    "- Use `and`, `or`, and `not` to build complex boolean expressions\n",
    "- Use `if` statements to implement conditional code\n",
    "- Use guards and exception handling to bulletproof code\n",
    "\n",
    "---"
   ]
  },
  {
   "cell_type": "markdown",
   "metadata": {
    "id": "DIEWv-YzPoi_"
   },
   "source": [
    "## **Structured Programming**\n",
    "\n",
    "> “Simplicity is a great virtue but it requires hard work to achieve it and education to appreciate it. And to make matters worse: complexity sells better.” -- Edsger Dijkstra\n",
    "\n",
    "Back in the computer science dinosaur times when everybody wore white coats there were lesser dinosaurs and then there were giants that made the earth shake as they went about their daily business. Computer scientists like Alan Turing, John von Neumann, Grace Hopper, Doug Englebart, Alan Kay, Donald Knuth, Leonard Kleinrock, Seymour Cray, and CJ Date were often thinking decades ahead of anybody else. Consider, for example, the _Mother of All Demos_ (read about on [Wikipedia](https://en.wikipedia.org/wiki/The_Mother_of_All_Demos), watch on [Youtube](https://www.youtube.com/watch?v=JQ8ZiT1sn88)), in which Doug Englebart demonstrated a graphical user interface (with windows, a mouse, and hyperlinks), video conferencing over what would later be called the Internet, Google Doc-style collaborative word processing, and Git-like revision control _**in 1968**_. They may been dinosaurs but they certainly weren't dumb.\n",
    "\n",
    "About the same time as Englebart's earthquake of a demo, Edsger Dijkstra developed (and proved!) the theory of Structured Programming that underlies **every** general purpose programming language, then and now. Structured programming is about programming logic, of which there are 4 fundamental elements:\n",
    "\n",
    "- **blocks** of statements to be executed one after another\n",
    "- **conditionals** that select one block of statements over others (based on selection criteria)\n",
    "- **loops** that repeat a block of statements some number of times (subject to stopping criterion)\n",
    "- **subroutines** that allow us to parameterize (template) and reuse (call) logical blocks whenever we need it\n",
    "\n",
    "We introduced the concept of blocks in Lesson 2. In this lesson we will cover conditionals before moving on to functions (subroutines) in Lesson 4 and iteration (loops) in Lesson 5. "
   ]
  },
  {
   "cell_type": "markdown",
   "metadata": {},
   "source": [
    "---\n",
    "## **About Blocks ... again**\n",
    "Blocks are fundamental to programming logic. A block is a sequence of statements to be executed one after another. In Python that means **every statement in a block is always at the same level of indentation**. If we can't take a ruler to the left side of the screen and see each statement lining up with the ruler edge then the statements are not a block. "
   ]
  },
  {
   "cell_type": "code",
   "execution_count": 2,
   "metadata": {},
   "outputs": [],
   "source": [
    "# this is a block\n",
    "x=3\n",
    "y=4\n",
    "x=5"
   ]
  },
  {
   "cell_type": "code",
   "execution_count": 4,
   "metadata": {},
   "outputs": [
    {
     "ename": "IndentationError",
     "evalue": "unexpected indent (2311299103.py, line 3)",
     "output_type": "error",
     "traceback": [
      "\u001b[0;36m  Input \u001b[0;32mIn [4]\u001b[0;36m\u001b[0m\n\u001b[0;31m    y=4\u001b[0m\n\u001b[0m    ^\u001b[0m\n\u001b[0;31mIndentationError\u001b[0m\u001b[0;31m:\u001b[0m unexpected indent\n"
     ]
    }
   ],
   "source": [
    "# however this is not a block and will trigger an error\n",
    "x=3\n",
    "    y=4\n",
    "x=5"
   ]
  },
  {
   "cell_type": "markdown",
   "metadata": {},
   "source": [
    "You may be asking yourself why Python cares about indentation here. We'll come to that in a minute.\n",
    "\n",
    "We can nest block inside of blocks provided that Python can tell why we need to do so. For example ..."
   ]
  },
  {
   "cell_type": "code",
   "execution_count": null,
   "metadata": {},
   "outputs": [],
   "source": [
    "# this code shows _two_ blocks:\n",
    "#   - the statements on the first two lines\n",
    "#   - the print() call is a block nested inside the if statement\n",
    "# We can tell they are different blocks because of the indentation\n",
    "x=1\n",
    "if x==2:\n",
    "    print(\"X is 2\")"
   ]
  },
  {
   "cell_type": "markdown",
   "metadata": {},
   "source": [
    "This leaves us with an answer for why Python cares about indentation. Each time the indentation level changes is the start of a new block. Further, since Python needs to know _why_ we need a new block in order to execute it properly, it throws an error whenever the indentation does not make sense. "
   ]
  },
  {
   "cell_type": "markdown",
   "metadata": {
    "id": "OGOYLdioPojA"
   },
   "source": [
    "----\n",
    "## **Boolean Expressions**\n",
    "Conditional execution allows a block of code to run only when **given conditions** are true. We'll start with that last part, determining what is true or false.\n",
    "\n",
    "A **boolean expression** always evaluates to either `True` or `False`. The values `True` and `False` comprise their own special data type called `bool`:"
   ]
  },
  {
   "cell_type": "code",
   "execution_count": null,
   "metadata": {
    "colab": {
     "base_uri": "https://localhost:8080/"
    },
    "executionInfo": {
     "elapsed": 132,
     "status": "ok",
     "timestamp": 1626218876027,
     "user": {
      "displayName": "Christopher Huntley",
      "photoUrl": "",
      "userId": "11069151036176747256"
     },
     "user_tz": 240
    },
    "id": "id8SsN-IPojA",
    "outputId": "355bfa86-2d4d-4c75-8371-9b4d31b6db76"
   },
   "outputs": [
    {
     "data": {
      "text/plain": [
       "bool"
      ]
     },
     "execution_count": 4,
     "metadata": {
      "tags": []
     },
     "output_type": "execute_result"
    }
   ],
   "source": [
    "type(True)"
   ]
  },
  {
   "cell_type": "markdown",
   "metadata": {
    "id": "V1Hg-dXoPojF"
   },
   "source": [
    "Notice that there are no quotes used. They are not string literals (\"True\" and \"False\") or numbers (1 and 0). They are just `True` and `False`.\n",
    "\n",
    "Boolean expressions commonly come about through comparisons:"
   ]
  },
  {
   "cell_type": "code",
   "execution_count": null,
   "metadata": {
    "colab": {
     "base_uri": "https://localhost:8080/"
    },
    "executionInfo": {
     "elapsed": 122,
     "status": "ok",
     "timestamp": 1626218878607,
     "user": {
      "displayName": "Christopher Huntley",
      "photoUrl": "",
      "userId": "11069151036176747256"
     },
     "user_tz": 240
    },
    "id": "tzh4Ik--PojF",
    "outputId": "980f1907-f34c-4ea9-a86a-e2103447c3b5"
   },
   "outputs": [
    {
     "data": {
      "text/plain": [
       "True"
      ]
     },
     "execution_count": 5,
     "metadata": {
      "tags": []
     },
     "output_type": "execute_result"
    }
   ],
   "source": [
    "2 > 1"
   ]
  },
  {
   "cell_type": "code",
   "execution_count": null,
   "metadata": {
    "colab": {
     "base_uri": "https://localhost:8080/"
    },
    "executionInfo": {
     "elapsed": 114,
     "status": "ok",
     "timestamp": 1626218879617,
     "user": {
      "displayName": "Christopher Huntley",
      "photoUrl": "",
      "userId": "11069151036176747256"
     },
     "user_tz": 240
    },
    "id": "Fo0xQ_caPojI",
    "outputId": "c45d1858-ceef-49cf-c096-9895a09feb8c"
   },
   "outputs": [
    {
     "data": {
      "text/plain": [
       "False"
      ]
     },
     "execution_count": 6,
     "metadata": {
      "tags": []
     },
     "output_type": "execute_result"
    }
   ],
   "source": [
    "2 < 1"
   ]
  },
  {
   "cell_type": "code",
   "execution_count": null,
   "metadata": {
    "colab": {
     "base_uri": "https://localhost:8080/"
    },
    "executionInfo": {
     "elapsed": 111,
     "status": "ok",
     "timestamp": 1626218880704,
     "user": {
      "displayName": "Christopher Huntley",
      "photoUrl": "",
      "userId": "11069151036176747256"
     },
     "user_tz": 240
    },
    "id": "IDdFOKqkPojL",
    "outputId": "fde659d0-ecb6-4011-bd67-b6fb5e96f5e0"
   },
   "outputs": [
    {
     "data": {
      "text/plain": [
       "bool"
      ]
     },
     "execution_count": 7,
     "metadata": {
      "tags": []
     },
     "output_type": "execute_result"
    }
   ],
   "source": [
    "type(2>1)"
   ]
  },
  {
   "cell_type": "markdown",
   "metadata": {
    "id": "ob_MfCk2PojN"
   },
   "source": [
    "Python provides a full suite of **comparison operators**:"
   ]
  },
  {
   "cell_type": "code",
   "execution_count": null,
   "metadata": {
    "colab": {
     "base_uri": "https://localhost:8080/"
    },
    "executionInfo": {
     "elapsed": 106,
     "status": "ok",
     "timestamp": 1626218882878,
     "user": {
      "displayName": "Christopher Huntley",
      "photoUrl": "",
      "userId": "11069151036176747256"
     },
     "user_tz": 240
    },
    "id": "FmEKWi3bPojO",
    "outputId": "aebebfd2-422e-46f5-8376-8163e8899ec8"
   },
   "outputs": [
    {
     "name": "stdout",
     "output_type": "stream",
     "text": [
      "Is 1 equal to 2?\t\t\t False\n",
      "Is 1 not equal to 2?\t\t\t True\n",
      "Is 1 greater than  2?\t\t\t False\n",
      "Is 1 less than 2?\t\t\t True\n",
      "Is 1 greater than or equal to 2?\t False\n",
      "Is 1 less than or equal to 2?\t\t True\n",
      "Is 1 identical to 2?\t\t\t False\n",
      "Is 1 not identical to 2?\t\t True\n"
     ]
    }
   ],
   "source": [
    "print(\"Is 1 equal to 2?\\t\\t\\t\", 1 == 2)\n",
    "print(\"Is 1 not equal to 2?\\t\\t\\t\",1 != 2)\n",
    "print(\"Is 1 greater than  2?\\t\\t\\t\",1 > 2)\n",
    "print(\"Is 1 less than 2?\\t\\t\\t\",1 < 2)\n",
    "print(\"Is 1 greater than or equal to 2?\\t\",1 >= 2)\n",
    "print(\"Is 1 less than or equal to 2?\\t\\t\",1 <= 2)\n",
    "print(\"Is 1 identical to 2?\\t\\t\\t\",1 is 2)\n",
    "print(\"Is 1 not identical to 2?\\t\\t\",1 is not 2)"
   ]
  },
  {
   "cell_type": "markdown",
   "metadata": {
    "id": "JW7l7lOyPojQ"
   },
   "source": [
    "It's a common newbie mistake to confuse `==` (on the first line) with `=`. The expression `1 == 2` tests equivalence of `1` and `2`, while the statement `1 = 2` tries (and fails) to make `1` equal `2`. "
   ]
  },
  {
   "cell_type": "code",
   "execution_count": null,
   "metadata": {
    "colab": {
     "base_uri": "https://localhost:8080/",
     "height": 129
    },
    "executionInfo": {
     "elapsed": 108,
     "status": "error",
     "timestamp": 1626218885210,
     "user": {
      "displayName": "Christopher Huntley",
      "photoUrl": "",
      "userId": "11069151036176747256"
     },
     "user_tz": 240
    },
    "id": "P6diFswFPojR",
    "outputId": "7c1ad16e-5603-4ff9-bc02-139a1ec2b660"
   },
   "outputs": [
    {
     "ename": "SyntaxError",
     "evalue": "ignored",
     "output_type": "error",
     "traceback": [
      "\u001b[0;36m  File \u001b[0;32m\"<ipython-input-9-c0ab9e3898ea>\"\u001b[0;36m, line \u001b[0;32m1\u001b[0m\n\u001b[0;31m    1 = 2\u001b[0m\n\u001b[0m         ^\u001b[0m\n\u001b[0;31mSyntaxError\u001b[0m\u001b[0;31m:\u001b[0m can't assign to literal\n"
     ]
    }
   ],
   "source": [
    "1 = 2"
   ]
  },
  {
   "cell_type": "markdown",
   "metadata": {
    "id": "14GRG9hlPojU"
   },
   "source": [
    "The next few operators are pretty much what you'd expect until we get to `is` and `is not`. The `is` operator is asking if the entity on the left is exactly the **same entity** as the one on the right. For numbers and strings this is the same as `==`. For lists, dictionaries, and a few other data types we'll learn about later in this course, this won't _always_ be true. (Side note: you may be wondering about the `\\t` codes mixed in with the print statements. Those are tab characters. We'll come back to them again in Lesson 6.)\n",
    "\n",
    "**Comparisons are not the only kind of boolean expression,** of course. Just about any expression can evaluate to `True` or `False`. We can test that out using the `bool` conversion function. \n",
    "\n",
    "**In practice only [a few specific things](https://docs.python.org/3.3/library/stdtypes.html?highlight=frozenset#truth-value-testing) evaluate to `False`:**"
   ]
  },
  {
   "cell_type": "code",
   "execution_count": null,
   "metadata": {
    "colab": {
     "base_uri": "https://localhost:8080/"
    },
    "executionInfo": {
     "elapsed": 98,
     "status": "ok",
     "timestamp": 1626218887880,
     "user": {
      "displayName": "Christopher Huntley",
      "photoUrl": "",
      "userId": "11069151036176747256"
     },
     "user_tz": 240
    },
    "id": "tC03CEb5PojU",
    "outputId": "b4ef49c0-996a-402f-f1f8-204ee40ae82b"
   },
   "outputs": [
    {
     "data": {
      "text/plain": [
       "False"
      ]
     },
     "execution_count": 10,
     "metadata": {
      "tags": []
     },
     "output_type": "execute_result"
    }
   ],
   "source": [
    "bool(False) # duh"
   ]
  },
  {
   "cell_type": "code",
   "execution_count": null,
   "metadata": {
    "colab": {
     "base_uri": "https://localhost:8080/"
    },
    "executionInfo": {
     "elapsed": 102,
     "status": "ok",
     "timestamp": 1626218890662,
     "user": {
      "displayName": "Christopher Huntley",
      "photoUrl": "",
      "userId": "11069151036176747256"
     },
     "user_tz": 240
    },
    "id": "2IDcsOmTPojX",
    "outputId": "8e0839f3-914d-4390-db8f-5dad4a9aca69"
   },
   "outputs": [
    {
     "data": {
      "text/plain": [
       "False"
      ]
     },
     "execution_count": 11,
     "metadata": {
      "tags": []
     },
     "output_type": "execute_result"
    }
   ],
   "source": [
    "bool(None) # None or nothing"
   ]
  },
  {
   "cell_type": "code",
   "execution_count": null,
   "metadata": {
    "colab": {
     "base_uri": "https://localhost:8080/"
    },
    "executionInfo": {
     "elapsed": 148,
     "status": "ok",
     "timestamp": 1626218891842,
     "user": {
      "displayName": "Christopher Huntley",
      "photoUrl": "",
      "userId": "11069151036176747256"
     },
     "user_tz": 240
    },
    "id": "vZ8i0jwVPojZ",
    "outputId": "53be748b-ec17-4689-99c7-3f4feca3cc61"
   },
   "outputs": [
    {
     "data": {
      "text/plain": [
       "False"
      ]
     },
     "execution_count": 12,
     "metadata": {
      "tags": []
     },
     "output_type": "execute_result"
    }
   ],
   "source": [
    "bool(0) # the number 0 or 0.0 or equivalent"
   ]
  },
  {
   "cell_type": "code",
   "execution_count": null,
   "metadata": {
    "colab": {
     "base_uri": "https://localhost:8080/"
    },
    "executionInfo": {
     "elapsed": 95,
     "status": "ok",
     "timestamp": 1626218893625,
     "user": {
      "displayName": "Christopher Huntley",
      "photoUrl": "",
      "userId": "11069151036176747256"
     },
     "user_tz": 240
    },
    "id": "PBkRrsdLPoje",
    "outputId": "278ff96f-371b-4e02-e15e-792bbfb666ba"
   },
   "outputs": [
    {
     "data": {
      "text/plain": [
       "False"
      ]
     },
     "execution_count": 13,
     "metadata": {
      "tags": []
     },
     "output_type": "execute_result"
    }
   ],
   "source": [
    "bool([]) # empty lists, dictionaries, or tuples"
   ]
  },
  {
   "cell_type": "code",
   "execution_count": null,
   "metadata": {
    "colab": {
     "base_uri": "https://localhost:8080/"
    },
    "executionInfo": {
     "elapsed": 126,
     "status": "ok",
     "timestamp": 1626218895022,
     "user": {
      "displayName": "Christopher Huntley",
      "photoUrl": "",
      "userId": "11069151036176747256"
     },
     "user_tz": 240
    },
    "id": "8WFxZlLyPojg",
    "outputId": "a418ce45-43a4-4260-c1d6-f9d6e992372a"
   },
   "outputs": [
    {
     "data": {
      "text/plain": [
       "False"
      ]
     },
     "execution_count": 14,
     "metadata": {
      "tags": []
     },
     "output_type": "execute_result"
    }
   ],
   "source": [
    "bool(\"\") # empty strings like \"\" and '' and ''''''"
   ]
  },
  {
   "cell_type": "markdown",
   "metadata": {
    "id": "lqYxU8r_Poji"
   },
   "source": [
    "**Anything else evaluates to `True`:**"
   ]
  },
  {
   "cell_type": "code",
   "execution_count": null,
   "metadata": {
    "colab": {
     "base_uri": "https://localhost:8080/"
    },
    "executionInfo": {
     "elapsed": 108,
     "status": "ok",
     "timestamp": 1626218897695,
     "user": {
      "displayName": "Christopher Huntley",
      "photoUrl": "",
      "userId": "11069151036176747256"
     },
     "user_tz": 240
    },
    "id": "ou7emXufPojj",
    "outputId": "8360ed38-0059-4b8e-cef6-e50093393efe"
   },
   "outputs": [
    {
     "data": {
      "text/plain": [
       "True"
      ]
     },
     "execution_count": 15,
     "metadata": {
      "tags": []
     },
     "output_type": "execute_result"
    }
   ],
   "source": [
    "bool(10) # any number that isn't 0"
   ]
  },
  {
   "cell_type": "code",
   "execution_count": null,
   "metadata": {
    "colab": {
     "base_uri": "https://localhost:8080/"
    },
    "executionInfo": {
     "elapsed": 109,
     "status": "ok",
     "timestamp": 1626218898456,
     "user": {
      "displayName": "Christopher Huntley",
      "photoUrl": "",
      "userId": "11069151036176747256"
     },
     "user_tz": 240
    },
    "id": "eHy9H4pgPojl",
    "outputId": "bdcc8254-56f7-41db-dc01-8806d3a1eb61"
   },
   "outputs": [
    {
     "data": {
      "text/plain": [
       "True"
      ]
     },
     "execution_count": 16,
     "metadata": {
      "tags": []
     },
     "output_type": "execute_result"
    }
   ],
   "source": [
    "bool([\"a\",\"b\",\"c\"]) # a non-empty list, dictionary, or tuple"
   ]
  },
  {
   "cell_type": "code",
   "execution_count": null,
   "metadata": {
    "colab": {
     "base_uri": "https://localhost:8080/"
    },
    "executionInfo": {
     "elapsed": 102,
     "status": "ok",
     "timestamp": 1626218899241,
     "user": {
      "displayName": "Christopher Huntley",
      "photoUrl": "",
      "userId": "11069151036176747256"
     },
     "user_tz": 240
    },
    "id": "txJiWOymPojo",
    "outputId": "56f625dd-7cc2-4c3a-94e4-f8924bae4033"
   },
   "outputs": [
    {
     "data": {
      "text/plain": [
       "True"
      ]
     },
     "execution_count": 17,
     "metadata": {
      "tags": []
     },
     "output_type": "execute_result"
    }
   ],
   "source": [
    "bool(\"False\") # a non-empty string "
   ]
  },
  {
   "cell_type": "markdown",
   "metadata": {
    "id": "BjAQb1FnPojq"
   },
   "source": [
    "#### **Boolean Assignment**\n",
    "Since `True` and `False` are just values, we can use them in assignment statements like any other expression:"
   ]
  },
  {
   "cell_type": "code",
   "execution_count": null,
   "metadata": {
    "colab": {
     "base_uri": "https://localhost:8080/"
    },
    "executionInfo": {
     "elapsed": 151,
     "status": "ok",
     "timestamp": 1626218901637,
     "user": {
      "displayName": "Christopher Huntley",
      "photoUrl": "",
      "userId": "11069151036176747256"
     },
     "user_tz": 240
    },
    "id": "jPAAaifDPojr",
    "outputId": "35672357-76ff-45dd-c8c1-f54013b8a38c"
   },
   "outputs": [
    {
     "name": "stdout",
     "output_type": "stream",
     "text": [
      "True\n",
      "False\n"
     ]
    }
   ],
   "source": [
    "x = (3 < 5)\n",
    "print(x)\n",
    "\n",
    "x = (3 < 1)\n",
    "print(x)"
   ]
  },
  {
   "cell_type": "markdown",
   "metadata": {
    "id": "S5upLVosPojt"
   },
   "source": [
    "### **Logical Operators: Conjunction, Disjunction, and Negation**\n",
    "There are three logical operators: conjunction (`and`), disjunction (`or`), and negation (`not`). We use them to build more complex boolean expressions from simpler ones.  "
   ]
  },
  {
   "cell_type": "code",
   "execution_count": null,
   "metadata": {
    "colab": {
     "base_uri": "https://localhost:8080/"
    },
    "executionInfo": {
     "elapsed": 127,
     "status": "ok",
     "timestamp": 1626218905358,
     "user": {
      "displayName": "Christopher Huntley",
      "photoUrl": "",
      "userId": "11069151036176747256"
     },
     "user_tz": 240
    },
    "id": "XJTrWwZWPoju",
    "outputId": "25626053-a91e-427c-a1a4-030265b88112"
   },
   "outputs": [
    {
     "data": {
      "text/plain": [
       "True"
      ]
     },
     "execution_count": 19,
     "metadata": {
      "tags": []
     },
     "output_type": "execute_result"
    }
   ],
   "source": [
    "True or False"
   ]
  },
  {
   "cell_type": "code",
   "execution_count": null,
   "metadata": {
    "colab": {
     "base_uri": "https://localhost:8080/"
    },
    "executionInfo": {
     "elapsed": 125,
     "status": "ok",
     "timestamp": 1626218906400,
     "user": {
      "displayName": "Christopher Huntley",
      "photoUrl": "",
      "userId": "11069151036176747256"
     },
     "user_tz": 240
    },
    "id": "7VHsBi38Pojx",
    "outputId": "e6e074c4-b8ed-4b63-9279-3e7de8d8ac38"
   },
   "outputs": [
    {
     "data": {
      "text/plain": [
       "False"
      ]
     },
     "execution_count": 20,
     "metadata": {
      "tags": []
     },
     "output_type": "execute_result"
    }
   ],
   "source": [
    "True and False"
   ]
  },
  {
   "cell_type": "code",
   "execution_count": null,
   "metadata": {
    "colab": {
     "base_uri": "https://localhost:8080/"
    },
    "executionInfo": {
     "elapsed": 100,
     "status": "ok",
     "timestamp": 1626218907215,
     "user": {
      "displayName": "Christopher Huntley",
      "photoUrl": "",
      "userId": "11069151036176747256"
     },
     "user_tz": 240
    },
    "id": "S06jyECBPojz",
    "outputId": "3bba2a4a-6ebf-4753-86bf-dfe076a9ae48"
   },
   "outputs": [
    {
     "data": {
      "text/plain": [
       "False"
      ]
     },
     "execution_count": 21,
     "metadata": {
      "tags": []
     },
     "output_type": "execute_result"
    }
   ],
   "source": [
    "not True"
   ]
  },
  {
   "cell_type": "markdown",
   "metadata": {
    "id": "dOS1hLbRPoj1"
   },
   "source": [
    "We can visualize the possibilities with a _truth table_ like the one below, that evaluates boolean expressions involving variables `x` and `y`. The first row of the table shows the values of the expressions `(x and y)`, `(x or y)` and `not x` when `x == True` and `y == True`. The second row show the values when `x == True` and `y == False`. The third and fourth rows handle the other possibilities. \n",
    "\n",
    "| x     | y     | (x and y) | (x or y) | not x | \n",
    "| :----:|:-----:|:-------:| :----: | :---: |\n",
    "| True  | True  | True    | True   | False |\n",
    "| True  | False | False   | True   | False |\n",
    "| False | True  | False   | True   | True  |\n",
    "| False | False | False   | False  | True  |\n",
    "\n",
    "Truth tables allow us to look up the values of the expressions for whatever `x` and `y` we like. For example ... "
   ]
  },
  {
   "cell_type": "code",
   "execution_count": null,
   "metadata": {
    "colab": {
     "base_uri": "https://localhost:8080/"
    },
    "executionInfo": {
     "elapsed": 129,
     "status": "ok",
     "timestamp": 1626219299274,
     "user": {
      "displayName": "Christopher Huntley",
      "photoUrl": "",
      "userId": "11069151036176747256"
     },
     "user_tz": 240
    },
    "id": "IlcXHAqBNJiV",
    "outputId": "f01897e7-8018-442e-b3b5-342407f2fca1"
   },
   "outputs": [
    {
     "name": "stdout",
     "output_type": "stream",
     "text": [
      "(x and y) is  False\n",
      "(x or y) is True\n",
      "(not x) is  False\n"
     ]
    }
   ],
   "source": [
    "x = True\n",
    "y = False\n",
    "\n",
    "print(\"(x and y) is \", x and y)\n",
    "print(\"(x or y) is\", x or y)\n",
    "print(\"(not x) is \", not x)"
   ]
  },
  {
   "cell_type": "markdown",
   "metadata": {
    "id": "76fADN1uNE9-"
   },
   "source": [
    "which is just as the truth table predicted we'd get. \n",
    "\n",
    "We can, of course, combine the `and`, `or`, and `not` operators to represent more complex logic. Here are some more possibilities:\n",
    "\n",
    "| x     | y     |  (not x and y) | (not x and not y) | (not x or y) |  (not x or not y) | not (not x or not y)|\n",
    "|:-----:|:-----:| :---------:  | :------------:  | :-------:  |  :-----------:  | :-----------------: |\n",
    "| True  | True  |  False       |  False          | True       |  False          | True                |\n",
    "| True  | False |  False       |  False          | False      |  True           | False               |\n",
    "| False | True  |  True        |  False          | True       |  True           | False               |\n",
    "| False | False |  False       |  True           | False      |  True           | False               |\n",
    "\n",
    "**Heads Up:** Please study these truth tables carefully before moving on. Make 100% sure you know why each expression above is true or false. \n",
    "\n",
    "> **A Curious Aside**  \n",
    ">Some of you may have noticed that **(x and y)** from the first table is always equal to **not (not x or not y)** in the second table. It turns out that **we don't actually need the `or` operator.** We can model any boolean logic we like with just `not` and `and`. In fact, we can go a step further and combine `not` and `and` into a single universal operator that electrical engineers call [NAND](https://www.electronics-tutorials.ws/logic/logic_5.html). Without the NAND operator it would be _a lot_ harder to create the tiny microchips that you find in basically everything today.   \n",
    "\n",
    "#### **Short-Circuiting**\n",
    "No matter how long or complex a boolean expression is, Python will always do its best to evaluate it as efficiently as it can. That means using a couple of useful **short-circuiting** rules:\n",
    "\n",
    "- If **_x_** is true then **(_x_ or _y_)** is true regardless of **_y_** \n",
    "- If **_x_** is false then **(_x_ and _y_)** is false regardless of **_y_**\n",
    "\n",
    "In either case Python does not bother to evaluate **_y_**, which can save a lot of time if **_y_** is a complex expression that takes a long time to evaluate. We'll come back to this idea when discussing using **guards** to prevent logic and runtime errors. \n",
    "\n",
    "#### **Truthiness**\n",
    "As we have seen, we can use the `bool()` function to test whether a given value evaluates to `True` or `False`. We say that an expression is 'truthy' if it evaluates to `True`. "
   ]
  },
  {
   "cell_type": "markdown",
   "metadata": {
    "id": "XzEZg5EiPoj1"
   },
   "source": [
    "#### **`bool` is Usually Optional**\n",
    "In any statement where Python expects to see a boolean expression, it will call `bool` for you if needed. So, strictly speaking, `and` and `or` and `not` don't actually need boolean operands. It makes for some getting used to but the following are all 100% legal Python: "
   ]
  },
  {
   "cell_type": "code",
   "execution_count": null,
   "metadata": {
    "colab": {
     "base_uri": "https://localhost:8080/"
    },
    "executionInfo": {
     "elapsed": 137,
     "status": "ok",
     "timestamp": 1626219416177,
     "user": {
      "displayName": "Christopher Huntley",
      "photoUrl": "",
      "userId": "11069151036176747256"
     },
     "user_tz": 240
    },
    "id": "FyflVbl2Poj2",
    "outputId": "33702f36-739b-4e79-c2d4-10f1fc02d692"
   },
   "outputs": [
    {
     "data": {
      "text/plain": [
       "True"
      ]
     },
     "execution_count": 25,
     "metadata": {
      "tags": []
     },
     "output_type": "execute_result"
    }
   ],
   "source": [
    "15 and True"
   ]
  },
  {
   "cell_type": "code",
   "execution_count": null,
   "metadata": {
    "colab": {
     "base_uri": "https://localhost:8080/"
    },
    "executionInfo": {
     "elapsed": 130,
     "status": "ok",
     "timestamp": 1626219417686,
     "user": {
      "displayName": "Christopher Huntley",
      "photoUrl": "",
      "userId": "11069151036176747256"
     },
     "user_tz": 240
    },
    "id": "aKRZKrdUPoj4",
    "outputId": "9e7dfd99-5085-45ad-96a9-621536b942f8"
   },
   "outputs": [
    {
     "data": {
      "text/plain": [
       "0"
      ]
     },
     "execution_count": 26,
     "metadata": {
      "tags": []
     },
     "output_type": "execute_result"
    }
   ],
   "source": [
    "15 and 0"
   ]
  },
  {
   "cell_type": "code",
   "execution_count": null,
   "metadata": {
    "colab": {
     "base_uri": "https://localhost:8080/"
    },
    "executionInfo": {
     "elapsed": 131,
     "status": "ok",
     "timestamp": 1626219419686,
     "user": {
      "displayName": "Christopher Huntley",
      "photoUrl": "",
      "userId": "11069151036176747256"
     },
     "user_tz": 240
    },
    "id": "pv2lWy9APoj6",
    "outputId": "95497e09-ca7d-4384-c858-9235ea7a9169"
   },
   "outputs": [
    {
     "data": {
      "text/plain": [
       "15"
      ]
     },
     "execution_count": 27,
     "metadata": {
      "tags": []
     },
     "output_type": "execute_result"
    }
   ],
   "source": [
    "15 or 0"
   ]
  },
  {
   "cell_type": "code",
   "execution_count": null,
   "metadata": {
    "colab": {
     "base_uri": "https://localhost:8080/"
    },
    "executionInfo": {
     "elapsed": 130,
     "status": "ok",
     "timestamp": 1626219421471,
     "user": {
      "displayName": "Christopher Huntley",
      "photoUrl": "",
      "userId": "11069151036176747256"
     },
     "user_tz": 240
    },
    "id": "0cZky5SgPoj8",
    "outputId": "59c24d44-70c0-4695-f26b-ae2e5e38bcf3"
   },
   "outputs": [
    {
     "data": {
      "text/plain": [
       "False"
      ]
     },
     "execution_count": 28,
     "metadata": {
      "tags": []
     },
     "output_type": "execute_result"
    }
   ],
   "source": [
    "(True and 15) == (15 and True)"
   ]
  },
  {
   "cell_type": "code",
   "execution_count": null,
   "metadata": {
    "colab": {
     "base_uri": "https://localhost:8080/"
    },
    "executionInfo": {
     "elapsed": 128,
     "status": "ok",
     "timestamp": 1626219423421,
     "user": {
      "displayName": "Christopher Huntley",
      "photoUrl": "",
      "userId": "11069151036176747256"
     },
     "user_tz": 240
    },
    "id": "VsDi3944Poj-",
    "outputId": "f09d5df4-c628-4a02-da37-095bdf9163d4"
   },
   "outputs": [
    {
     "data": {
      "text/plain": [
       "False"
      ]
     },
     "execution_count": 29,
     "metadata": {
      "tags": []
     },
     "output_type": "execute_result"
    }
   ],
   "source": [
    "(True or 15) == (15 or True)"
   ]
  },
  {
   "cell_type": "code",
   "execution_count": null,
   "metadata": {
    "colab": {
     "base_uri": "https://localhost:8080/"
    },
    "executionInfo": {
     "elapsed": 111,
     "status": "ok",
     "timestamp": 1626219425368,
     "user": {
      "displayName": "Christopher Huntley",
      "photoUrl": "",
      "userId": "11069151036176747256"
     },
     "user_tz": 240
    },
    "id": "1Cg9FdMwPokB",
    "outputId": "78f3edf2-3f71-4401-f374-a2d7377947ea"
   },
   "outputs": [
    {
     "data": {
      "text/plain": [
       "False"
      ]
     },
     "execution_count": 30,
     "metadata": {
      "tags": []
     },
     "output_type": "execute_result"
    }
   ],
   "source": [
    "not 15"
   ]
  },
  {
   "cell_type": "code",
   "execution_count": null,
   "metadata": {
    "colab": {
     "base_uri": "https://localhost:8080/"
    },
    "executionInfo": {
     "elapsed": 127,
     "status": "ok",
     "timestamp": 1626219426831,
     "user": {
      "displayName": "Christopher Huntley",
      "photoUrl": "",
      "userId": "11069151036176747256"
     },
     "user_tz": 240
    },
    "id": "DvNIhwpKPokD",
    "outputId": "1ed18881-d6e3-4c0c-9203-5dc298c588d2"
   },
   "outputs": [
    {
     "data": {
      "text/plain": [
       "True"
      ]
     },
     "execution_count": 31,
     "metadata": {
      "tags": []
     },
     "output_type": "execute_result"
    }
   ],
   "source": [
    "not 0"
   ]
  },
  {
   "cell_type": "code",
   "execution_count": null,
   "metadata": {
    "colab": {
     "base_uri": "https://localhost:8080/"
    },
    "executionInfo": {
     "elapsed": 3,
     "status": "ok",
     "timestamp": 1626219427910,
     "user": {
      "displayName": "Christopher Huntley",
      "photoUrl": "",
      "userId": "11069151036176747256"
     },
     "user_tz": 240
    },
    "id": "TA2iBvbJPokF",
    "outputId": "8a5613e5-6291-478e-b9fc-4d31e9231af7"
   },
   "outputs": [
    {
     "data": {
      "text/plain": [
       "True"
      ]
     },
     "execution_count": 32,
     "metadata": {
      "tags": []
     },
     "output_type": "execute_result"
    }
   ],
   "source": [
    "'False' and True or False"
   ]
  },
  {
   "cell_type": "markdown",
   "metadata": {
    "id": "fVG-Mp9OPokG"
   },
   "source": [
    "You might want to puzzle through these on your own. Together they tell us a lot about how `and`, `or`, and `not` are really implemented by Python.  "
   ]
  },
  {
   "cell_type": "markdown",
   "metadata": {
    "id": "jT6BjCOBPokH"
   },
   "source": [
    "### **Pulse Check ...**\n",
    "For each of the expressions below, predict whether it is equivalent to `True` or `False`. Then click the ... under each prediction and run the code  to see if you got it right."
   ]
  },
  {
   "cell_type": "markdown",
   "metadata": {
    "id": "hzHo3ecdPokH"
   },
   "source": [
    "**(2 < 3) and (3 < 6)**"
   ]
  },
  {
   "cell_type": "markdown",
   "metadata": {
    "id": "E9E9d-VHPokH"
   },
   "source": [
    "YOUR PREDICTION"
   ]
  },
  {
   "cell_type": "code",
   "execution_count": null,
   "metadata": {
    "id": "Gm4iylsYPokI",
    "jupyter": {
     "source_hidden": true
    },
    "tags": []
   },
   "outputs": [],
   "source": [
    "\n",
    "(2 < 3) and (3 < 6)"
   ]
  },
  {
   "cell_type": "markdown",
   "metadata": {
    "id": "6LbSINwhPokK"
   },
   "source": [
    "**(2 < 3) == (3 < 6)**"
   ]
  },
  {
   "cell_type": "markdown",
   "metadata": {
    "id": "jnN4zpq6PokK"
   },
   "source": [
    "YOUR PREDICTION"
   ]
  },
  {
   "cell_type": "code",
   "execution_count": null,
   "metadata": {
    "jupyter": {
     "source_hidden": true
    },
    "tags": []
   },
   "outputs": [],
   "source": [
    "\n",
    "(2 < 3) == (3 < 6)"
   ]
  },
  {
   "cell_type": "markdown",
   "metadata": {
    "id": "qBk0WzxqPokL"
   },
   "source": [
    "**(2 < 3) and not (3 < 6)**"
   ]
  },
  {
   "cell_type": "markdown",
   "metadata": {
    "id": "qr9voymTPokL"
   },
   "source": [
    "YOUR PREDICTION"
   ]
  },
  {
   "cell_type": "code",
   "execution_count": null,
   "metadata": {
    "jupyter": {
     "source_hidden": true
    },
    "tags": []
   },
   "outputs": [],
   "source": [
    "\n",
    "(2 < 3) and not (3 < 6)"
   ]
  },
  {
   "cell_type": "markdown",
   "metadata": {
    "id": "vgpo0RO0PokL"
   },
   "source": [
    "**not((2 < 3) and not (3 < 6))**"
   ]
  },
  {
   "cell_type": "markdown",
   "metadata": {
    "id": "pdYVtDDHPokM"
   },
   "source": [
    "YOUR PREDICTION"
   ]
  },
  {
   "cell_type": "code",
   "execution_count": null,
   "metadata": {
    "jupyter": {
     "source_hidden": true
    },
    "tags": []
   },
   "outputs": [],
   "source": [
    "\n",
    "not((2 < 3) and not (3 < 6))"
   ]
  },
  {
   "cell_type": "markdown",
   "metadata": {
    "id": "DI4OFQEBPokM"
   },
   "source": [
    "**bool(\"0\")**"
   ]
  },
  {
   "cell_type": "markdown",
   "metadata": {
    "id": "0DSrn6c-PokM"
   },
   "source": [
    "YOUR PREDICTION"
   ]
  },
  {
   "cell_type": "code",
   "execution_count": null,
   "metadata": {
    "jupyter": {
     "source_hidden": true
    },
    "tags": []
   },
   "outputs": [],
   "source": [
    "\n",
    "bool(\"0\")"
   ]
  },
  {
   "cell_type": "markdown",
   "metadata": {
    "id": "N977lHtePokM"
   },
   "source": [
    "**bool(0) < bool(-1)**"
   ]
  },
  {
   "cell_type": "markdown",
   "metadata": {
    "id": "xGFmHCOaPokN"
   },
   "source": [
    "YOUR PREDICTION"
   ]
  },
  {
   "cell_type": "code",
   "execution_count": null,
   "metadata": {
    "jupyter": {
     "source_hidden": true
    },
    "tags": []
   },
   "outputs": [],
   "source": [
    "\n",
    "bool(0) < bool(-1)"
   ]
  },
  {
   "cell_type": "markdown",
   "metadata": {
    "id": "IwzwsOhqPokO"
   },
   "source": [
    "----\n",
    "## **Conditionals: The Many Forms of `if` Statements**\n",
    "\n",
    "In principle the `if` statement is very compact. Here is **everything** the [Python docs](https://docs.python.org/3/reference/compound_stmts.html#the-if-statement) tell us about it.\n",
    "\n",
    ">![If Statement Grammar](https://github.com/christopherhuntley/BUAN5405-lessons/raw/master/img/L3_1_if_Statement.png)\n",
    "\n",
    "What more could we possibly want to know, right? Hmmm. Let's unpack it to look at the various forms it might take.\n",
    "\n",
    "### **The `if` Form**\n",
    "In theory all we need is some way to check a boolean expression before running some code (indented into a _block_ just after the colon `:`). If the boolean expression evaluates to `True` then run the code. Otherwise, just continue on to whatever is the next line after the block of code.\n",
    "\n",
    "`if` statements always follow the same pattern:\n",
    "```python\n",
    "if boolean_expression:\n",
    "    block\n",
    "```\n",
    "where \n",
    "- `boolean_expression` is a boolean expression\n",
    "- `block` is sequence of one or more statements (which Python calls a \"suite\")\n",
    "- the `if`, colon `:`, and indentation (leading tabs/spaces) are required for Python to recognize this as an `if` statement\n",
    "\n",
    "For example, this conditional statement prints out the value of `1/x` but only if x is not zero:\n",
    "\n",
    "```python\n",
    "if x != 0:\n",
    "   print(1/x)\n",
    "```\n",
    "\n",
    "> **Heads up:** Jupyter is pretty smart about indentation. It will automatically increase the indent for the line immediately after the `if ... :`. It will continue to indent the same way on each subsequent line until you use a backspace (or delete) to move the cursor to the left. \n",
    ">\n",
    "> So what happens if we use the backspace to overide Jupyter's autoindent? We get an error. The following triggers (you guessed it) an indentation error:\n",
    "> ```python\n",
    "> if x!= 0:\n",
    "> print(1/x)\n",
    "> ```\n",
    "\n",
    "### **The `if` ... `else` Form**\n",
    "Sometimes we want to specify an alternate \"catch all\" logic block for when the `boolean_expression` is false:\n",
    "\n",
    "```python\n",
    "if boolean_expression:\n",
    "    success_block\n",
    "else:\n",
    "    failure_block\n",
    "```\n",
    "Note that indentation and a colon are again being used to separate one clause of our statement from the next. All statements inside the `success_block` and `failure_block` have to be indented to the same degree so that they line up exactly. If any of these statements themselves require indentation then they add indentation to whatever was needed to define the block. We'll see how that works when we get to **nested conditionals**. \n",
    "\n",
    "Continuing our `1/x` example, we might want to handle the `x == 0` case:\n",
    "```python\n",
    "if x != 0:\n",
    "   print(1/x)\n",
    "else: \n",
    "   print(\"Cannot divide by zero\")\n",
    "```\n",
    "\n",
    "### **The `if` ... `elif` ... `else` Form**\n",
    "There are times when we want to consider three or more possible conditions. For that we use one or more `elif` clauses.\n",
    "\n",
    "```python\n",
    "if boolean1:\n",
    "    block1\n",
    "elif boolean2:\n",
    "    block2\n",
    "else:\n",
    "    block_else\n",
    "``` \n",
    "We can have as many `elif` clauses as we like. We can even leave off the `else`:\n",
    "\n",
    "```python\n",
    "if boolean1:\n",
    "    block1\n",
    "elif boolean2:\n",
    "    block2\n",
    "```\n",
    "\n",
    "Take note that the form without the `else` is subtly different. With `if ... elif ... else` there are three possible outcomes:\n",
    "- `block1` executes\n",
    "- `block2` executes\n",
    "- `block_else` executes\n",
    "\n",
    "When we omit the `else` clause there are **also** three possibilities: \n",
    "- `block1` executes\n",
    "- `block2` executes\n",
    "- **nothing** executes\n",
    "\n",
    "Once again, this is subtle but it can cause unexpected bugs. One solution is to _always_ have an `else` clause if there is an `elif`. But what if we don't actually want a catch all block? For that we can use the `pass` keyword to indicate, you guessed it, _do nothing_. \n",
    "\n",
    "```python\n",
    "if boolean1:\n",
    "    block1\n",
    "elif boolean2:\n",
    "    block2\n",
    "else:\n",
    "    pass\n",
    "```\n",
    "That at least makes the logic explicit so we aren't haunted by bugs in an `else` clause that isn't there. \n",
    "\n",
    "#### **Note about short-circuited conditionals**\n",
    "Regardless of the form used, `if` statements work a lot like boolean expressions. Python only executes clauses until it finds one to execute. It then ignores the rest. So, if `boolean1` is `True` then Python doesn't care to evaluate `boolean2`, etc.; it just runs `block1` and goes about its business. We'll make use of this later, so be prepared to come back here again. \n"
   ]
  },
  {
   "cell_type": "markdown",
   "metadata": {
    "id": "6EerIamePokO"
   },
   "source": [
    "### **Nested Conditionals**\n",
    "Since every conditional statement has one or more blocks, which themselves contain more statements, we can **nest** an `if` statement inside another one like this:\n",
    "\n",
    "```python\n",
    "if type(x) == int or type(x) == float:\n",
    "    if x != 0:\n",
    "       print(1/x)\n",
    "    else: \n",
    "       print(\"Cannot divide by zero\")\n",
    "else:\n",
    "    print(\"x must be a number\")\n",
    "```\n",
    "\n",
    "The inner `if` statement is indented like any other statement in the block, moving over to the right of the outer `if` statement. \n",
    "\n",
    "Some people find nested conditionals confusing. We can _unnest_ them using `elif` clauses, like so:\n",
    "```python\n",
    "if type(x) == int or type(x) == float and x != 0:\n",
    "    print(1/x)\n",
    "elif type(x) == int or type(x) == float: \n",
    "    print(\"Cannot divide by zero\")\n",
    "else:\n",
    "    print(\"x must be a number\")\n",
    "```\n",
    "\n",
    "Hmmm, that seems pretty inefficient. We can simplify it a bit by reordering the clauses to take advantage of **short-circuiting**:\n",
    "```python\n",
    "if type(x) != int and type(x) != float:\n",
    "    print(\"x must be a number\")\n",
    "elif x == 0 : \n",
    "    print(\"Cannot divide by zero\")\n",
    "else:\n",
    "    print(1/x)\n",
    "```\n",
    "That is both simpler, less redundant, and less prone to bugs. It does, however, take a little getting used to. It's part of a general practice called **defensive programming** that we will elaborate on in the Pro Tips section at the end of the lesson. "
   ]
  },
  {
   "cell_type": "markdown",
   "metadata": {},
   "source": [
    "### **Conditional Expressions**\n",
    "There are times when it is convenient to make the **value** of something conditional. For that we use a conditional expression: \n",
    "\n",
    "```python\n",
    "expression_success if condition else expression_failure\n",
    "```\n",
    "\n",
    "Conditional expressions are not statements. They just allow calculations to vary one way or another. \n",
    "\n",
    "With conditional expressions, we can directly assign the value just like we did with boolean assignment earlier in the lesson:\n",
    "```python\n",
    "x = \"y >= 0\" if y >= 0 else \"y < 0\"\n",
    "```\n",
    "\n",
    "It's shorter and makes certain one-line codes possible that would be a pain to do any other way. Conditional expressions are even nestable, making it possible to handle more than two outcomes (like an `elif`). "
   ]
  },
  {
   "cell_type": "markdown",
   "metadata": {
    "id": "6Q4EIvjJPokO"
   },
   "source": [
    "### **Pulse Check ...**\n",
    "For each of the following conditionals explain the result. As always, answers are hidden behind ..."
   ]
  },
  {
   "cell_type": "code",
   "execution_count": null,
   "metadata": {
    "colab": {
     "base_uri": "https://localhost:8080/",
     "height": 129
    },
    "executionInfo": {
     "elapsed": 129,
     "status": "error",
     "timestamp": 1626220283856,
     "user": {
      "displayName": "Christopher Huntley",
      "photoUrl": "",
      "userId": "11069151036176747256"
     },
     "user_tz": 240
    },
    "id": "87oI4r_FPokP",
    "outputId": "79f57ff5-f601-41fd-d70d-f152bc717602"
   },
   "outputs": [
    {
     "ename": "SyntaxError",
     "evalue": "ignored",
     "output_type": "error",
     "traceback": [
      "\u001b[0;36m  File \u001b[0;32m\"<ipython-input-33-e04b76fb0503>\"\u001b[0;36m, line \u001b[0;32m1\u001b[0m\n\u001b[0;31m    if school = \"Fairfield\":\u001b[0m\n\u001b[0m              ^\u001b[0m\n\u001b[0;31mSyntaxError\u001b[0m\u001b[0;31m:\u001b[0m invalid syntax\n"
     ]
    }
   ],
   "source": [
    "school = \"Fairfield\"\n",
    "if school = \"Fairfield\":\n",
    "    mascot = \"Stags\"\n",
    "else: \n",
    "    mascot = \"Pioneers\"\n",
    "print (\"Go \" + mascot + \"!\")"
   ]
  },
  {
   "cell_type": "markdown",
   "metadata": {
    "id": "p3fndjeOPokQ"
   },
   "source": [
    "YOUR ANSWER HERE"
   ]
  },
  {
   "cell_type": "markdown",
   "metadata": {
    "jupyter": {
     "source_hidden": true
    },
    "tags": []
   },
   "source": [
    "\n",
    "> Assignment `=` is not the same as equivalence `==`."
   ]
  },
  {
   "cell_type": "code",
   "execution_count": null,
   "metadata": {
    "colab": {
     "base_uri": "https://localhost:8080/"
    },
    "executionInfo": {
     "elapsed": 110,
     "status": "ok",
     "timestamp": 1626220402839,
     "user": {
      "displayName": "Christopher Huntley",
      "photoUrl": "",
      "userId": "11069151036176747256"
     },
     "user_tz": 240
    },
    "id": "yQK667TkPokT",
    "outputId": "6ba3a147-d08f-4c73-c95d-4ebebc1b0625"
   },
   "outputs": [
    {
     "name": "stdout",
     "output_type": "stream",
     "text": [
      "Go Pioneers!\n"
     ]
    }
   ],
   "source": [
    "school = \"Sacred Heart\"\n",
    "if school == \"Fairfield\":\n",
    "    mascot = \"Stags\"\n",
    "else: \n",
    "    mascot = \"Pioneers\"\n",
    "print (\"Go \" + mascot + \"!\")"
   ]
  },
  {
   "cell_type": "markdown",
   "metadata": {
    "id": "cfReAbLQPokV"
   },
   "source": [
    "YOUR ANSWER HERE"
   ]
  },
  {
   "cell_type": "markdown",
   "metadata": {
    "jupyter": {
     "source_hidden": true
    },
    "tags": []
   },
   "source": [
    "\n",
    "> The `mascot` was selected by the `if` statement."
   ]
  },
  {
   "cell_type": "code",
   "execution_count": null,
   "metadata": {
    "colab": {
     "base_uri": "https://localhost:8080/"
    },
    "executionInfo": {
     "elapsed": 122,
     "status": "ok",
     "timestamp": 1626220406463,
     "user": {
      "displayName": "Christopher Huntley",
      "photoUrl": "",
      "userId": "11069151036176747256"
     },
     "user_tz": 240
    },
    "id": "b4OAY0gKPokW",
    "outputId": "15da63cb-3be0-4e11-bfd5-109a90659d44"
   },
   "outputs": [
    {
     "name": "stdout",
     "output_type": "stream",
     "text": [
      "Go Stags!\n"
     ]
    }
   ],
   "source": [
    "school = \"Sacred Heart\"\n",
    "print(\"Go \" + (\"Stags\" if school else \"Pioneers\") + \"!\")"
   ]
  },
  {
   "cell_type": "markdown",
   "metadata": {
    "id": "2agPvyZiPokX"
   },
   "source": [
    "YOUR ANSWER HERE"
   ]
  },
  {
   "cell_type": "markdown",
   "metadata": {
    "jupyter": {
     "source_hidden": true
    },
    "tags": []
   },
   "source": [
    "\n",
    "> Used a one-line conditional expression."
   ]
  },
  {
   "cell_type": "markdown",
   "metadata": {
    "id": "HsvzTBRYPokZ"
   },
   "source": [
    "\n",
    "---\n",
    "\n",
    "### **Defensive Programming**\n",
    "\n",
    "Defensive programming is an approach to programming that was originally intended to avoid security bugs and system crashes. The idea is to detect and mitigate all of the things that could make a bit of code fail (crash or produce an incorrect outcome). \n",
    "\n",
    "The general pattern is something like this:\n",
    "```python\n",
    "if conditions_that_might_cause_a_failure:\n",
    "    fail_gracefully\n",
    "else:\n",
    "    execute_normally\n",
    "```\n",
    "\n",
    "It seems like common sense, right? Nonetheless, most people still don't bother to put in safeguards. For example, let's say that we want to print out a warning if the ratio `y/x` is greater than 1. The naive way is like this:\n",
    "\n",
    "```python\n",
    "if (y/x > 1):\n",
    "    print(\"Warning! y/x > 1\")\n",
    "```\n",
    "It's pretty straightforward but also wrong. We didn't consider the possibility that `x` might be 0 and cause the ratio `y/x` to become undefined. Bingo, that's a potential runtime error and a system crash. Oops. \n",
    "\n",
    "We will learn a few ways to \"bulletproof\" code like this in the next few lessons, starting with **guards** and **exception handling**.\n",
    "    \n",
    "#### **Boolean Guards**\n",
    "One of the most \"dangerous\" times for your code are inside conditionals like `y/x > 1`. We are so often focused on the \"normal\" case that we forget about the exceptions. \n",
    "\n",
    "A **guard** is a quick and easy way to short-circuit a boolean expression with an `and` operation. In the ratio example the following would have done the trick:\n",
    "```python\n",
    "if x !=0 and y/x > 1:\n",
    "    print(\"Warning! y/x > 1\")\n",
    "```\n",
    "By inserting the `x != 0` check before the ratio check `y/x > 1` the conditional will short-circuit if `x` is 0. This avoids the possibility of a \"divide by zero\" runtime error entirely.\n",
    "\n",
    "#### **Handling Exceptions**\n",
    "Another way to deal with potential runtime errors is with a `try ... except` handler:\n",
    "\n",
    "```python\n",
    "try:\n",
    "    some_potentially_buggy_code\n",
    "except:\n",
    "    what_to_do_if_a_runtime_error_occurs\n",
    "```\n",
    "\n",
    "In this case we don't even bother to predict what could go wrong. Instead, we ask Python to let us know if a runtime error happens so we can mitigate the damage (and hopefully forestall a crash or something even worse). \n",
    "\n",
    "You may be wondering: **why do we even bother with guards if we can just handle exceptions this way?** Because `try ... except` does not guarantee that the damage _can_ be mitigated after a runtime error. So to be sure, it's best to use guards to prevent what you can and then `try ... except` for everything else. "
   ]
  },
  {
   "cell_type": "markdown",
   "metadata": {
    "id": "qKG1FQ6xPokg"
   },
   "source": [
    "---\n",
    "## **Before you go ... Save your notebook to be sure it is up to date.** "
   ]
  },
  {
   "cell_type": "markdown",
   "metadata": {
    "id": "BP5MGa1vo5s2"
   },
   "source": [
    "---\n",
    "> ## Every Tee Shirt Has a Story\n",
    "> ABOUT JUPYTERCON     \n",
    "> When Jupyter first came out it was a revelation to the data science community. They were getting very tired of having to get old-school programming tools to coexist with their digital creations. Every little thing required yet another plugin or other special software. Then Jupyter showed that the only tool they needed was a web browser.\n",
    ">\n",
    "> To get the word out (i.e., sell books) and to celebrate a bit, computer publisher O'Reilly organized the first JupyterCon in NYC with the help of Google, IBM, Microsoft, and a bunch of other companies. It was here that I accidentally had lunch with the team that developed Colab. I was totally clueless, of course, and asked a lot of stupid questions but they tolerated my ignorance pretty well. I came back the next year, this time a bit better informed but didn't get another tee shirt or talk to the Colab team. I did, however, get a cool coffee mug that looked like a lab beaker and plenty of laptop stickers.  \n",
    "\n",
    "![L3 Tee Front](../Photos/L03_TeeFront.jpeg)\n",
    "![L3 Tee Back](../Photos/L03_TeeBack.jpeg)\n",
    "\n",
    "## Copyright &copy; 2020 Christopher Huntley. All rights reserved. "
   ]
  },
  {
   "cell_type": "code",
   "execution_count": null,
   "metadata": {},
   "outputs": [],
   "source": []
  }
 ],
 "metadata": {
  "colab": {
   "collapsed_sections": [
    "6EerIamePokO"
   ],
   "name": "L03_Conditionals.ipynb",
   "provenance": []
  },
  "kernelspec": {
   "display_name": "Python 3 (ipykernel)",
   "language": "python",
   "name": "python3"
  },
  "language_info": {
   "codemirror_mode": {
    "name": "ipython",
    "version": 3
   },
   "file_extension": ".py",
   "mimetype": "text/x-python",
   "name": "python",
   "nbconvert_exporter": "python",
   "pygments_lexer": "ipython3",
   "version": "3.8.15"
  }
 },
 "nbformat": 4,
 "nbformat_minor": 4
}
