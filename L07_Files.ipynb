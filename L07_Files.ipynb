{
 "cells": [
  {
   "cell_type": "markdown",
   "metadata": {
    "id": "cBkWAmjARb1p"
   },
   "source": [
    "<img src=\"../img/Dolan.png\" width=\"180px\" align=\"right\">\n",
    "\n",
    "# **Lesson 7: Files**\n",
    "_Sequential, persistent data stores_"
   ]
  },
  {
   "cell_type": "markdown",
   "metadata": {
    "id": "HvK3FFBURb1q"
   },
   "source": [
    "## **Learning Objectives**\n",
    "\n",
    "### Theory / Be able to explain ...\n",
    "- Data persistence, files, and filesystems\n",
    "- Absolute and relative file paths\n",
    "- The process of reading and writing files\n",
    "\n",
    "### Skills / Know how to  ...\n",
    "- Locate files in a file system with file paths\n",
    "- Use the `os` and `os.path` modules to work with paths\n",
    "- Use the `with` statement to open and read files\n",
    "\n",
    "---"
   ]
  },
  {
   "cell_type": "markdown",
   "metadata": {
    "id": "gqX1_igbRb1q"
   },
   "source": [
    "## **Transience, Persistence, and The Cloud**\n",
    "> “Memories, even your most precious ones, fade surprisingly quickly. But I don’t go along with that. The memories I value most, I don’t ever see them fading.”    \n",
    "> -- Kazuo Ishiguro, Never Let Me Go\n",
    "\n",
    "Data within our programs is inherently **transient**, remembered only long enough to be useful. If not referenced by a variable, data is \"garbage collected\" -- yes, that is the real term -- and forgotten forever. Then, once the program is over, even the variables are forgotten, making way for whatever data the next program needs to do its work. Sometimes that end may be intentional, with the program completing its work, but it can also happen suddenly and without warning when the computer loses power or the system crashes. \n",
    "\n",
    "Data is said to be **persistent** if it is recallable after the program that created it ends. Such data exists in **files** located on a secondary storage device like a hard disk or SSD. Files are both useful and somewhat frustrating to deal with. Formats change over time, making some data no longer accessible by modern software. Files get lost as they are transferred from device to device or perhaps we just forget where they are or even that they exist at all. Finally, even if we know where they are and how to find them, getting our software to find and open them is sometimes pretty tricky. \n",
    "\n",
    "**The Cloud** is a much hyped but nonetheless very useful solution to our storage needs. It makes data appear ubiquitous, available from any device at any time. Since ultimately all persistent data resides in files, most of the advantages of cloud storage are in the way data is accessed instead of how it is stored. Instead of thinking in terms of files (e.g., MS Word files), we now think in terms of _documents_ (Google Docs, MS Office 365, etc.), page _URLs_ (uniform resource locators), or _APIs_ (application programming interfaces) for data in the Cloud. \n",
    "\n",
    "We will get into some of the complexities of cloud hosted data in Lesson 12, but for now we will learn about **files** and **filesystems**. "
   ]
  },
  {
   "cell_type": "markdown",
   "metadata": {
    "id": "dXXqqghQRb1r"
   },
   "source": [
    "## **Filesystems and File Paths**\n",
    "In the wild west times of the 1950s and 1960s, every program has its own **filesystem**, a method of storing and retrieving data in files. Standard file formats and operating systems were scarce and software engineers who valued them were scarcer. Every brand of computer and every piece of software had its own way of handling files. So, programmers made up their own standards so that their programs and data could be portable from one computer to another.\n",
    "\n",
    "In principle, every filesystem has the following functions:\n",
    "- File creation and deletion\n",
    "- File retrieval and access control\n",
    "- Reading and writing of data \n",
    "\n",
    "File creation, deletion, retrieval, and access control are generally handled by the computer's operating system. In each case the concept of a file as an entity, with a unique identity or location, comes into play. The name and location of a file is called the **file path**. Operating systems logically organize files into hierarchies (trees) of directories (or folders). \n",
    "\n",
    "![File Tree](../img/L7_File_Tree_cropped.png)\n",
    "\n",
    "A file path is then a set of navigation instructions to navigate between where the program _resides_ and where the file _resides_ in the hierarchy. Note that we need to know two locations: that of the program (e.g., `myPythonProgram.py`) and that of the file it wants to access (e.g., `data1.txt`, `data2.txt`, `data3.txt`, or `data4.txt`).   \n",
    "\n",
    "There are two ways to encode a file path:\n",
    "- **Absolute paths** are used when the program is located _outside_ of the file system. In that case it has to navigate from the **root** of the file hierarchy every time. The path to the `data1.txt` file is then given by `/myFiles/allProjects/myProject/data1.txt`. Each directory in the path is indicated by a slash `/` and a directory name. The first slash in the path then represents the root of the file hierarchy. An absolute path always starts with a slash and the root directory itself is just a single slash `/`.       \n",
    "\n",
    "- **Relative paths** always start at the location of the current file in the file system. The navigation in this case can be much simpler, especially if the file is located in the same directory as the program. For the program `myPythonProgram.py` we can use the following paths:\n",
    "  - `data1.txt` \n",
    "  - `../MyData/data2.txt`\n",
    "  - `../MyData/data3.txt`\n",
    "  - `../../otherFiles/ExtraData/data4.txt` \n",
    "  \n",
    "  If the file is located in the same directory as the program (the first example), then all we need to supply is the file name. If it is not (the rest), then we use a combination of `..` (go up one directory) and `/directory` (go down into `directory`) instructions followed by the file name. \n",
    "  \n",
    "### **Wait, I thought that `/` was pronounced \"backslash\"**\n",
    "In the early days of PCs, Microsoft and IBM were very wary of copying Unix conventions in their (sort of) new, definitely horrific operating system called PC-DOS. AT&T claimed ownership of Unix at the time, so this worry was not without merit. So, instead of using the slash `/` they used the backslash `\\` as the directory delimiter in file paths. So, anybody who was raised using PCs in the 1980s or perhaps early 1990s, reflexively uses the word \"backslash\" when saying things like web URLs. For the record, web URLs (or file paths in Python) have never used backslashes in this way. Unfortunately, MS Windows (all versions) still uses the backslash for compatibility with PC-DOS, though recent versions of Windows can be coaxed into using the slash as well. \n",
    "\n",
    "### **The Python `os` and `os.path` Modules**\n",
    "To work with file paths in an operating system-agnostic (_canonical_) way, Python provides the [os](https://docs.python.org/3/library/os.html) module. More specifically, we can use the [os.path](https://docs.python.org/3/library/os.path.html) submodule to create canonical paths and then (if needed) use the `os` module to render the path in an operating-system specific way. "
   ]
  },
  {
   "cell_type": "code",
   "execution_count": null,
   "metadata": {
    "id": "0huVRRfJRb1s",
    "outputId": "859b1a04-5841-4bd6-b72e-2cbfbb9d84d2"
   },
   "outputs": [
    {
     "name": "stdout",
     "output_type": "stream",
     "text": [
      "/Users/chuntley/GitRepos/BUAN5405/BUAN5405-lessons\n",
      "../BUAN5405-docs\n"
     ]
    }
   ],
   "source": [
    "import os, os.path  # Load modules from standard lib\n",
    "\n",
    "# the absolute path from a relative path\n",
    "print(os.path.abspath('.'))  # the current folder is indicated by .\n",
    "\n",
    "# the relative path from the current folder to another location\n",
    "print(os.path.relpath('/Users/chuntley/GitRepos/BUAN5405/BUAN5405-docs'))  "
   ]
  },
  {
   "cell_type": "markdown",
   "metadata": {
    "id": "_Euz0a_rRb1w"
   },
   "source": [
    "If on MS Windows, we can then call `os.fspath()` to convert all those nasty slashes into 1980s-style backslashes. \n",
    "\n",
    "### **File Paths on Google Colab**\n",
    "In Google Colab, notebooks [operate in a separate space from the file system](https://colab.research.google.com/notebooks/io.ipynb). **All paths then become absolute**, even when the notebook appears to be in the same directory as its data in Google Drive. There are workarounds, of course, each of which relies on the `os` and `os.path` modules."
   ]
  },
  {
   "cell_type": "markdown",
   "metadata": {
    "id": "xN5A0UhSRb1x"
   },
   "source": [
    "## **Reading and Writing Text Files with `with`**\n",
    "The Py4E textbook goes into some detail about _file handles_ and other terminology. You are recommended to refer to it when you have to open files. However, in data science we almost always use a `with` statement like this when reading data from a file:\n",
    "```python\n",
    "with open( filepath ) as f:\n",
    "    for line in f:\n",
    "       # do something with the line of text\n",
    "```"
   ]
  },
  {
   "cell_type": "markdown",
   "metadata": {
    "id": "PJEz0snhRb1x"
   },
   "source": [
    "- The `open()` function does exactly what you think it does. It takes in a `filepath` and prepares the file for access. More specifically, if the current user is permitted to access the file, then it creates a _generator_ (see Lesson 6) that yields data one line at a time.\n",
    "- The file itself is _aliased_ (nicknamed) as `f` for use in the `with` body. \n",
    "- The `for` loop iterates over the lines in the file. \n",
    "- When the end of the file is reached (or an error occurs) the `with` statement closes the file for safekeeping.  \n",
    "\n",
    "A similar process exists for writing to a file. We can also read and write binary data (as `bytes`) if we like.   \n",
    "\n",
    "### **Note: Files are Sequential**\n",
    "Since we access file data using an iterator, files are inherently sequential, just like strings, lists, and tuples. However, there is no concept of a slice. We have to start reading it from the beginning each time. If you want more flexibility than that, then use a database instead of a text file. "
   ]
  },
  {
   "cell_type": "markdown",
   "metadata": {
    "id": "Q9s0h4uug0co"
   },
   "source": [
    "### **Who Really Uses Files Anymore?**\n",
    "While it is common for end users to think of data residing in files, professional analysts most often \"extract\" it from online sources using an Application Programming Interface (API).  \n",
    "\n",
    "Let's say that we wanted to count the number of times the word \"love\" appear in Shakespeare's *Romeo and Juliet*. We could do it the hard and slow way: download a pdf copy of the book, export the text to a text file, and then read it into a Python script for counting. Or we could just pull it directly off the web: "
   ]
  },
  {
   "cell_type": "code",
   "execution_count": null,
   "metadata": {
    "colab": {
     "base_uri": "https://localhost:8080/"
    },
    "executionInfo": {
     "elapsed": 483,
     "status": "ok",
     "timestamp": 1626309337593,
     "user": {
      "displayName": "Christopher Huntley",
      "photoUrl": "",
      "userId": "11069151036176747256"
     },
     "user_tz": 240
    },
    "id": "5zVTuillk59m",
    "outputId": "cd3b1726-8ec7-4759-b8a6-e3ab0fb19ad5"
   },
   "outputs": [
    {
     "data": {
      "text/plain": [
       "175"
      ]
     },
     "execution_count": 6,
     "metadata": {
      "tags": []
     },
     "output_type": "execute_result"
    }
   ],
   "source": [
    "import requests\n",
    "book_html = requests.get(\"http://shakespeare.mit.edu/romeo_juliet/full.html\")\n",
    "book_html.text.count(\"love\") + book_html.text.count(\"Love\")"
   ]
  },
  {
   "cell_type": "markdown",
   "metadata": {
    "id": "eFOJtISQl03b"
   },
   "source": [
    "That is much more efficient, right? Here we used a technique called *web scraping* to retrieve an HTML version of the play and then search for a specific pattern in the text. We can get pretty sophisticated with this sort of thing using a library called [Beautiful Soup](https://www.crummy.com/software/BeautifulSoup/bs4/doc/) but we will leave it as a teaser for a future course. \n",
    "\n",
    "Just know this: if it exists on the web then we can retrieve and process it in Python, often with just a few lines of code.  "
   ]
  },
  {
   "cell_type": "markdown",
   "metadata": {
    "id": "EutsdZX_Q-dS"
   },
   "source": [
    "---\n",
    "## **Before you go ... Save your notebook to be sure it is up to date.**"
   ]
  },
  {
   "cell_type": "markdown",
   "metadata": {
    "id": "16_GMzANp5Xf"
   },
   "source": [
    "---\n",
    "> ## Every Tee Shirt Has a Story\n",
    "> ABOUT UVA ENGINEERING    \n",
    "> In 2007 I attended a class reunion at the University of Virginia with my family. It was great seeing so many people I hadn't seen in years. Many were _so much_ more accomplished than I will ever be. However, my wife and I did excel at one thing like nobody else: between us we had **FIVE** UVa Engineering degrees. The dean was taken aback and sent somebody to retrieve three of these sturdy tee shirts for setting an unofficial record. I suppose I'll wear it proudly the next time I make it back for a reunion.  \n",
    "\n",
    "![L7 Tee Front](../Photos/L07_TeeFront.jpeg)\n",
    "\n",
    "## Copyright &copy; 2020 Christopher Huntley. All rights reserved. "
   ]
  },
  {
   "cell_type": "code",
   "execution_count": null,
   "metadata": {},
   "outputs": [],
   "source": []
  }
 ],
 "metadata": {
  "colab": {
   "collapsed_sections": [],
   "name": "L07_Files.ipynb",
   "provenance": []
  },
  "kernelspec": {
   "display_name": "Python 3 (ipykernel)",
   "language": "python",
   "name": "python3"
  },
  "language_info": {
   "codemirror_mode": {
    "name": "ipython",
    "version": 3
   },
   "file_extension": ".py",
   "mimetype": "text/x-python",
   "name": "python",
   "nbconvert_exporter": "python",
   "pygments_lexer": "ipython3",
   "version": "3.8.15"
  }
 },
 "nbformat": 4,
 "nbformat_minor": 4
}
