{
 "cells": [
  {
   "cell_type": "markdown",
   "metadata": {
    "id": "SheDrz_OvLxZ"
   },
   "source": [
    "# **Pulse Check and Exercise Solutions**\n",
    "\n",
    "# Lesson 1\n",
    "## L1.P1\n",
    "Use a [Markdown](https://www.markdownguide.org/cheat-sheet/) **bullet list** to rewrite the above analogy using just human physiology. If we were to replace a human with a computer what would be the body part/function that corresponds to each computer term in **bold** above? "
   ]
  },
  {
   "cell_type": "markdown",
   "metadata": {
    "id": "9MwomsGvvLxa"
   },
   "source": [
    "- **CPU** = Brain\n",
    "- **RAM** = Short term memory\n",
    "- **Storage** = Long term memory\n",
    "- **I/O** = Senses / Behaviors\n",
    "- **Network** = Muscles and bones used to interact with the world"
   ]
  },
  {
   "cell_type": "markdown",
   "metadata": {
    "id": "WcXrfossvLxa"
   },
   "source": [
    "## L1.P2\n",
    "Make a numbered list (in Markdown) of all the computer languages you can think of. Use **bold text** for the names of any you might expect to use in your analytics courses."
   ]
  },
  {
   "cell_type": "markdown",
   "metadata": {
    "id": "30tAF7BKvLxb"
   },
   "source": [
    "_`highlighted`_ = learned on the job or engineering school   \n",
    "**bold** = will likely see in MSBA classes\n",
    "\n",
    "# Pre 1960 \n",
    "1. Machine Language\n",
    "2. _`Assembly Language`_ / Speed Code\n",
    "3. _`FORTRAN`_\n",
    "4. _`LISP`_\n",
    "5. COBOL\n",
    "\n",
    "# 1960s\n",
    "6. _`BASIC`_\n",
    "7. APL\n",
    "8. _`RPG`_\n",
    "9. Forth\n",
    "10. Logo\n",
    "\n",
    "# 1970s\n",
    "11. _`Pascal`_\n",
    "12. _`C`_\n",
    "13. _`Prolog`_\n",
    "14. **_`SQL`_**\n",
    "15. _`Scheme`_\n",
    "16. _`Modula-II`_\n",
    "17. **SAS**\n",
    "18. _`Bourne Shell / sh`_\n",
    "19. MATLAB\n",
    "20. _`AWK`_\n",
    "\n",
    "# 1980s\n",
    "21. Ada\n",
    "22. SmallTalk\n",
    "23. Postscript\n",
    "24. Objective C\n",
    "25. _`C++`_\n",
    "26. Perl\n",
    "27. **Mathematica**\n",
    "28. **_`Bash`_**\n",
    "29. **_`Python`_**\n",
    "30. _`Tcl / Tk`_\n",
    "31. Eiffel\n",
    "\n",
    "# 1990s\n",
    "32. _AMPL_\n",
    "33. _`Visual Basic`_\n",
    "34. Cold Fusion ML\n",
    "35. _`PHP`_\n",
    "36. _`HTML`_\n",
    "37. _`CSS`_\n",
    "38. _`Java`_\n",
    "39. _`Javascript`_\n",
    "40. Ruby\n",
    "41. **R**\n",
    "\n",
    "# 2000s\n",
    "42. C# (.Net)\n",
    "43. _`Scratch`_\n",
    "44. Scala\n",
    "45. Go\n",
    "46. **_`Markdown`_**\n",
    "\n",
    "# 2010s and beyond\n",
    "47. Rust\n",
    "48. Julia\n",
    "49. Dart\n",
    "50. Swift"
   ]
  },
  {
   "cell_type": "markdown",
   "metadata": {
    "id": "YvEeQYsMvLxc"
   },
   "source": [
    "## L1.P3\n",
    "Run the slightly modified version of the beer code below. What do you think the `\\n\\n` does? (Answer in the cell below the code.) Now try adding one more beer to the fridge in the first line and then rerun the cell. Did it do anything you didn't expect?"
   ]
  },
  {
   "cell_type": "code",
   "execution_count": null,
   "metadata": {
    "id": "PlpSbaAXvLxc"
   },
   "outputs": [],
   "source": [
    "the_fridge = [\"bud\", \"bud\", \"stella\", \"miller\", \"homebrew\",\"road2ruin\"]\n",
    "\n",
    "for beer in the_fridge:\n",
    "    print ('drinking a bottle of ' + beer + ' ... burp!')\n",
    "    empty_bottle = \"empty bottle of \" + beer\n",
    "    print('disposed of 1 '+ empty_bottle)\n",
    "    print(\"And another one gone, and another one gone, another one bites the dust.\\n\\n\")"
   ]
  },
  {
   "cell_type": "markdown",
   "metadata": {
    "id": "A1uTfwFEvLxg"
   },
   "source": [
    "## L1.P4\n",
    "### Bug #1\n",
    "```\n",
    "print 'I love Python'\n",
    "```\n",
    "**Syntax Error.** We need the parentheses around the text. In Python 2, print was a statement, not a function.\n",
    "### Bug #2\n",
    "```\n",
    "x = \"I love Python\"\n",
    "    print(x)\n",
    "```\n",
    "**Syntax Error.** In Python the indentation matters. It is how Python recognizes that the code is to be executed as a block. \n",
    "### Bug #3\n",
    "```\n",
    "x = \"I love Python\"\n",
    "print(x[20])\n",
    "```\n",
    "**Logic Error.** The brackets are used to indicate position within the string. There is no 20-th position in a string of 13 characters.\n",
    "### Bug #4\n",
    "```\n",
    "x = \"I love Python\"\n",
    "if x:\n",
    "    print(\"I hate Python\")\n",
    "print(x)\n",
    "```\n",
    "**Not an error but could be a Semantic Bug.** The if statement executes for any nonempty string, even if the string says something false. "
   ]
  },
  {
   "cell_type": "markdown",
   "metadata": {
    "id": "4ymRDopjvLxg"
   },
   "source": [
    "# Lesson 2\n",
    "## L2.P1\n",
    "For each of the following calculations, try to guess the result _before_ running the cell. Then explain what happened. If the result surprised you, say why. As always, don't worry so much about being right for now. To find out the right answers watch the video. "
   ]
  },
  {
   "cell_type": "code",
   "execution_count": null,
   "metadata": {
    "colab": {
     "base_uri": "https://localhost:8080/",
     "height": 34
    },
    "executionInfo": {
     "elapsed": 632,
     "status": "ok",
     "timestamp": 1593538077650,
     "user": {
      "displayName": "Christopher Huntley",
      "photoUrl": "",
      "userId": "11069151036176747256"
     },
     "user_tz": 240
    },
    "id": "L87mmmHWvLxh",
    "outputId": "ccece40f-36b4-433f-d8da-a7f1556a2bed"
   },
   "outputs": [
    {
     "data": {
      "text/plain": [
       "int"
      ]
     },
     "execution_count": 1,
     "metadata": {
      "tags": []
     },
     "output_type": "execute_result"
    }
   ],
   "source": [
    "type(7*6)"
   ]
  },
  {
   "cell_type": "code",
   "execution_count": null,
   "metadata": {
    "colab": {
     "base_uri": "https://localhost:8080/",
     "height": 34
    },
    "executionInfo": {
     "elapsed": 714,
     "status": "ok",
     "timestamp": 1593538080417,
     "user": {
      "displayName": "Christopher Huntley",
      "photoUrl": "",
      "userId": "11069151036176747256"
     },
     "user_tz": 240
    },
    "id": "3OxlQCHGvLxj",
    "outputId": "59ea9552-031a-4ab0-adf6-4e98e0986b64"
   },
   "outputs": [
    {
     "data": {
      "text/plain": [
       "float"
      ]
     },
     "execution_count": 2,
     "metadata": {
      "tags": []
     },
     "output_type": "execute_result"
    }
   ],
   "source": [
    "type(42/6)"
   ]
  },
  {
   "cell_type": "code",
   "execution_count": null,
   "metadata": {
    "colab": {
     "base_uri": "https://localhost:8080/",
     "height": 164
    },
    "executionInfo": {
     "elapsed": 701,
     "status": "error",
     "timestamp": 1593538082482,
     "user": {
      "displayName": "Christopher Huntley",
      "photoUrl": "",
      "userId": "11069151036176747256"
     },
     "user_tz": 240
    },
    "id": "Q-GsP1mIvLxm",
    "outputId": "70d4d94c-1512-479f-ff7c-898c6915ffaf"
   },
   "outputs": [
    {
     "ename": "ValueError",
     "evalue": "ignored",
     "output_type": "error",
     "traceback": [
      "\u001b[0;31m---------------------------------------------------------------------------\u001b[0m",
      "\u001b[0;31mValueError\u001b[0m                                Traceback (most recent call last)",
      "\u001b[0;32m<ipython-input-3-faae6b054331>\u001b[0m in \u001b[0;36m<module>\u001b[0;34m()\u001b[0m\n\u001b[0;32m----> 1\u001b[0;31m \u001b[0mint\u001b[0m\u001b[0;34m(\u001b[0m\u001b[0;34m\"42.0\"\u001b[0m\u001b[0;34m)\u001b[0m\u001b[0;34m\u001b[0m\u001b[0;34m\u001b[0m\u001b[0m\n\u001b[0m",
      "\u001b[0;31mValueError\u001b[0m: invalid literal for int() with base 10: '42.0'"
     ]
    }
   ],
   "source": [
    "int(\"42.0\")"
   ]
  },
  {
   "cell_type": "code",
   "execution_count": null,
   "metadata": {
    "colab": {
     "base_uri": "https://localhost:8080/",
     "height": 35
    },
    "executionInfo": {
     "elapsed": 598,
     "status": "ok",
     "timestamp": 1593538084860,
     "user": {
      "displayName": "Christopher Huntley",
      "photoUrl": "",
      "userId": "11069151036176747256"
     },
     "user_tz": 240
    },
    "id": "dWkZ_VfFvLxo",
    "outputId": "2c139bd1-2b32-446f-aa1a-accacf260efc"
   },
   "outputs": [
    {
     "data": {
      "application/vnd.google.colaboratory.intrinsic": {
       "type": "string"
      },
      "text/plain": [
       "'424242424242'"
      ]
     },
     "execution_count": 4,
     "metadata": {
      "tags": []
     },
     "output_type": "execute_result"
    }
   ],
   "source": [
    "\"42\"*6"
   ]
  },
  {
   "cell_type": "code",
   "execution_count": null,
   "metadata": {
    "colab": {
     "base_uri": "https://localhost:8080/",
     "height": 164
    },
    "executionInfo": {
     "elapsed": 632,
     "status": "error",
     "timestamp": 1593538087589,
     "user": {
      "displayName": "Christopher Huntley",
      "photoUrl": "",
      "userId": "11069151036176747256"
     },
     "user_tz": 240
    },
    "id": "95dyfy0lvLxr",
    "outputId": "836823f3-9e86-4d30-8a54-948a38b34884"
   },
   "outputs": [
    {
     "ename": "TypeError",
     "evalue": "ignored",
     "output_type": "error",
     "traceback": [
      "\u001b[0;31m---------------------------------------------------------------------------\u001b[0m",
      "\u001b[0;31mTypeError\u001b[0m                                 Traceback (most recent call last)",
      "\u001b[0;32m<ipython-input-5-b46fc8dcf48e>\u001b[0m in \u001b[0;36m<module>\u001b[0;34m()\u001b[0m\n\u001b[0;32m----> 1\u001b[0;31m \u001b[0;34m\"42\"\u001b[0m\u001b[0;34m*\u001b[0m\u001b[0;36m6.0\u001b[0m\u001b[0;34m\u001b[0m\u001b[0;34m\u001b[0m\u001b[0m\n\u001b[0m",
      "\u001b[0;31mTypeError\u001b[0m: can't multiply sequence by non-int of type 'float'"
     ]
    }
   ],
   "source": [
    "\"42\"*6.0"
   ]
  },
  {
   "cell_type": "markdown",
   "metadata": {
    "id": "XxkjxyJ_vLxt"
   },
   "source": [
    "## L2.P2\n",
    "Use type conversions to 'fix' the broken calculations below. Make each cell return a `float` data type."
   ]
  },
  {
   "cell_type": "markdown",
   "metadata": {
    "id": "4nFrwO8vvLxu"
   },
   "source": [
    "**\"42\"/6**"
   ]
  },
  {
   "cell_type": "code",
   "execution_count": null,
   "metadata": {
    "colab": {
     "base_uri": "https://localhost:8080/",
     "height": 34
    },
    "executionInfo": {
     "elapsed": 649,
     "status": "ok",
     "timestamp": 1593538094775,
     "user": {
      "displayName": "Christopher Huntley",
      "photoUrl": "",
      "userId": "11069151036176747256"
     },
     "user_tz": 240
    },
    "id": "jArvYuT8vLxu",
    "outputId": "4e8df798-5df7-4907-d204-49982d2b8903"
   },
   "outputs": [
    {
     "data": {
      "text/plain": [
       "7.0"
      ]
     },
     "execution_count": 6,
     "metadata": {
      "tags": []
     },
     "output_type": "execute_result"
    }
   ],
   "source": [
    "int(\"42\")/6"
   ]
  },
  {
   "cell_type": "markdown",
   "metadata": {
    "id": "GuSzdfrjvLxw"
   },
   "source": [
    "\"42\"*6"
   ]
  },
  {
   "cell_type": "code",
   "execution_count": null,
   "metadata": {
    "id": "nO8o8hGbvLxx"
   },
   "outputs": [],
   "source": [
    "float( int(\"42\")*6 )"
   ]
  },
  {
   "cell_type": "code",
   "execution_count": null,
   "metadata": {
    "colab": {
     "base_uri": "https://localhost:8080/",
     "height": 34
    },
    "executionInfo": {
     "elapsed": 566,
     "status": "ok",
     "timestamp": 1593538099636,
     "user": {
      "displayName": "Christopher Huntley",
      "photoUrl": "",
      "userId": "11069151036176747256"
     },
     "user_tz": 240
    },
    "id": "XMW6nUUevLxz",
    "outputId": "3f9a9185-428c-4c9a-af22-2b30e473b4ba"
   },
   "outputs": [
    {
     "data": {
      "text/plain": [
       "424242424242.0"
      ]
     },
     "execution_count": 8,
     "metadata": {
      "tags": []
     },
     "output_type": "execute_result"
    }
   ],
   "source": [
    "float( int(\"42\"*6) )"
   ]
  },
  {
   "cell_type": "markdown",
   "metadata": {
    "id": "xjewswDBvLx1"
   },
   "source": [
    "\"42\"*6.0"
   ]
  },
  {
   "cell_type": "code",
   "execution_count": null,
   "metadata": {
    "colab": {
     "base_uri": "https://localhost:8080/",
     "height": 34
    },
    "executionInfo": {
     "elapsed": 753,
     "status": "ok",
     "timestamp": 1593538102496,
     "user": {
      "displayName": "Christopher Huntley",
      "photoUrl": "",
      "userId": "11069151036176747256"
     },
     "user_tz": 240
    },
    "id": "zWTqvfgVvLx2",
    "outputId": "324087cd-1aed-479a-f8ca-71649dc1b654"
   },
   "outputs": [
    {
     "data": {
      "text/plain": [
       "424242424242.0"
      ]
     },
     "execution_count": 9,
     "metadata": {
      "tags": []
     },
     "output_type": "execute_result"
    }
   ],
   "source": [
    "float( \"42\"*int(6.0) )"
   ]
  },
  {
   "cell_type": "code",
   "execution_count": null,
   "metadata": {
    "colab": {
     "base_uri": "https://localhost:8080/",
     "height": 34
    },
    "executionInfo": {
     "elapsed": 599,
     "status": "ok",
     "timestamp": 1593538104261,
     "user": {
      "displayName": "Christopher Huntley",
      "photoUrl": "",
      "userId": "11069151036176747256"
     },
     "user_tz": 240
    },
    "id": "mDRhjQJNvLx4",
    "outputId": "a9b75e68-d865-456e-c569-befc237f5a5e"
   },
   "outputs": [
    {
     "data": {
      "text/plain": [
       "252.0"
      ]
     },
     "execution_count": 10,
     "metadata": {
      "tags": []
     },
     "output_type": "execute_result"
    }
   ],
   "source": [
    "float( int(\"42\") * 6.0 )"
   ]
  },
  {
   "cell_type": "markdown",
   "metadata": {
    "id": "uv4a2HbovLx6"
   },
   "source": [
    "## L2.P3\n",
    "**Why do variable names need to be unique? What do you suppose we mean by \"in the context they are being used?\"**    \n",
    "When referring to specific things (instead of just types of things), names need to be unabiguous. However, that depends on context. Think of the names on the back of sports uniforms. If two players have the same last name then they print the first name or first initial. Otherwise, we can't tell who is who.\n",
    "\n",
    "**What, if anything, is wrong with each of the variable names below?**   \n",
    "**`1password`**    \n",
    "Python names cannot start with a number  \n",
    "\n",
    "**`onePassword`**   \n",
    "Python prefers underscores to camel case naming\n",
    "\n",
    "**`one password`**    \n",
    "Spaces are not allowed in Python names\n",
    "\n",
    "**`one_password`**    \n",
    "Nothing wrong with this one.\n",
    "\n",
    "**`onep@ssw0rd`**    \n",
    "Python only allows latin letters, numbers, and underscores"
   ]
  },
  {
   "cell_type": "markdown",
   "metadata": {
    "id": "rOCrcYUtvLx7"
   },
   "source": [
    "## L2.P4\n",
    "**Why aren't expressions considered statements?** (After all, they do calculate things.)    \n",
    "Because they do not do anything beyind calculate\n",
    "\n",
    "\n",
    "**Why is the equals sign not an operator?** (This one is very subtle. Many professional programmers get it wrong.)    \n",
    "Because it does not return a value\n",
    "\n",
    "**In what order would the operations in `1 + int(\"1\")/float(2)` be executed?**    \n",
    "1. int(\"1\")\n",
    "2. float(2)\n",
    "3. 1 / 2.0\n",
    "4. 1 + 0.5\n",
    "\n",
    "**In the statement `person1 = first_name + \" \" + last_name` what are the variables, expressions, literals, and operators?**\n",
    "- **variables:** `person1`, `first_name`, and `last_name`\n",
    "- **expressions:** `first_name + \" \" + last_name` \n",
    "_but also_ `first_name + \" \"` and `(first_name + \" \") + last_name`\n",
    "- **literals:** \" \" (space character)\n",
    "- **operators:** `+` (addition)"
   ]
  },
  {
   "cell_type": "markdown",
   "metadata": {
    "id": "R6ui3HH4vLx7"
   },
   "source": [
    "## L2.E1"
   ]
  },
  {
   "cell_type": "code",
   "execution_count": null,
   "metadata": {
    "id": "tS1iQM9mvLx7",
    "outputId": "485559fd-f8ef-46d0-fa93-1d69d37e1269"
   },
   "outputs": [
    {
     "name": "stdin",
     "output_type": "stream",
     "text": [
      "Waist 48\n",
      "Hip 42\n"
     ]
    },
    {
     "name": "stdout",
     "output_type": "stream",
     "text": [
      "Your waist to hip ratio is 1.1428571428571428\n"
     ]
    }
   ],
   "source": [
    "# Ask for user input\n",
    "waist_str = input(\"Waist\")  # prompts for waist\n",
    "hip_str = input(\"Hip\")      # prompts for hip\n",
    "\n",
    "# Calculate the ratio\n",
    "waist2hip_ratio = float(waist_str) / float(hip_str)\n",
    "\n",
    "# Output to user\n",
    "print(\"Your waist to hip ratio is\",waist2hip_ratio)"
   ]
  },
  {
   "cell_type": "markdown",
   "metadata": {
    "id": "CQ1DHoQyvLx-"
   },
   "source": [
    "# Lesson 3\n",
    "## L3.P1\n",
    "For each of the expressions below, predict whether it is equivalent to `True` or `False`. Then **create and run** a new code cell just under each prediction to see if you got it right. The code cell for the first expression has been done for you as an example. "
   ]
  },
  {
   "cell_type": "markdown",
   "metadata": {
    "id": "__N0_aH2vLx_"
   },
   "source": [
    "**(2 < 3) and (3 < 6)**    \n",
    "**True** because both `2 < 3` and `3 < 6` are True."
   ]
  },
  {
   "cell_type": "code",
   "execution_count": null,
   "metadata": {
    "id": "c9Hm8iSdvLx_",
    "outputId": "11d4f9bf-7848-47f0-e31c-d2e218ac5943"
   },
   "outputs": [
    {
     "data": {
      "text/plain": [
       "True"
      ]
     },
     "execution_count": 66,
     "metadata": {
      "tags": []
     },
     "output_type": "execute_result"
    }
   ],
   "source": [
    "(2 < 3) and (3 < 6)"
   ]
  },
  {
   "cell_type": "markdown",
   "metadata": {
    "id": "cdkQvq3TvLyB"
   },
   "source": [
    "**(2 < 3) == (3 < 6)**    \n",
    "**True** because `2 < 3` and `3 < 6` are both True and equal."
   ]
  },
  {
   "cell_type": "code",
   "execution_count": null,
   "metadata": {
    "id": "l04LSfigvLyC",
    "outputId": "5a9ebad0-bd48-4f8c-8fc7-981aa14dbbde"
   },
   "outputs": [
    {
     "data": {
      "text/plain": [
       "True"
      ]
     },
     "execution_count": 73,
     "metadata": {
      "tags": []
     },
     "output_type": "execute_result"
    }
   ],
   "source": [
    "(2 < 3) == (3 < 6)"
   ]
  },
  {
   "cell_type": "markdown",
   "metadata": {
    "id": "6NWx_9olvLyE"
   },
   "source": [
    "**(2 < 3) and not (3 < 6)**    \n",
    "**False** because `not (3 < 6)` is False."
   ]
  },
  {
   "cell_type": "code",
   "execution_count": null,
   "metadata": {
    "id": "sAXjaQ_YvLyE",
    "outputId": "1169e356-6fca-47ae-e5d8-1cf2a41a5670"
   },
   "outputs": [
    {
     "data": {
      "text/plain": [
       "False"
      ]
     },
     "execution_count": 72,
     "metadata": {
      "tags": []
     },
     "output_type": "execute_result"
    }
   ],
   "source": [
    "(2 < 3) and not (3 < 6)"
   ]
  },
  {
   "cell_type": "markdown",
   "metadata": {
    "id": "0RuG46-5vLyG"
   },
   "source": [
    "**not((2 < 3) and not (3 < 6))**    \n",
    "**True** because `not False` (see answer above) is True."
   ]
  },
  {
   "cell_type": "code",
   "execution_count": null,
   "metadata": {
    "id": "vFPj3Vw8vLyH",
    "outputId": "a5fcf02d-0a8f-4b93-fda5-d7736f23b8b5"
   },
   "outputs": [
    {
     "data": {
      "text/plain": [
       "True"
      ]
     },
     "execution_count": 71,
     "metadata": {
      "tags": []
     },
     "output_type": "execute_result"
    }
   ],
   "source": [
    "not((2 < 3) and not (3 < 6))"
   ]
  },
  {
   "cell_type": "markdown",
   "metadata": {
    "id": "E44CfzhVvLyI"
   },
   "source": [
    "**bool(\"0\")**    \n",
    "**True** because the string `\"0\"` is not empty."
   ]
  },
  {
   "cell_type": "code",
   "execution_count": null,
   "metadata": {
    "id": "1WIhmED4vLyJ",
    "outputId": "4d9a13e7-5c89-4efd-bc3d-d9ea775b8ae2"
   },
   "outputs": [
    {
     "data": {
      "text/plain": [
       "True"
      ]
     },
     "execution_count": 70,
     "metadata": {
      "tags": []
     },
     "output_type": "execute_result"
    }
   ],
   "source": [
    "bool(\"0\")"
   ]
  },
  {
   "cell_type": "markdown",
   "metadata": {
    "id": "E1xXSypzvLyK"
   },
   "source": [
    "**bool(0) < bool(-1)**    \n",
    "**True** because `bool(0)` is False and `bool(-1)` is True. False is always less than True"
   ]
  },
  {
   "cell_type": "code",
   "execution_count": null,
   "metadata": {
    "id": "BqFJfTGDvLyL",
    "outputId": "a091ca31-1540-4c7f-8029-2183d331e33c"
   },
   "outputs": [
    {
     "data": {
      "text/plain": [
       "True"
      ]
     },
     "execution_count": 69,
     "metadata": {
      "tags": []
     },
     "output_type": "execute_result"
    }
   ],
   "source": [
    "bool(0) < bool(-1)"
   ]
  },
  {
   "cell_type": "markdown",
   "metadata": {
    "id": "67AVxO-zvLyM"
   },
   "source": [
    "## L3.P2\n",
    "For each of the following conditionals explain the result."
   ]
  },
  {
   "cell_type": "code",
   "execution_count": null,
   "metadata": {
    "id": "UBtLPWlgvLyN"
   },
   "outputs": [],
   "source": [
    "if school = \"Fairfield\":\n",
    "    mascot = \"Stags\"\n",
    "else: \n",
    "    mascot = \"Pioneers\"\n",
    "print (\"Go \" + mascot + \"!\")"
   ]
  },
  {
   "cell_type": "markdown",
   "metadata": {
    "id": "thOTCQnOvLyO"
   },
   "source": [
    "Assignment `=` is not the same as equivalence `==`."
   ]
  },
  {
   "cell_type": "code",
   "execution_count": null,
   "metadata": {
    "id": "Kr7pHh6tvLyP"
   },
   "outputs": [],
   "source": [
    "school = \"Sacred Heart\"\n",
    "if school = \"Fairfield\":\n",
    "    mascot = \"Stags\"\n",
    "else: \n",
    "    mascot = \"Pioneers\"\n",
    "print (\"Go \" + mascot + \"!\")"
   ]
  },
  {
   "cell_type": "markdown",
   "metadata": {
    "id": "NrIPGWYKvLyQ"
   },
   "source": [
    "Still doesn't work regardless of the school."
   ]
  },
  {
   "cell_type": "code",
   "execution_count": null,
   "metadata": {
    "id": "UJzkYWTEvLyQ"
   },
   "outputs": [],
   "source": [
    "school = \"Sacred Heart\"\n",
    "if school == \"Fairfield\":\n",
    "    mascot = \"Stags\"\n",
    "else: \n",
    "    mascot = \"Pioneers\"\n",
    "print (\"Go \" + mascot + \"!\")"
   ]
  },
  {
   "cell_type": "markdown",
   "metadata": {
    "id": "WgFNCdunvLyT"
   },
   "source": [
    "The `mascot` was selected by the `if` statement."
   ]
  },
  {
   "cell_type": "code",
   "execution_count": null,
   "metadata": {
    "id": "s2HwtHWDvLyT"
   },
   "outputs": [],
   "source": [
    "school = \"Sacred Heart\"\n",
    "print(\"Go \" + (\"Stags\" if school else \"Pioneers\") + \"!\")"
   ]
  },
  {
   "cell_type": "markdown",
   "metadata": {
    "id": "Exokh9bRvLyV"
   },
   "source": [
    "Used a one-line conditional expression as shown in the Pro Tips."
   ]
  },
  {
   "cell_type": "markdown",
   "metadata": {
    "id": "3tJcexKwvLyV"
   },
   "source": [
    "## L3.E1\n",
    "Extend the `waist2hip_ratio` calculation from Lesson 2 to indicate body shape. \n",
    "- Copy your `waist2_hip_ratio` code from Lesson 2. \n",
    "- Add an input() statement to ask for the person's `gender`. \n",
    "- Add logic to return print \"Your shape is Apple\" or \"Your shape is Pear\" depending on the ratio and `gender`. See [here](https://abcnews.go.com/Health/Fitness/story?id=5590968) for details. \n",
    "- Comments might be nice too."
   ]
  },
  {
   "cell_type": "code",
   "execution_count": null,
   "metadata": {
    "id": "MOHWarwKvLyV",
    "outputId": "4c583968-f1ea-4950-d422-675d9346288d"
   },
   "outputs": [
    {
     "name": "stdin",
     "output_type": "stream",
     "text": [
      "Waist 35\n",
      "Hip 42\n",
      "Gender M/F M\n"
     ]
    },
    {
     "name": "stdout",
     "output_type": "stream",
     "text": [
      "Your waist to hip ratio is 0.8333333333333334\n",
      "Your shape is Pear\n"
     ]
    }
   ],
   "source": [
    "# Ask for user input\n",
    "waist_str = input(\"Waist\")  # prompts for waist\n",
    "hip_str = input(\"Hip\")      # prompts for hip\n",
    "gender = input(\"Gender M/F\") # prompt for gender\n",
    "\n",
    "# Calculate the ratio\n",
    "waist2hip_ratio = float(waist_str) / float(hip_str)\n",
    "print(\"Your waist to hip ratio is\",waist2hip_ratio)\n",
    "\n",
    "if (waist2hip_ratio > .8 and gender == \"F\") or (waist2hip_ratio > .9 and gender == \"M\"):\n",
    "    print(\"Your shape is Apple\")\n",
    "else:\n",
    "    print(\"Your shape is Pear\")\n",
    "\n"
   ]
  },
  {
   "cell_type": "markdown",
   "metadata": {
    "id": "Jjlpizs9vLyX"
   },
   "source": [
    "## L3.E2\n",
    "Fix this conditional expression so that it makes logical sense. \n",
    "```python\n",
    "'hi ' + 'there' if nearby else 'over there' + ', how are you?'\n",
    "```\n",
    "Assume that `nearby` is either `True` or `False`. Also, use comments to document your assumptions.  \n",
    "\n",
    "Hints: \n",
    "- The expression is not runnable without adding code.\n",
    "- Test your code for both the case when `nearby` is `True` and when `nearby` is `False`.\n",
    "- PEMDAS applies to conditional expressions too."
   ]
  },
  {
   "cell_type": "code",
   "execution_count": null,
   "metadata": {
    "id": "i5nBNVXPvLyX",
    "outputId": "d2862b08-16f7-4ee8-b865-9d1a645f4290"
   },
   "outputs": [
    {
     "data": {
      "text/plain": [
       "'hi there, how are you?'"
      ]
     },
     "execution_count": 10,
     "metadata": {
      "tags": []
     },
     "output_type": "execute_result"
    }
   ],
   "source": [
    "nearby = True\n",
    "'hi ' + ('there' if nearby else 'over there') + ', how are you?'"
   ]
  },
  {
   "cell_type": "code",
   "execution_count": null,
   "metadata": {
    "id": "R8v6hgEivLyc"
   },
   "outputs": [],
   "source": [
    "Need to use parentheses around the conditionl expression"
   ]
  },
  {
   "cell_type": "markdown",
   "metadata": {
    "id": "6lHHsU3pvLye"
   },
   "source": [
    "# Lesson 4"
   ]
  },
  {
   "cell_type": "markdown",
   "metadata": {
    "id": "5t_2TZGuvLye"
   },
   "source": [
    "## L4.E1\n",
    "Repackage your `waist2hip_ratio` calculation from Lesson 3 as a function with the following requirements:\n",
    "- Name the function `w2h_ratio` with three parameters: `waist_inches`, `hip_inches`, `gender`\n",
    "- The function should return a string with the pattern \"For a G with waist W and hip H, the w2h ratio is R, with a shape S.\", where G, W, H, R, and S are placeholders for the actual values. (Be sure to use Pythonic names for any variables, however.)\n",
    "- Round the ratio R to 2 decimal places. \n",
    "- The shape S is either \"Apple\" or \"Pear\".\n",
    "- Do not use `input()` to get data. Let that be passed into the function via arguments. \n",
    "- `waist_inches` and `hip_inches` can be given as anything that can be converted to `floats`.\n",
    "- You will need to santize your inputs before doing the calculations. The waist and hip measurements should be in inches. The gender needs to be either \"M\" or \"F\". \n",
    "- If `waist_inches` or `hip_inches` are invalid then return the string \"w2h_ratio: Invalid measurement(s)\"\n",
    "- If the gender is not \"M\" or \"F\" then return the string \"w2h_ratio: Unknown gender\"\n",
    "\n",
    "Run the **unit tests** given below to check your work. **Do not modify the tests.** Instead, craft your code to pass all of the tests. The `%%unittest` output will tell yu which tests failed.  "
   ]
  },
  {
   "cell_type": "code",
   "execution_count": null,
   "metadata": {
    "id": "VjznAW7KvLyf"
   },
   "outputs": [],
   "source": [
    "def w2h_ratio(waist_inches, hip_inches, gender):\n",
    "    try:\n",
    "        waist = float(waist_inches)\n",
    "        hip = float(hip_inches)\n",
    "    except:\n",
    "        return \"w2h_ratio: Invalid measurement(s)\"\n",
    "    \n",
    "    if waist <= 0 or hip <= 0:\n",
    "        return \"w2h_ratio: Invalid measurement(s)\"\n",
    "    \n",
    "    if gender not in (\"F\",\"M\"):\n",
    "        return \"w2h_ratio: Unknown gender\"\n",
    "    \n",
    "    ratio_text = \"For a \" + gender +\" with waist \"+str(waist)+\" and hip \"+ str(hip)\n",
    "    \n",
    "    ratio = round(waist / hip,2)\n",
    "    ratio_text += \" the w2h ratio is \"+str(ratio)\n",
    "    \n",
    "    shape = \"Apple\" if (ratio > .8 and gender == \"F\") or (ratio > .9 and gender == \"M\") else \"Pear\"\n",
    "    ratio_text += \" with shape \"+shape+\".\"\n",
    "    \n",
    "    return ratio_text"
   ]
  },
  {
   "cell_type": "code",
   "execution_count": null,
   "metadata": {
    "id": "HFl9H19FvLyg",
    "outputId": "15632719-d58e-4e7a-f814-304302a31879"
   },
   "outputs": [
    {
     "name": "stdout",
     "output_type": "stream",
     "text": [
      "Requirement already satisfied: ipython_unittest in /Users/chuntley/anaconda3/lib/python3.7/site-packages (0.3.1)\n",
      "Requirement already satisfied: jupyter_dojo in /Users/chuntley/anaconda3/lib/python3.7/site-packages (0.3.2)\n",
      "Requirement already satisfied: ipython-unittest>=0.3.0 in /Users/chuntley/anaconda3/lib/python3.7/site-packages (from jupyter_dojo) (0.3.1)\n",
      "Requirement already satisfied: ipython>=1.0.0 in /Users/chuntley/anaconda3/lib/python3.7/site-packages (from jupyter_dojo) (7.13.0)\n",
      "Requirement already satisfied: notebook>=4.3.0 in /Users/chuntley/anaconda3/lib/python3.7/site-packages (from jupyter_dojo) (6.0.3)\n",
      "Requirement already satisfied: prompt-toolkit!=3.0.0,!=3.0.1,<3.1.0,>=2.0.0 in /Users/chuntley/anaconda3/lib/python3.7/site-packages (from ipython>=1.0.0->jupyter_dojo) (3.0.4)\n",
      "Requirement already satisfied: appnope; sys_platform == \"darwin\" in /Users/chuntley/anaconda3/lib/python3.7/site-packages (from ipython>=1.0.0->jupyter_dojo) (0.1.0)\n",
      "Requirement already satisfied: pygments in /Users/chuntley/anaconda3/lib/python3.7/site-packages (from ipython>=1.0.0->jupyter_dojo) (2.6.1)\n",
      "Requirement already satisfied: jedi>=0.10 in /Users/chuntley/anaconda3/lib/python3.7/site-packages (from ipython>=1.0.0->jupyter_dojo) (0.15.2)\n",
      "Requirement already satisfied: setuptools>=18.5 in /Users/chuntley/anaconda3/lib/python3.7/site-packages (from ipython>=1.0.0->jupyter_dojo) (46.1.3.post20200330)\n",
      "Requirement already satisfied: pickleshare in /Users/chuntley/anaconda3/lib/python3.7/site-packages (from ipython>=1.0.0->jupyter_dojo) (0.7.5)\n",
      "Requirement already satisfied: backcall in /Users/chuntley/anaconda3/lib/python3.7/site-packages (from ipython>=1.0.0->jupyter_dojo) (0.1.0)\n",
      "Requirement already satisfied: pexpect; sys_platform != \"win32\" in /Users/chuntley/anaconda3/lib/python3.7/site-packages (from ipython>=1.0.0->jupyter_dojo) (4.8.0)\n",
      "Requirement already satisfied: traitlets>=4.2 in /Users/chuntley/anaconda3/lib/python3.7/site-packages (from ipython>=1.0.0->jupyter_dojo) (4.3.3)\n",
      "Requirement already satisfied: decorator in /Users/chuntley/anaconda3/lib/python3.7/site-packages (from ipython>=1.0.0->jupyter_dojo) (4.4.2)\n",
      "Requirement already satisfied: ipython-genutils in /Users/chuntley/anaconda3/lib/python3.7/site-packages (from notebook>=4.3.0->jupyter_dojo) (0.2.0)\n",
      "Requirement already satisfied: jupyter-core>=4.6.1 in /Users/chuntley/anaconda3/lib/python3.7/site-packages (from notebook>=4.3.0->jupyter_dojo) (4.6.3)\n",
      "Requirement already satisfied: prometheus-client in /Users/chuntley/anaconda3/lib/python3.7/site-packages (from notebook>=4.3.0->jupyter_dojo) (0.7.1)\n",
      "Requirement already satisfied: pyzmq>=17 in /Users/chuntley/anaconda3/lib/python3.7/site-packages (from notebook>=4.3.0->jupyter_dojo) (18.1.1)\n",
      "Requirement already satisfied: ipykernel in /Users/chuntley/anaconda3/lib/python3.7/site-packages (from notebook>=4.3.0->jupyter_dojo) (5.1.4)\n",
      "Requirement already satisfied: jupyter-client>=5.3.4 in /Users/chuntley/anaconda3/lib/python3.7/site-packages (from notebook>=4.3.0->jupyter_dojo) (6.1.2)\n",
      "Requirement already satisfied: tornado>=5.0 in /Users/chuntley/anaconda3/lib/python3.7/site-packages (from notebook>=4.3.0->jupyter_dojo) (6.0.4)\n",
      "Requirement already satisfied: nbformat in /Users/chuntley/anaconda3/lib/python3.7/site-packages (from notebook>=4.3.0->jupyter_dojo) (5.0.4)\n",
      "Requirement already satisfied: Send2Trash in /Users/chuntley/anaconda3/lib/python3.7/site-packages (from notebook>=4.3.0->jupyter_dojo) (1.5.0)\n",
      "Requirement already satisfied: jinja2 in /Users/chuntley/anaconda3/lib/python3.7/site-packages (from notebook>=4.3.0->jupyter_dojo) (2.11.1)\n",
      "Requirement already satisfied: nbconvert in /Users/chuntley/anaconda3/lib/python3.7/site-packages (from notebook>=4.3.0->jupyter_dojo) (5.6.1)\n",
      "Requirement already satisfied: terminado>=0.8.1 in /Users/chuntley/anaconda3/lib/python3.7/site-packages (from notebook>=4.3.0->jupyter_dojo) (0.8.3)\n",
      "Requirement already satisfied: wcwidth in /Users/chuntley/anaconda3/lib/python3.7/site-packages (from prompt-toolkit!=3.0.0,!=3.0.1,<3.1.0,>=2.0.0->ipython>=1.0.0->jupyter_dojo) (0.1.9)\n",
      "Requirement already satisfied: parso>=0.5.2 in /Users/chuntley/anaconda3/lib/python3.7/site-packages (from jedi>=0.10->ipython>=1.0.0->jupyter_dojo) (0.5.2)\n",
      "Requirement already satisfied: ptyprocess>=0.5 in /Users/chuntley/anaconda3/lib/python3.7/site-packages (from pexpect; sys_platform != \"win32\"->ipython>=1.0.0->jupyter_dojo) (0.6.0)\n",
      "Requirement already satisfied: six in /Users/chuntley/anaconda3/lib/python3.7/site-packages (from traitlets>=4.2->ipython>=1.0.0->jupyter_dojo) (1.14.0)\n",
      "Requirement already satisfied: python-dateutil>=2.1 in /Users/chuntley/anaconda3/lib/python3.7/site-packages (from jupyter-client>=5.3.4->notebook>=4.3.0->jupyter_dojo) (2.8.1)\n",
      "Requirement already satisfied: jsonschema!=2.5.0,>=2.4 in /Users/chuntley/anaconda3/lib/python3.7/site-packages (from nbformat->notebook>=4.3.0->jupyter_dojo) (3.2.0)\n",
      "Requirement already satisfied: MarkupSafe>=0.23 in /Users/chuntley/anaconda3/lib/python3.7/site-packages (from jinja2->notebook>=4.3.0->jupyter_dojo) (1.1.1)\n",
      "Requirement already satisfied: defusedxml in /Users/chuntley/anaconda3/lib/python3.7/site-packages (from nbconvert->notebook>=4.3.0->jupyter_dojo) (0.6.0)\n",
      "Requirement already satisfied: entrypoints>=0.2.2 in /Users/chuntley/anaconda3/lib/python3.7/site-packages (from nbconvert->notebook>=4.3.0->jupyter_dojo) (0.3)\n",
      "Requirement already satisfied: testpath in /Users/chuntley/anaconda3/lib/python3.7/site-packages (from nbconvert->notebook>=4.3.0->jupyter_dojo) (0.4.4)\n",
      "Requirement already satisfied: bleach in /Users/chuntley/anaconda3/lib/python3.7/site-packages (from nbconvert->notebook>=4.3.0->jupyter_dojo) (3.1.0)\n",
      "Requirement already satisfied: mistune<2,>=0.8.1 in /Users/chuntley/anaconda3/lib/python3.7/site-packages (from nbconvert->notebook>=4.3.0->jupyter_dojo) (0.8.4)\n",
      "Requirement already satisfied: pandocfilters>=1.4.1 in /Users/chuntley/anaconda3/lib/python3.7/site-packages (from nbconvert->notebook>=4.3.0->jupyter_dojo) (1.4.2)\n",
      "Requirement already satisfied: pyrsistent>=0.14.0 in /Users/chuntley/anaconda3/lib/python3.7/site-packages (from jsonschema!=2.5.0,>=2.4->nbformat->notebook>=4.3.0->jupyter_dojo) (0.16.0)\n",
      "Requirement already satisfied: attrs>=17.4.0 in /Users/chuntley/anaconda3/lib/python3.7/site-packages (from jsonschema!=2.5.0,>=2.4->nbformat->notebook>=4.3.0->jupyter_dojo) (19.3.0)\n",
      "Requirement already satisfied: importlib-metadata; python_version < \"3.8\" in /Users/chuntley/anaconda3/lib/python3.7/site-packages (from jsonschema!=2.5.0,>=2.4->nbformat->notebook>=4.3.0->jupyter_dojo) (1.5.0)\n",
      "Requirement already satisfied: webencodings in /Users/chuntley/anaconda3/lib/python3.7/site-packages (from bleach->nbconvert->notebook>=4.3.0->jupyter_dojo) (0.5.1)\n",
      "Requirement already satisfied: zipp>=0.5 in /Users/chuntley/anaconda3/lib/python3.7/site-packages (from importlib-metadata; python_version < \"3.8\"->jsonschema!=2.5.0,>=2.4->nbformat->notebook>=4.3.0->jupyter_dojo) (2.2.0)\n"
     ]
    }
   ],
   "source": [
    "# Run this cell to install the ipython-unittest library. You can clear the cell ouput after running. \n",
    "!pip install ipython_unittest\n",
    "!pip install jupyter_dojo\n",
    "%load_ext ipython_unittest"
   ]
  },
  {
   "cell_type": "code",
   "execution_count": null,
   "metadata": {
    "id": "ajwAdj2YvLyi",
    "outputId": "d8b03d2f-7336-4333-c1ee-6d59604cb1ac"
   },
   "outputs": [
    {
     "data": {
      "application/unittest.status+json": {
       "color": "yellow",
       "message": "",
       "previous": 0
      },
      "text/plain": []
     },
     "metadata": {
      "tags": []
     },
     "output_type": "display_data"
    },
    {
     "data": {
      "application/unittest.status+json": {
       "color": "lightgreen",
       "message": "............\n----------------------------------------------------------------------\nRan 12 tests in 0.001s\n\nOK\n",
       "previous": 0
      },
      "text/plain": [
       "Success"
      ]
     },
     "metadata": {
      "tags": []
     },
     "output_type": "display_data"
    },
    {
     "name": "stdout",
     "output_type": "stream",
     "text": [
      "............\n",
      "----------------------------------------------------------------------\n",
      "Ran 12 tests in 0.001s\n",
      "\n",
      "OK\n"
     ]
    },
    {
     "data": {
      "text/plain": [
       "<unittest.runner.TextTestResult run=12 errors=0 failures=0>"
      ]
     },
     "execution_count": 25,
     "metadata": {
      "tags": []
     },
     "output_type": "execute_result"
    }
   ],
   "source": [
    "%%unittest\n",
    "\"function signature\"\n",
    "assert w2h_ratio(waist_inches=36,hip_inches=44,gender=\"M\") == 'For a M with waist 36.0 and hip 44.0 the w2h ratio is 0.82 with shape Pear.'\n",
    "\"divide by zero\"\n",
    "assert w2h_ratio(36,0,\"M\") == \"w2h_ratio: Invalid measurement(s)\"\n",
    "\"negative waist\"\n",
    "assert w2h_ratio(-36,44,\"M\") == \"w2h_ratio: Invalid measurement(s)\"\n",
    "\"negative hip\"\n",
    "assert w2h_ratio(36,-44,\"M\") == \"w2h_ratio: Invalid measurement(s)\"\n",
    "\"non-numercial waist\"\n",
    "assert w2h_ratio(\"36 and a half\",44,\"M\") == \"w2h_ratio: Invalid measurement(s)\"\n",
    "\"non-numercial hip\"\n",
    "assert w2h_ratio(\"36\",\"44 and a half\",\"M\") == \"w2h_ratio: Invalid measurement(s)\"\n",
    "\"numerical strings\"\n",
    "assert w2h_ratio(\"36\",\"44\",\"M\") == 'For a M with waist 36.0 and hip 44.0 the w2h ratio is 0.82 with shape Pear.'\n",
    "\"male Apple shape\"\n",
    "assert w2h_ratio(\"36\",\"38\",\"M\") == 'For a M with waist 36.0 and hip 38.0 the w2h ratio is 0.95 with shape Apple.'\n",
    "\"male Pear shape\"\n",
    "assert w2h_ratio(\"36\",\"42\",\"M\") == 'For a M with waist 36.0 and hip 42.0 the w2h ratio is 0.86 with shape Pear.'\n",
    "\"female Apple shape\"\n",
    "assert w2h_ratio(\"33\",\"36\",\"F\") == 'For a F with waist 33.0 and hip 36.0 the w2h ratio is 0.92 with shape Apple.'\n",
    "\"female Pear shape\"\n",
    "assert w2h_ratio(\"33\",\"44\",\"F\") == 'For a F with waist 33.0 and hip 44.0 the w2h ratio is 0.75 with shape Pear.'\n",
    "\"unknown gender\"\n",
    "assert w2h_ratio(36,44,\"B\") == \"w2h_ratio: Unknown gender\""
   ]
  },
  {
   "cell_type": "markdown",
   "metadata": {
    "id": "65V2nsVrvLyj"
   },
   "source": [
    "---\n",
    "# Lesson 5\n",
    "\n",
    "## L5.P1\n",
    "Consider this snippet of code: \n",
    "```python\n",
    "x = 22\n",
    "x *= 3\n",
    "x += 15\n",
    "x /= 3\n",
    "x -= 4\n",
    "```\n",
    "**1. What is the final value of `x`?**\n",
    "23\n",
    "**2. Combine the four updating steps into one statement (using just one update operator).** Hint: you may need to do a little middle school pre-algebra.    \n",
    "\n",
    "**x = (((3x)+15)/3)-4 = (3x +15)/3 -4 = (x + 5) - 4 = x + 1**    \n",
    "`x += 1`\n",
    "\n",
    "## L5.P2\n",
    "**1. What does the following code do?** Edit the Markdown cell to add a comment to each line and then a comment on the top of the code summarizing what it does.\n",
    "```python\n",
    "i = total = 0    # Initialize counter i and accumulator total\n",
    "while i <= 20:   # check to see if we're done\n",
    "    total += i   # add the count to the accumulator\n",
    "    i += 1       # update the count\n",
    "```\n",
    "\n",
    "Warning: without the `i += 1` we get an infinite loop. "
   ]
  },
  {
   "cell_type": "markdown",
   "metadata": {
    "id": "ISBUMmfivLyk"
   },
   "source": [
    "**2. How would you calculate the same result in one line without using a loop.** Hint: Gauss was a very smart and lazy child. Google it. \n",
    "\n",
    "Carl Friedrich Gauss was an all-time great mathematician. The Gauss as a [very smart and lazy child](https://www.nctm.org/Publications/Teaching-Children-Mathematics/Blog/The-Story-of-Gauss/#:~:text=I%20love%20the%20story%20of,to%20100%20to%20be%205%2C050.&text=50%20pairs%20%C3%97%20101%20(the,of%20each%20pair)%20%3D%205%2C050.) story is often used as evidence of his prodigious greatness. He also invented the Normal probability density function for multiple dimensions, which we sometimes call a Gaussian.\n",
    "\n",
    "Sum of integers up to N = N(N+1)/2"
   ]
  },
  {
   "cell_type": "code",
   "execution_count": null,
   "metadata": {
    "id": "XCaQ9UlmvLyk"
   },
   "outputs": [],
   "source": [
    "20*21/2"
   ]
  },
  {
   "cell_type": "markdown",
   "metadata": {
    "id": "LszXmJZOvLyl"
   },
   "source": [
    "## L5.P3\n",
    "**1. Replace the `while` loop below with an equivalent ` for` loop.**\n",
    "```python\n",
    "i = total = 0\n",
    "while i <= 20:\n",
    "    total += i\n",
    "    i += 1\n",
    "```"
   ]
  },
  {
   "cell_type": "code",
   "execution_count": null,
   "metadata": {
    "id": "PqnzJoDJvLym"
   },
   "outputs": [],
   "source": [
    "total = 0\n",
    "for i in range(21):\n",
    "    total += i"
   ]
  },
  {
   "cell_type": "markdown",
   "metadata": {
    "id": "qHs7G67ovLyn"
   },
   "source": [
    "**2. Explain what is happening in the code below. What does it tell us about how `for` loop indexes work in Python? How is it different from the way `while` loops work?** "
   ]
  },
  {
   "cell_type": "code",
   "execution_count": null,
   "metadata": {
    "id": "6x60WzogvLyo"
   },
   "outputs": [],
   "source": [
    "for i in range(1,10):\n",
    "    print(i)\n",
    "    i += 10\n",
    "    print(i)\n",
    "    print(\"---\")"
   ]
  },
  {
   "cell_type": "markdown",
   "metadata": {
    "id": "x_1wpCN5vLyp"
   },
   "source": [
    "The `for` clause at the top of the loop ignores whatever changes were made to `i` inside the loop. In a later lesson we will consider waht happens if the loop modifies the sequence represented here by the `range()` function."
   ]
  },
  {
   "cell_type": "markdown",
   "metadata": {
    "id": "TF887cpHvLyq"
   },
   "source": [
    "## L5.E1\n",
    "**Write a `for` loop to string together the first 20 natural numbers as a single integer. Then check to see if that integer is divisible by 3.** For the first 3 numbers the integer would be 123, which is 41*3."
   ]
  },
  {
   "cell_type": "code",
   "execution_count": 3,
   "metadata": {
    "id": "WAkdaDXjvLyq",
    "outputId": "d3bdefd3-4a9e-4513-98a2-247ab72656e1"
   },
   "outputs": [
    {
     "name": "stdout",
     "output_type": "stream",
     "text": [
      "1234567891011121314151617181920 is not divisible by 3\n"
     ]
    }
   ],
   "source": [
    "number = \"\"\n",
    "for i in range(1,21):\n",
    "    number += str(i)\n",
    "number = int(number)\n",
    "    \n",
    "if number % 3:\n",
    "    print(number,\"is divisible by 3\")\n",
    "else:\n",
    "    print(number,\"is not divisible by 3\")"
   ]
  },
  {
   "cell_type": "markdown",
   "metadata": {
    "id": "LpX8tEJ8vLys"
   },
   "source": [
    "## L5.E2\n",
    "**Rewrite this code so that it prints all powers of 2 up to 2<sup>20</sup> _without using * or ** or pow()_.**     \n",
    "```python\n",
    "i = 0            # initialize the counter variable\n",
    "while i <= 20:   # stop when i > 20 \n",
    "    print(i * i) # output i squared\n",
    "    i += 1       # update the counter\n",
    "```\n",
    "Hints: \n",
    "- Initialize and update an accumulator variable `power_of_2`. \n",
    "- One way to double something is to add it to itself."
   ]
  },
  {
   "cell_type": "code",
   "execution_count": null,
   "metadata": {
    "id": "hGTo2xb0vLys",
    "outputId": "ae9cd7f9-25d7-40da-ddf8-29e53fc279ba"
   },
   "outputs": [
    {
     "name": "stdout",
     "output_type": "stream",
     "text": [
      "0 1\n",
      "1 2\n",
      "2 4\n",
      "3 8\n",
      "4 16\n",
      "5 32\n",
      "6 64\n",
      "7 128\n",
      "8 256\n",
      "9 512\n",
      "10 1024\n",
      "11 2048\n",
      "12 4096\n",
      "13 8192\n",
      "14 16384\n",
      "15 32768\n",
      "16 65536\n",
      "17 131072\n",
      "18 262144\n",
      "19 524288\n",
      "20 1048576\n"
     ]
    }
   ],
   "source": [
    "i = 0 # initialize the counter variable\n",
    "power_of_2 = 1\n",
    "while i <= 20:   # stop when i > 20 \n",
    "    print(i, power_of_2) # output \n",
    "    power_of_2 += power_of_2\n",
    "    i += 1       # update the counter"
   ]
  },
  {
   "cell_type": "markdown",
   "metadata": {
    "id": "iad-4FcuvLyt"
   },
   "source": [
    "## L5.E3\n",
    "**Genius Challenge: Rewrite this code so that it prints every square up to 400 _without using * or ** or pow()_.** Take care not to ceate an infinite loop. \n",
    "```python\n",
    "odd = 1               # initialize our odd number sequence\n",
    "square = 0            # initialize the square number sequence\n",
    "while square < 400:   # stop when i > 20 \n",
    "    \n",
    "    # your code here\n",
    "    \n",
    "    print(square)     \n",
    "```\n",
    "Hints:\n",
    "- The first few squares are 1, 4, 9, 16, ...\n",
    "- You can generate a sequence of odd numbers by starting with 1 and incrementing by 2 each time: 1, 3, 5, 7, ...\n",
    "- The increment from each square n<sup>2</sup> to the next (n+1)<sup>2</sup> is an increasing sequence of odd numbers:  (n+1)<sup>2</sup> - n<sup>2</sup> = n<sup>2</sup> +  2n + 1 -  n<sup>2</sup> = 2n+1."
   ]
  },
  {
   "cell_type": "code",
   "execution_count": null,
   "metadata": {
    "id": "N43k5fyCvLyu",
    "outputId": "d444fa47-74f2-461b-f306-57b852a33351"
   },
   "outputs": [
    {
     "name": "stdout",
     "output_type": "stream",
     "text": [
      "1\n",
      "4\n",
      "9\n",
      "16\n",
      "25\n",
      "36\n",
      "49\n",
      "64\n",
      "81\n",
      "100\n",
      "121\n",
      "144\n",
      "169\n",
      "196\n",
      "225\n",
      "256\n",
      "289\n",
      "324\n",
      "361\n",
      "400\n"
     ]
    }
   ],
   "source": [
    "odd = 1               # initialize our odd number sequence\n",
    "square = 0            # initialize the square number sequence\n",
    "while square < 400:\n",
    "    \n",
    "    square += odd\n",
    "    odd += 2\n",
    "        \n",
    "    print(square)"
   ]
  },
  {
   "cell_type": "markdown",
   "metadata": {
    "id": "YPPZGf0ZvLyw"
   },
   "source": [
    "## L5.E4\n",
    "**Eternal Super-Genius Challenge: Write a snippet of code to print out the first 10 numbers in the [Fibonacci sequence](https://en.wikipedia.org/wiki/Fibonacci_number).** The first two numbers are given: 0 and 1. After that each additional number is based on a recursive formula.     \n",
    "\n",
    "Every programmer who has ever lived has attempted this exercise in some form or another. It's like the programmer version of long division. Try your best to get it right."
   ]
  },
  {
   "cell_type": "code",
   "execution_count": null,
   "metadata": {
    "id": "lcLoYX81vLyw",
    "outputId": "004e0be6-9b9d-4129-dadc-707d870ba6c6"
   },
   "outputs": [
    {
     "name": "stdout",
     "output_type": "stream",
     "text": [
      "0\n",
      "1\n",
      "1\n",
      "2\n",
      "3\n",
      "5\n",
      "8\n",
      "13\n",
      "21\n",
      "34\n"
     ]
    }
   ],
   "source": [
    "# Code to calculate the first 10 Fibonacci numbers.\n",
    "fib_lag2 = 0\n",
    "fib_lag1 = 1\n",
    "print(fib_lag2)\n",
    "print(fib_lag1)\n",
    "\n",
    "for i in range(2,10):\n",
    "    # calculate the next number in the sequence\n",
    "    fib = fib_lag1+fib_lag2\n",
    "    print(fib)\n",
    "    \n",
    "    fib_lag2 = fib_lag1\n",
    "    fib_lag1 = fib"
   ]
  },
  {
   "cell_type": "markdown",
   "metadata": {
    "id": "5LtSL_7tvLyy"
   },
   "source": [
    "# Lesson 6"
   ]
  },
  {
   "cell_type": "markdown",
   "metadata": {
    "id": "EOIhNfKKvLyy"
   },
   "source": [
    "## L6.P1\n",
    "**1. Why do we need three different quoting mechanisms in Python?**    \n",
    "- Single quotes are the baseline. Pyhton uses these when it can.\n",
    "- Double quotes allow us to use quotes inside of quotes.\n",
    "- Triple quotes all quotes to span multiple lines\n",
    "\n",
    "**2. Why does the following code fail?**\n",
    "```python\n",
    "x = \"ABD\"\n",
    "x[2]=\"C\"\n",
    "\n",
    "```\n",
    "String are immutable. We can create new strings but can't alter existing ones, even if we use variables. "
   ]
  },
  {
   "cell_type": "markdown",
   "metadata": {
    "id": "vXazXxDCvLyz"
   },
   "source": [
    "## L6.P2\n",
    "**1. What does the following code do?** You will likely want to consult the [Python docs](https://docs.python.org/3/library/functions.html#slice). Be sure to explain what the third slice argument does."
   ]
  },
  {
   "cell_type": "code",
   "execution_count": null,
   "metadata": {
    "id": "Loha31a4vLyz"
   },
   "outputs": [],
   "source": [
    "\"Go Stags!\"[::-1]"
   ]
  },
  {
   "cell_type": "markdown",
   "metadata": {
    "id": "_mE62DMRvLy1"
   },
   "source": [
    "It works backwards from the end of the string. The third splice argument is the step size, which when negative steps backwards."
   ]
  },
  {
   "cell_type": "markdown",
   "metadata": {
    "id": "lpEVPG76vLy1"
   },
   "source": [
    "**2. Rewrite the code from question 1 so that it prints the (reversed) characters one per line.**"
   ]
  },
  {
   "cell_type": "code",
   "execution_count": null,
   "metadata": {
    "id": "uBTfSqlSvLy2"
   },
   "outputs": [],
   "source": [
    "for c in \"Go Stags!\"[::-1]:\n",
    "    print(c)"
   ]
  },
  {
   "cell_type": "markdown",
   "metadata": {
    "id": "2J0s8yhDvLy4"
   },
   "source": [
    "## L6.P3\n",
    "**1. Why doesn't this expression return `True`?**\n",
    "```python\n",
    "\"a\" in \"Apple\"\n",
    "```\n",
    "Because Python strings are case sensitive.\n",
    "\n",
    "**2. Explain the output of the following code. How did Python choose the sequence?**\n",
    "```python\n",
    "for c in sorted(\"Go Stags!\"):\n",
    "    print(c)\n",
    "```\n",
    "The `sorted()` function sorts the characters before the for loop iterates over them. \n",
    "\n",
    "**3. Study the two operations below. The first one fails (with an error) while the second one executes cleanly. Why do you suppose that is true?** Hint: The answer says a lot about the nature of strings versus numbers for encoding data.\n",
    "```python\n",
    "\"The Red Sox have %d World Series Championships\" % \"9\"\n",
    "\"The Red Sox have %s World Series Championships\" % 9\n",
    "```\n",
    "\n",
    "Because just about anything can be converted into a string but not vice-versa. "
   ]
  },
  {
   "cell_type": "markdown",
   "metadata": {
    "id": "yzDpmW3ZvLy4"
   },
   "source": [
    "## L6.P4\n",
    "**Write an expression to count the number of sentences in the Gettysburg address.** Assume that each sentence ends with a period. It is possible to use just one expression (without a statement), though it's okay to use an assignment statement and an expression. Any more than that is just verbose!\n",
    "\n",
    "> Four score and seven years ago our fathers brought forth on this continent, a new nation, conceived in Liberty, and dedicated to the proposition that all men are created equal.\n",
    "Now we are engaged in a great civil war, testing whether that nation, or any nation so conceived and so dedicated, can long endure. We are met on a great battle-field of that war. We have come to dedicate a portion of that field, as a final resting place for those who here gave their lives that that nation might live. It is altogether fitting and proper that we should do this.\n",
    ">\n",
    ">But, in a larger sense, we can not dedicate—we can not consecrate—we can not hallow—this ground. The brave men, living and dead, who struggled here, have consecrated it, far above our poor power to add or detract. The world will little note, nor long remember what we say here, but it can never forget what they did here. It is for us the living, rather, to be dedicated here to the unfinished work which they who fought here have thus far so nobly advanced. It is rather for us to be here dedicated to the great task remaining before us—that from these honored dead we take increased devotion to that cause for which they gave the last full measure of devotion—that we here highly resolve that these dead shall not have died in vain—that this nation, under God, shall have a new birth of freedom—and that government of the people, by the people, for the people, shall not perish from the earth."
   ]
  },
  {
   "cell_type": "code",
   "execution_count": null,
   "metadata": {
    "colab": {
     "base_uri": "https://localhost:8080/",
     "height": 34
    },
    "executionInfo": {
     "elapsed": 731,
     "status": "ok",
     "timestamp": 1593539212222,
     "user": {
      "displayName": "Christopher Huntley",
      "photoUrl": "",
      "userId": "11069151036176747256"
     },
     "user_tz": 240
    },
    "id": "-UoibxodvLy5",
    "outputId": "9995da42-36c4-4d19-8227-c5d94c872c72"
   },
   "outputs": [
    {
     "data": {
      "text/plain": [
       "10"
      ]
     },
     "execution_count": 11,
     "metadata": {
      "tags": []
     },
     "output_type": "execute_result"
    }
   ],
   "source": [
    "'''\n",
    "Four score and seven years ago our fathers brought forth on this continent, a new nation, conceived in Liberty, and dedicated to the proposition that all men are created equal. Now we are engaged in a great civil war, testing whether that nation, or any nation so conceived and so dedicated, can long endure. We are met on a great battle-field of that war. We have come to dedicate a portion of that field, as a final resting place for those who here gave their lives that that nation might live. It is altogether fitting and proper that we should do this.\n",
    "\n",
    "But, in a larger sense, we can not dedicate—we can not consecrate—we can not hallow—this ground. The brave men, living and dead, who struggled here, have consecrated it, far above our poor power to add or detract. The world will little note, nor long remember what we say here, but it can never forget what they did here. It is for us the living, rather, to be dedicated here to the unfinished work which they who fought here have thus far so nobly advanced. It is rather for us to be here dedicated to the great task remaining before us—that from these honored dead we take increased devotion to that cause for which they gave the last full measure of devotion—that we here highly resolve that these dead shall not have died in vain—that this nation, under God, shall have a new birth of freedom—and that government of the people, by the people, for the people, shall not perish from the earth.\n",
    "'''.count(\".\")"
   ]
  },
  {
   "cell_type": "markdown",
   "metadata": {
    "id": "xVcQikicvLy6"
   },
   "source": [
    "## L6.E1\n",
    "**Rewrite your `waist2hip_ratio()` function from Lesson 4 to use the formatting operator `%` for the output string.** you will need to use a tuple for the 4 placeholder insertions."
   ]
  },
  {
   "cell_type": "code",
   "execution_count": null,
   "metadata": {
    "colab": {
     "base_uri": "https://localhost:8080/",
     "height": 35
    },
    "executionInfo": {
     "elapsed": 609,
     "status": "ok",
     "timestamp": 1593539633523,
     "user": {
      "displayName": "Christopher Huntley",
      "photoUrl": "",
      "userId": "11069151036176747256"
     },
     "user_tz": 240
    },
    "id": "nR4DckHKvLy6",
    "outputId": "54595d37-44ce-49f5-d6cb-4e051f2cd951"
   },
   "outputs": [
    {
     "data": {
      "application/vnd.google.colaboratory.intrinsic": {
       "type": "string"
      },
      "text/plain": [
       "'For a M with waist 35 and hip 40 the w2h ratio is 0.88 with shape Pear.'"
      ]
     },
     "execution_count": 14,
     "metadata": {
      "tags": []
     },
     "output_type": "execute_result"
    }
   ],
   "source": [
    "def waist2hip_ratio(waist_inches, hip_inches, gender):\n",
    "    try:\n",
    "        waist = float(waist_inches)\n",
    "        hip = float(hip_inches)\n",
    "    except:\n",
    "        return \"w2h_ratio: Invalid measurement(s)\"\n",
    "    \n",
    "    if waist <= 0 or hip <= 0:\n",
    "        return \"w2h_ratio: Invalid measurement(s)\"\n",
    "    \n",
    "    if gender not in (\"F\",\"M\"):\n",
    "        return \"w2h_ratio: Unknown gender\"\n",
    "    \n",
    "    ratio = round(waist / hip,2)\n",
    "    shape = \"Apple\" if (ratio > .8 and gender == \"F\") or (ratio > .9 and gender == \"M\") else \"Pear\"\n",
    "    ratio_text = \"For a %s with waist %g and hip %g the w2h ratio is %g with shape %s.\" % (gender,waist,hip,ratio,shape)\n",
    "\n",
    "    return ratio_text \n",
    "\n",
    "waist2hip_ratio(35,40,'M')"
   ]
  },
  {
   "cell_type": "markdown",
   "metadata": {
    "id": "itJ5_QBZvLy8"
   },
   "source": [
    "## L6.E2\n",
    "**Write a function called `char_rotate()` that moves the first character of a string to the end of the string.** The function has one parameter (the string) and returns a new string with the first character rotated to the end."
   ]
  },
  {
   "cell_type": "code",
   "execution_count": null,
   "metadata": {
    "id": "eOVEV4mQvLy8",
    "outputId": "c8555654-0ea5-4786-9571-b01f47bb2fc5"
   },
   "outputs": [
    {
     "data": {
      "text/plain": [
       "'atinL'"
      ]
     },
     "execution_count": 26,
     "metadata": {
      "tags": []
     },
     "output_type": "execute_result"
    }
   ],
   "source": [
    "def char_rotate(s):\n",
    "    if s:\n",
    "        return s[1:]+s[0]\n",
    "char_rotate(\"Latin\")"
   ]
  },
  {
   "cell_type": "code",
   "execution_count": null,
   "metadata": {},
   "outputs": [],
   "source": []
  },
  {
   "cell_type": "markdown",
   "metadata": {
    "id": "IVh0LDMCvLy9"
   },
   "source": [
    "## L6.E3\n",
    "**Write a function called `igpay()` that takes in a word and returns the pig latin equivalent.**\n",
    "- Convert every letter to upper case. Latin does not have lowercase letters. \n",
    "- If the word starts with a vowel, then add \"YAY\" to the end of the word.\n",
    "- if the word starts with one or more consonants in a row, then move the consonants to the end (so the word starts with a vowel) and add \"AY\"\n",
    "- If the word does not contain at least one vowel then just return the word\n",
    "- Look out for infinite loops! Interrupt/restart the runtime if needed.\n",
    "- There should not be any `print()` calls in your code.\n",
    "\n",
    "Hints: \n",
    "- Use your `char_rotate()` function from exercise 2.\n",
    "- There may be a string method or two that can simplify your code.\n",
    "- `igpay(\"pig\")` returns \"IGPAY\"\n",
    "- `igpay(\"art\")` returns \"ARTAY\"\n",
    "- `igpay(\"thx\")` returns \"thx\"\n",
    "- `igpay(\"\")`  returns \"\""
   ]
  },
  {
   "cell_type": "code",
   "execution_count": null,
   "metadata": {
    "id": "oN3aBr67vLy-",
    "outputId": "4294b1d8-3377-48ef-c142-5c7ebcc49b89"
   },
   "outputs": [
    {
     "name": "stdout",
     "output_type": "stream",
     "text": [
      "IGPAY\n",
      "ARTYAY\n",
      "ths\n",
      "\n"
     ]
    }
   ],
   "source": [
    "def igpay(word):\n",
    "    w = word.upper()  # convert to upper case letters\n",
    "    \n",
    "    # we could also iterate through a list of vowels but we don't know lists yet\n",
    "    if not w or w.find(\"A\")<0 and w.find(\"E\")<0 and w.find(\"I\")<0 and  w.find(\"O\")<0 and  w.find(\"U\")<0:\n",
    "        return word\n",
    "    \n",
    "    \n",
    "    if w[0] in \"AEIOU\":\n",
    "        return w+\"YAY\"\n",
    "    \n",
    "    while w[0] not in \"AEIOU\":\n",
    "        w = char_rotate(w)\n",
    "    return w+\"AY\"\n",
    "\n",
    "print(igpay(\"pig\"))\n",
    "print(igpay(\"art\"))\n",
    "print(igpay(\"thx\"))\n",
    "print(igpay(\"\"))\n",
    "\n"
   ]
  },
  {
   "cell_type": "markdown",
   "metadata": {
    "id": "0NN2Q3aovLzA"
   },
   "source": [
    "## L6.E4\n",
    "**Write a function called `roman2int()` that converts a roman numeral string to an integer.** So, `roman2int(\"XXIX\")` returns 29 and `roman2int(\"MCMXCIX\")` returns 1999. \n",
    "\n",
    "Requirements:\n",
    "- The function has a single parameter called `roman_numeral` that must be a string. \n",
    "- Iterate over the string with a `while` loop with two loop variables and a stopping condition:\n",
    "  - `int_value` is an accumulator for the integer value of the roman characters processed so far.\n",
    "  - `remaining` is used to keep track of the romain characters remaining. It is like the `digits` variable we used wth long division. \n",
    "  - The loop terminates when `remaining` is an empty string.\n",
    "  - Don't forget to initialize the variables before entering the loop.\n",
    "- Each pass through, use a slice or string method to compare the head of `remaining` with one of the following patterns (with integer equivalents provided):\n",
    "  - \"IV\" = 4\n",
    "  - \"IX\" = 9\n",
    "  - \"XL\" = 40\n",
    "  - \"XC\" = 90\n",
    "  - \"CD\" = 400\n",
    "  - \"CM\" = 900\n",
    "  - \"I\" = 1\n",
    "  - \"V\" = 5\n",
    "  - \"X\" = 10\n",
    "  - \"L\" = 50\n",
    "  - \"C\" = 100\n",
    "  - \"D\" = 500\n",
    "  - \"M\" = 1000\n",
    "  - any other character = 0\n",
    "- Compare the patterns in the order given above using an `if ... elif` statement with 14 clauses. If a pattern matches then \n",
    "  - Update `int_value` by adding the appropriate integer.\n",
    "  - Update `remaining` by removing the matched pattern from the head of string. Note: you can do with with a slice to the right of the `=`."
   ]
  },
  {
   "cell_type": "code",
   "execution_count": null,
   "metadata": {
    "id": "VBvs-H8KvLzA",
    "outputId": "fa98f8a0-d924-494d-dac2-b61550b8d6c3"
   },
   "outputs": [
    {
     "name": "stdout",
     "output_type": "stream",
     "text": [
      "29\n",
      "1999\n",
      "34\n"
     ]
    }
   ],
   "source": [
    "def roman2int(roman_numeral):\n",
    "    \n",
    "    # initialize loop variables\n",
    "    remaining = str(roman_numeral)\n",
    "    int_value = 0\n",
    "    \n",
    "    while remaining: \n",
    "        if remaining.startswith(\"IV\"):\n",
    "            remaining = remaining[2:]\n",
    "            int_value += 4\n",
    "        elif remaining.startswith(\"IX\"):\n",
    "            remaining = remaining[2:]\n",
    "            int_value += 9\n",
    "        elif remaining.startswith(\"XL\"):\n",
    "            remaining = remaining[2:]\n",
    "            int_value += 40\n",
    "        elif remaining.startswith(\"XC\"):\n",
    "            remaining = remaining[2:]\n",
    "            int_value += 90\n",
    "        elif remaining.startswith(\"CD\"):\n",
    "            remaining = remaining[2:]\n",
    "            int_value += 400\n",
    "        elif remaining.startswith(\"CM\"):\n",
    "            remaining = remaining[2:]\n",
    "            int_value += 900\n",
    "        elif remaining.startswith(\"I\"):\n",
    "            remaining = remaining[1:]\n",
    "            int_value += 1\n",
    "        elif remaining.startswith(\"V\"):\n",
    "            remaining = remaining[1:]\n",
    "            int_value += 5\n",
    "        elif remaining.startswith(\"X\"):\n",
    "            remaining = remaining[1:]\n",
    "            int_value += 10\n",
    "        elif remaining.startswith(\"L\"):\n",
    "            remaining = remaining[1:]\n",
    "            int_value += 50\n",
    "        elif remaining.startswith(\"C\"):\n",
    "            remaining = remaining[1:]\n",
    "            int_value += 100\n",
    "        elif remaining.startswith(\"D\"):\n",
    "            remaining = remaining[1:]\n",
    "            int_value += 500\n",
    "        elif remaining.startswith(\"M\"):\n",
    "            remaining = remaining[1:]\n",
    "            int_value += 1000\n",
    "        else:\n",
    "            remaining = remaining[1:]\n",
    "    return int_value\n",
    "\n",
    "print(roman2int(\"XXIX\"))\n",
    "print(roman2int(\"MCMXCIX\"))\n",
    "print(roman2int(\"Super Bowl XXXIV\"))"
   ]
  },
  {
   "cell_type": "markdown",
   "metadata": {
    "id": "nNyKB6davLzB"
   },
   "source": [
    "# Lesson 7\n",
    "## L7.E1\n",
    "**Run the cell below in Colab.**"
   ]
  },
  {
   "cell_type": "code",
   "execution_count": null,
   "metadata": {
    "colab": {
     "base_uri": "https://localhost:8080/",
     "height": 51
    },
    "executionInfo": {
     "elapsed": 630,
     "status": "ok",
     "timestamp": 1593539252102,
     "user": {
      "displayName": "Christopher Huntley",
      "photoUrl": "",
      "userId": "11069151036176747256"
     },
     "user_tz": 240
    },
    "id": "nlwgBTz7vLzB",
    "outputId": "d40eb9db-02ee-4db7-d060-61f858ea07d3"
   },
   "outputs": [
    {
     "name": "stdout",
     "output_type": "stream",
     "text": [
      "/content\n",
      "../Users/chuntley/GitRepos/BUAN5405/BUAN5405-docs\n"
     ]
    }
   ],
   "source": [
    "import os, os.path  # Load modules from standard lib\n",
    "\n",
    "# the absolute path from a relative path\n",
    "print(os.path.abspath('.'))  # the current folder is indicated by .\n",
    "\n",
    "# the relative path from the current folder to another location\n",
    "print(os.path.relpath('/Users/chuntley/GitRepos/BUAN5405/BUAN5405-docs'))"
   ]
  },
  {
   "cell_type": "markdown",
   "metadata": {
    "id": "n3RFRuaVvLzD"
   },
   "source": [
    "**Compare the output with the paths shown below, which were created when the code was run in JupyterLab on a laptop:**\n",
    "```\n",
    "/Users/chuntley/GitRepos/BUAN5405/BUAN5405-lessons\n",
    "../BUAN5405-docs\n",
    "```\n",
    "**What does the difference tell you about how Google Colab works?**"
   ]
  },
  {
   "cell_type": "markdown",
   "metadata": {
    "id": "v13IUz30vLzE"
   },
   "source": [
    "All notebooks in Colab all notebooks, regardless of where the files are physically located, think they are located at `/content`. That can be pretty confusing at first. **We have to use absolute paths for everything. It is as if the notebook is running on a different computer from its own file.** "
   ]
  },
  {
   "cell_type": "markdown",
   "metadata": {
    "id": "FgrNXGf0vLzF"
   },
   "source": [
    "# Lesson 8\n",
    "## L8.P1\n",
    "**Rewrite the code below so that it inserts `[\"a\",\"b\",\"c\",\"d\"]` as a nested list.** The result should be `[1, ['a', 'b', 'c', 'd'], 2, 3, 4]`"
   ]
  },
  {
   "cell_type": "code",
   "execution_count": null,
   "metadata": {
    "id": "XnLGL4APvLzF",
    "outputId": "113ff3db-b0a3-49c3-dca2-59fc3af4939c"
   },
   "outputs": [
    {
     "name": "stdout",
     "output_type": "stream",
     "text": [
      "[1, ['a', 'b', 'c', 'd'], 2, 3, 4]\n"
     ]
    }
   ],
   "source": [
    "my_list = [1,2,3,4]\n",
    "my_list[1:1] = [[\"a\",\"b\",\"c\",\"d\"]]\n",
    "my_list"
   ]
  },
  {
   "cell_type": "markdown",
   "metadata": {
    "id": "d5_Zol1PvLzG"
   },
   "source": [
    "## L8.P2\n",
    "**Write a function called `mirror()` that returns the reverse of a string appended to itself.**\n",
    "`mirror(\"Go Stags!\")` returns `'Go Stags!!sgatS oG'`"
   ]
  },
  {
   "cell_type": "code",
   "execution_count": null,
   "metadata": {
    "id": "XQrxtX5DvLzH",
    "outputId": "456e3894-a68b-4d2b-fbcc-2208664a2859"
   },
   "outputs": [
    {
     "name": "stdout",
     "output_type": "stream",
     "text": [
      "Go Stags!!sgatS oG\n"
     ]
    }
   ],
   "source": [
    "# Version 1: using string slices\n",
    "def mirror(s):\n",
    "  return s + s[::-1]\n",
    "print(mirror(\"Go Stags!\"))"
   ]
  },
  {
   "cell_type": "code",
   "execution_count": null,
   "metadata": {
    "id": "3X8FHqHPvLzK",
    "outputId": "13d3db1d-cdec-4021-af54-03a71bf3e8b9"
   },
   "outputs": [
    {
     "ename": "TypeError",
     "evalue": "can only concatenate list (not \"NoneType\") to list",
     "output_type": "error",
     "traceback": [
      "\u001b[0;31m---------------------------------------------------------------------------\u001b[0m",
      "\u001b[0;31mTypeError\u001b[0m                                 Traceback (most recent call last)",
      "\u001b[0;32m<ipython-input-18-0844668e9e88>\u001b[0m in \u001b[0;36m<module>\u001b[0;34m\u001b[0m\n\u001b[1;32m      4\u001b[0m   \u001b[0mlst_rev\u001b[0m \u001b[0;34m=\u001b[0m \u001b[0mlist\u001b[0m\u001b[0;34m(\u001b[0m\u001b[0ms\u001b[0m\u001b[0;34m)\u001b[0m\u001b[0;34m.\u001b[0m\u001b[0mreverse\u001b[0m\u001b[0;34m(\u001b[0m\u001b[0;34m)\u001b[0m\u001b[0;34m\u001b[0m\u001b[0;34m\u001b[0m\u001b[0m\n\u001b[1;32m      5\u001b[0m   \u001b[0;32mreturn\u001b[0m \u001b[0mlst\u001b[0m \u001b[0;34m+\u001b[0m \u001b[0mlst_rev\u001b[0m\u001b[0;34m\u001b[0m\u001b[0;34m\u001b[0m\u001b[0m\n\u001b[0;32m----> 6\u001b[0;31m \u001b[0mprint\u001b[0m\u001b[0;34m(\u001b[0m\u001b[0mmirror\u001b[0m\u001b[0;34m(\u001b[0m\u001b[0;34m\"Go Stags!\"\u001b[0m\u001b[0;34m)\u001b[0m\u001b[0;34m)\u001b[0m\u001b[0;34m\u001b[0m\u001b[0;34m\u001b[0m\u001b[0m\n\u001b[0m",
      "\u001b[0;32m<ipython-input-18-0844668e9e88>\u001b[0m in \u001b[0;36mmirror\u001b[0;34m(s)\u001b[0m\n\u001b[1;32m      3\u001b[0m   \u001b[0mlst\u001b[0m \u001b[0;34m=\u001b[0m \u001b[0mlist\u001b[0m\u001b[0;34m(\u001b[0m\u001b[0ms\u001b[0m\u001b[0;34m)\u001b[0m\u001b[0;34m\u001b[0m\u001b[0;34m\u001b[0m\u001b[0m\n\u001b[1;32m      4\u001b[0m   \u001b[0mlst_rev\u001b[0m \u001b[0;34m=\u001b[0m \u001b[0mlist\u001b[0m\u001b[0;34m(\u001b[0m\u001b[0ms\u001b[0m\u001b[0;34m)\u001b[0m\u001b[0;34m.\u001b[0m\u001b[0mreverse\u001b[0m\u001b[0;34m(\u001b[0m\u001b[0;34m)\u001b[0m\u001b[0;34m\u001b[0m\u001b[0;34m\u001b[0m\u001b[0m\n\u001b[0;32m----> 5\u001b[0;31m   \u001b[0;32mreturn\u001b[0m \u001b[0mlst\u001b[0m \u001b[0;34m+\u001b[0m \u001b[0mlst_rev\u001b[0m\u001b[0;34m\u001b[0m\u001b[0;34m\u001b[0m\u001b[0m\n\u001b[0m\u001b[1;32m      6\u001b[0m \u001b[0mprint\u001b[0m\u001b[0;34m(\u001b[0m\u001b[0mmirror\u001b[0m\u001b[0;34m(\u001b[0m\u001b[0;34m\"Go Stags!\"\u001b[0m\u001b[0;34m)\u001b[0m\u001b[0;34m)\u001b[0m\u001b[0;34m\u001b[0m\u001b[0;34m\u001b[0m\u001b[0m\n",
      "\u001b[0;31mTypeError\u001b[0m: can only concatenate list (not \"NoneType\") to list"
     ]
    }
   ],
   "source": [
    "# Version 2: using the reversed method\n",
    "def mirror(s):\n",
    "  lst = list(s)\n",
    "  lst_rev = list(s).reverse()\n",
    "  return lst + lst_rev\n",
    "print(mirror(\"Go Stags!\"))"
   ]
  },
  {
   "cell_type": "code",
   "execution_count": null,
   "metadata": {
    "id": "jb5AmODMvLzL",
    "outputId": "dd993842-5394-486a-a9ec-64d5972b8e59"
   },
   "outputs": [
    {
     "name": "stdout",
     "output_type": "stream",
     "text": [
      "['G', 'o', ' ', 'S', 't', 'a', 'g', 's', '!', '!', 's', 'g', 'a', 't', 'S', ' ', 'o', 'G']\n"
     ]
    }
   ],
   "source": [
    "# Version 3: reversing after copying\n",
    "def mirror(s):\n",
    "  lst = list(s)\n",
    "  lst_rev = list(s)\n",
    "  lst_rev.reverse()\n",
    "  return lst + lst_rev\n",
    "print(mirror(\"Go Stags!\"))"
   ]
  },
  {
   "cell_type": "code",
   "execution_count": null,
   "metadata": {
    "id": "dnZmUxmCvLzN",
    "outputId": "08712764-f68a-4aa5-ca68-9f001929eecd"
   },
   "outputs": [
    {
     "name": "stdout",
     "output_type": "stream",
     "text": [
      "['G', 'o', ' ', 'S', 't', 'a', 'g', 's', '!', '!', 's', 'g', 'a', 't', 'S', ' ', 'o', 'G']\n"
     ]
    }
   ],
   "source": [
    "def mirror(s):\n",
    "    lst = list(s)\n",
    "    lst_rev = list(reversed(list(s)))\n",
    "    return lst + lst_rev \n",
    "print(mirror(\"Go Stags!\"))"
   ]
  },
  {
   "cell_type": "code",
   "execution_count": null,
   "metadata": {
    "id": "NMOlKgIVvLzO",
    "outputId": "f27baa61-1182-467b-db8e-c5863b2d19b3"
   },
   "outputs": [
    {
     "name": "stdout",
     "output_type": "stream",
     "text": [
      "Go Stags!!sgatS oG\n"
     ]
    }
   ],
   "source": [
    "# Version 4: Converting back to string\n",
    "def mirror(s):\n",
    "  lst = list(s)\n",
    "  lst_rev = list(s)\n",
    "  lst_rev.reverse()\n",
    "  return \"\".join(lst + lst_rev)   # stitches the characters into a string\n",
    "print(mirror(\"Go Stags!\"))"
   ]
  },
  {
   "cell_type": "markdown",
   "metadata": {
    "id": "cU6oqAl1vLzP"
   },
   "source": [
    "## L8.P3"
   ]
  },
  {
   "cell_type": "code",
   "execution_count": 1,
   "metadata": {
    "id": "Eb-QVi-ZvLzQ",
    "outputId": "d6de59af-0756-4859-fe8a-970a97976bd5"
   },
   "outputs": [
    {
     "name": "stdout",
     "output_type": "stream",
     "text": [
      "Go Stags!!sgatS oG\n"
     ]
    }
   ],
   "source": [
    "# Previous solution with reverse() method\n",
    "def mirror(s):\n",
    "  lst = list(s)\n",
    "  lst_rev = list(s)\n",
    "  lst_rev.reverse()\n",
    "  return \"\".join(lst + lst_rev)\n",
    "print(mirror(\"Go Stags!\"))"
   ]
  },
  {
   "cell_type": "code",
   "execution_count": null,
   "metadata": {
    "id": "k9sS_1szvLzR",
    "outputId": "087b59f5-a53a-4e41-cf47-a5f44a38cd75"
   },
   "outputs": [
    {
     "ename": "TypeError",
     "evalue": "can only concatenate list (not \"list_reverseiterator\") to list",
     "output_type": "error",
     "traceback": [
      "\u001b[0;31m---------------------------------------------------------------------------\u001b[0m",
      "\u001b[0;31mTypeError\u001b[0m                                 Traceback (most recent call last)",
      "\u001b[0;32m<ipython-input-24-70ed8704a4bb>\u001b[0m in \u001b[0;36m<module>\u001b[0;34m\u001b[0m\n\u001b[1;32m      4\u001b[0m   \u001b[0mlst_rev\u001b[0m \u001b[0;34m=\u001b[0m \u001b[0mreversed\u001b[0m\u001b[0;34m(\u001b[0m\u001b[0mlst\u001b[0m\u001b[0;34m)\u001b[0m\u001b[0;34m\u001b[0m\u001b[0;34m\u001b[0m\u001b[0m\n\u001b[1;32m      5\u001b[0m   \u001b[0;32mreturn\u001b[0m \u001b[0;34m\"\"\u001b[0m\u001b[0;34m.\u001b[0m\u001b[0mjoin\u001b[0m\u001b[0;34m(\u001b[0m\u001b[0mlst\u001b[0m \u001b[0;34m+\u001b[0m \u001b[0mlst_rev\u001b[0m\u001b[0;34m)\u001b[0m\u001b[0;34m\u001b[0m\u001b[0;34m\u001b[0m\u001b[0m\n\u001b[0;32m----> 6\u001b[0;31m \u001b[0mprint\u001b[0m\u001b[0;34m(\u001b[0m\u001b[0mmirror\u001b[0m\u001b[0;34m(\u001b[0m\u001b[0;34m\"Go Stags!\"\u001b[0m\u001b[0;34m)\u001b[0m\u001b[0;34m)\u001b[0m\u001b[0;34m\u001b[0m\u001b[0;34m\u001b[0m\u001b[0m\n\u001b[0m",
      "\u001b[0;32m<ipython-input-24-70ed8704a4bb>\u001b[0m in \u001b[0;36mmirror\u001b[0;34m(s)\u001b[0m\n\u001b[1;32m      3\u001b[0m   \u001b[0mlst\u001b[0m \u001b[0;34m=\u001b[0m \u001b[0mlist\u001b[0m\u001b[0;34m(\u001b[0m\u001b[0ms\u001b[0m\u001b[0;34m)\u001b[0m\u001b[0;34m\u001b[0m\u001b[0;34m\u001b[0m\u001b[0m\n\u001b[1;32m      4\u001b[0m   \u001b[0mlst_rev\u001b[0m \u001b[0;34m=\u001b[0m \u001b[0mreversed\u001b[0m\u001b[0;34m(\u001b[0m\u001b[0mlst\u001b[0m\u001b[0;34m)\u001b[0m\u001b[0;34m\u001b[0m\u001b[0;34m\u001b[0m\u001b[0m\n\u001b[0;32m----> 5\u001b[0;31m   \u001b[0;32mreturn\u001b[0m \u001b[0;34m\"\"\u001b[0m\u001b[0;34m.\u001b[0m\u001b[0mjoin\u001b[0m\u001b[0;34m(\u001b[0m\u001b[0mlst\u001b[0m \u001b[0;34m+\u001b[0m \u001b[0mlst_rev\u001b[0m\u001b[0;34m)\u001b[0m\u001b[0;34m\u001b[0m\u001b[0;34m\u001b[0m\u001b[0m\n\u001b[0m\u001b[1;32m      6\u001b[0m \u001b[0mprint\u001b[0m\u001b[0;34m(\u001b[0m\u001b[0mmirror\u001b[0m\u001b[0;34m(\u001b[0m\u001b[0;34m\"Go Stags!\"\u001b[0m\u001b[0;34m)\u001b[0m\u001b[0;34m)\u001b[0m\u001b[0;34m\u001b[0m\u001b[0;34m\u001b[0m\u001b[0m\n",
      "\u001b[0;31mTypeError\u001b[0m: can only concatenate list (not \"list_reverseiterator\") to list"
     ]
    }
   ],
   "source": [
    "# Version 1: replace method with reversed() function\n",
    "def mirror(s):\n",
    "  lst = list(s)\n",
    "  lst_rev = reversed(lst)\n",
    "  return \"\".join(lst + lst_rev). # Error!\n",
    "print(mirror(\"Go Stags!\"))"
   ]
  },
  {
   "cell_type": "code",
   "execution_count": null,
   "metadata": {
    "id": "lTkGEoyNvLzT",
    "outputId": "1b8c4758-c9b2-4c69-b014-85e93ce1c4fd"
   },
   "outputs": [
    {
     "name": "stdout",
     "output_type": "stream",
     "text": [
      "Go Stags!!sgatS oG\n"
     ]
    }
   ],
   "source": [
    "# Version 2: convert iterator to list\n",
    "def mirror(s):\n",
    "  lst = list(s)\n",
    "  lst_rev = list(reversed(lst)) \n",
    "  return \"\".join(lst + lst_rev)\n",
    "print(mirror(\"Go Stags!\"))"
   ]
  },
  {
   "cell_type": "code",
   "execution_count": null,
   "metadata": {
    "id": "lF9ul4NZvLzU",
    "outputId": "0bb30f34-ff94-457a-a814-cccd5f7211a1"
   },
   "outputs": [
    {
     "name": "stdout",
     "output_type": "stream",
     "text": [
      "Go Stags!!sgatS oG\n"
     ]
    }
   ],
   "source": [
    "# Version 3: all on one line, because why not? \n",
    "def mirror(s):\n",
    "    return \"\".join(list(s) + list(reversed(list(s))))\n",
    "print(mirror(\"Go Stags!\"))"
   ]
  },
  {
   "cell_type": "markdown",
   "metadata": {
    "id": "ve4yyO9XvLzW"
   },
   "source": [
    "## L8.P4\n",
    "**The code below has an infinite loop. Debug it to eliminate the loop.** (You will need to scroll down to the code cell below this text cell.)\n",
    "\n",
    "```python\n",
    "def add_0(lst):\n",
    "    lst += [0]\n",
    "\n",
    "x = [1,2,3,4]\n",
    "for i in x:\n",
    "    add_0(x)\n",
    "    print(x)\n",
    "```\n",
    "After fixing the loop, the correct output is:\n",
    "```\n",
    "[1,2,3,4,0]\n",
    "[1,2,3,4,0,0]\n",
    "[1,2,3,4,0,0,0]\n",
    "[1,2,3,4,0,0,0,0]\n",
    "```\n",
    "Hints\n",
    "- You will need to make a shallow copy of `x` somewhere in your code.\n",
    "- The fix only affects one line of code and it is outside the loop body.\n",
    "- If you get stuck in an infinite loop, then restart the runtime."
   ]
  },
  {
   "cell_type": "code",
   "execution_count": null,
   "metadata": {
    "id": "gdM9LuwxvLzW",
    "outputId": "9fc24d2e-a69f-4b7c-a976-a27772b339f8"
   },
   "outputs": [
    {
     "name": "stderr",
     "output_type": "stream",
     "text": [
      "IOPub data rate exceeded.\n",
      "The notebook server will temporarily stop sending output\n",
      "to the client in order to avoid crashing it.\n",
      "To change this limit, set the config variable\n",
      "`--NotebookApp.iopub_data_rate_limit`.\n",
      "\n",
      "Current values:\n",
      "NotebookApp.iopub_data_rate_limit=1000000.0 (bytes/sec)\n",
      "NotebookApp.rate_limit_window=3.0 (secs)\n",
      "\n"
     ]
    },
    {
     "ename": "KeyboardInterrupt",
     "evalue": "",
     "output_type": "error",
     "traceback": [
      "\u001b[0;31m---------------------------------------------------------------------------\u001b[0m",
      "\u001b[0;31mKeyboardInterrupt\u001b[0m                         Traceback (most recent call last)",
      "\u001b[0;32m<ipython-input-28-557d8e65fc2a>\u001b[0m in \u001b[0;36m<module>\u001b[0;34m\u001b[0m\n\u001b[1;32m      6\u001b[0m \u001b[0;32mfor\u001b[0m \u001b[0mi\u001b[0m \u001b[0;32min\u001b[0m \u001b[0mx\u001b[0m\u001b[0;34m:\u001b[0m       \u001b[0;31m# <--- infinite loop here; add_0 modifies x\u001b[0m\u001b[0;34m\u001b[0m\u001b[0;34m\u001b[0m\u001b[0m\n\u001b[1;32m      7\u001b[0m     \u001b[0madd_0\u001b[0m\u001b[0;34m(\u001b[0m\u001b[0mx\u001b[0m\u001b[0;34m)\u001b[0m\u001b[0;34m\u001b[0m\u001b[0;34m\u001b[0m\u001b[0m\n\u001b[0;32m----> 8\u001b[0;31m     \u001b[0mprint\u001b[0m\u001b[0;34m(\u001b[0m\u001b[0mx\u001b[0m\u001b[0;34m)\u001b[0m\u001b[0;34m\u001b[0m\u001b[0;34m\u001b[0m\u001b[0m\n\u001b[0m",
      "\u001b[0;31mKeyboardInterrupt\u001b[0m: "
     ]
    }
   ],
   "source": [
    "# The Infinite Loop Code\n",
    "def add_0(lst):\n",
    "    lst += [0]\n",
    "\n",
    "x = [1,2,3,4]\n",
    "for i in x:       # <--- infinite loop here; add_0 modifies x\n",
    "    add_0(x)\n",
    "    print(x)"
   ]
  },
  {
   "cell_type": "code",
   "execution_count": null,
   "metadata": {
    "id": "IA6DeKMYvLzX",
    "outputId": "a38ece52-634d-4865-e64d-31f5e96d1b57"
   },
   "outputs": [
    {
     "name": "stdout",
     "output_type": "stream",
     "text": [
      "[1, 2, 3, 4, 0]\n",
      "[1, 2, 3, 4, 0, 0]\n",
      "[1, 2, 3, 4, 0, 0, 0]\n",
      "[1, 2, 3, 4, 0, 0, 0, 0]\n"
     ]
    }
   ],
   "source": [
    "# The Infinite Loop Code\n",
    "def add_0(lst):\n",
    "    lst += [0]\n",
    "\n",
    "x = [1,2,3,4]\n",
    "for i in list(x): # <--- copying x fixes the loop\n",
    "    add_0(x)\n",
    "    print(x)"
   ]
  },
  {
   "cell_type": "markdown",
   "metadata": {
    "id": "RbSx20K_vLzY"
   },
   "source": [
    "## L8.E1\n",
    "**Write a code snippet that applies your waist2hip_ratio() function to each (W, H, G) triplet in the following list of lists:**     \n",
    "[[28,40,'F'],[23, 35, 'F'],[30,40,'M'],[30,37,'M'],[32,39,'M']]"
   ]
  },
  {
   "cell_type": "code",
   "execution_count": null,
   "metadata": {
    "id": "2bQWPE5AvLzY",
    "outputId": "49a26d0e-dc35-4647-cdf6-58bd11ec1f90"
   },
   "outputs": [
    {
     "name": "stdout",
     "output_type": "stream",
     "text": [
      "For a F with waist 28 and hip 40 the w2h ratio is 0.7 with shape Pear.\n",
      "For a F with waist 23 and hip 35 the w2h ratio is 0.66 with shape Pear.\n",
      "For a M with waist 30 and hip 40 the w2h ratio is 0.75 with shape Pear.\n",
      "For a M with waist 30 and hip 37 the w2h ratio is 0.81 with shape Pear.\n",
      "For a M with waist 32 and hip 39 the w2h ratio is 0.82 with shape Pear.\n"
     ]
    }
   ],
   "source": [
    "def waist2hip_ratio(waist_inches, hip_inches, gender):\n",
    "    try:\n",
    "        waist = float(waist_inches)\n",
    "        hip = float(hip_inches)\n",
    "    except:\n",
    "        return \"w2h_ratio: Invalid measurement(s)\"\n",
    "    \n",
    "    if waist <= 0 or hip <= 0:\n",
    "        return \"w2h_ratio: Invalid measurement(s)\"\n",
    "    \n",
    "    if gender not in (\"F\",\"M\"):\n",
    "        return \"w2h_ratio: Unknown gender\"\n",
    "    \n",
    "    ratio = round(waist / hip,2)\n",
    "    shape = \"Apple\" if (ratio > .8 and gender == \"F\") or (ratio > .9 and gender == \"M\") else \"Pear\"\n",
    "    ratio_text = \"For a %s with waist %g and hip %g the w2h ratio is %g with shape %s.\" % (gender,waist,hip,ratio,shape)\n",
    "\n",
    "    return ratio_text\n",
    "\n",
    "measurements = [[28,40,'F'],[23, 35, 'F'],[30,40,'M'],[30,37,'M'],[32,39,'M']]\n",
    "\n",
    "for m in measurements:\n",
    "    print(waist2hip_ratio(m[0],m[1],m[2]))"
   ]
  },
  {
   "cell_type": "markdown",
   "metadata": {
    "id": "hKTe8SyGvLza"
   },
   "source": [
    "## L8.E2\n",
    "**Write a function called `inside_out()` that works as follows:** \n",
    "- It takes as input a list with a nested inner list. \n",
    "- Call the original list `list_outer` and the nested one `list_inner`.\n",
    "- Remove `list_inner` from `list_outer`, remembering the `position` of `list_inner` within `list_outer`. \n",
    "- Insert `list_outer` (as a nested list) into the `list_inner` in the same `position` as `list_inner` was inside `list_outer`.\n",
    "- If `position` >= `len(list_inner)` then append `list_outer` (as a nested list) to the end of `list_inner`.\n",
    "- Return `list_inner` after insertion\n",
    "\n",
    "For example, `inside_out([1,2,['a','b','c','d'],3, 4])` returns `['a','b',[1,2,3,4],'c','d']`."
   ]
  },
  {
   "cell_type": "code",
   "execution_count": null,
   "metadata": {
    "colab": {
     "base_uri": "https://localhost:8080/"
    },
    "executionInfo": {
     "elapsed": 112,
     "status": "ok",
     "timestamp": 1628628857067,
     "user": {
      "displayName": "Christopher Huntley",
      "photoUrl": "",
      "userId": "11069151036176747256"
     },
     "user_tz": 240
    },
    "id": "lNYQ_9lYvLza",
    "outputId": "65eff880-8097-492e-a32b-309164c78a78"
   },
   "outputs": [
    {
     "data": {
      "text/plain": [
       "['a', 'b', 'c', [1, 2, 3, 4]]"
      ]
     },
     "execution_count": 4,
     "metadata": {
      "tags": []
     },
     "output_type": "execute_result"
    }
   ],
   "source": [
    "def inside_out(lst):\n",
    "    list_outer = lst\n",
    "    \n",
    "    for i in range(len(list_outer)):\n",
    "        if type(list_outer[i]) is list:\n",
    "            list_inner = list_outer[i]\n",
    "            position = i\n",
    "            \n",
    "    del list_outer[position]\n",
    "    \n",
    "    if position >= len(list_inner):\n",
    "        list_inner += [list_outer]\n",
    "    else:\n",
    "        list_inner[position:position] = [list_outer]\n",
    "        \n",
    "    return list_inner\n",
    "inside_out([1,2,['a','b','c','d'],3, 4])  \n",
    "inside_out([1,2, 3, 4, ['a','b','c']])"
   ]
  },
  {
   "cell_type": "markdown",
   "metadata": {
    "id": "ElKkcJgIvLzb"
   },
   "source": [
    "# Lesson 9\n",
    "## L9.P1\n",
    "**Use the [`dict()` function](https://docs.python.org/3/library/stdtypes.html#dict) to create a new dictionary called `presidents` that swaps the keys and values of the `birthdays` dictionary.** Each key should be a birthdate and each value should be the associated president's last name. "
   ]
  },
  {
   "cell_type": "code",
   "execution_count": null,
   "metadata": {
    "id": "puCz6i0yvLzb"
   },
   "outputs": [],
   "source": [
    "# Swap each key and value with a list comprehension of pairs\n",
    "items = [ [b[1], b[0]] for b in birthdays.items() ] \n",
    "presidents = dict([ [b[1],b[0]] for b in birthdays.items() ])\n",
    "presidents"
   ]
  },
  {
   "cell_type": "code",
   "execution_count": null,
   "metadata": {
    "id": "PZlUl8rxvLzc"
   },
   "outputs": [],
   "source": [
    "# All on one line\n",
    "presidents = dict([ [b[1],b[0]] for b in birthdays.items() ])\n",
    "presidents"
   ]
  },
  {
   "cell_type": "markdown",
   "metadata": {
    "id": "fM2ggIPkvLzd"
   },
   "source": [
    "## L9.E1\n",
    "**Use your `waist2hip_ratio()` function to process each of the dictionaries listed below.**\n",
    "```python\n",
    "[{'waist': 28, 'hip': 40, 'gender': 'F'},\n",
    " {'waist': 23, 'hip': 35, 'gender': 'F'},\n",
    " {'waist': 30, 'hip': 40, 'gender': 'M'},\n",
    " {'waist': 30, 'hip': 37, 'gender': 'M'},\n",
    " {'waist': 32, 'hip': 39, 'gender': 'M'}]\n",
    "```"
   ]
  },
  {
   "cell_type": "code",
   "execution_count": null,
   "metadata": {
    "id": "VhoEFjC7vLzd",
    "outputId": "20ea069a-20ed-4d2d-ac06-d69ff120ff1d"
   },
   "outputs": [
    {
     "name": "stdout",
     "output_type": "stream",
     "text": [
      "For a F with waist 28 and hip 40 the w2h ratio is 0.7 with shape Pear.\n",
      "For a F with waist 23 and hip 35 the w2h ratio is 0.66 with shape Pear.\n",
      "For a M with waist 30 and hip 40 the w2h ratio is 0.75 with shape Pear.\n",
      "For a M with waist 30 and hip 37 the w2h ratio is 0.81 with shape Pear.\n",
      "For a M with waist 32 and hip 39 the w2h ratio is 0.82 with shape Pear.\n"
     ]
    }
   ],
   "source": [
    "def waist2hip_ratio(waist_inches, hip_inches, gender):\n",
    "    try:\n",
    "        waist = float(waist_inches)\n",
    "        hip = float(hip_inches)\n",
    "    except:\n",
    "        return \"w2h_ratio: Invalid measurement(s)\"\n",
    "    \n",
    "    if waist <= 0 or hip <= 0:\n",
    "        return \"w2h_ratio: Invalid measurement(s)\"\n",
    "    \n",
    "    if gender not in (\"F\",\"M\"):\n",
    "        return \"w2h_ratio: Unknown gender\"\n",
    "    \n",
    "    ratio = round(waist / hip,2)\n",
    "    shape = \"Apple\" if (ratio > .8 and gender == \"F\") or (ratio > .9 and gender == \"M\") else \"Pear\"\n",
    "    ratio_text = \"For a %s with waist %g and hip %g the w2h ratio is %g with shape %s.\" % (gender,waist,hip,ratio,shape)\n",
    "\n",
    "    return ratio_text\n",
    "\n",
    "measurements = [\n",
    "    {'waist': 28, 'hip': 40, 'gender': 'F'},\n",
    "    {'waist': 23, 'hip': 35, 'gender': 'F'},\n",
    "    {'waist': 30, 'hip': 40, 'gender': 'M'},\n",
    "    {'waist': 30, 'hip': 37, 'gender': 'M'},\n",
    "    {'waist': 32, 'hip': 39, 'gender': 'M'}]\n",
    "\n",
    "for m in measurements:\n",
    "    print(waist2hip_ratio(m['waist'],m['hip'],m['gender']))"
   ]
  },
  {
   "cell_type": "markdown",
   "metadata": {
    "id": "EqeuRMNpvLzg"
   },
   "source": [
    "## L9.E2\n",
    "**Rewrite your `roman2int()` function from Lesson 6 to use a dictionary and an iterator instead of the 14-clause `if` statement. The dictionary should have 13 keys, one for each of the patterns.**"
   ]
  },
  {
   "cell_type": "code",
   "execution_count": null,
   "metadata": {
    "id": "89d82Nm5vLzg",
    "outputId": "02cb5a76-d587-4b92-ae5e-34c78ef658fd"
   },
   "outputs": [
    {
     "name": "stdout",
     "output_type": "stream",
     "text": [
      "29\n",
      "1999\n",
      "34\n"
     ]
    }
   ],
   "source": [
    "def roman2int(roman_numeral):\n",
    "    rules = {\"IV\":4, \"IX\":9,\"XL\":40,\"XC\":90,\"CD\":400,\"CM\":900,\n",
    "             \"I\":1,\"V\":5,\"X\":10,\"L\":50,\"C\":100,\"D\":500,\"M\":1000}\n",
    "    \n",
    "    # initialize loop variables\n",
    "    remaining = str(roman_numeral)\n",
    "    int_value = 0\n",
    "    \n",
    "    while remaining: \n",
    "        # check all two-character rules\n",
    "        if remaining[:2] in rules:\n",
    "            int_value += rules[remaining[:2]]\n",
    "            remaining = remaining[2:]\n",
    "            \n",
    "        # check all one-character rules    \n",
    "        elif remaining[0] in rules:\n",
    "            int_value += rules[remaining[0]]\n",
    "            remaining = remaining[1:]\n",
    "        # if no rule matches then consume the first character\n",
    "        else:\n",
    "            remaining = remaining[1:]\n",
    "            \n",
    "    return int_value\n",
    "\n",
    "print(roman2int(\"XXIX\"))\n",
    "print(roman2int(\"MCMXCIX\"))\n",
    "print(roman2int(\"Super Bowl XXXIV\"))"
   ]
  },
  {
   "cell_type": "markdown",
   "metadata": {
    "id": "klvCkUPlvLzh"
   },
   "source": [
    "# Lesson 10"
   ]
  },
  {
   "cell_type": "markdown",
   "metadata": {
    "id": "AqCAR_a-vLzh"
   },
   "source": [
    "## L10.E1"
   ]
  },
  {
   "cell_type": "code",
   "execution_count": null,
   "metadata": {
    "id": "uTGGS4CVvLzi",
    "outputId": "bb9ec7b7-54cb-438e-db87-48c9a7028db5"
   },
   "outputs": [
    {
     "name": "stdout",
     "output_type": "stream",
     "text": [
      "2 1\n"
     ]
    }
   ],
   "source": [
    "a = 1\n",
    "b = 2\n",
    "a,b = b,a   # swap a and b\n",
    "print(a,b)  # confirm the swap"
   ]
  },
  {
   "cell_type": "markdown",
   "metadata": {
    "id": "4KMls1t9vLzj"
   },
   "source": [
    "We are using tuple assignment. This only works because the tuple on the right is immutable. It's mostly a convenience that is used in for loops operating over files and dictionaries.  "
   ]
  },
  {
   "cell_type": "markdown",
   "metadata": {
    "id": "K4a5lBGQvLzj"
   },
   "source": [
    "## L10.E2"
   ]
  },
  {
   "cell_type": "code",
   "execution_count": null,
   "metadata": {
    "id": "1sI8jSRpvLzj",
    "outputId": "2547195b-1f30-47b9-fd1c-4ac8f1a81ab8"
   },
   "outputs": [
    {
     "name": "stdout",
     "output_type": "stream",
     "text": [
      "2 2\n"
     ]
    }
   ],
   "source": [
    "a = 1\n",
    "b = 2\n",
    "\n",
    "# This won't work\n",
    "a = b\n",
    "b = a\n",
    "print(a,b)"
   ]
  },
  {
   "cell_type": "code",
   "execution_count": null,
   "metadata": {
    "id": "gOiFub-jvLzl",
    "outputId": "1ec88cca-967b-43c9-b355-b744ce9488fb"
   },
   "outputs": [
    {
     "name": "stdout",
     "output_type": "stream",
     "text": [
      "2 1\n"
     ]
    }
   ],
   "source": [
    "a = 1\n",
    "b = 2\n",
    "\n",
    "# An old-school swap\n",
    "x = a  # make a copy of a\n",
    "a = b  # set a to b\n",
    "b = x  # set b to the copy\n",
    "print(a,b)"
   ]
  }
 ],
 "metadata": {
  "colab": {
   "collapsed_sections": [
    "uv4a2HbovLx6",
    "rOCrcYUtvLx7",
    "LpX8tEJ8vLys",
    "EOIhNfKKvLyy",
    "2J0s8yhDvLy4",
    "53x10fatvLzr"
   ],
   "name": "Solutions.ipynb",
   "provenance": []
  },
  "kernelspec": {
   "display_name": "Python 3 (ipykernel)",
   "language": "python",
   "name": "python3"
  },
  "language_info": {
   "codemirror_mode": {
    "name": "ipython",
    "version": 3
   },
   "file_extension": ".py",
   "mimetype": "text/x-python",
   "name": "python",
   "nbconvert_exporter": "python",
   "pygments_lexer": "ipython3",
   "version": "3.8.15"
  }
 },
 "nbformat": 4,
 "nbformat_minor": 4
}
