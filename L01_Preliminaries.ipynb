{
  "nbformat": 4,
  "nbformat_minor": 0,
  "metadata": {
    "kernelspec": {
      "display_name": "Python 3",
      "language": "python",
      "name": "python3"
    },
    "language_info": {
      "codemirror_mode": {
        "name": "ipython",
        "version": 3
      },
      "file_extension": ".py",
      "mimetype": "text/x-python",
      "name": "python",
      "nbconvert_exporter": "python",
      "pygments_lexer": "ipython3",
      "version": "3.7.7"
    },
    "colab": {
      "name": "[Template] L01_Preliminaries.ipynb",
      "provenance": [],
      "collapsed_sections": [],
      "include_colab_link": true
    }
  },
  "cells": [
    {
      "cell_type": "markdown",
      "metadata": {
        "id": "view-in-github",
        "colab_type": "text"
      },
      "source": [
        "<a href=\"https://colab.research.google.com/github/christopherhuntley/data5405/blob/main/L01_Preliminaries.ipynb\" target=\"_parent\"><img src=\"https://colab.research.google.com/assets/colab-badge.svg\" alt=\"Open In Colab\"/></a>"
      ]
    },
    {
      "cell_type": "markdown",
      "metadata": {
        "id": "qMsuJA7FKbEs"
      },
      "source": [
        "<img src=\"https://github.com/christopherhuntley/BUAN5405-docs/blob/master/Slides/img/Dolan.png?raw=true\" width=\"180px\" align=\"right\">\n",
        "\n",
        "# **Lesson 1: Preliminaries**\n",
        "_Concepts you should know before your first program_"
      ]
    },
    {
      "cell_type": "markdown",
      "metadata": {
        "id": "8X1LhvmNKbEt"
      },
      "source": [
        "## **Learning Objectives**\n",
        "\n",
        "### Theory / Be able to explain ...\n",
        "- Basic computer architecture as needed to write efficient Python code \n",
        "- How computer languages are like and different from human languages\n",
        "- How syntax, vocabulary, and idiomatic structure define language\n",
        "- General programming terms like source code, interpreter, compiler, object code, etc.\n",
        "- The different types of errors that require debugging\n",
        "- The purpose of Git and GitHub for source version management\n",
        "\n",
        "### Skills / Know how to  ...\n",
        "- Run Python statements in Jupyter Notebooks\n",
        "- Interpret common types of errors\n",
        "\n",
        "**What follows is adapted from Chapter 1 of the _Python For Everybody_ book. If you have not read it, then please do so before continuing on.**\n",
        "\n",
        "--- "
      ]
    },
    {
      "cell_type": "markdown",
      "metadata": {
        "id": "fs68CkjMKbEu"
      },
      "source": [
        "## **The Art of Programming**\n",
        "> \"The programmer, like the poet, works only slightly removed from pure thought-stuff. He builds his castles in the air, from air, creating by exertion of the imagination.\" -- Fred Brooks, _The Mythical Man Month_\n",
        "\n",
        "While many people think of computer programming as a technical skill practiced by math nerds and engineering geeks, it is actually one of the most creative of all practical arts. It is sort of like science fiction. Think of a world in which all the rules are editable, where we can change the laws of physics if we want to and then see how the universe plays out. The only limitations would be on what you can imagine and how well you can craft the laws to match what you see in your head. That's computer programming! Programmers turn mind stuff into working code that can be run by anybody with a computer. What could be more creative?\n",
        "\n",
        "## **What's a computer? Why do we care?** \n",
        "Interestingly, the word \"computer\" has been around for hundreds of years. In the 18th and 19th centuries, a computer was a person, usually a woman, who was really good at math and computation. If you've seen the movie \"Hidden Figures\" then you saw what it was like to be a human computer. \n",
        "\n",
        "Nowadays when we talk about computers we usually mean something like this (from the Py4E book):  \n",
        "\n",
        "![ComputerHardware](https://github.com/christopherhuntley/BUAN5405-lessons/raw/master/img/L1_1_ComputerHardware.png)\n",
        "\n",
        "If we think of the computer like a student working on a group homework assignment (i.e., a program), then ...\n",
        "\n",
        "- The **CPU** is the student's brain. It thinks through and completes the assigned tasks one by one until the assignment is done. \n",
        "- The **main memory** (RAM) is scrap paper or an app used by the CPU to keep track of the current task. It knows nothing of the past or the future, just the things necessary to complete the current task. \n",
        "- The **secondary memory** (disk storage) is a book, filing cabinet, or database used to recall facts left over from previous tasks. It knows nothing about what the computer is doing. It just stores and recalls data as requested. Because there may be a lot of things to sift through to find what you are looking for, it is a lot slower to use than the main memory.   \n",
        "- The **input and output** devices (built-in keyboard, monitor, mouse, etc.) are how the student communicates with other students in the workgroup. The communication is _almost_ immediate but it does take time to listen and respond.  \n",
        "- The **network** (bluetooth, wifi, internet, etc.) is how the student communicates with others outside the group. Communication over the network is much, much slower than within the group. It's also not as reliable, with plenty of miscommunication and misunderstanding making some messages almost impossible to send and receive. \n",
        "\n",
        "**Why do we care?** Because just as a student does not want to put in all-nighters when they could be hanging with their roommates, we want our programs to run as efficiently as we can manage. The word \"manage\" here is intentional. Just as some people are able to manage their time much better than others, some computer programmers manage to write good code without having to work so hard at it. While some of that is talent, most of it is practice and the discipline to get better over time. As any sports coach will tell you, practice alone does not win games. _Good_ practice, with your mind and body fully engaged, is what wins games. \n",
        "\n",
        "### **Pulse check ...**\n",
        "Use a [Markdown](https://www.markdownguide.org/cheat-sheet/) **bullet list** to rewrite the above analogy using just human physiology. If we were to replace a human with a computer what would be the body part/function that corresponds to each computer term in **bold** above? "
      ]
    },
    {
      "cell_type": "markdown",
      "metadata": {
        "id": "Xe0YfzkUKbEv"
      },
      "source": [
        "- CPU\n",
        "- RAM\n",
        "- storage\n",
        "- I/O\n",
        "- Network\n",
        "\n",
        "\n",
        "\n"
      ]
    },
    {
      "cell_type": "markdown",
      "metadata": {
        "id": "6fgYAm6emoHy"
      },
      "source": [
        "YOUR ANSWER GOES HERE; DOUBLE-CLICK TO EDIT"
      ]
    },
    {
      "cell_type": "markdown",
      "metadata": {
        "id": "sUkca38bKbEv"
      },
      "source": [
        "_Before going on make sure you got the Markdown syntax right. The bullet points should look exactly like the ones above._\n",
        "\n",
        "----"
      ]
    },
    {
      "cell_type": "code",
      "metadata": {
        "id": "zIFQ2LjXZXr3",
        "cellView": "form"
      },
      "source": [
        "#@title <--- Run this cell to check your work\n",
        "%%html\n",
        "<div style=\"max-width: 1000px\">\n",
        "   <div style=\"position: relative;padding-bottom: 56.25%;height: 0;\">\n",
        "     <iframe style=\"position: absolute;top: 0;left: 0;width: 100%;height: 100%;\" rel=\"0\" modestbranding=\"1\"  \n",
        "     src=\"https://www.youtube.com/embed/XaLpVKlJ_gU\"\n",
        "     frameborder=\"0\" allow=\"accelerometer; autoplay; encrypted-media; gyroscope; picture-in-picture\" allowfullscreen></iframe>\n",
        "   </div>\n",
        "</div>"
      ],
      "execution_count": null,
      "outputs": []
    },
    {
      "cell_type": "markdown",
      "metadata": {
        "id": "82dGL-8gKbEw"
      },
      "source": [
        "## **Programming Languages and Environments**\n",
        "When we talk about a programming technology like Python, we are actually talking about two very different things:\n",
        "\n",
        "- The programming language used by us humans to get our thoughts into a digital form (code) that the computer can understand\n",
        "- The programming environment made up of other people's code, packaged in a way that we can use to create and run our own programs\n",
        "\n",
        "Programming languages share a lot of features with human languages. Every language, human or computer, has \n",
        "- **syntax** (grammar rules) that dictate what constitutes valid phrases and sentences\n",
        "- **vocabulary** with parts of speech (nouns, verbs, conjunctives, etc.), key words with universally accepted meanings (I, you, me, am, are, have, ...), and contextual words with definitions that may vary according to how they are used \n",
        "- idiomatic **structure** that dictates the \"usual\" way of expressive ourselves using the syntax and vocabulary\n",
        "\n",
        "Programming environments are generally composed of ...\n",
        "- **tools** (editors, compilers, etc.) needed to write code and get it into a runnable state\n",
        "- **libraries** of prewritten code that we can borrow from to write our own code\n",
        "- **runtimes** that allow us to execute the code\n",
        "\n",
        "Programming languages and environments are bundled together like products, with _versions_ that are _released_ over time. With each version, some changes can break \"compatibility\" with previous versions. We see this in human language as well. Have you ever tried reading Chaucer's _Canterbury Tales_ (from the 14-th century) or the even more challenging _Beowulf_ (from the 6-th century)? For that matter, have you read the _Declaration of Independence_ on the original broadsheet manuscript? It's almost like a different language. The same thing is true for computer programs. If you were to compare the BASIC we learned in the 1970s to the Visual Basic shipped with MS Office, you would swear that they were totally unrelated. Such is progress. Sometimes we have to let go of old things to make room for new things.      \n",
        "\n",
        "### **Pulse Check ...**\n",
        "Make a numbered list (in Markdown) of all the computer languages you can think of. Use **bold text** for the names of any you might expect to use in your analytics courses. "
      ]
    },
    {
      "cell_type": "markdown",
      "metadata": {
        "id": "HEGmmms4KbEw"
      },
      "source": [
        "YOUR ANSWER HERE\n",
        "\n",
        "\n"
      ]
    },
    {
      "cell_type": "code",
      "metadata": {
        "id": "llhCyvnaaxJk",
        "cellView": "form"
      },
      "source": [
        "#@title <--- Check your work\n",
        "%%html\n",
        "<div style=\"max-width: 1000px\">\n",
        "   <div style=\"position: relative;padding-bottom: 56.25%;height: 0;\">\n",
        "     <iframe style=\"position: absolute;top: 0;left: 0;width: 100%;height: 100%;\" rel=\"0\" modestbranding=\"1\"  \n",
        "     src=\"https://www.youtube.com/embed/l-cNU7GXr_8\"\n",
        "     frameborder=\"0\" allow=\"accelerometer; autoplay; encrypted-media; gyroscope; picture-in-picture\" allowfullscreen></iframe>\n",
        "   </div>\n",
        "</div>"
      ],
      "execution_count": null,
      "outputs": []
    },
    {
      "cell_type": "markdown",
      "metadata": {
        "id": "N3gIQ4MeKbEx"
      },
      "source": [
        "---\n",
        "## **Python as a Language**\n",
        "Python is designed to be a very compact language, with minimal syntax and vocabulary. The idea is that it should fit into your head without having to learn hundreds of words and grammar rules. In fact, Python has a base vocabulary of just 35 **keywords**. All Python code is written with these words plus _whatever words we make up_ on our own. \n",
        "\n",
        "As for syntax, it is a small language, with just a few types of statements, yet flexible enough that a surprising variety of regular English sentences work can be made to work, though perhaps with slightly altered phrasing and punctuation. Can you tell what this program does?\n",
        "\n",
        "```python\n",
        "the_fridge = [\"bud\", \"bud\", \"stella\", \"miller\",\"homebrew\"]\n",
        "\n",
        "for beer in the_fridge:\n",
        "    empty_bottle = drink(beer)\n",
        "    burp()\n",
        "    dispose(empty_bottle)\n",
        "    print(beer)\n",
        "    print(\"And another one gone, and another one gone, another one bites the dust.\")\n",
        "\n",
        "```\n",
        "\n",
        "While you might not be completely sure, you can probably guess that it is rummaging through a virtual refrigerator looking for beers to drink. Notice how many actual words were used. There are just 3, shown in green or blue: `for`, `in`, and `print`.  The syntax is also pretty sparse: an equal sign, some commas, a few brackets and parentheses, a colon, and **white space**. Yes, in Python the line ends and indentation matters. We'll come back to that shortly. \n",
        "\n",
        "### **Pulse Check ...**\n",
        "Run the slightly modified version of the beer code below. What do you think the `\\n\\n` on the last line does? (Type your answer in the cell above the code.) Now try adding one more beer to the fridge in the first line and then rerun the cell. Did it do anything you didn't expect? "
      ]
    },
    {
      "cell_type": "markdown",
      "metadata": {
        "id": "O3YMS7kOKbE1"
      },
      "source": [
        "REPLACE THIS TEXT WITH YOUR ANSWER. What does `\\n\\n` do?"
      ]
    },
    {
      "cell_type": "code",
      "metadata": {
        "id": "W87vviXSKbEy"
      },
      "source": [
        "# please add a beer to the fridge\n",
        "the_fridge = [\"bud\", \"bud\", \"stella\", \"miller\", \"homebrew\"]\n",
        "\n",
        "for beer in the_fridge:\n",
        "    print ('drinking a bottle of ' + beer + ' ... burp!')\n",
        "    empty_bottle = \"empty bottle of \" + beer\n",
        "    print('disposed of 1 '+ empty_bottle)\n",
        "    print(\"And another one gone, and another one gone, another one bites the dust.\\n\\n\")"
      ],
      "execution_count": null,
      "outputs": []
    },
    {
      "cell_type": "code",
      "metadata": {
        "id": "Q7vkN4FtbVCX",
        "cellView": "form"
      },
      "source": [
        "#@title <--- Check your work\n",
        "%%html\n",
        "<div style=\"max-width: 1000px\">\n",
        "   <div style=\"position: relative;padding-bottom: 56.25%;height: 0;\">\n",
        "     <iframe style=\"position: absolute;top: 0;left: 0;width: 100%;height: 100%;\" rel=\"0\" modestbranding=\"1\"  \n",
        "     src=\"https://www.youtube.com/embed/q45h-Rfl4f0\"\n",
        "     frameborder=\"0\" allow=\"accelerometer; autoplay; encrypted-media; gyroscope; picture-in-picture\" allowfullscreen></iframe>\n",
        "   </div>\n",
        "</div>"
      ],
      "execution_count": null,
      "outputs": []
    },
    {
      "cell_type": "markdown",
      "metadata": {
        "id": "ZGac_g11KbE2"
      },
      "source": [
        "---\n",
        "##  **Python as an Environment**\n",
        "### **Tools**\n",
        "At a fundamental level the only tools a programmer really needs are an **editor** and a **compiler**. \n",
        "\n",
        "**Programming editors are not like word processors**, though it might be hard for most people to spot the differences. To start, a programming editor is just text, without any formatting beyond perhaps some syntax highlighting to identify keywords and syntax. In that respect it is more like texting than editing documents. **All that matters is the text.** Editors also support plugins that make certain repetitive tasks easier. For example, an editor might have a \"previewer\" to show what a web page looks like while editing its HTML, CSS, or Javascript code. Other common language-specific plugins include syntax highlighting (for Python vs Java), autocompletion (for function calls, etc.), code \"pretty printing\" that cleans up whitespace so that code is easier to read, docstring templates to simplify documentation writing, even converting [tabs to spaces](https://youtu.be/SsoOG6ZeyUI) (yes, they were writing Python in that scene), etc.\n",
        "\n",
        "**Compilers, on the other hand, are about zeros and ones.** Computers don't actually speak Python. Instead, each computer speaks its own machine language, where everything is encoded in binary (zeros and ones). We call the text (Python) that the humans write the __source code__. The compiler then converts source code into **object (machine) code.** There are two fundamentally different ways to do that. An **optimizing compiler** reads all of the source code and then tries to generate the most efficient (time and/or space) object code possible. This is how an operating system like iOS, where every millisecond and megabyte matters, is written and compiled. A **line interpreter**, on the other hand, compiles code one line at a time, in the order it is written, so that it can be run as soon as possible. It's sort of like closed captioning for your TV. It is always trying to keep up with the code in real time but often makes mistakes that make the program run slower overall.      \n",
        "\n",
        "In this class, **our main power tool is the Jupyter Notebook**, which provides both the editor and the compiler needed to write and run code. Each cell is like a mini program. We can enter code and run it one cell at a time. The cells can even communicate in a fashion, with work from one cell used by another. The result is a blend of the performance of an optimizing compiler and the flexibility of a line interpreter. It's easy to see why so many data scientists are adopting notebook technology for their everyday programming needs.    \n",
        "\n",
        "### **Libraries**\n",
        "In the bad old days we had to program just about _everything_ from scratch. Need a window? ... write these 200 lines of code. Want to turn a pixel red? ... write this obscure looking 10 lines of code. It was both very repetitive and error prone. The problem was that the technology had not evolved enough to have a lot of **reusable components** (what we call modules in Python) that [automate the boring stuff](https://www.udemy.com/course/automate/) for us. **Libraries are how we do that today.** If you need something that Python doesn't do for you automatically, chances are that somebody has released a library with reusable modules, where most things can be done in a line or two of code that just works. \n",
        "\n",
        "### **Runtime Environments (\"Runtimes\")**\n",
        "In order for everything to work reliably, we need a place to run our programs that knows about our libraries and tools. At the heart of Jupyter is IPython, which compiles the Python code behind the scenes, links in any required libraries, and handles basic I/O with the computer's operating system.\n",
        "\n",
        "The alternatives to Jupyter are things like the _Python Interpreter_ (runs in a terminal window), workspaces in integrated development environments like _PyCharm_, or even Unix scripts running in the cloud. Come to think of it, this notebook is running in a Jupyter runtime environment inside of a Docker runtime environment inside of yet another runtime environment (Amazon Web Services) in the cloud. Confused yet? Fortunately those details are hidden from view. Just know that a Jupyter Notebook is a web app that lets you write and run code in Python, R, Julia, HTML, and even SQL without installing any special software.      \n",
        "\n",
        "### **Versions**\n",
        "Python code comes in several different flavors:\n",
        "- Python 1 (first released in 1993) was the first complete version for the public\n",
        "- Python 2 (first released in 2000) added advanced data types and core object-orientation (‘everything is an object’)\n",
        "- Python 3 (first released in 2008) broke backwards compatibility to streamline and unify language syntax and libraries\n",
        "\n",
        "You won't find Python 1 code anywhere but in a museum today, but there is still plenty of Python 2 code lingering in science labs and hobby projects. We will be using Python 3 in this class. If you run across older versions in your wanderings, you will find that most things in version 3 are similar to version 2. However, we can't mix the two in the same source code."
      ]
    },
    {
      "cell_type": "markdown",
      "metadata": {
        "id": "aI3isG4zKbE2"
      },
      "source": [
        "### **Pulse Check ...**\n",
        "Now for a more advanced question. Explain what the code below is telling us about `the_fridge` and `IPython`. What do you think the stuff in `<brackets>` means? It's okay if you don't know yet. We'll get there in the next lesson. "
      ]
    },
    {
      "cell_type": "code",
      "metadata": {
        "id": "iDVrFOFYKbE3",
        "outputId": "eda1f010-896a-49d2-ccca-750383096eee"
      },
      "source": [
        "the_fridge = [\"bud\", \"bud\", \"stella\", \"miller\", \"homebrew\"]\n",
        "print(the_fridge)\n",
        "print(type(the_fridge))\n",
        "\n",
        "import IPython\n",
        "print(IPython)"
      ],
      "execution_count": null,
      "outputs": [
        {
          "output_type": "stream",
          "text": [
            "['bud', 'bud', 'stella', 'miller', 'homebrew']\n",
            "<class 'list'>\n",
            "<module 'IPython' from '/Users/chuntley/anaconda3/lib/python3.7/site-packages/IPython/__init__.py'>\n"
          ],
          "name": "stdout"
        }
      ]
    },
    {
      "cell_type": "markdown",
      "metadata": {
        "id": "iQQmZREAKbE6"
      },
      "source": [
        "REPLACE THIS TEXT WITH YOUR ANSWER. "
      ]
    },
    {
      "cell_type": "code",
      "metadata": {
        "cellView": "form",
        "id": "V9etG-uebpvf"
      },
      "source": [
        "#@title <--- Check your work\n",
        "%%html\n",
        "<div style=\"max-width: 1000px\">\n",
        "   <div style=\"position: relative;padding-bottom: 56.25%;height: 0;\">\n",
        "     <iframe style=\"position: absolute;top: 0;left: 0;width: 100%;height: 100%;\" rel=\"0\" modestbranding=\"1\"  \n",
        "     src=\"https://www.youtube.com/embed/FVdv9xJL3Lw\"\n",
        "     frameborder=\"0\" allow=\"accelerometer; autoplay; encrypted-media; gyroscope; picture-in-picture\" allowfullscreen></iframe>\n",
        "   </div>\n",
        "</div>"
      ],
      "execution_count": null,
      "outputs": []
    },
    {
      "cell_type": "markdown",
      "metadata": {
        "id": "WD6DHp8RKbE7"
      },
      "source": [
        "---\n",
        "## **Error Types, Error Messages, and Debugging**"
      ]
    },
    {
      "cell_type": "markdown",
      "metadata": {
        "id": "byeaZB-hKbE7"
      },
      "source": [
        "As you write more code, you will find that you make lots of mistakes. Sometimes they aren't even mistakes per se ... more like misunderstandings. You might ask for something but the computer replies \"No, we can't do that at the moment but maybe later.\" You eventually get used to this, especially when you get a message back that you can use to get it right later on. Let's repeat that, this time with more emphasis: **Errors are not all the same. Most errors are actually good things! Embrace them! It's how we learn.**\n",
        "\n",
        "The learning / debugging process generally looks like this:\n",
        "\n",
        "1. Edit some code. \n",
        "2. Run it.\n",
        "3. Test to see that it worked. If not identify the mistake. \n",
        "4. Go back to step 1.\n",
        "\n",
        "**Notice how the process never ends?** That's how it really is. It may [take decades before a bug hits us in the face](https://en.wikipedia.org/wiki/Year_2038_problem). The trick is the testing we do in step 3. That's the flashlight we use to avoid bumping into things with teeth or other sharp edges. \n",
        "\n",
        "So what are the kinds of things to look for? There are four fundamental types of programming bugs:\n",
        "- **Syntax errors** are caught by the compiler before trying to run the code. As the name implies, these are mistakes like typos or bad grammar that make the compiler say \"I don't understand what you are asking me to do.\"\n",
        "    - Fix: Read the error message, which will show you where the error occurred in the code. There may also be a little bit of diagnostic information about why it's not legal Python syntax.  \n",
        "- **Logic errors** are where the code tries to do the impossible, perhaps because things are done out of order.\n",
        "    - Fix: Walk through your code, line by time, perhaps with the help of a debugging tool. At each step confirm that your assumptions are being met. If you don't have a debugger handy then you will find yourself relying on `print` statements to let Python tell you about things in process. \n",
        "- **Semantic errors** occur when your code runs fine but doesn't actually do what you think it does. \n",
        "    - Fix: This is a special kind of logic error, one where the mistake might not be obvious and you won't get an error message. Since you are the source of the bad logic, the computer has no way to tell that it is faulty, leaving you on your own to identify and locate the bug.\n",
        "- **Runtime errors** (not in the textbook) are discovered when the program crashes, often because something you need isn't available at the time you need it. \n",
        "    - Fix: Read the error message, which explains what caused the runtime to crash. Often you'll find that some assumption you've made about a resource being available or code being executed in advance of yours is faulty. In some cases, you may have code that runs for days just fine before suddenly it crashes. You may need to resort to reading system logs to see what was happening at the time of the crash.  \n",
        "    \n",
        "These errors are listed in order of difficulty. Syntax errors happen all the time. Let Python tell you how to fix them when it can. Logic errors are similarly benign as long as you can figure out what steps are being done out of order. Semantic and runtime errors are where you might want to get some help. Programmers tend to form a tight community where everybody loves a good debugging war story.  \n",
        "\n",
        "### **Still here? One last Pulse Check ...**\n",
        "For each of the cells below explain the error. "
      ]
    },
    {
      "cell_type": "code",
      "metadata": {
        "id": "ar6VkNtXKbE8",
        "outputId": "0f4c0700-20a3-4ed0-c4ec-cbae43d27874"
      },
      "source": [
        "# Bug #1\n",
        "print 'I love Python'"
      ],
      "execution_count": null,
      "outputs": [
        {
          "output_type": "error",
          "ename": "SyntaxError",
          "evalue": "Missing parentheses in call to 'print'. Did you mean print('I love Python')? (<ipython-input-4-2f92cfeb9825>, line 2)",
          "traceback": [
            "\u001b[0;36m  File \u001b[0;32m\"<ipython-input-4-2f92cfeb9825>\"\u001b[0;36m, line \u001b[0;32m2\u001b[0m\n\u001b[0;31m    print 'I love Python'\u001b[0m\n\u001b[0m                        ^\u001b[0m\n\u001b[0;31mSyntaxError\u001b[0m\u001b[0;31m:\u001b[0m Missing parentheses in call to 'print'. Did you mean print('I love Python')?\n"
          ]
        }
      ]
    },
    {
      "cell_type": "markdown",
      "metadata": {
        "id": "ZmpRFdT5KbE-"
      },
      "source": [
        "REPLACE THIS TEXT WITH YOUR ANSWER FOR BUG #1.  "
      ]
    },
    {
      "cell_type": "code",
      "metadata": {
        "id": "uQ-SOLoOKbE_",
        "outputId": "60d98854-0184-4552-f456-3c30567d3ed2"
      },
      "source": [
        "# Bug #2\n",
        "x = \"I love Python\"\n",
        "    print(x)"
      ],
      "execution_count": null,
      "outputs": [
        {
          "output_type": "error",
          "ename": "IndentationError",
          "evalue": "unexpected indent (<ipython-input-5-ee2255cd7a7c>, line 3)",
          "traceback": [
            "\u001b[0;36m  File \u001b[0;32m\"<ipython-input-5-ee2255cd7a7c>\"\u001b[0;36m, line \u001b[0;32m3\u001b[0m\n\u001b[0;31m    print(x)\u001b[0m\n\u001b[0m    ^\u001b[0m\n\u001b[0;31mIndentationError\u001b[0m\u001b[0;31m:\u001b[0m unexpected indent\n"
          ]
        }
      ]
    },
    {
      "cell_type": "markdown",
      "metadata": {
        "id": "_cJDvo1yKbFC"
      },
      "source": [
        "REPLACE THIS TEXT WITH YOUR ANSWER FOR BUG #2.  "
      ]
    },
    {
      "cell_type": "code",
      "metadata": {
        "id": "Ahq4cICzKbFC",
        "outputId": "73858462-44b7-49d3-d97e-fd20929622da"
      },
      "source": [
        "# Bug #3\n",
        "x = \"I love Python\"\n",
        "print(x[20])"
      ],
      "execution_count": null,
      "outputs": [
        {
          "output_type": "error",
          "ename": "IndexError",
          "evalue": "string index out of range",
          "traceback": [
            "\u001b[0;31m---------------------------------------------------------------------------\u001b[0m",
            "\u001b[0;31mIndexError\u001b[0m                                Traceback (most recent call last)",
            "\u001b[0;32m<ipython-input-7-6ce58de79b6a>\u001b[0m in \u001b[0;36m<module>\u001b[0;34m\u001b[0m\n\u001b[1;32m      1\u001b[0m \u001b[0;31m# bug #3\u001b[0m\u001b[0;34m\u001b[0m\u001b[0;34m\u001b[0m\u001b[0;34m\u001b[0m\u001b[0m\n\u001b[1;32m      2\u001b[0m \u001b[0mx\u001b[0m \u001b[0;34m=\u001b[0m \u001b[0;34m\"I love Python\"\u001b[0m\u001b[0;34m\u001b[0m\u001b[0;34m\u001b[0m\u001b[0m\n\u001b[0;32m----> 3\u001b[0;31m \u001b[0mprint\u001b[0m\u001b[0;34m(\u001b[0m\u001b[0mx\u001b[0m\u001b[0;34m[\u001b[0m\u001b[0;36m20\u001b[0m\u001b[0;34m]\u001b[0m\u001b[0;34m)\u001b[0m\u001b[0;34m\u001b[0m\u001b[0;34m\u001b[0m\u001b[0m\n\u001b[0m",
            "\u001b[0;31mIndexError\u001b[0m: string index out of range"
          ]
        }
      ]
    },
    {
      "cell_type": "markdown",
      "metadata": {
        "id": "y1rrMX7iKbFF"
      },
      "source": [
        "REPLACE THIS TEXT WITH YOUR ANSWER FOR BUG #3.  "
      ]
    },
    {
      "cell_type": "code",
      "metadata": {
        "id": "7CFvIkOIKbFF",
        "outputId": "0a0c7ee3-b096-4358-bafc-e65e0c4579c9"
      },
      "source": [
        "# Bug #4\n",
        "x = \"I love Python\"\n",
        "if x:\n",
        "    print(\"I hate Python\")\n",
        "print(x)"
      ],
      "execution_count": null,
      "outputs": [
        {
          "output_type": "stream",
          "text": [
            "I hate Python\n",
            "I love Python\n"
          ],
          "name": "stdout"
        }
      ]
    },
    {
      "cell_type": "markdown",
      "metadata": {
        "id": "vjj6yWW6KbFI"
      },
      "source": [
        "REPLACE THIS TEXT WITH YOUR ANSWER FOR BUG #4.  "
      ]
    },
    {
      "cell_type": "code",
      "metadata": {
        "cellView": "form",
        "id": "6-5OePWlcMla"
      },
      "source": [
        "#@title <--- Check your work\n",
        "%%html\n",
        "<div style=\"max-width: 1000px\">\n",
        "   <div style=\"position: relative;padding-bottom: 56.25%;height: 0;\">\n",
        "     <iframe style=\"position: absolute;top: 0;left: 0;width: 100%;height: 100%;\" rel=\"0\" modestbranding=\"1\"  \n",
        "     src=\"https://www.youtube.com/embed/vW9_-hx6XiM\"\n",
        "     frameborder=\"0\" allow=\"accelerometer; autoplay; encrypted-media; gyroscope; picture-in-picture\" allowfullscreen></iframe>\n",
        "   </div>\n",
        "</div>"
      ],
      "execution_count": null,
      "outputs": []
    },
    {
      "cell_type": "markdown",
      "metadata": {
        "id": "AE8Vhtf5LAeK"
      },
      "source": [
        "---\n",
        "## **Pro Tips: Git and GitHub**\n",
        "\n",
        "Programming is all about the code. Literally everythig else is rendered useless if the code is buggy or doesn't do what it is supposed to do. For the professional programmer that means lots of debugging and, in many cases, debugging the same code again and again until the bugs are fully squashed for good. So it is perhaps unsurprising that the one tool that is pretty much ubiquitous, regardless of programming language, operating system, etc. is the Git source control management system.   \n",
        "\n",
        "**Git** is used to track your source code and keep you from painting yourself into corners. Perhaps its most basic capability is to keep a copy of every version of your code that you tell it about. Want to see what a given line of code looked like 6 months ago? Then just ask Git. It also prevents _versionitis_, a malady where there are multiple incompatible versions of the same code claiming to be current. It's like wearing six cheap watches. If each is telling a different time, then do you really know what time it is? In Git, there is always a 'trunk' version that tracks the latest official _release_ of the code. \n",
        "\n",
        "**GitHub** is a website where programmers can publish and share their Git _repositories_. Each repository represents one programming project. The programmers can share and sync code to avoid versionitis, though [even Git doesn't always make that easy](https://www.atlassian.com/git/tutorials/using-branches/merge-conflicts).\n",
        "\n",
        "> In many coding shops the manager will ask to see your GitHub repositories *before* they dig into your resume. Resumes are *what you tell us about*, while Git repositories provide a detailed record of *what you have done*. \n",
        "\n"
      ]
    },
    {
      "cell_type": "markdown",
      "metadata": {
        "id": "A30i6UTNil_0"
      },
      "source": [
        "---\n",
        "## **Before you go ... Submit your work on Google Classroom**\n",
        "- Save your notebook to be sure it is up to date.\n",
        "- Go to the assignment in Google Classroom. \n",
        "- Turn in your notebook. Your notebook will become read-only. \n",
        "- Once it has been reviewed it will be returned and no-longer be read-only."
      ]
    },
    {
      "cell_type": "markdown",
      "metadata": {
        "id": "lTGQsdvOPrIE"
      },
      "source": [
        "---\n",
        "> ## Every Tee Has a Story\n",
        "> ABOUT EVERY HOLIDAY EVER    \n",
        "> Whenever I visited with family or friends for dinner in the 1990s and 2000s I was always asked to inspect their computer equipment and try to troubleshoot whatever problems they were having with MS Windows. This is the nature of families and friends, I suppose, because this went on for many years. I would be invited to dinner and then came the questions about how to fix this or that in Windows. The funny thing was that I have never been much of a Windows user. For many years I was a pretty enthusiastic full-time Linux user, using it as my regular, everyday desktop operating system. After that I switched to MacOS pretty much exclusively. The only time I ever saw Windows was in a computer lab or ... when I had dinner with family or friends. A few years ago I finally replaced my mother's ancient Windows desktop with an unbreakable Chromebook laptop but she still asks me to \"fix it\" for her every time I see her for the holidays.     ¯\\\\_(ツ)_/¯\n",
        ">\n",
        "\n",
        "![L1 Tee Front](https://github.com/christopherhuntley/BUAN5405-docs/raw/master/Photos/L01_TeeFront.jpeg)\n",
        "\n",
        "\n",
        "## Copyright &copy; 2020 Christopher Huntley. All rights reserved. "
      ]
    }
  ]
}