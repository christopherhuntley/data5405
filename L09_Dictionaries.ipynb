{
 "cells": [
  {
   "cell_type": "markdown",
   "metadata": {
    "id": "Nb2E9XgVR47H"
   },
   "source": [
    "<img src=\"../img/Dolan.png\" width=\"180px\" align=\"right\">\n",
    "\n",
    "# **Lesson 9: Dictionaries**\n",
    "_Associative arrays by another name_"
   ]
  },
  {
   "cell_type": "markdown",
   "metadata": {
    "id": "44ouNlUdR47I"
   },
   "source": [
    "## **Learning Objectives**\n",
    "\n",
    "### Theory / Be able to explain ...\n",
    "- The purpose and usage of associative arrays\n",
    "- Python dictionaries as associative arrays\n",
    "- Hashing and it's implications for dictionary keys\n",
    "\n",
    "### Skills / Know how to  ...\n",
    "- Display the hash for any dictionary key\n",
    "- Iterate over dictionary items, keys, and values \n",
    "- Generate dictionaries from keys and values\n",
    "- Use a dictionary comprehension for efficient dictionary generation\n",
    "---"
   ]
  },
  {
   "cell_type": "markdown",
   "metadata": {
    "id": "mhKggwZKR47J"
   },
   "source": [
    "## **The Magic of Associative Arrays**\n",
    ">\"A very little key will open a very heavy door.\" -― Charles Dickens, _Hunted Down_\n",
    "\n",
    "After so many years of programming in C, I found myself using it for basically everything, until one day in 1994 I was asked by a very wise boss to try [AWK](https://en.wikipedia.org/wiki/AWK). AWK was a text processing language developed at Bell Labs in the 1970s by the same team that created C and Unix. It was designed to be a tiny domain-specific language for working with streaming text data. One would feed data to an AWK script one line at a time. AWK would then output text to an output file, also one line at a time. It could, of course, remember things from one line to the next, allowing it to accumulate information along the way. \n",
    "\n",
    "Soon I was using AWK for lots of text processing tasks. One notable application was to translate mainframe data into SQL code for loading into a relational database. Data would come in one line at a time and then go right into the database. I think I got at least one promotion from just this one parlor trick. A year or so later, in late 1995 or early 1996, I used the same trick to develop a dashboarding web app that was cobbled together with AWK and bash scripts. No Perl. No Python. No PHP. No Java. Just AWK and bash on a Unix command line. I am still amazed that it worked but we never had a crash or any other bug reported.   \n",
    "\n",
    "One of the reasons why I loved AWK so much was a feature called \"associative arrays\" where we could index a variable length array with text **keys** instead of integers. We could even mix keys with integer indexes if we liked. This meant that, for example, I could have an array of birthdays indexed by people's names. Or vice versa if that was what I wanted.  Or, I could create a histogram for words in a file with two lines of code. The potential uses seemed endless. Nothing could have been more convenient for a wannabe smart and lazy programmer. \n",
    "\n",
    "The Python equivalent of an associative array is a **dictionary**. It does many of the same things as a list but with keys instead of positions. Like associative arrays, there are an endless array of uses. If you have ever pulled data from a web API or added a Series to a DataFrame then you have used something like a dictionary. It's just how it's done. "
   ]
  },
  {
   "cell_type": "markdown",
   "metadata": {
    "id": "G8siTXWzR47K"
   },
   "source": [
    "---\n",
    "## **Dictionaries as Collections of Key-Value Pairs**\n",
    "Python dictionaries have the type `dict`. Here's a brief example, followed by a few notes."
   ]
  },
  {
   "cell_type": "code",
   "execution_count": 3,
   "metadata": {
    "colab": {
     "base_uri": "https://localhost:8080/"
    },
    "executionInfo": {
     "elapsed": 5,
     "status": "ok",
     "timestamp": 1626452123296,
     "user": {
      "displayName": "Christopher Huntley",
      "photoUrl": "",
      "userId": "11069151036176747256"
     },
     "user_tz": 240
    },
    "id": "orEq7-QrR47K",
    "outputId": "74160cb7-981f-4d74-82d5-46e21178f619"
   },
   "outputs": [
    {
     "name": "stdout",
     "output_type": "stream",
     "text": [
      "Washington was born 1732-02-22\n",
      "Jefferson was born 1743-04-13\n",
      "Lincoln was born 1809-02-12\n",
      "Madison was born 1751-03-16\n"
     ]
    }
   ],
   "source": [
    "birthdays = {'Washington':'1732-02-22','Jefferson':'1743-04-13','Lincoln':'1809-02-12'}\n",
    "birthdays['Madison']='1751-03-16'\n",
    "for president in birthdays:\n",
    "    print(president,\"was born\", birthdays[president])"
   ]
  },
  {
   "cell_type": "markdown",
   "metadata": {
    "id": "QMyg-v1ZR47R"
   },
   "source": [
    "- `dict` literals work like `list` literals except they use curly brackets `{}` instead of square brackets `[]`.\n",
    "- `dict` indexes use **keys** of any **Hashable** type (more about this in a minute) instead of just integers. \n",
    "- Each key-value pair is literally encoded as `key : value`. if a key is repeated within a dictionary then the value is replaced with each time with the newest value.\n",
    "- The bracket operator `[]` is used for retrieving specific values, just like a list. \n",
    "- Dictionaries are mutable. We can add or remove key-value pairs as needed. The `+=` operator doesn't work though. Use the `[ ]` operator instead. "
   ]
  },
  {
   "cell_type": "code",
   "execution_count": 4,
   "metadata": {
    "colab": {
     "base_uri": "https://localhost:8080/",
     "height": 162
    },
    "executionInfo": {
     "elapsed": 126,
     "status": "error",
     "timestamp": 1626452127962,
     "user": {
      "displayName": "Christopher Huntley",
      "photoUrl": "",
      "userId": "11069151036176747256"
     },
     "user_tz": 240
    },
    "id": "ON6hGG8GR47S",
    "outputId": "c01f43e0-0535-4ab4-a1d6-ab6a67a5333d"
   },
   "outputs": [
    {
     "ename": "TypeError",
     "evalue": "unsupported operand type(s) for +=: 'dict' and 'dict'",
     "output_type": "error",
     "traceback": [
      "\u001b[0;31m---------------------------------------------------------------------------\u001b[0m",
      "\u001b[0;31mTypeError\u001b[0m                                 Traceback (most recent call last)",
      "Input \u001b[0;32mIn [4]\u001b[0m, in \u001b[0;36m<cell line: 1>\u001b[0;34m()\u001b[0m\n\u001b[0;32m----> 1\u001b[0m birthdays \u001b[38;5;241m+\u001b[39m\u001b[38;5;241m=\u001b[39m {\u001b[38;5;124m'\u001b[39m\u001b[38;5;124mAdams Sr.\u001b[39m\u001b[38;5;124m'\u001b[39m:\u001b[38;5;124m'\u001b[39m\u001b[38;5;124m1735-10-30\u001b[39m\u001b[38;5;124m'\u001b[39m}\n",
      "\u001b[0;31mTypeError\u001b[0m: unsupported operand type(s) for +=: 'dict' and 'dict'"
     ]
    }
   ],
   "source": [
    "birthdays += {'Adams Sr.':'1735-10-30'}"
   ]
  },
  {
   "cell_type": "code",
   "execution_count": 5,
   "metadata": {},
   "outputs": [
    {
     "data": {
      "text/plain": [
       "{'Washington': '1732-02-22',\n",
       " 'Jefferson': '1743-04-13',\n",
       " 'Lincoln': '1809-02-12',\n",
       " 'Madison': '1751-03-16',\n",
       " 'Adams Sr.': '1735-10-30'}"
      ]
     },
     "execution_count": 5,
     "metadata": {},
     "output_type": "execute_result"
    }
   ],
   "source": [
    "birthdays['Adams Sr.'] = '1735-10-30'\n",
    "birthdays"
   ]
  },
  {
   "cell_type": "markdown",
   "metadata": {},
   "source": [
    "## **An Aside about Sets**\n",
    "\n",
    "The built-in `set` data type is one of the hidden gems in the Python standard library. \n",
    "\n",
    "A `set` is like a `list` but ... :\n",
    "- With no duplicate items\n",
    "- No implied ordering (and thus no `[ ]` indexing or slicing)\n",
    "\n",
    "Here are a couple examples:"
   ]
  },
  {
   "cell_type": "code",
   "execution_count": 1,
   "metadata": {},
   "outputs": [
    {
     "data": {
      "text/plain": [
       "{1, 2, 3}"
      ]
     },
     "execution_count": 1,
     "metadata": {},
     "output_type": "execute_result"
    }
   ],
   "source": [
    "# a list of numbers\n",
    "{1,2,2,3}"
   ]
  },
  {
   "cell_type": "code",
   "execution_count": 2,
   "metadata": {},
   "outputs": [
    {
     "name": "stderr",
     "output_type": "stream",
     "text": [
      "<>:1: SyntaxWarning: 'set' object is not subscriptable; perhaps you missed a comma?\n",
      "<>:1: SyntaxWarning: 'set' object is not subscriptable; perhaps you missed a comma?\n",
      "/var/folders/_c/71zxr4yj6js5g8rx19wh_j540000gp/T/ipykernel_23792/3390513905.py:1: SyntaxWarning: 'set' object is not subscriptable; perhaps you missed a comma?\n",
      "  {1,2,2,3}[1]\n",
      "/var/folders/_c/71zxr4yj6js5g8rx19wh_j540000gp/T/ipykernel_23792/3390513905.py:1: SyntaxWarning: 'set' object is not subscriptable; perhaps you missed a comma?\n",
      "  {1,2,2,3}[1]\n",
      "/var/folders/_c/71zxr4yj6js5g8rx19wh_j540000gp/T/ipykernel_23792/3390513905.py:1: SyntaxWarning: 'set' object is not subscriptable; perhaps you missed a comma?\n",
      "  {1,2,2,3}[1]\n"
     ]
    },
    {
     "ename": "TypeError",
     "evalue": "'set' object is not subscriptable",
     "output_type": "error",
     "traceback": [
      "\u001b[0;31m---------------------------------------------------------------------------\u001b[0m",
      "\u001b[0;31mTypeError\u001b[0m                                 Traceback (most recent call last)",
      "Input \u001b[0;32mIn [2]\u001b[0m, in \u001b[0;36m<cell line: 1>\u001b[0;34m()\u001b[0m\n\u001b[0;32m----> 1\u001b[0m \u001b[43m{\u001b[49m\u001b[38;5;241;43m1\u001b[39;49m\u001b[43m,\u001b[49m\u001b[38;5;241;43m2\u001b[39;49m\u001b[43m,\u001b[49m\u001b[38;5;241;43m2\u001b[39;49m\u001b[43m,\u001b[49m\u001b[38;5;241;43m3\u001b[39;49m\u001b[43m}\u001b[49m\u001b[43m[\u001b[49m\u001b[38;5;241;43m1\u001b[39;49m\u001b[43m]\u001b[49m\n",
      "\u001b[0;31mTypeError\u001b[0m: 'set' object is not subscriptable"
     ]
    }
   ],
   "source": [
    "# that has no implied ordering\n",
    "{1,2,2,3}[1]"
   ]
  },
  {
   "cell_type": "markdown",
   "metadata": {},
   "source": [
    "You may be telling yourself \"Okay, so what? It seems like we could just use a list for that.\"\n",
    "\n",
    "They key here is that sets enforce some rules that are very useful for certain kinds of data analysis. \n",
    "- The no duplicates rule allows us to construct sets of **keys** without accidentally creating duplicates. So where might we care about that? With `dict` keys, for example. \n",
    "- The lack of ordering forces us to go beyond indexed (`[ ]`) access to items and instead use a proper iterator. It's just more Pythonic and less prone to certain classes of bugs. \n",
    "\n",
    "> **Heads Up:** The standard set iterator (used by `for` loops, etc.) traverses the items in ascending order. In other words `list(set( ... ))` is the same as `sorted(list(set( ... )))`. This can be useful if you want to treat a set like a list without having to sort it first."
   ]
  },
  {
   "cell_type": "markdown",
   "metadata": {
    "id": "5-G6m5kYR47V",
    "tags": []
   },
   "source": [
    "### **Hashing**\n",
    "To ensure data integrity, dictionary keys (and `set` items) are required to be:\n",
    "- **Unique**: If two items have the same key, then how do we know which is which?\n",
    "- **Immutable**: If we can change the value of a key (e.g., via aliasing) then how does the dictionary let everybody know about it?\n",
    "- **Printable**: If not printable/visible, then how can we humans use them safely? \n",
    "\n",
    "When passed an object, a **hashing** function generates a _printable_ **hash** or **digest** value that is _almost_ guaranteed to be unique. The odds of \"collision\" (i.e., two objects with the same hash) is very, very, very remote. Further, if the object being hashed is itself immutable then we have met all three requirements for dictionary keys:\n",
    "\n",
    "1. Each key has a unique hash. If two keys are the same then they generate the same hash.\n",
    "2. Because the key is required to be immutable, then so is the hash.\n",
    "3. Hashes are printable as (typically) very long strings of characters or digits. So, even if the key itself isn't printable, its hash is. \n",
    "\n",
    "Besides its obvious integrity advantages, hashing of keys is also highly efficient. Since hashes are convertible to strings or integers, we can sort them just like list positions. That makes using a key to lookup a value just as efficient as using an integer index to look up a value in a list. (Ever used a primary key or index to speed up a SQL query? That's exactly the same thing.)\n",
    "\n",
    "While the precise hashing function may vary from data type to data type, the default implementation uses a version of the Fowler-Noll-Vo algorithm which is outside the scope of this course. However, we can call the `hash()` standard library function on any immutable object with 100% predictable results:   "
   ]
  },
  {
   "cell_type": "code",
   "execution_count": null,
   "metadata": {
    "colab": {
     "base_uri": "https://localhost:8080/",
     "height": 297
    },
    "executionInfo": {
     "elapsed": 117,
     "status": "error",
     "timestamp": 1626452130979,
     "user": {
      "displayName": "Christopher Huntley",
      "photoUrl": "",
      "userId": "11069151036176747256"
     },
     "user_tz": 240
    },
    "id": "2uBjxAXBR47V",
    "outputId": "1e298cb1-4906-4550-e7fd-2c8ae23566b3"
   },
   "outputs": [
    {
     "name": "stdout",
     "output_type": "stream",
     "text": [
      "1\n",
      "691752902764107778\n",
      "-138109345320675665\n",
      "-138109345320675665\n",
      "2528502973977326415\n",
      "2887456646110\n"
     ]
    },
    {
     "ename": "TypeError",
     "evalue": "ignored",
     "output_type": "error",
     "traceback": [
      "\u001b[0;31m---------------------------------------------------------------------------\u001b[0m",
      "\u001b[0;31mTypeError\u001b[0m                                 Traceback (most recent call last)",
      "\u001b[0;32m<ipython-input-3-ba994757e183>\u001b[0m in \u001b[0;36m<module>\u001b[0;34m()\u001b[0m\n\u001b[1;32m      5\u001b[0m \u001b[0mprint\u001b[0m\u001b[0;34m(\u001b[0m\u001b[0mhash\u001b[0m\u001b[0;34m(\u001b[0m \u001b[0;34m(\u001b[0m\u001b[0;36m1\u001b[0m\u001b[0;34m,\u001b[0m\u001b[0;36m2\u001b[0m\u001b[0;34m,\u001b[0m\u001b[0;36m3\u001b[0m\u001b[0;34m)\u001b[0m \u001b[0;34m)\u001b[0m\u001b[0;34m)\u001b[0m                   \u001b[0;31m# tuple, which is immutable\u001b[0m\u001b[0;34m\u001b[0m\u001b[0;34m\u001b[0m\u001b[0m\n\u001b[1;32m      6\u001b[0m \u001b[0mprint\u001b[0m\u001b[0;34m(\u001b[0m\u001b[0mhash\u001b[0m\u001b[0;34m(\u001b[0m \u001b[0mhash\u001b[0m \u001b[0;34m)\u001b[0m\u001b[0;34m)\u001b[0m                      \u001b[0;31m# the hash function object\u001b[0m\u001b[0;34m\u001b[0m\u001b[0;34m\u001b[0m\u001b[0m\n\u001b[0;32m----> 7\u001b[0;31m \u001b[0mprint\u001b[0m\u001b[0;34m(\u001b[0m\u001b[0mhash\u001b[0m\u001b[0;34m(\u001b[0m \u001b[0;34m[\u001b[0m\u001b[0;36m1\u001b[0m\u001b[0;34m,\u001b[0m\u001b[0;36m2\u001b[0m\u001b[0;34m,\u001b[0m\u001b[0;36m3\u001b[0m\u001b[0;34m]\u001b[0m \u001b[0;34m)\u001b[0m\u001b[0;34m)\u001b[0m                   \u001b[0;31m# list; oops that's mutable!\u001b[0m\u001b[0;34m\u001b[0m\u001b[0;34m\u001b[0m\u001b[0m\n\u001b[0m",
      "\u001b[0;31mTypeError\u001b[0m: unhashable type: 'list'"
     ]
    }
   ],
   "source": [
    "print(hash( 1 ))                         # int\n",
    "print(hash( 2.3 ))                       # float\n",
    "print(hash( \"Mary Had a Little Lamb\" ))  # string\n",
    "print(hash( b'Mary Had a Little Lamb' )) # bytes (same as string)\n",
    "print(hash( (1,2,3) ))                   # tuple, which is immutable\n",
    "print(hash( hash ))                      # the hash function object\n",
    "print(hash( [1,2,3] ))                   # list; oops that's mutable!"
   ]
  },
  {
   "cell_type": "markdown",
   "metadata": {
    "id": "PBrniJ3JR47Y"
   },
   "source": [
    "### **Dictionary Traversal**\n",
    "When iterating over a `dict`, we can use one of three iterator **_view methods_** that return list-like sequences:\n",
    "- `keys()` which returns all keys\n",
    "- `values()` which returns all the values\n",
    "- `items()` which returns all the key-value pairs (a.k.a., \"items\")\n",
    "\n",
    "When used in a `for` loop the default is to use the `keys()` iterator:"
   ]
  },
  {
   "cell_type": "code",
   "execution_count": 6,
   "metadata": {
    "colab": {
     "base_uri": "https://localhost:8080/"
    },
    "executionInfo": {
     "elapsed": 124,
     "status": "ok",
     "timestamp": 1626452134742,
     "user": {
      "displayName": "Christopher Huntley",
      "photoUrl": "",
      "userId": "11069151036176747256"
     },
     "user_tz": 240
    },
    "id": "VS0YkgquR47Y",
    "outputId": "6582565c-134f-4237-847c-3ce3ec2f435e"
   },
   "outputs": [
    {
     "name": "stdout",
     "output_type": "stream",
     "text": [
      "Washington was born 1732-02-22\n",
      "Jefferson was born 1743-04-13\n",
      "Lincoln was born 1809-02-12\n",
      "Madison was born 1751-03-16\n",
      "Adams Sr. was born 1735-10-30\n",
      "---\n",
      "Washington was born 1735-10-30\n",
      "Jefferson was born 1735-10-30\n",
      "Lincoln was born 1735-10-30\n",
      "Madison was born 1735-10-30\n",
      "Adams Sr. was born 1735-10-30\n"
     ]
    }
   ],
   "source": [
    "# the default iteration order\n",
    "# birthdays is still a dict indexed by last name\n",
    "for president in birthdays:\n",
    "    print(president,\"was born\", birthdays[president])\n",
    "print(\"---\")\n",
    "# explicitly iterating over keys()\n",
    "for key in birthdays.keys():\n",
    "    print(key,\"was born\", birthdays[president])"
   ]
  },
  {
   "cell_type": "markdown",
   "metadata": {
    "id": "K_k7CGIIR47b"
   },
   "source": [
    "However, we can also iterate over items or even values, though with somewhat differing results."
   ]
  },
  {
   "cell_type": "code",
   "execution_count": 7,
   "metadata": {
    "colab": {
     "base_uri": "https://localhost:8080/"
    },
    "executionInfo": {
     "elapsed": 153,
     "status": "ok",
     "timestamp": 1626452138539,
     "user": {
      "displayName": "Christopher Huntley",
      "photoUrl": "",
      "userId": "11069151036176747256"
     },
     "user_tz": 240
    },
    "id": "7-PD6IyYR47b",
    "outputId": "09dd9380-030c-4d23-b3da-2e95f23046cd"
   },
   "outputs": [
    {
     "name": "stdout",
     "output_type": "stream",
     "text": [
      "('Washington', '1732-02-22')\n",
      "('Jefferson', '1743-04-13')\n",
      "('Lincoln', '1809-02-12')\n",
      "('Madison', '1751-03-16')\n",
      "('Adams Sr.', '1735-10-30')\n",
      "---\n",
      "1732-02-22\n",
      "1743-04-13\n",
      "1809-02-12\n",
      "1751-03-16\n",
      "1735-10-30\n"
     ]
    }
   ],
   "source": [
    "# iterating over items; each item is a tuple\n",
    "for item in birthdays.items():\n",
    "    print(item)\n",
    "print(\"---\")\n",
    "# iterating over values()\n",
    "for v in birthdays.values():\n",
    "    print(v)"
   ]
  },
  {
   "cell_type": "markdown",
   "metadata": {
    "id": "zbQtKafVR47e"
   },
   "source": [
    "You may have noticed that the order is the same each time. As of Python 3.6, each iterator will always follow the order in which the keys were inserted into the dictionary. "
   ]
  },
  {
   "cell_type": "markdown",
   "metadata": {
    "id": "0Q-CkAkSR47e"
   },
   "source": [
    "### **Pulse Check ...**\n",
    "**Use the [`dict()` function](https://docs.python.org/3/library/stdtypes.html#dict) to create a new dictionary called `presidents` that swaps the keys and values of the `birthdays` dictionary.** Each key should be a birthdate and each value should be the associated president's last name."
   ]
  },
  {
   "cell_type": "code",
   "execution_count": null,
   "metadata": {
    "id": "xPXjPwUuR47f"
   },
   "outputs": [],
   "source": [
    "# YOUR CODE HERE"
   ]
  },
  {
   "cell_type": "code",
   "execution_count": null,
   "metadata": {
    "jupyter": {
     "source_hidden": true
    },
    "tags": []
   },
   "outputs": [],
   "source": [
    "\n",
    "# Swap each key and value with a list comprehension of pairs\n",
    "items = [ [b[1], b[0]] for b in birthdays.items() ] \n",
    "presidents = dict([ [b[1],b[0]] for b in birthdays.items() ])\n",
    "presidents"
   ]
  },
  {
   "cell_type": "code",
   "execution_count": null,
   "metadata": {
    "jupyter": {
     "source_hidden": true
    },
    "tags": []
   },
   "outputs": [],
   "source": [
    "\n",
    "# All on one line\n",
    "presidents = dict([ [b[1],b[0]] for b in birthdays.items() ])\n",
    "presidents"
   ]
  },
  {
   "cell_type": "markdown",
   "metadata": {
    "id": "CXn2dgUCR47i"
   },
   "source": [
    "### **Producing Dictionaries from Existing Data**\n",
    "In the examples so far, all of our dictionaries have been created as literals with `{}` or through the `dict()` function. However, dictionaries can be created in lots of curious ways. Just about any iterative process that generates paired sequences of keys and values can be used to create and populate a dictionary. "
   ]
  },
  {
   "cell_type": "code",
   "execution_count": 1,
   "metadata": {
    "id": "TMUiGOY1R47j",
    "outputId": "6d27f403-fbca-4739-a4c2-93b641e0b862"
   },
   "outputs": [
    {
     "data": {
      "text/plain": [
       "{'Washington': '1732-02-22', 'Jefferson': '1743-04-13'}"
      ]
     },
     "execution_count": 1,
     "metadata": {},
     "output_type": "execute_result"
    }
   ],
   "source": [
    "d_keys =   [\"Washington\",\"Jefferson\"]\n",
    "d_values = ['1732-02-22','1743-04-13']\n",
    "\n",
    "d = {}        # an empty dictionary\n",
    "for i in range(len(d_keys)):\n",
    "    d[d_keys[i]] = d_values[i]\n",
    "d"
   ]
  },
  {
   "cell_type": "markdown",
   "metadata": {
    "id": "Ta727QQnR47l"
   },
   "source": [
    "While straightforward, this is not the most efficient way to generate a dictionary. There are actually two different one line equivalents that are both less code and more efficient. Both are explained below."
   ]
  },
  {
   "cell_type": "markdown",
   "metadata": {
    "id": "e0HOcp1eR47l"
   },
   "source": [
    "### **`dict` Comprehensions**\n",
    "A dictionary comprehension is a lot like a list comprehension, which we covered in Lesson 8. The syntax is like this:\n",
    "```python\n",
    "{ key : value for item in items }\n",
    "```\n",
    "The key and/or value will vary from item to item."
   ]
  },
  {
   "cell_type": "code",
   "execution_count": 2,
   "metadata": {
    "id": "IeOXvNA_R47m",
    "outputId": "3e2cda99-c1ae-42a3-e399-6e3a4725825a"
   },
   "outputs": [
    {
     "data": {
      "text/plain": [
       "{'Washington': '1732-02-22', 'Jefferson': '1743-04-13'}"
      ]
     },
     "execution_count": 2,
     "metadata": {},
     "output_type": "execute_result"
    }
   ],
   "source": [
    "# reuses the d_keys and d_values from before\n",
    "\n",
    "{ d_keys[i] : d_values[i] for i in range(len(d_keys)) }"
   ]
  },
  {
   "cell_type": "markdown",
   "metadata": {
    "id": "tNlruS72R47o"
   },
   "source": [
    "There are other allowed forms (e.g., the pairs can be specified as tuples) but this is the most commonly used one. "
   ]
  },
  {
   "cell_type": "markdown",
   "metadata": {
    "id": "ADTFHPLjR47o"
   },
   "source": [
    "### **That One Weird Zip Dict Trick (Say that fast 3 times)**\n",
    "The `zip()` function converts several sequences of the same length into an iterator of tuples (immutable lists, covered in Lesson 10), where the each tuple is composed of corresponding items. "
   ]
  },
  {
   "cell_type": "code",
   "execution_count": null,
   "metadata": {
    "id": "lG2xzozWR47p",
    "outputId": "2d358bd2-9870-4436-b034-fa3688ba6a00"
   },
   "outputs": [
    {
     "data": {
      "text/plain": [
       "[('1732-02-22', 'Washington'),\n",
       " ('1743-04-13', 'Jefferson'),\n",
       " ('1809-02-12', 'Lincoln')]"
      ]
     },
     "execution_count": 8,
     "metadata": {
      "tags": []
     },
     "output_type": "execute_result"
    }
   ],
   "source": [
    "bdays = ['1732-02-22','1743-04-13','1809-02-12']\n",
    "presidents = ['Washington','Jefferson','Lincoln']\n",
    "\n",
    "z = zip(bdays,presidents)  # z is an iterator\n",
    "list(z)                    "
   ]
  },
  {
   "cell_type": "markdown",
   "metadata": {
    "id": "3cZkcucER47s"
   },
   "source": [
    "This can be very useful for generating dictionaries. Let one of the sequences be a list of keys and the other a list of values. When used with the `dict()` constructor we now have a quick and efficient way to zip the keys and values together into a single dict."
   ]
  },
  {
   "cell_type": "code",
   "execution_count": null,
   "metadata": {
    "id": "9183ztSfR47s",
    "outputId": "79eb6128-cd39-424f-e381-644c4e5ddfd7"
   },
   "outputs": [
    {
     "data": {
      "text/plain": [
       "{'1732-02-22': 'Washington',\n",
       " '1743-04-13': 'Jefferson',\n",
       " '1809-02-12': 'Lincoln'}"
      ]
     },
     "execution_count": 9,
     "metadata": {
      "tags": []
     },
     "output_type": "execute_result"
    }
   ],
   "source": [
    "# bdays is the keys list\n",
    "# presidents is the values list\n",
    "dict(zip(bdays,presidents))  # Voila! a one line dict maker"
   ]
  },
  {
   "cell_type": "markdown",
   "metadata": {
    "id": "EutsdZX_Q-dS"
   },
   "source": [
    "---\n",
    "## **Before you go ... Save your notebook to be sure it is up to date.**"
   ]
  },
  {
   "cell_type": "markdown",
   "metadata": {
    "id": "PEvWMbpQqM58"
   },
   "source": [
    "---\n",
    "> ## Every Tee Shirt Has a Story\n",
    "> ABOUT THE SLASHDOT EFFECT     \n",
    "> I discovered Slashdot my first semester at Fairfield in 1997. I was trying to figure out how to explain geek culture to my undergrad business students. \"You mean you actually call yourselves geeks? ...\" Why yes we did, and there was even this new website called Slashdot that billed itself as \"News for Nerds\" that was catching on with programmers around the world. Even the name was total geek, a play on how web newbies would read URLs aloud. The full URL was `http://slashot.org`. Try saying that out loud (in English) including punctuation, a couple times. It's quite the tongue twister.  \n",
    "> \n",
    "> In keeping with its motto, it was a sort of curated blog with open discussion (without a log in required) that linked to the freshest nerd content from around the web. Within a few months of its founding, it had a continuous, 24x7 readership in the millions, all very geeky and loyal. This was at a time when getting a few thousand people to visit a major media site was a big deal. \n",
    "> \n",
    "> Slashdot became famous with the non-geek crowd when the blog postings began linking to not-so-nerdy newspapers, magazines, political candidates, and other media providers that were not prepared for **2 million** geeks clicking the link at _exactly_ the same time. Servers would fry and then seize up for good, leaving people wondering what the heck just happened and asking about backups. Such was the [Slashdot Effect](https://en.wikipedia.org/wiki/Slashdot_effect).  \n",
    ">\n",
    "> I picked up this tee at a Linux World show circa 2006. By then Slashdot had faded a bit, though was still popular in the right circles. The site is still around, though with a much, much smaller readership. It lost a lot of the original geek readership when magazine publisher Condé Nast bought it around the time I picked up the tee shirt.   \n",
    "\n",
    "\n",
    "![L9 Tee Front](../Photos/L09_TeeFront.jpeg)\n",
    "\n",
    "## Copyright &copy; 2020 Christopher Huntley. All rights reserved. "
   ]
  },
  {
   "cell_type": "code",
   "execution_count": null,
   "metadata": {},
   "outputs": [],
   "source": []
  }
 ],
 "metadata": {
  "colab": {
   "collapsed_sections": [],
   "name": "L09_Dictionaries.ipynb",
   "provenance": []
  },
  "kernelspec": {
   "display_name": "Python 3 (ipykernel)",
   "language": "python",
   "name": "python3"
  },
  "language_info": {
   "codemirror_mode": {
    "name": "ipython",
    "version": 3
   },
   "file_extension": ".py",
   "mimetype": "text/x-python",
   "name": "python",
   "nbconvert_exporter": "python",
   "pygments_lexer": "ipython3",
   "version": "3.8.15"
  }
 },
 "nbformat": 4,
 "nbformat_minor": 4
}
