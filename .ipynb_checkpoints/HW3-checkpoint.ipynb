{
 "cells": [
  {
   "cell_type": "markdown",
   "metadata": {
    "id": "kUYXaKGzwRJp"
   },
   "source": [
    "<img src=\"../img/Dolan.png\" width=\"180px\" align=\"right\">\n",
    "\n",
    "# **Homework Exercises, Week 3**\n",
    "_Practice Exercises for Lessons 7-9._"
   ]
  },
  {
   "cell_type": "markdown",
   "metadata": {},
   "source": [
    "## Lesson 8 Exercises\n",
    "### L8.E1\n",
    "**Write a code snippet that applies your `waist2hip_ratio()` function to each (Waist, Hip, Gender) triplet in the following list of lists:**     \n",
    "```\n",
    "[[28,40,'F'],[23, 35, 'F'],[30,40,'M'],[30,37,'M'],[32,39,'M']]\n",
    "```\n",
    "\n",
    "Your results should look like this:\n",
    "```\n",
    "For a F with waist 28 and hip 40 the w2h ratio is 0.7 with shape Pear.\n",
    "For a F with waist 23 and hip 35 the w2h ratio is 0.66 with shape Pear.\n",
    "For a M with waist 30 and hip 40 the w2h ratio is 0.75 with shape Pear.\n",
    "For a M with waist 30 and hip 37 the w2h ratio is 0.81 with shape Pear.\n",
    "For a M with waist 32 and hip 39 the w2h ratio is 0.82 with shape Pear.\n",
    "```"
   ]
  },
  {
   "cell_type": "code",
   "execution_count": null,
   "metadata": {},
   "outputs": [],
   "source": [
    "# YOUR L8.E1 CODE HERE"
   ]
  },
  {
   "cell_type": "markdown",
   "metadata": {},
   "source": [
    "### L9.E1\n",
    "**Use your `waist2hip_ratio()` function to process each of the dictionaries listed below.**\n",
    "```python\n",
    "[{'waist': 28, 'hip': 40, 'gender': 'F'},\n",
    " {'waist': 23, 'hip': 35, 'gender': 'F'},\n",
    " {'waist': 30, 'hip': 40, 'gender': 'M'},\n",
    " {'waist': 30, 'hip': 37, 'gender': 'M'},\n",
    " {'waist': 32, 'hip': 39, 'gender': 'M'}]\n",
    "```\n",
    "\n",
    "Your results should look like this:\n",
    "```\n",
    "For a F with waist 28 and hip 40 the w2h ratio is 0.7 with shape Pear.\n",
    "For a F with waist 23 and hip 35 the w2h ratio is 0.66 with shape Pear.\n",
    "For a M with waist 30 and hip 40 the w2h ratio is 0.75 with shape Pear.\n",
    "For a M with waist 30 and hip 37 the w2h ratio is 0.81 with shape Pear.\n",
    "For a M with waist 32 and hip 39 the w2h ratio is 0.82 with shape Pear.\n",
    "```"
   ]
  }
 ],
 "metadata": {
  "colab": {
   "collapsed_sections": [],
   "name": "Quiz5_Instructions.ipynb",
   "provenance": []
  },
  "kernelspec": {
   "display_name": "Python 3 (ipykernel)",
   "language": "python",
   "name": "python3"
  },
  "language_info": {
   "codemirror_mode": {
    "name": "ipython",
    "version": 3
   },
   "file_extension": ".py",
   "mimetype": "text/x-python",
   "name": "python",
   "nbconvert_exporter": "python",
   "pygments_lexer": "ipython3",
   "version": "3.8.15"
  }
 },
 "nbformat": 4,
 "nbformat_minor": 4
}
