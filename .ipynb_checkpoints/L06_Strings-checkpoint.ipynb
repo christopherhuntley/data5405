{
 "cells": [
  {
   "cell_type": "markdown",
   "metadata": {
    "id": "q3SenykKQ8RM"
   },
   "source": [
    "<img src=\"https://github.com/christopherhuntley/BUAN5405-docs/blob/master/Slides/img/Dolan.png?raw=true\" width=\"180px\" align=\"right\">\n",
    "\n",
    "# **Lesson 6: Strings**\n",
    "_The first sequential data type_"
   ]
  },
  {
   "cell_type": "markdown",
   "metadata": {
    "id": "vcFBcdMQQ8RN"
   },
   "source": [
    "## **Learning Objectives**\n",
    "\n",
    "### Theory / Be able to explain ...\n",
    "- The Python Type Hierarchy\n",
    "- The three kinds of string literals\n",
    "- The concept of immutability\n",
    "- Basics of sequential data types\n",
    "- Indexing, slicing, and traversal\n",
    "- String objects and methods\n",
    "- Iterators and generators\n",
    "\n",
    "### Skills / Know how to  ...\n",
    "- Create string literals from quoted text or type conversion\n",
    "- Use indexing and slicing to retrieve substrings\n",
    "- Use the `in` and `%` operators\n",
    "- Work with `bytearray` data for mutable text\n",
    "- Use an iterator or generator to traverse a sequence of any length\n",
    "\n",
    "**What follows is adapted from Chapter 6 of the _Python For Everybody_ book. If you have not read it, then please do so before continuing on.**\n",
    "\n",
    "---"
   ]
  },
  {
   "cell_type": "code",
   "execution_count": null,
   "metadata": {
    "cellView": "form",
    "colab": {
     "base_uri": "https://localhost:8080/",
     "height": 580
    },
    "executionInfo": {
     "elapsed": 678,
     "status": "ok",
     "timestamp": 1593363401527,
     "user": {
      "displayName": "Christopher Huntley",
      "photoUrl": "",
      "userId": "11069151036176747256"
     },
     "user_tz": 240
    },
    "id": "r4Um6xx8VPfr",
    "outputId": "df310dc3-65f7-44af-878b-2c8783796f93"
   },
   "outputs": [
    {
     "data": {
      "text/html": [
       "<div style=\"max-width: 1000px\">\n",
       "  <div style=\"position: relative;padding-bottom: 56.25%;height: 0;\">\n",
       "    <iframe style=\"position: absolute;top: 0;left: 0;width: 100%;height: 100%;\" rel=\"0\" modestbranding=\"1\"  src=\"https://www.youtube.com/embed/T98tX5W51nU\" frameborder=\"0\" allow=\"accelerometer; autoplay; encrypted-media; gyroscope; picture-in-picture\" allowfullscreen></iframe>\n",
       "  </div>\n",
       "<div style=\"max-width: 1000px\">"
      ],
      "text/plain": [
       "<IPython.core.display.HTML object>"
      ]
     },
     "metadata": {
      "tags": []
     },
     "output_type": "display_data"
    }
   ],
   "source": [
    "#@title Lesson 6 Introduction\n",
    "%%html\n",
    "<div style=\"max-width: 1000px\">\n",
    "  <div style=\"position: relative;padding-bottom: 56.25%;height: 0;\">\n",
    "    <iframe style=\"position: absolute;top: 0;left: 0;width: 100%;height: 100%;\" rel=\"0\" modestbranding=\"1\"  src=\"https://www.youtube.com/embed/T98tX5W51nU\" frameborder=\"0\" allow=\"accelerometer; autoplay; encrypted-media; gyroscope; picture-in-picture\" allowfullscreen></iframe>\n",
    "  </div>\n",
    "<div style=\"max-width: 1000px\">\n"
   ]
  },
  {
   "cell_type": "markdown",
   "metadata": {
    "id": "9t049nQ6Q8RN"
   },
   "source": [
    "## **The Type Hierarchy**\n",
    "> \"There are 10 kinds of people in this world, those who know binary and those who don't.\" -- anonymous nerd lore\n",
    "\n",
    "In this world of Big Data where computational power and data storage capacity have become commodities measured out like sugar or produce, it is easy for non-programmers to forget that it hasn't always been this way, that actual people had to design and build the technology up over many decades. The modern world is by design, not accident, or so we like to believe. \n",
    "\n",
    "In the very beginning, all data and programs were **encoded** as **binary**: strings of zeroes and ones called **bits** where every few bits represented something else. We still use binary (at least in digital computers), of course, but not many people speak it natively anymore. It's just too computer-specific and hard for us humans to process. Instead, we use an ever evolving repertoire of **languages** and **data structures** to express ourselves and keep our data safe and useful. \n",
    "\n",
    "After the **bit** the next standard data type was the **byte**, composed of 8 bits with 256 possible values, which is just enough to encode each key on a computer keyboard. Thus, [**ASCII**](https://en.wikipedia.org/wiki/ASCII) (American Standard Code for Information Interchange) was born. ASCII used seven of the bits (i.e., 128 possible values) for the keyboard codes, with the last bit available for error checking. Each character was assigned a number (e.g., \"A\" = binary `1000001` = decimal 65). Upper case letters were separate from lower case letters (\"a\" = `1100001` = 97) and every \"control\" character (e.g. tab, line ending, end of file, etc.) has an ASCII encoding as well. \n",
    "\n",
    "When strung together, **bytes** could represent lots of things as **strings**, **integers**, and **floats**, which you will recognize as native Python data types. From there it was natural to think of more elaborate data structures like complex numbers or lists. These in turn led to decimal and fractional numbers, and file, array, list, tuple, and dictionary collections. Today the Python standard library includes dozens of data types, each with its own unique properties and uses. And, if none of these quite do what we want, we can always create our own. \n",
    "\n",
    "This lesson starts our explorations into the world of data structures with a review of the **string data type**, which in practice is the most commonly used data structure of all. While we analytics geeks would likely prefer to have quantitative data all the time, if a human is involved in its collection or communication then it almost certainly will start as text strings. "
   ]
  },
  {
   "cell_type": "markdown",
   "metadata": {
    "id": "LA2xjXlbQ8RO"
   },
   "source": [
    "---\n",
    "## **String: The (Second-Most) Universal Data Type**\n",
    "Many people are surprised to learn that in its original form, the entirety of the world wide web was text. Even the images were encoded into text! The web browser's job was to take all the strings of text coming over the wire -- there was no wifi back then -- and display web pages that people could view and interact with. Why text? Because just about anything can be encoded as text. It also allowed people to hand-craft web pages with HTML. While the web has progressed a lot since then, most content is still ... text. \n",
    "\n",
    "In Python all text has the `string` data type. Most of what follows is a somewhat terse review of things from the Py4E book. Please start there and then read through the notes. "
   ]
  },
  {
   "cell_type": "markdown",
   "metadata": {
    "id": "Q-ZwZpzyQ8RO"
   },
   "source": [
    "---\n",
    "## **String Literals**\n",
    "A **string literal** is a specific sequence of characters. Stings come about in one of two ways:\n",
    "- As quoted text (literals) like \"Every good boy does fine\"\n",
    "- Conversion from data of another type\n",
    "\n",
    "### **Quoted Text**\n",
    "Quoted text in Python comes in three varieties.\n",
    "\n",
    "**Single quotes** are used for short strings like names: "
   ]
  },
  {
   "cell_type": "code",
   "execution_count": null,
   "metadata": {
    "id": "p_-tMpXeQ8RP",
    "outputId": "71031aed-bfe4-443c-8a5f-464329f986dd"
   },
   "outputs": [
    {
     "data": {
      "text/plain": [
       "'Apple'"
      ]
     },
     "execution_count": 1,
     "metadata": {
      "tags": []
     },
     "output_type": "execute_result"
    }
   ],
   "source": [
    "'Apple'"
   ]
  },
  {
   "cell_type": "markdown",
   "metadata": {
    "id": "ZnkCMUKYQ8RS"
   },
   "source": [
    "**Double quotes** are used when the quoted text might include single quotes/apostrophes:"
   ]
  },
  {
   "cell_type": "code",
   "execution_count": null,
   "metadata": {
    "id": "89MMx0jwQ8RS",
    "outputId": "5476c660-ff13-4fd2-ac27-f5a65b4661c4"
   },
   "outputs": [
    {
     "data": {
      "text/plain": [
       "\"Apple's market cap is $1.5 Trillion\""
      ]
     },
     "execution_count": 2,
     "metadata": {
      "tags": []
     },
     "output_type": "execute_result"
    }
   ],
   "source": [
    "\"Apple's market cap is $1.5 Trillion\""
   ]
  },
  {
   "cell_type": "markdown",
   "metadata": {
    "id": "oB7BSRndQ8RV"
   },
   "source": [
    "**Triple quotes** are used when the text spans multiple lines (and we want to keep it that way):"
   ]
  },
  {
   "cell_type": "code",
   "execution_count": null,
   "metadata": {
    "id": "TVGArSReQ8RV",
    "outputId": "f5040e2e-689d-4888-82da-de6283abdd26"
   },
   "outputs": [
    {
     "data": {
      "text/plain": [
       "\"\\nApple's market cap is ...\\n\\n1.5 TRILLION DOLLARS!\\n\""
      ]
     },
     "execution_count": 3,
     "metadata": {
      "tags": []
     },
     "output_type": "execute_result"
    }
   ],
   "source": [
    "'''\n",
    "Apple's market cap is ...\n",
    "\n",
    "1.5 TRILLION DOLLARS!\n",
    "'''"
   ]
  },
  {
   "cell_type": "markdown",
   "metadata": {
    "id": "2zLytAUcQ8RX"
   },
   "source": [
    "The `\\n`s in there represent line endings (a.k.a., \"newlines\")."
   ]
  },
  {
   "cell_type": "markdown",
   "metadata": {
    "id": "CweMyyI8Q8RY"
   },
   "source": [
    "### **Conversions from other data types**\n",
    "Just about anything can be converted to a string using the `str()` function. "
   ]
  },
  {
   "cell_type": "code",
   "execution_count": null,
   "metadata": {
    "id": "8599sxiaQ8RY",
    "outputId": "60fe1e30-004c-4a6c-b05d-7bc199c6040d"
   },
   "outputs": [
    {
     "data": {
      "text/plain": [
       "'15'"
      ]
     },
     "execution_count": 4,
     "metadata": {
      "tags": []
     },
     "output_type": "execute_result"
    }
   ],
   "source": [
    "str(15)"
   ]
  },
  {
   "cell_type": "code",
   "execution_count": null,
   "metadata": {
    "id": "EGBZlNNBQ8Ra",
    "outputId": "d49dd319-221a-429f-a91f-0513766341d4"
   },
   "outputs": [
    {
     "data": {
      "text/plain": [
       "\"<class 'int'>\""
      ]
     },
     "execution_count": 5,
     "metadata": {
      "tags": []
     },
     "output_type": "execute_result"
    }
   ],
   "source": [
    "str(type(15))"
   ]
  },
  {
   "cell_type": "markdown",
   "metadata": {},
   "source": [
    "There are other ways, of course, for data types we haven't explored yet:"
   ]
  },
  {
   "cell_type": "code",
   "execution_count": null,
   "metadata": {
    "id": "WwL6XlQeQ8Rd",
    "outputId": "4a008485-b555-4fb5-f9b5-1aa0065bc442"
   },
   "outputs": [
    {
     "data": {
      "text/plain": [
       "'This is a bytes literal'"
      ]
     },
     "execution_count": 6,
     "metadata": {
      "tags": []
     },
     "output_type": "execute_result"
    }
   ],
   "source": [
    "b'This is a bytes literal'.decode()"
   ]
  },
  {
   "cell_type": "markdown",
   "metadata": {
    "id": "TZIdeU8RQ8Rf"
   },
   "source": [
    "The last example is a special case covered in the _Pro Tips_ section at the end of the lesson. Note the `b` before what looks like a string literal. "
   ]
  },
  {
   "cell_type": "markdown",
   "metadata": {
    "id": "Knsqeg8oQ8Rg"
   },
   "source": [
    "### **Special Characters**\n",
    "Some character codes from the old days of teletypes still exist in Python and other languages. Most represented either whitespace or unprintable behaviors (e.g., ringing a bell with `\\a` or going backwards one space with `\\b`). They were encoded with a backslash `\\` character plus a letter or number. Of these only a few so-called \"escape-codes\" still have any meaning:\n",
    "- `\\t`: advance to the next tabstop (\"tab\")\n",
    "- `\\n`: ascii line feed (line end)\n",
    "- `\\\\`: backslash\n",
    "- `\\'`: single quote character\n",
    "- `\\\"`: double quote character\n",
    "\n",
    "There are other codes (also with backslashes) for things like unicode characters. You will find them explained in the Python docs. "
   ]
  },
  {
   "cell_type": "markdown",
   "metadata": {
    "id": "xfPq0_MyQ8Rj"
   },
   "source": [
    "### **Immutability: When everything is taken literally**\n",
    "\n",
    "**Heads Up**: Strings and numbers are meant to be taken literally. **They cannot be changed after they are created.** We can't change the number 1 into the number 2, no matter how much we try. Similarly we can't change \"Apple\" into \"Google\" no matter how much Eric Schmidt may have wanted it to happen. \n",
    "\n",
    "So how are we able to do things like this?"
   ]
  },
  {
   "cell_type": "code",
   "execution_count": null,
   "metadata": {
    "id": "6gDg_QPEQ8Rk",
    "outputId": "33428c1d-5d07-4206-bde9-6ba38c4e3863"
   },
   "outputs": [
    {
     "name": "stdout",
     "output_type": "stream",
     "text": [
      "Google is king of Silicon Valley ... but Apple was there first\n"
     ]
    }
   ],
   "source": [
    "x = \"Apple is king of Silicon Valley\" \n",
    "x = \"Google is king of Silicon Valley\"   # Reassignment\n",
    "x += \" ... but Apple was there first\"    # Update operator\n",
    "print(x)"
   ]
  },
  {
   "cell_type": "markdown",
   "metadata": {
    "id": "wSEFRgmRQ8Rm"
   },
   "source": [
    "Despite appearances, **each string is immutable**. We can operate on the strings to make new strings, but the **original strings are unchanged**. Again, we can't modify 1 to make it 2, so why would we expect to be able to do that with strings? "
   ]
  },
  {
   "cell_type": "markdown",
   "metadata": {
    "id": "axv2a8aYQ8Rm"
   },
   "source": [
    "### **Pulse Check ...**\n",
    "\n",
    "**1. Why do we need three different quoting mechanisms in Python?**"
   ]
  },
  {
   "cell_type": "markdown",
   "metadata": {
    "id": "1Y8A1tZ6Q8Rn"
   },
   "source": [
    "YOUR ANSWER HERE"
   ]
  },
  {
   "cell_type": "markdown",
   "metadata": {
    "id": "xwFLQSs0Q8Rn"
   },
   "source": [
    "**2. Why does the following code fail?**\n",
    "```python\n",
    "x = \"ABD\"\n",
    "x[2]=\"C\"\n",
    "\n",
    "```"
   ]
  },
  {
   "cell_type": "markdown",
   "metadata": {
    "id": "DKBZvQCmQ8Ro"
   },
   "source": [
    "YOUR ANSWER HERE"
   ]
  },
  {
   "cell_type": "code",
   "execution_count": null,
   "metadata": {
    "cellView": "form",
    "id": "VehZBqdFlM_7"
   },
   "outputs": [],
   "source": [
    "#@title <--- Check your work\n",
    "%%html\n",
    "<div style=\"max-width: 1000px\">\n",
    "   <div style=\"position: relative;padding-bottom: 56.25%;height: 0;\">\n",
    "     <iframe style=\"position: absolute;top: 0;left: 0;width: 100%;height: 100%;\" rel=\"0\" modestbranding=\"1\"  \n",
    "     src=\"https://www.youtube.com/embed/uGE-_amS2Eg\"\n",
    "     frameborder=\"0\" allow=\"accelerometer; autoplay; encrypted-media; gyroscope; picture-in-picture\" allowfullscreen></iframe>\n",
    "   </div>\n",
    "</div>"
   ]
  },
  {
   "cell_type": "markdown",
   "metadata": {
    "id": "momajjmzQ8Ro"
   },
   "source": [
    "---\n",
    "## **Strings as Sequences**\n",
    "One of the reasons why string immutability is surprising is that **a string represents a sequence of characters**, kind of like a list. And, as anybody who has ever made a shopping list can tell you, lists are anything but immutable. We can add, delete, and reorder list items to our hearts content. But not so with strings. (For mutable sequences of characters we suggest using a `bytearray`, covered at the end of the lesson.)\n",
    "\n",
    "Despite this one huge difference, in just about every other way a string works pretty much like a list. Both are sequential data types, with a set of features shared by all sequential data types.  "
   ]
  },
  {
   "cell_type": "markdown",
   "metadata": {
    "id": "WfAoALdDQ8Ro"
   },
   "source": [
    "### **Indexing and Slicing**\n",
    "Sequences inherently have **order**. When referring to an item in the sequence, we refer to its **position** in the sequence. There is always a first item, a second item, etc.\n",
    "\n",
    "In Python we use the `[]` operator to **index** the string (or list, tuple, etc.):"
   ]
  },
  {
   "cell_type": "code",
   "execution_count": null,
   "metadata": {
    "id": "oaDChi0tQ8Rp",
    "outputId": "55de2656-0eff-4fa0-9337-5df413333972"
   },
   "outputs": [
    {
     "data": {
      "text/plain": [
       "'g'"
      ]
     },
     "execution_count": 8,
     "metadata": {
      "tags": []
     },
     "output_type": "execute_result"
    }
   ],
   "source": [
    "'Google'[3]"
   ]
  },
  {
   "cell_type": "markdown",
   "metadata": {
    "id": "_ILazjURQ8Rr"
   },
   "source": [
    "Those of you who are counting will notice that 'g' is the fourth character in 'Google.' Python starts counting from 0, not 1, when indexing a sequence. "
   ]
  },
  {
   "cell_type": "code",
   "execution_count": null,
   "metadata": {
    "id": "97Bix2hzQ8Rs",
    "outputId": "4784e072-49fa-4ba7-9df9-18dc0f5c82db"
   },
   "outputs": [
    {
     "data": {
      "text/plain": [
       "'G'"
      ]
     },
     "execution_count": 9,
     "metadata": {
      "tags": []
     },
     "output_type": "execute_result"
    }
   ],
   "source": [
    "'Google'[0]"
   ]
  },
  {
   "cell_type": "markdown",
   "metadata": {
    "id": "cRZDywajQ8Ru"
   },
   "source": [
    "We can even use negative numbers as indexes:    "
   ]
  },
  {
   "cell_type": "code",
   "execution_count": null,
   "metadata": {
    "id": "HNGi1CtUQ8Ru",
    "outputId": "4b62b7bc-f73b-4863-954d-df71bb0e3804"
   },
   "outputs": [
    {
     "data": {
      "text/plain": [
       "'l'"
      ]
     },
     "execution_count": 10,
     "metadata": {
      "tags": []
     },
     "output_type": "execute_result"
    }
   ],
   "source": [
    "'Google'[-2]"
   ]
  },
  {
   "cell_type": "markdown",
   "metadata": {
    "id": "6vl-Q7jNQ8Rw"
   },
   "source": [
    "For negative indexes it works backwards from the end, with `[-1]` representing the last character.  \n",
    "\n",
    "To find out how many characters are in a string, use the `len()` function."
   ]
  },
  {
   "cell_type": "code",
   "execution_count": null,
   "metadata": {
    "id": "isP9SulxQ8Rx",
    "outputId": "96190752-2321-4b59-84c2-2b65014b163a"
   },
   "outputs": [
    {
     "data": {
      "text/plain": [
       "6"
      ]
     },
     "execution_count": 11,
     "metadata": {
      "tags": []
     },
     "output_type": "execute_result"
    }
   ],
   "source": [
    "len('Google')"
   ]
  },
  {
   "cell_type": "markdown",
   "metadata": {
    "id": "LfXAjEiJQ8Rz"
   },
   "source": [
    "Sometimes we want more than one character at a time. For that use a **slice** instead of an index:"
   ]
  },
  {
   "cell_type": "code",
   "execution_count": null,
   "metadata": {
    "id": "yVyCPNtoQ8Rz",
    "outputId": "e0165ed9-f3ac-4444-f0d8-e1bb5b50ea2a"
   },
   "outputs": [
    {
     "data": {
      "text/plain": [
       "'og'"
      ]
     },
     "execution_count": 12,
     "metadata": {
      "tags": []
     },
     "output_type": "execute_result"
    }
   ],
   "source": [
    "'Google'[2:4]"
   ]
  },
  {
   "cell_type": "markdown",
   "metadata": {
    "id": "3wjU3tNUQ8R1"
   },
   "source": [
    "A slice `[a:b]` returns the substring starting with position `a` up to position `b-1`. So, `[2:4]` is asking for whatever is in positions 2 and 3 returned as a new string literal, which in this case is 'og'."
   ]
  },
  {
   "cell_type": "markdown",
   "metadata": {
    "id": "5d49n_T2Q8R2"
   },
   "source": [
    "### **Traversal**\n",
    "**Traversal** is what we call iteration over the items in a sequence. It is exactly what you might imagine: "
   ]
  },
  {
   "cell_type": "code",
   "execution_count": null,
   "metadata": {
    "id": "klfqn1XRQ8R2",
    "outputId": "26096d8a-c588-4926-b42f-512e0e709e4b"
   },
   "outputs": [
    {
     "name": "stdout",
     "output_type": "stream",
     "text": [
      "G\n",
      "O\n",
      "O\n",
      "G\n",
      "L\n",
      "E\n"
     ]
    }
   ],
   "source": [
    "for c in \"Google\":\n",
    "    print(c.upper())"
   ]
  },
  {
   "cell_type": "markdown",
   "metadata": {
    "id": "JUw_crhQQ8R5"
   },
   "source": [
    "We can do whatever we want inside the loop body except modify the string. Since a string is just an immutable sequence of characters, `for c in \"Google\"` iterates through the sequence \"Google\", one character (`c`) at a time. \n",
    "\n",
    "Traversal is actually a more generally applicable task that we will return to in (optional) Lesson 12 when we consider tree structured data. "
   ]
  },
  {
   "cell_type": "markdown",
   "metadata": {
    "id": "U7j4_RDTQ8R5"
   },
   "source": [
    "### **Pulse Check ...**\n",
    "**1. What does the following code do?** You will likely want to consult the [Python docs](https://docs.python.org/3/library/functions.html#slice). Be sure to explain what the third slice argument does. (Yes, it's important and yes, you are expected to learn this on your own, [RTFM](https://en.wikipedia.org/wiki/RTFM)-style.) "
   ]
  },
  {
   "cell_type": "code",
   "execution_count": null,
   "metadata": {
    "id": "XzvoBPNYQ8R5",
    "outputId": "e7cd3469-0079-4e8f-a6b1-f489553011fc"
   },
   "outputs": [
    {
     "data": {
      "text/plain": [
       "'!sgatS oG'"
      ]
     },
     "execution_count": 14,
     "metadata": {
      "tags": []
     },
     "output_type": "execute_result"
    }
   ],
   "source": [
    "\"Go Stags!\"[::-1]"
   ]
  },
  {
   "cell_type": "markdown",
   "metadata": {
    "id": "yoJKNfVFpliV"
   },
   "source": [
    "YOUR ANSWER HERE"
   ]
  },
  {
   "cell_type": "markdown",
   "metadata": {
    "id": "IPbC-V1RQ8R7"
   },
   "source": [
    "**2. Rewrite the code from question 1 so that it prints the (reversed) characters one per line.**"
   ]
  },
  {
   "cell_type": "code",
   "execution_count": null,
   "metadata": {
    "id": "BVDHfMSlQ8R8"
   },
   "outputs": [],
   "source": [
    "YOUR CODE HERE"
   ]
  },
  {
   "cell_type": "code",
   "execution_count": null,
   "metadata": {
    "cellView": "form",
    "id": "PHvFl8vLnK3B"
   },
   "outputs": [],
   "source": [
    "#@title <--- Check your work\n",
    "%%html\n",
    "<div style=\"max-width: 1000px\">\n",
    "   <div style=\"position: relative;padding-bottom: 56.25%;height: 0;\">\n",
    "     <iframe style=\"position: absolute;top: 0;left: 0;width: 100%;height: 100%;\" rel=\"0\" modestbranding=\"1\"  \n",
    "     src=\"https://www.youtube.com/embed/bA2Kt_UiBss\"\n",
    "     frameborder=\"0\" allow=\"accelerometer; autoplay; encrypted-media; gyroscope; picture-in-picture\" allowfullscreen></iframe>\n",
    "   </div>\n",
    "</div>"
   ]
  },
  {
   "cell_type": "markdown",
   "metadata": {
    "id": "mXyKqBZnQ8R9"
   },
   "source": [
    "---\n",
    "## **String Operators**\n",
    "We have already seen two different **string operations**:\n",
    "- **concatenating** with the `+` operator\n",
    "- **appending** with the `+=` operator\n",
    "\n",
    "The first returns the merger of two strings, one after the other. The second changes the value of the variable. \n",
    "\n",
    "We can also use comparison operators with strings just like with numbers:"
   ]
  },
  {
   "cell_type": "code",
   "execution_count": null,
   "metadata": {
    "id": "PdJAhSRHQ8R-",
    "outputId": "f9ea7315-a202-4b86-b3dc-2897f98d277c"
   },
   "outputs": [
    {
     "data": {
      "text/plain": [
       "False"
      ]
     },
     "execution_count": 15,
     "metadata": {
      "tags": []
     },
     "output_type": "execute_result"
    }
   ],
   "source": [
    "'Google' < 'Apple'"
   ]
  },
  {
   "cell_type": "markdown",
   "metadata": {
    "id": "QcivqRjdQ8R_"
   },
   "source": [
    "The comparison is based on the numeric codes that correspond to each character. Since `A` comes before `G` in the alphabet, its numeric code is smaller. This also applies to lowercase and capital letters and numbers:"
   ]
  },
  {
   "cell_type": "code",
   "execution_count": null,
   "metadata": {
    "id": "nhDRNiJZQ8SA",
    "outputId": "5e67ed5a-9414-446f-e2bb-cbddfc330504"
   },
   "outputs": [
    {
     "data": {
      "text/plain": [
       "True"
      ]
     },
     "execution_count": 16,
     "metadata": {
      "tags": []
     },
     "output_type": "execute_result"
    }
   ],
   "source": [
    "\"A\" < \"a\""
   ]
  },
  {
   "cell_type": "code",
   "execution_count": null,
   "metadata": {
    "id": "3Rxe7hgeQ8SB",
    "outputId": "6420b558-0957-4a13-c420-bea866b19eb1"
   },
   "outputs": [
    {
     "data": {
      "text/plain": [
       "True"
      ]
     },
     "execution_count": 17,
     "metadata": {
      "tags": []
     },
     "output_type": "execute_result"
    }
   ],
   "source": [
    "\"21\" > \"100\""
   ]
  },
  {
   "cell_type": "markdown",
   "metadata": {
    "id": "Bsfds-7_Q8SD"
   },
   "source": [
    "The logic is the same as lexicographic ordering (a.k.a. \"alphabetizing\"), with the comparison examining successive characters in each string until one character is smaller than the other or one of the character sequences has been exhausted. So, since \"2\" is greater than \"1\", \"21\" is greater than \"100\". \n",
    "\n",
    "> **Heads Up:** This is yet another example where data types matter. Think about how sorting string-encoded numbers (like \"900\" or \"899.2\") is different from sorting floats (like 900.0 or 899.2). Further, you can't mix strings and floats. "
   ]
  },
  {
   "cell_type": "markdown",
   "metadata": {
    "id": "mehjNX3EQ8SD"
   },
   "source": [
    "### **The `in` Operator**"
   ]
  },
  {
   "cell_type": "markdown",
   "metadata": {
    "id": "_Egmzfz8Q8SE"
   },
   "source": [
    "The `in` operator is used to ask the question: is x in the sequence? We can use it to determine if a string is a substring of another string:"
   ]
  },
  {
   "cell_type": "code",
   "execution_count": null,
   "metadata": {
    "id": "anCUjtvMQ8SE",
    "outputId": "7f87960f-9ea9-431b-e1fb-954160667028"
   },
   "outputs": [
    {
     "name": "stdout",
     "output_type": "stream",
     "text": [
      "False\n",
      "True\n"
     ]
    }
   ],
   "source": [
    "x = \"Google is king of Silicon Valley ... but Apple was there first\"\n",
    "print(\"Microsoft\" in x)\n",
    "print(\"Apple\" in x)"
   ]
  },
  {
   "cell_type": "markdown",
   "metadata": {
    "id": "9nU4JFBBQ8SG"
   },
   "source": [
    "Note that the `in` keyword is not new to us. It's in every `for` loop. However, in a `for` loop it is _assigning_ the loop variable (`c`) to each item in the sequence (`x`), one item at a time. It's not asking. It's doing.    "
   ]
  },
  {
   "cell_type": "markdown",
   "metadata": {
    "id": "dLsY1sPTQ8SG"
   },
   "source": [
    "### **The `%` Operator**\n",
    "One of the more powerful string operators is `%`, which allows us to insert values into the middle of a string. (Technically, it generates a new string but conceptually it inserts into it.)"
   ]
  },
  {
   "cell_type": "code",
   "execution_count": null,
   "metadata": {
    "id": "SzOxKS5wQ8SH",
    "outputId": "b8124d46-c593-4458-e49d-e6be9bd96d18"
   },
   "outputs": [
    {
     "data": {
      "text/plain": [
       "'Google is king of Silicon Valley ... but Microsoft was there first'"
      ]
     },
     "execution_count": 19,
     "metadata": {
      "tags": []
     },
     "output_type": "execute_result"
    }
   ],
   "source": [
    "\"Google is king of Silicon Valley ... but %s was there first\" % 'Microsoft' "
   ]
  },
  {
   "cell_type": "markdown",
   "metadata": {
    "id": "JOo9tnplQ8SI"
   },
   "source": [
    "The `%s` is a placeholder for where to insert the string 'Microsoft'. Other placeholders like `%d` (for decimals) `%i` (for integers), or `%g` for (for floating point numbers) exist for various other types of data. It is possible to use multiple placeholders in the same string if we supply a **tuple** on the right hand side. We will cover tuples in Lesson 10, but you can get the general idea from this example.    "
   ]
  },
  {
   "cell_type": "code",
   "execution_count": null,
   "metadata": {
    "id": "dE2lsgqTQ8SJ",
    "outputId": "e997d72a-8fe1-40f8-a37c-e8e465d6a2bb"
   },
   "outputs": [
    {
     "data": {
      "text/plain": [
       "'Google is king of Silicon Valley ... but Microsoft was there first'"
      ]
     },
     "execution_count": 20,
     "metadata": {
      "tags": []
     },
     "output_type": "execute_result"
    }
   ],
   "source": [
    "\"%s is king of Silicon Valley ... but %s was there first\" % ('Google', 'Microsoft')"
   ]
  },
  {
   "cell_type": "markdown",
   "metadata": {},
   "source": [
    "### **f-string Expressions**\n",
    "f-Strings allow us to take text templates even further, replacing `%` codes with named **variable placeholders**. It also eliminates the need to know the data type of each item being inserted in advance. The f-string expression takes care of coverting everything to strings first. This is similar to how `print(1,\"2\")` works just fine but `print(1 + \"2\")` throws an error; using the comma form of the `print()` call converts each argument to a string before printing."
   ]
  },
  {
   "cell_type": "code",
   "execution_count": 4,
   "metadata": {},
   "outputs": [
    {
     "data": {
      "text/plain": [
       "'Google is king of Silicon Valley ... but Microsoft was there first'"
      ]
     },
     "execution_count": 4,
     "metadata": {},
     "output_type": "execute_result"
    }
   ],
   "source": [
    "company1 = \"Google\"\n",
    "company2 = \"Microsoft\"\n",
    "f\"{company1} is king of Silicon Valley ... but {company2} was there first\""
   ]
  },
  {
   "cell_type": "markdown",
   "metadata": {
    "id": "i0WPzeGhQ8SK"
   },
   "source": [
    "### **Pulse Check ...**\n",
    "**1. Why doesn't this expression return `True`?**\n",
    "```python\n",
    "\"a\" in \"Apple\"\n",
    "```"
   ]
  },
  {
   "cell_type": "markdown",
   "metadata": {
    "id": "efk1mqCfQ8SL"
   },
   "source": [
    "YOUR ANSWER HERE"
   ]
  },
  {
   "cell_type": "markdown",
   "metadata": {
    "id": "7eos4fuXQ8SL"
   },
   "source": [
    "**2. Explain the output of the following code. How did Python choose the sequence?**"
   ]
  },
  {
   "cell_type": "code",
   "execution_count": null,
   "metadata": {
    "id": "3xwPUxOaQ8SL",
    "outputId": "7a77f95f-b18d-4961-d40b-7dc17baa5c87"
   },
   "outputs": [
    {
     "name": "stdout",
     "output_type": "stream",
     "text": [
      " \n",
      "!\n",
      "G\n",
      "S\n",
      "a\n",
      "g\n",
      "o\n",
      "s\n",
      "t\n"
     ]
    }
   ],
   "source": [
    "for c in sorted(\"Go Stags!\"):\n",
    "    print(c)"
   ]
  },
  {
   "cell_type": "markdown",
   "metadata": {
    "id": "UCyVAFEVQ8SN"
   },
   "source": [
    "YOUR ANSWER HERE"
   ]
  },
  {
   "cell_type": "markdown",
   "metadata": {
    "id": "o4aGZVweQ8SN"
   },
   "source": [
    "**3. Study the two operations below. The first one fails (with an error) while the second one executes cleanly. Why do you suppose that is true?** Hint: The answer says a lot about the nature of strings versus numbers for encoding data.\n",
    "```python\n",
    "\"The Red Sox have %d World Series Championships\" % \"9\"\n",
    "\"The Red Sox have %s World Series Championships\" % 9\n",
    "```"
   ]
  },
  {
   "cell_type": "markdown",
   "metadata": {
    "id": "ALaeCKUBQ8SN"
   },
   "source": [
    "YOUR ANSWER HERE"
   ]
  },
  {
   "cell_type": "code",
   "execution_count": null,
   "metadata": {
    "cellView": "form",
    "id": "rpoVpJijnN0I"
   },
   "outputs": [],
   "source": [
    "#@title <--- Check your work\n",
    "%%html\n",
    "<div style=\"max-width: 1000px\">\n",
    "   <div style=\"position: relative;padding-bottom: 56.25%;height: 0;\">\n",
    "     <iframe style=\"position: absolute;top: 0;left: 0;width: 100%;height: 100%;\" rel=\"0\" modestbranding=\"1\"  \n",
    "     src=\"https://www.youtube.com/embed/RgSiMv0VMWQ\"\n",
    "     frameborder=\"0\" allow=\"accelerometer; autoplay; encrypted-media; gyroscope; picture-in-picture\" allowfullscreen></iframe>\n",
    "   </div>\n",
    "</div>"
   ]
  },
  {
   "cell_type": "markdown",
   "metadata": {
    "id": "LPa4eA8ZQ8SO"
   },
   "source": [
    "---\n",
    "## **String Methods**"
   ]
  },
  {
   "cell_type": "markdown",
   "metadata": {
    "id": "XwFSgMlvQ8SO"
   },
   "source": [
    "Remember the discussion of essentialism at the start of Lesson 2? There we said that every entity has both form and function. In Python every value, function, module, or other fundamental element is an [object](https://docs.python.org/3/reference/datamodel.html#data-model). Objects have two sides: state and behavior. An object's state (data) is implemented with **instance variables** that act like properties or features. An object's behavior (functionality) is implemented through its **methods**, a set of data type-specific functions that always take the object itself as a parameter. \n",
    "\n",
    "Let's take, for example, the number 2.5. Clearly the number has state (i.e., 2.5) but it also has behavior. We can ask it, for example to add another number to itself (which is how the `+` operator really works) or we can ask it to provide the simplest possible equivalent fraction (a.k.a., \"integer ratio\"):"
   ]
  },
  {
   "cell_type": "code",
   "execution_count": null,
   "metadata": {
    "id": "nxrfSXX2Q8SP",
    "outputId": "417dff72-fed5-491a-c515-41c7734cdc59"
   },
   "outputs": [
    {
     "data": {
      "text/plain": [
       "(5, 2)"
      ]
     },
     "execution_count": 22,
     "metadata": {
      "tags": []
     },
     "output_type": "execute_result"
    }
   ],
   "source": [
    "2.5.as_integer_ratio()"
   ]
  },
  {
   "cell_type": "markdown",
   "metadata": {
    "id": "hATgjOPrQ8SR"
   },
   "source": [
    "In human terms this is saying that 2.5 = 5/2. How did the `as_integer_ratio()` method know what number to convert? The one it is attached to, which in this case is 2.5. We tell Python that the method is attached via \"dot notation\":\n",
    "```python\n",
    "value.method( arguments )\n",
    "```"
   ]
  },
  {
   "cell_type": "markdown",
   "metadata": {
    "id": "lORzfXleQ8SR"
   },
   "source": [
    "The actual method is defined much like a function, only it always has one extra `self` parameter that never appears in the call:\n",
    "```python\n",
    "def method( self, parameters):\n",
    "    ...\n",
    "```\n",
    "\n",
    "So what does this have to do with strings? The string data type has a large number of built-in [string methods](https://docs.python.org/3/library/stdtypes.html#string-methods):\n",
    "- `upper()`, `lower()`, `capitalize()`\n",
    "- `strip()`, `lstrip()`, `rstrip()`\n",
    "- `center()`, `ljust()`, `rjust()`\n",
    "- `count()`, `find()`, `rfind()`, `index()`, `rindex()`\n",
    "- `replace()`, `format()`\n",
    "\n",
    "and many more. Most are similar to their equivalents in MS Excel. Then there are a few \"magic\" ones like `__add__()`,  which says what the `+` operator is supposed to do. \n"
   ]
  },
  {
   "cell_type": "markdown",
   "metadata": {
    "id": "07YvK7VbQ8SR"
   },
   "source": [
    "### **The `find` Method**\n",
    "One of the more commonly-used string methods is `find()`, which returns the position of the first instance of a substring within a longer string:"
   ]
  },
  {
   "cell_type": "code",
   "execution_count": null,
   "metadata": {
    "id": "mBb415VtQ8SS",
    "outputId": "f19a6594-5e85-4405-ea7e-10b1bfd13475"
   },
   "outputs": [
    {
     "data": {
      "text/plain": [
       "20"
      ]
     },
     "execution_count": 23,
     "metadata": {
      "tags": []
     },
     "output_type": "execute_result"
    }
   ],
   "source": [
    "\"Every Good Boy Does Fine\".find(\"Fine\")"
   ]
  },
  {
   "cell_type": "markdown",
   "metadata": {
    "id": "IojCpy2zQ8SU"
   },
   "source": [
    "If we want `find()` to begin looking somewhere other than the beginning of the string then we can pass the starting position as a second argument. We can then slice out a word out of the string, like this ..."
   ]
  },
  {
   "cell_type": "code",
   "execution_count": null,
   "metadata": {
    "id": "aSlU535XQ8SU",
    "outputId": "008d1f55-0a3a-4619-bc4a-8f322d52be11"
   },
   "outputs": [
    {
     "data": {
      "text/plain": [
       "'Apple'"
      ]
     },
     "execution_count": 24,
     "metadata": {
      "tags": []
     },
     "output_type": "execute_result"
    }
   ],
   "source": [
    "# pick out a word that fits the pattern 'but '+word+\" \"\n",
    "x = \"Google is king of Silicon Valley ... but Apple was there first\"\n",
    "start_slice = x.find('but ') + len('but ') # finds the next position after the 'but '\n",
    "end_slice = x.find(\" \",start_slice)        # finds the next space after start_slice \n",
    "x[start_slice:end_slice]                   # the actual slice"
   ]
  },
  {
   "cell_type": "markdown",
   "metadata": {
    "id": "edn4VlkuQ8SW"
   },
   "source": [
    "While `find()` is certainly useful, it is not the only way to parse strings. You can, of course, traverse the string using a `for` loop (not recommended) or use the **regular expressions** module to search for arbitrarily complex text patterns. Regular expressions are covered in chapter 11 of the Py4E book.   "
   ]
  },
  {
   "cell_type": "markdown",
   "metadata": {},
   "source": [
    "### **The `split` and `join` Methods**\n",
    "The `split` method is used to break a string apart into a list of substrings. "
   ]
  },
  {
   "cell_type": "code",
   "execution_count": 5,
   "metadata": {},
   "outputs": [
    {
     "data": {
      "text/plain": [
       "['Every', 'Good', 'Boy', 'Does', 'Fine']"
      ]
     },
     "execution_count": 5,
     "metadata": {},
     "output_type": "execute_result"
    }
   ],
   "source": [
    "'Every Good Boy Does Fine'.split(' ')"
   ]
  },
  {
   "cell_type": "markdown",
   "metadata": {},
   "source": [
    "The method looks the given separator (here given as the space character `' '`), chopping the string at each occurrence.\n",
    "\n",
    "The `join` method does the reverse of `split`:"
   ]
  },
  {
   "cell_type": "code",
   "execution_count": 6,
   "metadata": {},
   "outputs": [
    {
     "data": {
      "text/plain": [
       "'Every Good Boy Does Fine'"
      ]
     },
     "execution_count": 6,
     "metadata": {},
     "output_type": "execute_result"
    }
   ],
   "source": [
    "' '.join(['Every', 'Good', 'Boy', 'Does', 'Fine'])"
   ]
  },
  {
   "cell_type": "markdown",
   "metadata": {},
   "source": [
    "It concatenates a sequence of strings (`['Every', 'Good', 'Boy', 'Does', 'Fine']`) into a single string `'Every Good Boy Does Fine'`. The separator string (`' '`) is inserted between each pair of items in the sequence.\n",
    "\n",
    "> **Heads Up:** Note that the `join` method is called on the *separator* this time. That is exactly backwards from the `split` method. "
   ]
  },
  {
   "cell_type": "markdown",
   "metadata": {
    "id": "MXrUa-sNQ8SW"
   },
   "source": [
    "### **Pulse Check ...**\n",
    "**Write an expression to count the number of sentences in the Gettysburg address.** Assume that each sentence ends with a period. It is possible to use just one expression (without a statement), though it's okay to use an assignment statement and an expression. Any more than that is just verbose!\n",
    "\n",
    "> Four score and seven years ago our fathers brought forth on this continent, a new nation, conceived in Liberty, and dedicated to the proposition that all men are created equal.\n",
    "Now we are engaged in a great civil war, testing whether that nation, or any nation so conceived and so dedicated, can long endure. We are met on a great battle-field of that war. We have come to dedicate a portion of that field, as a final resting place for those who here gave their lives that that nation might live. It is altogether fitting and proper that we should do this.\n",
    ">\n",
    ">But, in a larger sense, we can not dedicate—we can not consecrate—we can not hallow—this ground. The brave men, living and dead, who struggled here, have consecrated it, far above our poor power to add or detract. The world will little note, nor long remember what we say here, but it can never forget what they did here. It is for us the living, rather, to be dedicated here to the unfinished work which they who fought here have thus far so nobly advanced. It is rather for us to be here dedicated to the great task remaining before us—that from these honored dead we take increased devotion to that cause for which they gave the last full measure of devotion—that we here highly resolve that these dead shall not have died in vain—that this nation, under God, shall have a new birth of freedom—and that government of the people, by the people, for the people, shall not perish from the earth."
   ]
  },
  {
   "cell_type": "code",
   "execution_count": null,
   "metadata": {
    "id": "Sfa14PIWQ8SW"
   },
   "outputs": [],
   "source": [
    "# YOUR CODE HERE"
   ]
  },
  {
   "cell_type": "code",
   "execution_count": null,
   "metadata": {
    "cellView": "form",
    "id": "Cncu4yPcnPwT"
   },
   "outputs": [],
   "source": [
    "#@title <--- Check your work\n",
    "%%html\n",
    "<div style=\"max-width: 1000px\">\n",
    "   <div style=\"position: relative;padding-bottom: 56.25%;height: 0;\">\n",
    "     <iframe style=\"position: absolute;top: 0;left: 0;width: 100%;height: 100%;\" rel=\"0\" modestbranding=\"1\"  \n",
    "     src=\"https://www.youtube.com/embed/ePE4uSuGkfU\"\n",
    "     frameborder=\"0\" allow=\"accelerometer; autoplay; encrypted-media; gyroscope; picture-in-picture\" allowfullscreen></iframe>\n",
    "   </div>\n",
    "</div>"
   ]
  },
  {
   "cell_type": "markdown",
   "metadata": {
    "id": "iOfKyWBdQ8SY"
   },
   "source": [
    "---\n",
    "## **Pro Tips**"
   ]
  },
  {
   "cell_type": "markdown",
   "metadata": {
    "id": "VPuBOzEuQ8SY"
   },
   "source": [
    "### **`bytes` and `bytearray`**\n",
    "While there are other ways to encode characters besides ASCII (e.g., UTF-8 and various unicode sets), many technical protocols like HTML require ASCII characters. For that we use the `bytes` data type. To the novice eye `bytes` literals look a lot like normal strings:  "
   ]
  },
  {
   "cell_type": "code",
   "execution_count": null,
   "metadata": {
    "id": "Za06vgKTQ8SZ",
    "outputId": "d02478a4-5226-4ccd-f5b6-eb4776b8f6cd"
   },
   "outputs": [
    {
     "data": {
      "text/plain": [
       "b'My Name is Earl'"
      ]
     },
     "execution_count": 25,
     "metadata": {
      "tags": []
     },
     "output_type": "execute_result"
    }
   ],
   "source": [
    "b'My Name is Earl'"
   ]
  },
  {
   "cell_type": "markdown",
   "metadata": {
    "id": "Q4YaSGBaQ8Sb"
   },
   "source": [
    "We can tell it is a `bytes` literal because of the leading `b`. Otherwise looks like a string, with many of the same methods. It's even immutable like a string. \n",
    "\n",
    "Okay, so what's the big deal? Nothing really, until you convert the `bytes` into a `bytearray`. A `bytearray` is a mutable version `bytes`. You can alter the characters in place (without creating new strings) and even add new characters to the end. "
   ]
  },
  {
   "cell_type": "code",
   "execution_count": null,
   "metadata": {
    "id": "3J5f9f9iQ8Sb",
    "outputId": "5a2c459f-7954-4aa7-ca08-772ad1ff1353"
   },
   "outputs": [
    {
     "name": "stdout",
     "output_type": "stream",
     "text": [
      "str: \t\t My Name is Earl\n",
      "bytes: \t\t b'My Name is Earl'\n",
      "bytearray: \t bytearray(b'My Name is Earl')\n",
      "truncated: \t bytearray(b'My Name is ')\n",
      "extended: \t bytearray(b'My Name is Inigo Montoya, you killed my father, prepare to die.')\n",
      "str: \t\t My Name is Inigo Montoya, you killed my father, prepare to die.\n"
     ]
    }
   ],
   "source": [
    "x_str = 'My Name is Earl'       # the original string\n",
    "print(\"str: \\t\\t\", x_str)\n",
    "\n",
    "x_bytes = x_str.encode()        # encode it to bytes\n",
    "print(\"bytes: \\t\\t\",x_bytes)\n",
    "\n",
    "x_bytearray = bytearray(x_bytes)  # convert to a mutable bytearray\n",
    "print(\"bytearray: \\t\",x_bytearray)\n",
    "\n",
    "x_bytearray = x_bytearray[0:11]     # cut off the last few characters\n",
    "print(\"truncated: \\t\", x_bytearray)\n",
    "\n",
    "# add new text to the end of the bytearray\n",
    "x_bytearray += b'Inigo Montoya, you killed my father, prepare to die.'\n",
    "print(\"extended: \\t\",x_bytearray)\n",
    "\n",
    "x_str = x_bytearray.decode()    # decode back to a string\n",
    "print(\"str: \\t\\t\",x_str)"
   ]
  },
  {
   "cell_type": "markdown",
   "metadata": {
    "id": "JmyjpA9mQ8Sd"
   },
   "source": [
    "Note that by modifying the `bytearray` in place we minimize how much data we need to keep in memory at a given time. If the string is book length, that could be a big deal, both faster and more memory efficient.  "
   ]
  },
  {
   "cell_type": "markdown",
   "metadata": {
    "id": "JhCrqlr0Q8Sd"
   },
   "source": [
    "### **Iterators, Generators, and `yield`**"
   ]
  },
  {
   "cell_type": "markdown",
   "metadata": {
    "id": "M6orp-vvQ8Sd"
   },
   "source": [
    "When discussing software design, programmers can sometimes sound very philosophical or very silly, depending on your perspective. What is a _sequence_ really? A sequence is an **iterable** collection of items. The items can be traversed one at a time, in some order determined by the sequence. We encapsulate the process with an **iterator**. \n",
    "\n",
    "An **iterator** traverses the items in a sequence, one at a time in the proper sequence. In Python, an _iterable_ collection (sequence) always has a magic method `__iter__()` that returns an _iterator_. The iterator objects then have yet another magic method called `__next()__` that always either returns the next item in the sequence or throws a StopIteration exception if the sequence is exhausted. (An exception is like an error, catchable with a `try ... except` statement, but doesn't mean anything is wrong, just notable.)\n",
    "\n",
    "Sometimes an example is easier than an explanation:"
   ]
  },
  {
   "cell_type": "code",
   "execution_count": null,
   "metadata": {
    "id": "9bab2V08Q8Se",
    "outputId": "28fca342-3941-4e80-9c05-31a163537aa1"
   },
   "outputs": [
    {
     "name": "stdout",
     "output_type": "stream",
     "text": [
      "<str_iterator object at 0x1040e2150>\n",
      "G\n",
      "o\n",
      " \n",
      "S\n",
      "t\n",
      "a\n",
      "g\n",
      "s\n",
      "!\n"
     ]
    },
    {
     "ename": "StopIteration",
     "evalue": "",
     "output_type": "error",
     "traceback": [
      "\u001b[0;31m---------------------------------------------------------------------------\u001b[0m",
      "\u001b[0;31mStopIteration\u001b[0m                             Traceback (most recent call last)",
      "\u001b[0;32m<ipython-input-27-d8b1c1a30d54>\u001b[0m in \u001b[0;36m<module>\u001b[0;34m\u001b[0m\n\u001b[1;32m     10\u001b[0m \u001b[0mprint\u001b[0m\u001b[0;34m(\u001b[0m\u001b[0mgo_stags\u001b[0m\u001b[0;34m.\u001b[0m\u001b[0m__next__\u001b[0m\u001b[0;34m(\u001b[0m\u001b[0;34m)\u001b[0m\u001b[0;34m)\u001b[0m         \u001b[0;31m# 7-th item\u001b[0m\u001b[0;34m\u001b[0m\u001b[0;34m\u001b[0m\u001b[0m\n\u001b[1;32m     11\u001b[0m \u001b[0mprint\u001b[0m\u001b[0;34m(\u001b[0m\u001b[0mgo_stags\u001b[0m\u001b[0;34m.\u001b[0m\u001b[0m__next__\u001b[0m\u001b[0;34m(\u001b[0m\u001b[0;34m)\u001b[0m\u001b[0;34m)\u001b[0m         \u001b[0;31m# 8-th item\u001b[0m\u001b[0;34m\u001b[0m\u001b[0;34m\u001b[0m\u001b[0m\n\u001b[0;32m---> 12\u001b[0;31m \u001b[0mprint\u001b[0m\u001b[0;34m(\u001b[0m\u001b[0mgo_stags\u001b[0m\u001b[0;34m.\u001b[0m\u001b[0m__next__\u001b[0m\u001b[0;34m(\u001b[0m\u001b[0;34m)\u001b[0m\u001b[0;34m)\u001b[0m         \u001b[0;31m# 9-st item\u001b[0m\u001b[0;34m\u001b[0m\u001b[0;34m\u001b[0m\u001b[0m\n\u001b[0m\u001b[1;32m     13\u001b[0m \u001b[0mprint\u001b[0m\u001b[0;34m(\u001b[0m\u001b[0mgo_stags\u001b[0m\u001b[0;34m.\u001b[0m\u001b[0m__next__\u001b[0m\u001b[0;34m(\u001b[0m\u001b[0;34m)\u001b[0m\u001b[0;34m)\u001b[0m         \u001b[0;31m# Throws an exception\u001b[0m\u001b[0;34m\u001b[0m\u001b[0;34m\u001b[0m\u001b[0m\n",
      "\u001b[0;31mStopIteration\u001b[0m: "
     ]
    }
   ],
   "source": [
    "go_stags = \"Go Stags!\".__iter__()  # create an iterator for the string\n",
    "print(go_stags)     \n",
    "print(go_stags.__next__())         # 0-th item\n",
    "print(go_stags.__next__())         # 1-st item\n",
    "print(go_stags.__next__())         # 2-nd item\n",
    "print(go_stags.__next__())         # 3-rd item\n",
    "print(go_stags.__next__())         # 4-th item\n",
    "print(go_stags.__next__())         # 5-th item\n",
    "print(go_stags.__next__())         # 6-th item\n",
    "print(go_stags.__next__())         # 7-th item\n",
    "print(go_stags.__next__())         # 8-th item\n",
    "print(go_stags.__next__())         # 9-st item\n",
    "print(go_stags.__next__())         # Throws an exception"
   ]
  },
  {
   "cell_type": "markdown",
   "metadata": {
    "id": "uhrVdW-1Q8Sg"
   },
   "source": [
    "Behind the scenes that is exactly how a `for` loop works. Each pass through the loop it sets the `item` to the next in sequence until none are left. The `in` operator does the same thing. It's really a specialized (and short-circuited) while loop for finding items in a collection. \n",
    "\n",
    "Every data type we will consider in the next few lessons is iterable: strings, files, lists, tuples, dictionaries, sets, Series, and DataFrames. All of them are used to contain collections of data. In some cases the sequences are somewhat artificial (e.g., sets are non-sequential by nature) but nonetheless they have iterators. \n",
    "\n",
    "So, what if we want to create iterators for our own custom data structures? We have two choices:\n",
    "\n",
    "- Create a new data type (called a **class**) that implements the `__iter__()` and `__next()__` methods.\n",
    "- Use a **generator function**.\n",
    "\n",
    "We won't get into creating a new class, which is well beyond the scope of this course, but we can at least illustrate the second. The code below uses a generator function to create a `digits` iterator to use in the `for` loop. "
   ]
  },
  {
   "cell_type": "code",
   "execution_count": null,
   "metadata": {
    "id": "c2neNcOQQ8Sg"
   },
   "outputs": [],
   "source": [
    "# Set up the problem\n",
    "divisor = 7\n",
    "dividend = 479\n",
    "\n",
    "# A digits generator\n",
    "def digits(dividend):            # a typical function definition\n",
    "    digit_str = str(dividend)    # convert the integer dividend into a string\n",
    "    for d in digit_str:          # start iterating over the string\n",
    "        yield d                  # `yield` one digit and freeze execution until the next generator call\n",
    "\n",
    "# Initialize variables\n",
    "remainder = quotient = 0\n",
    "\n",
    "for d in digits(dividend):\n",
    "    remainder = remainder*10 + int(d)     # pull down the next digit into the remainder\n",
    "    q = remainder // divisor              # determine how many times the divisor fits into the remainder \n",
    "    product = q * divisor                 # calculate the product, and then ...\n",
    "    remainder -= product                  # subtract it from the remainder\n",
    "    \n",
    "    quotient = quotient*10 + q            # add the next digit to the quotient\n",
    "    \n",
    "print(str(quotient)+\"r\"+str(remainder))"
   ]
  },
  {
   "cell_type": "markdown",
   "metadata": {
    "id": "yH1i92gLQ8Si"
   },
   "source": [
    "The main difference between a _generator_ and a normal function is that it uses `yield` instead of `return`. After a `return` from a function Python forgets everything that happened, starting fresh with the next function call. With `yield`, however, the function instead puts all of its state (variables and current statement pointer) on ice before it leaves. Then with the next call of the generator, it thaws out the state and continues execution right where it was, yielding the next item in the sequence.\n",
    "\n",
    "You have already encountered a generator in Lesson 5. The `range()` function is a generator for sequences of integers. Each time its `__next__()` method is called it yields the next number in the sequence. \n",
    "\n",
    "So why do we need generators if we can use lists? Because generators work for **infinite** (or at least impossibly huge) sequences that are too big to fit into memory all at once. The generator can yield items one at a time without having to remember the previous items or predict the remaining ones. To create all the digits of π (a sequence that never ends), one could use a generator function that calculates the digits one at a time.   "
   ]
  },
  {
   "cell_type": "markdown",
   "metadata": {
    "id": "EutsdZX_Q-dS"
   },
   "source": [
    "---\n",
    "## **Before you go ... Submit your work on Google Classroom**\n",
    "- - Save your notebook to be sure it is up to date.\n",
    "- Go to the assignment in Google Classroom. \n",
    "- Turn in your notebook. Your notebook will become read-only. \n",
    "- Once it has been reviewed it will be returned and no-longer be read-only. "
   ]
  },
  {
   "cell_type": "markdown",
   "metadata": {
    "id": "ozImChaxpkCw"
   },
   "source": [
    "---\n",
    "> ## Every Tee Shirt Has a Story\n",
    "> ABOUT THE 1989 GENETIC ALGORITHMS CONFERENCE   \n",
    "> This shirt has some significance for me. It marked when I started to think a little differently about the world around me. I had just finished my masters studies in an area now called evolutionary computation (i.e., solving math problems with simulated sexual reproduction) but then simply called Genetic Algorithms. At the conference I got a prime speaking spot, with several kinda famous names in the audience and my overhead slides projected 15 feet tall behind me. I was going all out. I'd even paid to get the slides printed in color! Up on stage I felt like [Patton](https://www.hollywood.com/general/patton-movie-stills-57256250/#/ms-1915/1) lecturing to the troops. \n",
    ">\n",
    ">I got about halfway through my slides, just about the point where I was about to quote John Holland, the founder of the field, when I spotted him sitting in the first row, watching intently. I didn't expect that. I froze for about 20 seconds, or at least that's what it felt like; I have no idea. I guess he figured out what happened because he motioned for me to continue with my quote. Afterwards he bought me lunch. He turned out to be a very nice and patient man, a true educator as well as a world famous scientist.\n",
    ">\n",
    "> That night, as I sat in the lobby watching TV with the other geeks from around the world, I was again frozen, this time with what we were seeing live. It was the [Tank Man video](https://lens.blogs.nytimes.com/2009/06/03/behind-the-scenes-tank-man-of-tiananmen/) from the Tiananmen Square massacre. I could not believe what I was seeing. Could that be real? I was told by several people who seemed to know that yes, that's how it happens there. Could it happen here, I wondered? It already has of course but that's another story. \n",
    ">\n",
    "> The conference tee shirt -- we all wore it in the group photo -- features binary code evolving into the words \"Genetic Algorithms.\" It's held up pretty well for being over 30 years old.        \n",
    "\n",
    "![L6 Tee Front](https://github.com/christopherhuntley/BUAN5405-docs/raw/master/Photos/L06_TeeFront.jpeg)\n",
    "\n",
    "## Copyright &copy; 2020 Christopher Huntley. All rights reserved. "
   ]
  }
 ],
 "metadata": {
  "colab": {
   "collapsed_sections": [
    "Knsqeg8oQ8Rg"
   ],
   "name": "L06_Strings.ipynb",
   "provenance": []
  },
  "kernelspec": {
   "display_name": "Python 3 (ipykernel)",
   "language": "python",
   "name": "python3"
  },
  "language_info": {
   "codemirror_mode": {
    "name": "ipython",
    "version": 3
   },
   "file_extension": ".py",
   "mimetype": "text/x-python",
   "name": "python",
   "nbconvert_exporter": "python",
   "pygments_lexer": "ipython3",
   "version": "3.8.13"
  }
 },
 "nbformat": 4,
 "nbformat_minor": 4
}
