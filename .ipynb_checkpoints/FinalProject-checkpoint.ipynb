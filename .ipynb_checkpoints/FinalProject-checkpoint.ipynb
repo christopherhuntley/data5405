{
 "cells": [
  {
   "cell_type": "markdown",
   "metadata": {
    "id": "kUYXaKGzwRJp"
   },
   "source": [
    "<img src=\"../img/Dolan.png\" width=\"180px\" align=\"right\">\n",
    "\n",
    "# **Final Project: Challenge Problems**\n",
    "## Objectives\n",
    "In this assignment you will ...\n",
    "- demonstrate skill with programming logic and data structures\n",
    "- work semi-independently on moderately-complex challenge problems\n",
    "- create a new, professional-quality Jupyter notebook from scratch\n",
    "- stretch a little beyond what you have done so far in the course to learn something new\n",
    "\n",
    "## Scope\n",
    "There are two *Challenge Problems* listed below:\n",
    "- A **level 1** challenge with a narrow scope, solvable using basic Python logic and data types\n",
    "- A **level 2** challenge that involves one or more advanced elements\n",
    "\n",
    "Excluding comments, **each challenge can be completed in 20 lines or less** of straightforward, readable code. Your code may, of course, may be longer than that but keep in mind that each line of code tends to make a program a little buggier and less flexible. Technical debt is a real thing; spend your capital wisely. \n",
    "\n",
    "## Ground Rules   \n",
    "- You may not import any modules except as directed. \n",
    "- You may consult any source (Lessons, Python.org, Stack Exchange, ChatGPT, etc.) that you can reach on the web _except_ those that address the problems given here. In other words, don't just copy/paste from some random website on the internet. \n",
    "- You are allowed (and encouraged!) to work with your classmates. **If doing so** then credit your classmates in your notebook. Just be aware that you are responsible for any errors copied from your classmates. \n",
    "- Professionalism counts. For each problem make your work literate by:\n",
    "  - *Commenting your code to make it easy to follow.* Top comments are used to describe logical blocks of code. Side comments are used to provide implementation details. And, of course, line length and indentation matter. Top comments line up with code blocks (and _almost never_ with the left margin). Side comments never extend the line beyond 80 characters. Generally, top comments are preferred for complex logic. \n",
    "  - *Using Markdown to provide context for your code.* Make it easy for us to grade and perhaps give out partial credit. What problem are you addressing (use the names here)? What were the requirements (in your own words)? What approach did you take? If you just type out a big wall of unformatted text with occasional bold text then you will lose _all_ professionalism points for the problem. [Visual hierarchy](https://www.interaction-design.org/literature/topics/visual-hierarchy) matters; if you don't know what that means then read the linked article ASAP.  \n",
    "\n",
    "  You want your notebooks to be at least as polished as the lesson notebooks. Use the examples there for inspiration. \n",
    " "
   ]
  },
  {
   "cell_type": "markdown",
   "metadata": {
    "id": "KIv7ddG1EEig"
   },
   "source": [
    "---\n",
    "## **Challenge 1: Perfect Numbers**\n",
    "\n",
    "### Problem\n",
    "Write a function called `is_perfect()` that determines if a given natural number `n` is perfect. A number is said to be perfect if it is equal to the sum of its divisors (excluding itself). The number 28 is perfect because 1+2+4+7+14 = 28. There are currently only 51 known perfect numbers, with the largest having 49,724,095 _digits_. \n",
    "\n",
    "> Note to math geniuses: You _can_ use mercene primes to generate even perfect numbers but it is an open question whether odd perfect numbers exist. Don't assume anything tricky. \n",
    "\n",
    "### Hints/Suggestions\n",
    "- You will need to generate all divisors of a given number. Use a list for that. For the number 496 the divisor list would be `[1, 2, 4, 8, 16, 31, 62, 124, 248]`. \n",
    "- We need not try every number between 1 and `n` to see if it is a divisor. If m is a divisor of n then so is n/m. So, we only need to test the integers in the range 1 to $\\sqrt{n}+1$ to generate all the divisors. You'll find a function for calculating square roots in the math library. \n",
    "\n",
    "### Example Test Cases\n",
    "- The first five perfect numbers are 6, 28, 496, 8128, and 33550336. After that they get truly huge.   \n",
    "\n",
    "### Scoring Rubric\n",
    "- **Correct (14 points):** Returns the correct answer for _any_ whole number `n`.  \n",
    "- **Literate (4 points):** Well documented with meaningful Markdown and properly aligned code comments\n",
    "- **Efficient (1 point):** Only tests numbers in the range 1 to $\\lfloor\\sqrt{n}+1\\rfloor$ when generating divisors.\n",
    "- **Robust (1 point):** Returns an error if `n` is not a natural number. "
   ]
  },
  {
   "cell_type": "code",
   "execution_count": null,
   "metadata": {},
   "outputs": [],
   "source": [
    "# YOUR CODE HERE"
   ]
  },
  {
   "cell_type": "markdown",
   "metadata": {
    "id": "AWTyiUHkwnjJ",
    "tags": []
   },
   "source": [
    "---\n",
    "## **Challenge 2: Egyptian Multiplication**\n",
    "### Problem\n",
    "The ancient Egyptians did not have numbers as we conceive of them today. There was no concept of digits or place values. This of course made everyday calculations a bit more complicated than we think of them today.\n",
    "\n",
    "Write a function `egyptian_multiply()` that \n",
    "- accepts as input two integers $x$ and $y$ (e.g., 25 and 7)  \n",
    "- calculates the product using ancient Egyptian arithmetic (see General Algorithm below)\n",
    "- returns a string formatted like \"25 x 7 = 112 + 56 + 7 = 175\".\n",
    "\n",
    "### General Algorithm\n",
    "In ancient Egypt, without even a basic numbering system, there was no way to express the times tables like every school child learns today. Even if there were, they would not have the place-value system needed to multiply numbers with 2 or more digits. Instead, Egyptian multiplication relied on basic sums like 3 x 2 = 2 + 2 + 2. This worked fine for small products but could be very tedious and error-prone for larger products like 1259 x 258, which could take days to add 258 to itself 1258 times.  So, they came up with an ingenious shortcut that saved lots of time and error. \n",
    "\n",
    "The procedure worked something like this:\n",
    "1. Assume that we are multiplying two numbers $x$ and $y$. \n",
    "2. Make a list of the powers of 2 (1,2,4,8,...), where each term is the sum of the previous term with itself (1, 1+1=2, 2+2=4, 4+4=8), stopping when the last number is at least as big as $x$. Call this list `powers_of_two`. \n",
    "3. Perform the same process as step 2 but with the first nunber being $y$ instead of $1$ (i.e., $y$, $y+y$, $y+y+y+y$, etc.) stopping when the list is the same length as `powers_of_two`. Let's call this second list `multiples_of_y`.\n",
    "4. Find the set of terms in `powers_of _two` that sum to exactly $x$. \n",
    "5. The product is then the sum of the terms in `multiples_of_y` that correspond to the terms we found in step 4. \n",
    "\n",
    "Here, for example, is how to calculate 22 x 7:\n",
    "1. $x$ = `22` and $y$ = `7`\n",
    "2. `powers_of_two` = `[1,2,4,8,16,32]`\n",
    "3. `multiples_of_y` = `[7,14,28,56,112,224]`\n",
    "4. `2+4+16=22`\n",
    "5. `14+28+112=154`\n",
    "\n",
    "The final output would be `\"22 x 7 = 14 + 28 + 112 = 154\"`. \n",
    "\n",
    "### Tips\n",
    "\n",
    "- [Egyptian multiplication](https://en.wikipedia.org/wiki/Ancient_Egyptian_multiplication) is very similar to so-called Russian Peasant multiplication. You may find the Russian Peasant version slightly easier to understand. \n",
    "- You *can* generate `powers_of_two` with a list comprehension but it may be easier to do it with a while loop. To be most efficient, it may make sense to generate `multiples_of_y` in the same loop. \n",
    "- Step 4 is a variation of the [knapsack problem](https://en.wikipedia.org/wiki/Knapsack_problem). You are trying to find the largest subset of the items (numbers 1, 2, 4, 8, 16, ...) that will fit (sum) inside the knapsack ($x$). The trick with most knapsack problems is to take a so-called \"greedy\" approach, where we try inserting items from biggest to smallest; with each item we insert, we have to adjust the remaining space in the knapsack to account. The logic is something like this:\n",
    "    1. Sort the items from largest to smallest. \n",
    "    2. Insert the biggest item that will fit into the knapsack. \n",
    "    3. Account for the space remaining the knapsack after intersion. \n",
    "    4. Repeat 2 & 3 until the knapsack is filled. \n",
    "\n",
    "  In this case, you can exactly fill the knapsack with a single pass through the items. In other words, you only need to try each item once *as long as you start with the biggest ones first*. \n",
    "\n",
    "  Note: it hard to get more specific than that without writing code. \n",
    "\n",
    "- To be sure the output string is formatted consistently consider using \n",
    "  - `\" + \".join()` to string together the terms from step 4.\n",
    "  - an f-string with placeholders for $x$, $y$, etc. \n",
    "\n",
    "- It is possible to complete this code in 14 lines of code (excluding comments). However, 20-25 lines is more realistic. \n",
    "\n",
    "### Example Test Cases\n",
    "- `egyptian_multiply(22,7)` --> `'22 x 7 = 14 + 28 + 112 = 154'`\n",
    "- `egyptian_multiply(85,60)` --> `'85 x 60 = 60 + 240 + 960 + 3840 = 5100'`\n",
    "- `egyptian_multiply(182,109)` --> `'182 x 109 = 218 + 436 + 1744 + 3488 + 13952 = 19838'`\n",
    "\n",
    "### Scoring Rubric\n",
    "\n",
    "- **Correct (16 points):** Implements all 5 steps correctly and returns character-perfect output. Don't forget to package it all with the function as specified. \n",
    "- **Literate (4 points):** Well documented with meaningful Markdown and properly aligned code comments\n",
    "- **Extra Credit (2 points):** The code uses **only** the addition (`+`) operator; no `*`,`/`,`-`, ... are allowed.\n",
    "\n"
   ]
  },
  {
   "cell_type": "code",
   "execution_count": null,
   "metadata": {},
   "outputs": [],
   "source": [
    "# YOUR CODE HERE"
   ]
  }
 ],
 "metadata": {
  "colab": {
   "collapsed_sections": [],
   "name": "Quiz5_Instructions.ipynb",
   "provenance": []
  },
  "kernelspec": {
   "display_name": "Python 3 (ipykernel)",
   "language": "python",
   "name": "python3"
  },
  "language_info": {
   "codemirror_mode": {
    "name": "ipython",
    "version": 3
   },
   "file_extension": ".py",
   "mimetype": "text/x-python",
   "name": "python",
   "nbconvert_exporter": "python",
   "pygments_lexer": "ipython3",
   "version": "3.8.15"
  }
 },
 "nbformat": 4,
 "nbformat_minor": 4
}
