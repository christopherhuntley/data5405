{
 "cells": [
  {
   "cell_type": "markdown",
   "metadata": {
    "colab_type": "text",
    "id": "view-in-github"
   },
   "source": [
    "<a href=\"https://colab.research.google.com/github/christopherhuntley/data5405/blob/main/L0_Course_Onboarding.ipynb\" target=\"_parent\"><img src=\"https://colab.research.google.com/assets/colab-badge.svg\" alt=\"Open In Colab\"/></a>"
   ]
  },
  {
   "cell_type": "markdown",
   "metadata": {
    "id": "Bg-kfZIelFyL"
   },
   "source": [
    "<img src=\"https://github.com/christopherhuntley/BUAN5405-docs/blob/master/Slides/img/Dolan.png?raw=true\" width=\"180px\" align=\"right\">\n",
    "\n",
    "# Course Onboarding\n",
    "_Everything you need to know and do before the first day of class_\n"
   ]
  },
  {
   "cell_type": "markdown",
   "metadata": {
    "id": "OZs5QOMWlFyN"
   },
   "source": [
    "## Where am I and how did I get here?\n",
    "Welcome to [Jupyter](https://jupyter.org/), a web based coding environment for Python, R, SQL, Markdown, and a bunch of other languages we use in Business Analytics courses. This document is what is called a _notebook_, which is composed of _cells_ that flow vertically from top to bottom. Each cell is either formatted text or code. \n",
    "\n",
    "**Text cells** use Markdown notations to format the text. For example, to make `text look like computer code` we wrap it in _backticks_ like this: \\`text look like computer code\\`. (On most keyboards the backtick character is just above the tab key.) We can also create bookmarkable section titles, insert hyperlinks, create fancy tables, and all sorts of things. In fact the syllabus for this course as well as everything else on the class website is written in Markdown. For more, take a spin through GitHub's [Mastering Markdown Guide](https://guides.github.com/features/mastering-markdown/). Or, you could just double-click on a text cell (like the one you are reading right now) to see the Markdown; to hide the Markdown code, just double-click on the rendered (pretty) text to the right. It toggles like a light switch.  \n",
    "\n",
    "**Code cells** can be identified by the little boxes `[]` that may or may not have numbers in them. The cells have runnable programming code in them. Select the cell and hit the \"play\" button to run it. Any output produced will appear just below the code. You'll also note that the `[]` box has a number inside. The number tells us what order the cells were run. If you re-run a cell then the number inside automatically updates. \n",
    "\n",
    "You may be wondering why we would choose to use these weird sorts of documents for our online lessons. It's pretty simple, really. First, they allow you to **write, run and share code without installing any software**. Second it makes **all code visible, with nothing hidden from you**. Want to see well written code? Then just read the notebooks! It's all there. \n",
    "\n",
    "There are several different Jupyter Notebook services. You are currently using [Google Colab](https://colab.research.google.com/). Over the years we have also used [Anaconda](https://www.anaconda.com/) and [JupyterHub on AWS](http://tljh.jupyter.org/en/latest/), but for this class we thought it'd be fun (!) to give Google Colab a spin.\n",
    "\n",
    "__The rest of this document asks you to perform a few tasks designed to introduce the course, sign up for some of the online tools, and set up your workspace in Jupyter.__\n",
    "\n",
    "__Expect to spend between 30 minutes and an hour, depending on your luck and skills.__\n",
    "\n",
    "-------"
   ]
  },
  {
   "cell_type": "markdown",
   "metadata": {
    "id": "eRL68Tm0lFyN"
   },
   "source": [
    "## 1. Welcome to grad school. This video explains the course objectives and expectations. NOT NOT SKIP THIS STEP. \n",
    "_If the video is doing weird things, switch your browser to Chrome. Safari doesn't like Google Colab so much._ "
   ]
  },
  {
   "cell_type": "code",
   "execution_count": null,
   "metadata": {
    "cellView": "form",
    "colab": {
     "base_uri": "https://localhost:8080/",
     "height": 579
    },
    "id": "-QEGOxdblFyO",
    "outputId": "a133a675-05c0-4fc2-9c2d-b953d6e9549f"
   },
   "outputs": [
    {
     "data": {
      "text/html": [
       "<div style=\"max-width:1000px\">\n",
       "  <div style=\"position: relative;padding-bottom: 56.25%;height: 0;\">\n",
       "    <iframe style=\"position: absolute;top: 0;left: 0;width: 100%;height: 100%;\" rel=\"0\" modestbranding=\"1\"  src=\"https://www.youtube.com/embed/YkDLv6CtEnc\" frameborder=\"0\" allow=\"accelerometer; autoplay; encrypted-media; gyroscope; picture-in-picture\" allowfullscreen></iframe>\n",
       "  </div>\n",
       "</div>"
      ],
      "text/plain": [
       "<IPython.core.display.HTML object>"
      ]
     },
     "metadata": {
      "tags": []
     },
     "output_type": "display_data"
    }
   ],
   "source": [
    "#@title Welcome to Python Fundamentals\n",
    "%%html\n",
    "<div style=\"max-width:1000px\">\n",
    "  <div style=\"position: relative;padding-bottom: 56.25%;height: 0;\">\n",
    "    <iframe style=\"position: absolute;top: 0;left: 0;width: 100%;height: 100%;\" rel=\"0\" modestbranding=\"1\"  src=\"https://www.youtube.com/embed/YkDLv6CtEnc\" frameborder=\"0\" allow=\"accelerometer; autoplay; encrypted-media; gyroscope; picture-in-picture\" allowfullscreen></iframe>\n",
    "  </div>\n",
    "</div>"
   ]
  },
  {
   "cell_type": "markdown",
   "metadata": {
    "id": "LXvJn_yGlFyT"
   },
   "source": [
    "## 2. Fill out [this short survey](https://docs.google.com/forms/d/e/1FAIpQLSfFPU2ueU_diaQXJow-YeH6ml4gwJldv66nLlHg8Z2u-x_PRw/viewform?usp=sf_link).\n",
    "Your answers will be shared with the business analytics faculty as part of the program planning process.\n",
    "\n",
    "## 3. Sign up for the Fairfield Dolan Slack Workspace.\n",
    "* Follow [these instructions](https://github.com/christopherhuntley/data5405/blob/master/Slack.md). \n",
    "* Post an introductory message in the `#data5405` channel stating \n",
    "    - your name and GitHub username\n",
    "    - your academic program (MBA, etc.)\n",
    "    - what you hope to get out of this course\n",
    "\n",
    "Note: Shift-Enter (or Shift-Return on some keyboards) allows Slack messages to continue on to another line. Maybe use a bulleted list to make a good first impression?"
   ]
  },
  {
   "cell_type": "markdown",
   "metadata": {
    "id": "dB9Dx-PAlFyU"
   },
   "source": [
    "## 4. Check browser profile. \n",
    "- To ensure access to Google Drive, Colab needs to run in **Chrome without incognito** mode. 🙁 Reopen this page, if necessary, to be sure that you are in the right browser and privacy mode. \n",
    "- Also, the **Colab account and the Google Drive account must both be `@student.fairfield.edu`**. If you opened this link from Google Classroom then you should be okay, but check to be sure. \n",
    "\n",
    "  ![Accounts must match](https://github.com/christopherhuntley/BUAN5405-docs/raw/master/img/L0_browser_profiles_must_match.png)\n",
    "\n",
    "- Tip: If you have multiple Google accounts, then [add a new profile to Chrome](https://support.google.com/a/users/answer/9310144?hl=en), just for your @student.fairfield.edu account. Then set it to use a different theme from your personal Google account. \n",
    "\n",
    "## 5. Confirm that Google Drive is configured for Google Colab. \n",
    "- You'll find `Save a copy in Drive` in Colab's `File` menu. After saving, there should now be a `Colab Notebooks` folder in your Google Drive with a file named `Copy of L0_Course_Onboarding.ipynb` inside. If not, then post a message on the class Slack channel for assistance.\n",
    "- Inside the `Colab Notebooks` folder, create a new folder for `DATA5405` and drag the notebook inside. The remane the file to eliminate the \"Copy of \" from the filename. \n"
   ]
  },
  {
   "cell_type": "markdown",
   "metadata": {
    "id": "BpNJ70Yqa93Y"
   },
   "source": [
    "## 6. Read chapters 1 and 2 of the [Python 4 Everybody](https://www.py4e.com/book.php) book. \n",
    "It's 100% free. The website has it in various formats (Kindle, PDF, etc.). There is even a version in Jupyter with live examples. The lessons here assume you read the PDF version. "
   ]
  }
 ],
 "metadata": {
  "colab": {
   "collapsed_sections": [],
   "include_colab_link": true,
   "name": "L0_5405_Course_Onboarding.ipynb",
   "provenance": []
  },
  "kernelspec": {
   "display_name": "Python 3",
   "language": "python",
   "name": "python3"
  },
  "language_info": {
   "codemirror_mode": {
    "name": "ipython",
    "version": 3
   },
   "file_extension": ".py",
   "mimetype": "text/x-python",
   "name": "python",
   "nbconvert_exporter": "python",
   "pygments_lexer": "ipython3",
   "version": "3.8.8"
  }
 },
 "nbformat": 4,
 "nbformat_minor": 4
}
