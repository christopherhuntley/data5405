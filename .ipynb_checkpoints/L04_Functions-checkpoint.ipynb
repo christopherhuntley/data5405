{
 "cells": [
  {
   "cell_type": "markdown",
   "metadata": {
    "id": "x5npdNhRQPo-"
   },
   "source": [
    "<img src=\"https://github.com/christopherhuntley/BUAN5405-docs/blob/master/Slides/img/Dolan.png?raw=true\" width=\"180px\" align=\"right\">\n",
    "\n",
    "# **Lesson 4: Functions**\n",
    "_Parameterizing code for reuse_"
   ]
  },
  {
   "cell_type": "markdown",
   "metadata": {
    "id": "icvkDr8JQPo_"
   },
   "source": [
    "## **Learning Objectives**\n",
    "\n",
    "### Theory / Be able to explain ...\n",
    "- How functions encapsulate logic into reusable components\n",
    "- The Python Standard Library of built-in functions\n",
    "- The difference between defining a function and calling it\n",
    "- Function arguments vs function parameters\n",
    "- Default parameter values\n",
    "- Positional vs named arguments\n",
    "- Void functions, short-circuiting, and `None`\n",
    "- Unit testing as a way to Fail Forward\n",
    "\n",
    "### Skills / Know how to  ...\n",
    "- Define and call functions\n",
    "- Import modules (with functions, data types, constants, etc.) from libraries\n",
    "- Use positional and named arguments when calling a function\n",
    "- Use short-circuiting to simplify functional logic\n",
    "- Guard against bugs with short-circuiting \n",
    "- Use unit tests to guide development of complex functions \n",
    "\n",
    "**What follows is adapted from Chapter 4 of the _Python For Everybody_ book. If you have not read it, then please do so before continuing on.**\n",
    "\n",
    "---"
   ]
  },
  {
   "cell_type": "code",
   "execution_count": null,
   "metadata": {
    "cellView": "form",
    "colab": {
     "base_uri": "https://localhost:8080/",
     "height": 580
    },
    "executionInfo": {
     "elapsed": 323,
     "status": "ok",
     "timestamp": 1593539000882,
     "user": {
      "displayName": "Christopher Huntley",
      "photoUrl": "",
      "userId": "11069151036176747256"
     },
     "user_tz": 240
    },
    "id": "r4Um6xx8VPfr",
    "outputId": "24b7a889-c114-40ea-e9a3-bb6a3dd6924e"
   },
   "outputs": [
    {
     "data": {
      "text/html": [
       "<div style=\"max-width: 1000px\">\n",
       "  <div style=\"position: relative;padding-bottom: 56.25%;height: 0;\">\n",
       "    <iframe style=\"position: absolute;top: 0;left: 0;width: 100%;height: 100%;\" rel=\"0\" modestbranding=\"1\"  \n",
       "        src=\"https://www.youtube.com/embed/ARo6k6o-dRo\" \n",
       "        frameborder=\"0\" allow=\"accelerometer; autoplay; encrypted-media; gyroscope; picture-in-picture\" allowfullscreen></iframe>\n",
       "  </div>\n",
       "</div>"
      ],
      "text/plain": [
       "<IPython.core.display.HTML object>"
      ]
     },
     "metadata": {
      "tags": []
     },
     "output_type": "display_data"
    }
   ],
   "source": [
    "#@title Lesson 4 Introduction\n",
    "%%html\n",
    "<div style=\"max-width: 1000px\">\n",
    "  <div style=\"position: relative;padding-bottom: 56.25%;height: 0;\">\n",
    "    <iframe style=\"position: absolute;top: 0;left: 0;width: 100%;height: 100%;\" rel=\"0\" modestbranding=\"1\"  \n",
    "        src=\"https://www.youtube.com/embed/ARo6k6o-dRo\" \n",
    "        frameborder=\"0\" allow=\"accelerometer; autoplay; encrypted-media; gyroscope; picture-in-picture\" allowfullscreen></iframe>\n",
    "  </div>\n",
    "</div>\n"
   ]
  },
  {
   "cell_type": "markdown",
   "metadata": {
    "id": "zJP7LRD6QPpB"
   },
   "source": [
    "## **Abstraction and the DRY Principle**\n",
    "> \"A designer knows that he has achieved perfection not when there is nothing left to add, but when there is nothing left to take away.\" -- Antoine de Saint-Exupery\n",
    "\n",
    "While many novice programmers assume that the best programs have the most lines of code and the most features, it's usually quite the opposite. With every line of code you are potentially introducing a bug! Keeping it simple and lean is always best. By extension, the best programmers are, as Joel Spolsky once observed, \"lazy but smart.\" They tend to talk in simple, grammatically correct sentences, enunciating every word, perhaps even pronouncing the \"t\" in \"often.\" They are the most likely to wear tee-shirts and jeans to work because they are comfortable and what you wear doesn't define who you are anyway. There is a kind of geeky elegance in that that many others, especially their bosses but sometimes their spouses, tend to miss ... until crunch time when it really matters. Then suddenly everybody is waiting for the programmers to squash every bug and nobody cares what they wear. While nobody is advocating you wear a tee-shirt to your next staff meeting, there is something to be learned from watching programmers do their best work. \n",
    "\n",
    "In its highest forms, programming is about creating _elegant_ code that just works. A skilled programmer has the rare ability to **abstract the essential from the concrete.** Given a block of code that does X, they will winnow it down to its bare logical essence and then parameterize it (i.e., with variables) so it can be reused over and over again, even in novel situations that never occurred to anybody before. They _are_ both lazy and smart. \n",
    "\n",
    "In many cases they will do this abstraction process without being asked. They call it the **DRY (\"Don't Repeat Yourself\") principle**. After you have done something the second or third time, it begins to become worth your time to see that it gets done right every time, with a minimum of effort. That, ultimately, is the essence of programming (pun intended). \n",
    "\n",
    "This lesson is about **functions** that **encapsulate** logic into reusable components. We will start with functions that come built into Python and then define some of our own.   "
   ]
  },
  {
   "cell_type": "markdown",
   "metadata": {
    "id": "htOAjFHOQPpB"
   },
   "source": [
    "---\n",
    "## **What's a Function?**\n",
    "**A function is a named block of statements** that can be **called** as needed. If the function requires data to do its work, then we can supply input **arguments** when we call the function. Often, but not always, a function may **return** a result (output) of the computation.\n",
    "\n",
    "We have already seen a few function calls:"
   ]
  },
  {
   "cell_type": "code",
   "execution_count": null,
   "metadata": {
    "id": "w-2YTzZWQPpC",
    "outputId": "bdf03286-80a0-41e1-8524-84c654f09cea"
   },
   "outputs": [
    {
     "data": {
      "text/plain": [
       "int"
      ]
     },
     "execution_count": 1,
     "metadata": {
      "tags": []
     },
     "output_type": "execute_result"
    }
   ],
   "source": [
    "type(32)"
   ]
  },
  {
   "cell_type": "code",
   "execution_count": null,
   "metadata": {
    "id": "6jo7dJeNQPpH",
    "outputId": "5a7fb77f-9641-4445-f188-2c4f84e4b6ca"
   },
   "outputs": [
    {
     "name": "stdout",
     "output_type": "stream",
     "text": [
      "Go Stags!\n"
     ]
    }
   ],
   "source": [
    "print(\"Go Stags!\")"
   ]
  },
  {
   "cell_type": "code",
   "execution_count": null,
   "metadata": {
    "id": "x-o1KMngQPpL",
    "outputId": "161df74e-9a43-43c9-c5f5-dba0a8e51ad4"
   },
   "outputs": [
    {
     "data": {
      "text/plain": [
       "42"
      ]
     },
     "execution_count": 3,
     "metadata": {
      "tags": []
     },
     "output_type": "execute_result"
    }
   ],
   "source": [
    "int(42.0)"
   ]
  },
  {
   "cell_type": "markdown",
   "metadata": {
    "id": "5OxjqhznQPpO"
   },
   "source": [
    "In each case the pattern is the same:\n",
    "```python\n",
    "function_name(argument)\n",
    "```\n",
    "The expectation is that the function call will return a value. In mathematical terms we say that a function is a mapping from a domain (set of inputs) to a range (set of outputs). Given some number of arguments, the function performs a calculation and returns the result. \n",
    "\n",
    "Python 3 ships with dozens of built-in functions in its **standard library**:\n",
    "\n",
    "> ![Std Lib Functions](https://github.com/christopherhuntley/BUAN5405-lessons/raw/master/img/L4_standard_library_functions.png)\n",
    "\n",
    "We can classify them into several categories:\n",
    "- **types:** `bool()`, `int()`, `float()`, `complex()`, `str()`, `list()`, `dict()`, `tuple()`,`set()`, `frozenset()`,`type()`\n",
    "- **math/logic:** `all()`,`any()`,`bin()`,`oct()`,`hex()`,`abs()`,`round()`,`max()`, `min()`, `pow()`, `sum()`\n",
    "- **strings/sequences:** `ascii()`, `chr()`, `hash()`, `format()`, `len()`, `range()`, `iter()`, `filter()`, `enumerate()`, `slice()`, `sorted()`\n",
    "- **text I/O:** `input()`, `print()`, `repr()`\n",
    "- **files:** `open()` \n",
    "- **plumbing:** `bytes()`, `bytearray()`,`callable()`,`classmethod()`, `locals()`, `dir()`,`setattr()`, `getattr()`, `delattr()`, `compile()`, `eval()`,`exec()`, ...\n",
    "\n",
    "In addition to these functions that come pre-loaded, there are many more things that can be **imported** from the standard library. "
   ]
  },
  {
   "cell_type": "code",
   "execution_count": null,
   "metadata": {
    "id": "gGarZ5N0QPpP",
    "outputId": "c25e64ba-3755-4820-984a-7a8861cf689d"
   },
   "outputs": [
    {
     "name": "stdout",
     "output_type": "stream",
     "text": [
      "3.141592653589793\n",
      "0.9636885289926522\n",
      "0.4041246611761464\n"
     ]
    }
   ],
   "source": [
    "import math\n",
    "print(math.pi)\n",
    "\n",
    "import random\n",
    "print(random.random())\n",
    "print(random.random())"
   ]
  },
  {
   "cell_type": "markdown",
   "metadata": {
    "id": "_zAoRE5HQPpR"
   },
   "source": [
    "`math` and `random` are **modules** to bundle together collections of functions, constants, and other reusable components that we can use in our code. Once imported, we use \"dot notation\" to indicate what which module contains a given function. Thus, `math.pi` is a constant (`pi`) found in in the `math` module. Similarly, `random.random()` is the function `random()` in the `random` module. We use it to generate pseudo-random numbers between 0 and 1. \n",
    "\n",
    "We can use the same mechanism to import and use components from third-party libraries as well.  \n",
    "```python\n",
    "import pandas as pd\n",
    "```\n",
    "You will see the code above a lot in your data science classes, basically at the top of every notebook. It imports the pandas library used for managing (sometimes impossibly huge) datasets, supplying a shorthand **alias** `pd` to save us from typing `pandas` over and over again. (We programmers really are a lazy bunch.)"
   ]
  },
  {
   "cell_type": "markdown",
   "metadata": {
    "id": "RPmg0lBVQPpS"
   },
   "source": [
    "---\n",
    "## **Function Definitions & Calls**\n",
    "\n",
    "Before a function can be called, it has to be defined. For that we use a `def` statement:\n",
    "```python\n",
    "def function_name( parameters ):\n",
    "    function_body\n",
    "```\n",
    "\n",
    "where\n",
    "- `function_name` follows exactly the same rules as variable names\n",
    "- `parameters` **declares** (names) a list of zero or more variables (_parameters_) that can be **passed** as arguments in a function call\n",
    "- `function_body` is a block of statements to be executed one after the other\n",
    "\n",
    "Consider, for example, the following code, which includes one function definition and two function calls: "
   ]
  },
  {
   "cell_type": "code",
   "execution_count": null,
   "metadata": {
    "id": "GzzgI-rhQPpS",
    "outputId": "29313100-8047-4629-b3b3-e5dbe6c50182"
   },
   "outputs": [
    {
     "name": "stdout",
     "output_type": "stream",
     "text": [
      "Go home!\n",
      "Go Stags!\n",
      "<function go_team at 0x110002320>\n"
     ]
    }
   ],
   "source": [
    "def go_team(school):\n",
    "    if school == \"Fairfield\":\n",
    "        return \"Go Stags!\"\n",
    "    else:\n",
    "        return \"Go home!\"\n",
    "\n",
    "print(go_team(\"Marist\"))\n",
    "print(go_team(\"Fairfield\"))\n",
    "print(go_team)"
   ]
  },
  {
   "cell_type": "markdown",
   "metadata": {
    "id": "27r2QAKCQPpV"
   },
   "source": [
    "- The `def` statement has to precede the first function call. If we were to move the statement `print(go_team(\"Marist\"))` to the top of the code before running the cell the first time then we would get `NameError: name 'go_team' is not defined`. \n",
    "- The `school` parameter is used inside the function body like any other variable. However, without more work on our part, `school` is a **local variable** that does not exist outside the function body. Its value is lost once the function is done. (Note: that's a feature, not a bug; forgetting things we no long need to know clears memory for remembering new things.)\n",
    "- `return` statements are used to tell the function to **terminate execution** and (optionally) what to **_pass back_** to the **_caller_**. Yes, it is possible for a function to return nothing. We'll come back to that in a bit.\n",
    "- Each function call is considered to be independent of the others. The function body gets a fresh instance of the `school` parameter to work with each time the function is called. \n",
    "- Finally, **a function definition has no effect until the function is called.** Without the parentheses to indicate that we are calling it, it is just a software object like anything else. It's [Schrödinger's cat](https://en.wikipedia.org/wiki/Schr%C3%B6dinger%27s_cat), waiting for us to open the box to see if it is alive or dead. If we call a function that hasn't been defined yet then we get an error. \n",
    "\n",
    "### **Lexical Scope: Parameters and Arguments**\n",
    "You may have noticed that we seem to be somewhat inconsistent with what we call the inputs to our functions. **Function calls supply input _arguments_** but **function definitions declare input _parameters_.** If both are inputs why have two names? That's because they are not actually the same thing at all. An argument is any Python expression, while a parameter is a local variable that is assigned the _value_ of the argument. Arguments get evaluated as part of the function call and then assigned to parameters just before executing the function body. \n",
    "\n",
    "So, for example, consider the following function definition and function call: \n",
    "```python\n",
    "def double_value(x):\n",
    "  return x*2\n",
    "\n",
    "double_value(1+1)\n",
    "```\n",
    "\n",
    "The parameter `x` is used only inside the function body. Meanwhile, the argument `1+1` is evaluated to `2` just before setting the value of `x` inside the function. \n",
    "\n",
    "_**Now for a more advanced explanation ...**_ (Skim if you like and read the TL;DR at the bottom.)\n",
    "\n",
    "This distinction between what is \"inside\" a function definition and what is \"outside\" the function definition is called **lexical scope**. Each variable exists in a **namespace** (a.k.a, \"scope\") within which no two variables can have the same name. However, what about code written by two different people? How can we be sure that library code written by person X many years ago does not have a variable with the same name as the one we are setting right now? We can't! So, we instead say that every variable has a scope within which it is defined. These scopes nest inside of each other, like [Matryoshka dolls](https://en.wikipedia.org/wiki/Matryoshka_doll). A module (program) can define variables and functions. Functions inside the module can define variables and _even more functions_.\n",
    "\n",
    "The result is a hierarchy of scopes, with lower level scopes nested inside of higher level scopes. Recall dot notation, which we learned about in the section on modules? That's exactly how we refer things throughout the scope hierarchy:\n",
    "- _`module`.`function`_ and _`module`.`variable`_ are how we refer to a function or a variable in an imported module.\n",
    "- _`function`.`variable`_ is how we would refer to a variable that is defined inside a function in the current module (i.e., our code). \n",
    "- _`module`.`function`.`variable`_ is how we would refer to a variable within a a function defined in another module. \n",
    "- ... and many more variations on the above.  \n",
    "\n",
    "Most of the time we can ignore the whole namespace concept but of course there are times when it matters. One such time is when calling a function, where data inside the function (parameters) are separate from data outside the function (arguments). Consider the following example:\n"
   ]
  },
  {
   "cell_type": "code",
   "execution_count": null,
   "metadata": {
    "colab": {
     "base_uri": "https://localhost:8080/",
     "height": 218
    },
    "executionInfo": {
     "elapsed": 383,
     "status": "ok",
     "timestamp": 1595279738474,
     "user": {
      "displayName": "Christopher Huntley",
      "photoUrl": "",
      "userId": "11069151036176747256"
     },
     "user_tz": 240
    },
    "id": "LIe7RwGlxIGk",
    "outputId": "66c3a230-1dd0-4bb4-9654-adc7a25db1c5"
   },
   "outputs": [
    {
     "name": "stdout",
     "output_type": "stream",
     "text": [
      "--- outer MODULE Scope ---\n",
      "var a = 1\n",
      "var b = 2\n",
      "about to call add_two_numbers()\n",
      "\n",
      "--- inner add_two_numbers FUNCTION scope ---\n",
      "param a = 2\n",
      "param b = 1\n",
      "Returning 3\n",
      "\n",
      "--- outer MODULE Scope --\n",
      "Function returned 3\n"
     ]
    }
   ],
   "source": [
    "def add_two_numbers(a,b):\n",
    "  print(\"\\n--- inner add_two_numbers FUNCTION scope ---\")\n",
    "  print(\"param a =\",a)\n",
    "  print(\"param b =\",b)\n",
    "  print(\"Returning\", a+b)\n",
    "  return a + b\n",
    "\n",
    "\n",
    "a = 1\n",
    "b = 2\n",
    "print(\"--- outer MODULE Scope ---\")\n",
    "print(\"var a =\",a)\n",
    "print(\"var b =\",b)\n",
    "print(\"about to call add_two_numbers()\")\n",
    "print(\"\\n--- outer MODULE Scope --\\nFunction returned\", add_two_numbers(b,a)) # note: b is passed before a"
   ]
  },
  {
   "cell_type": "markdown",
   "metadata": {
    "id": "f2WF5fPmzBhI"
   },
   "source": [
    "Here's a step-by step trace through in the order (and scope) in which each line of code is executed.\n",
    "- In _MODULE_ scope:\n",
    "  - lines 1-6: define the function `add_two_numbers()` \n",
    "  - lines 9-10: initialize `a`=1 and `b`=2\n",
    "  - line 15: calls the function `add_two_numbers()`:\n",
    "    - the arguments `b` and `a` are evaluated to get the values 2 and 1\n",
    "    - the values 2 and 1 are passed into the function as data\n",
    "- In `add_two_numbers()` _FUNCTION_ scope:\n",
    "  - line 1: the values 2 and 1 are assigned to the parameters `a` and `b`, which act like variables within the `add_two_numbers()` function scope. \n",
    "  - the names `a` and `b` within the function take precendence over the names a and b outside the function. In other words, within the scope of `add_two_numbers()`, the names `a` and `b` are always the parameters, not the variables set outside the function. \n",
    "  - line 6: the function returns the sum of `a` and `b` (i.e., 3), after which the scope returns to the enclosing module \n",
    "- Back in _MODULE_ scope (upon returning from the function call in line 15):\n",
    "  - the value returned by the function (3) is used by the print statement.\n",
    "\n",
    "**TL;DR:** Function _parameters_ are what we call the data _inside the function scope_ (the middle bullets), while function _arguments_ are how we refer to the same data when _calling_ the function from the enclosing module scope (the outer bullets). \n",
    "\n",
    "\n"
   ]
  },
  {
   "cell_type": "markdown",
   "metadata": {
    "id": "evw-k-97wvzU"
   },
   "source": [
    "### **Default Values and Named Arguments**\n",
    "It is also possible that we might make some parameters optional by supplying **default values**:"
   ]
  },
  {
   "cell_type": "code",
   "execution_count": null,
   "metadata": {
    "id": "XCiJ7d09QPpW",
    "outputId": "68d83e4d-1a23-43df-d643-e9de1542f406"
   },
   "outputs": [
    {
     "name": "stdout",
     "output_type": "stream",
     "text": [
      "Go home!\n",
      "Go Stags!\n",
      "Go Stags!\n"
     ]
    }
   ],
   "source": [
    "# default values can be assigned in the parameter list\n",
    "def go_team(school = \"Fairfield\"):\n",
    "    if school == \"Fairfield\":\n",
    "        return \"Go Stags!\"\n",
    "    else:\n",
    "        return \"Go home!\"\n",
    "\n",
    "print(go_team(\"Marist\"))\n",
    "print(go_team(\"Fairfield\"))\n",
    "print(go_team())"
   ]
  },
  {
   "cell_type": "markdown",
   "metadata": {
    "id": "AFGO8lNyQPpZ"
   },
   "source": [
    "Here we have set \"Fairfield\" as the default value for `school`. If the school is not specified in the call then the function assumes you meant \"Fairfield\". \n",
    "\n",
    "So far we have only considered functions that have one parameter. When defining a function with multiple parameters, the parameters are declared in a particular order, with parameters having a default value (e.g., `school` in the above example) always listed _after_ those without them. When calling the function, the inputs that are required (because the corresponding parameters lack defaults) are said to be **positional arguments** because they have to be listed in the same order as the parameter declarations. The optional inputs (with default values) are **named arguments**. "
   ]
  },
  {
   "cell_type": "code",
   "execution_count": null,
   "metadata": {
    "colab": {
     "base_uri": "https://localhost:8080/",
     "height": 280
    },
    "executionInfo": {
     "elapsed": 149,
     "status": "error",
     "timestamp": 1626290426268,
     "user": {
      "displayName": "Christopher Huntley",
      "photoUrl": "",
      "userId": "11069151036176747256"
     },
     "user_tz": 240
    },
    "id": "1Z3tNF1pQPpZ",
    "outputId": "7b96f50f-7bd5-4da8-d5ee-302429fb00f6"
   },
   "outputs": [
    {
     "name": "stdout",
     "output_type": "stream",
     "text": [
      "Go home!\n",
      "Go Lady Stags Lacrosse!\n",
      "Go Stags Tennis!\n",
      "Go Lady Stags Basketball!\n",
      "Go Stags Basketball!\n"
     ]
    },
    {
     "ename": "TypeError",
     "evalue": "ignored",
     "output_type": "error",
     "traceback": [
      "\u001b[0;31m---------------------------------------------------------------------------\u001b[0m",
      "\u001b[0;31mTypeError\u001b[0m                                 Traceback (most recent call last)",
      "\u001b[0;32m<ipython-input-1-826ae0c1a3a7>\u001b[0m in \u001b[0;36m<module>\u001b[0;34m()\u001b[0m\n\u001b[1;32m     12\u001b[0m \u001b[0mprint\u001b[0m\u001b[0;34m(\u001b[0m\u001b[0mgo_team\u001b[0m\u001b[0;34m(\u001b[0m\u001b[0;34m\"Basketball\"\u001b[0m\u001b[0;34m,\u001b[0m \u001b[0mgender_modifier\u001b[0m\u001b[0;34m=\u001b[0m\u001b[0;34m\"Lady\"\u001b[0m\u001b[0;34m,\u001b[0m \u001b[0mschool\u001b[0m \u001b[0;34m=\u001b[0m \u001b[0;34m\"Fairfield\"\u001b[0m\u001b[0;34m)\u001b[0m\u001b[0;34m)\u001b[0m\u001b[0;34m\u001b[0m\u001b[0;34m\u001b[0m\u001b[0m\n\u001b[1;32m     13\u001b[0m \u001b[0mprint\u001b[0m\u001b[0;34m(\u001b[0m\u001b[0mgo_team\u001b[0m\u001b[0;34m(\u001b[0m\u001b[0;34m\"Basketball\"\u001b[0m\u001b[0;34m)\u001b[0m\u001b[0;34m)\u001b[0m\u001b[0;34m\u001b[0m\u001b[0;34m\u001b[0m\u001b[0m\n\u001b[0;32m---> 14\u001b[0;31m \u001b[0mprint\u001b[0m\u001b[0;34m(\u001b[0m\u001b[0mgo_team\u001b[0m\u001b[0;34m(\u001b[0m\u001b[0;34m)\u001b[0m\u001b[0;34m)\u001b[0m   \u001b[0;31m# Error because sport is not optional\u001b[0m\u001b[0;34m\u001b[0m\u001b[0;34m\u001b[0m\u001b[0m\n\u001b[0m",
      "\u001b[0;31mTypeError\u001b[0m: go_team() missing 1 required positional argument: 'sport'"
     ]
    }
   ],
   "source": [
    "def go_team(sport, school=\"Fairfield\", gender_modifier=\"\"):\n",
    "    if school != \"Fairfield\":\n",
    "        return \"Go home!\"\n",
    "    \n",
    "    gender_modifier_padded = gender_modifier + \" \" if gender_modifier else \"\"\n",
    "\n",
    "    return \"Go \"+ gender_modifier_padded + \"Stags \" + sport +\"!\"  \n",
    "\n",
    "print(go_team(\"Tennis\", school=\"Marist\"))\n",
    "print(go_team(\"Lacrosse\", gender_modifier=\"Lady\"))\n",
    "print(go_team(\"Tennis\",\"Fairfield\"))\n",
    "print(go_team(\"Basketball\", gender_modifier=\"Lady\", school = \"Fairfield\"))\n",
    "print(go_team(\"Basketball\"))\n",
    "print(go_team())   # Error because sport is not optional"
   ]
  },
  {
   "cell_type": "markdown",
   "metadata": {
    "id": "7WIhEtBPQPpc"
   },
   "source": [
    "A few observations (which may take a few passes for you to process):\n",
    "\n",
    "- The function (intentionally) short-circuits itself, returning \"Go home!\" for any `school` except \"Fairfield\". Everything after that is Fairfield-specific.\n",
    "- Named arguments (`school` and `gender_modifier`) can appear in any order as long as they appear after the positional arguments (`sport`).\n",
    "- We can also treat named arguments like positional arguments (without `name =` syntax) as long as they appear in the order the parameters were declared.\n",
    "- We can use the parameters like any other variables (and even change their values).\n",
    "- However, if we omit the `sport` argument then we get an error. Positional arguments are always required. "
   ]
  },
  {
   "cell_type": "markdown",
   "metadata": {
    "id": "FHCdLqowQPpe"
   },
   "source": [
    "---\n",
    "## **Fruitful vs Void**\n",
    "A function that returns a value is said to be **fruitful**. One that doesn't is a **void function**, which some languages call _subroutines_ or _procedures_. A void function is called not to perform a calculation but to carry out an **action** (\"side effect\") like printing to the screen or writing to a file. Notice that the following does not have a `return` statement. "
   ]
  },
  {
   "cell_type": "code",
   "execution_count": null,
   "metadata": {
    "id": "sJcMO2p_QPpf",
    "outputId": "af0fc582-65b5-49b0-91c0-5d2f3c481813"
   },
   "outputs": [
    {
     "name": "stdout",
     "output_type": "stream",
     "text": [
      "Go Stags Tennis!\n",
      "-----\n",
      "Go Stags Tennis!\n",
      "None\n",
      "-----\n",
      "Go Stags Tennis!\n",
      "<class 'NoneType'>\n"
     ]
    }
   ],
   "source": [
    "def print_go_team(sport, school=\"Fairfield\", gender_modifier=\"\"):\n",
    "    print(go_team(sport,school,gender_modifier))\n",
    "\n",
    "print_go_team(\"Tennis\")\n",
    "print(\"-----\")\n",
    "print(print_go_team(\"Tennis\"))\n",
    "print(\"-----\")\n",
    "print(type(print_go_team(\"Tennis\")))"
   ]
  },
  {
   "cell_type": "markdown",
   "metadata": {
    "id": "SbZi72URQPpi"
   },
   "source": [
    "Notes:\n",
    "- A void function returns (terminates) at the bottom of the function body unless it is short-circuited with a `return` (by itself, without any value) somewhere before that.\n",
    "- Even a void function actually returns a value. It's just that the value is always `None` with data type `NoneType`.  \n",
    "\n",
    "> **Heads Up: `print()` is not fruitful.** it does not return a value. Instead it displays a value on a given output device.  \n",
    "> For example, consider the following code:\n",
    ">\n",
    "> ```python\n",
    "> type(print('Hi'))  \n",
    ">\n",
    "> ```  \n",
    "> \n",
    ">\n",
    "> If we run that in a code cell then _two_ things occur:\n",
    "> - the text 'Hi' is printed to the screen\n",
    "> - the return type of the `print()` call is identified as `NoneType` (i.e., nothingness itself)\n",
    "> \n",
    "> Since we are using Python to process data (not just `print()` it), we almost always want our functions to be fruitful. In fact, avoid using `print()` for much of anything except debugging. **Whatever you do, don't ever confuse `return` with `print()`.** They really are very different things. "
   ]
  },
  {
   "cell_type": "markdown",
   "metadata": {
    "id": "XcE85CmEQPpi"
   },
   "source": [
    "---\n",
    "## **Pro Tips**\n",
    "### __Variable Numbers of Arguments with `*args` and `**kwargs`__\n",
    "It is possible for a function to allow a variable number of \"extra\" arguments. We've already seen this with the `print()` function:"
   ]
  },
  {
   "cell_type": "code",
   "execution_count": null,
   "metadata": {
    "id": "5TgCAH3MQPpj",
    "outputId": "7d43a9b2-894c-4f9a-c130-55ec08df0acb"
   },
   "outputs": [
    {
     "name": "stdout",
     "output_type": "stream",
     "text": [
      "a b c d e\n"
     ]
    }
   ],
   "source": [
    "print(\"a\",\"b\",\"c\",\"d\",\"e\")  # we can pass as many arguments as we like"
   ]
  },
  {
   "cell_type": "markdown",
   "metadata": {
    "id": "TDN7FcDNQPpl"
   },
   "source": [
    "To understand how this works in detail you will need to understand iterable types, which we won't get to until Lesson 6. However, you should at least be able to spot functions with extra arguments by looking for parameters with names like `*args` (for extra positional arguments) and `**kwargs` (for extra keyword arguments that require `=`). It is up to the function to figure out what to do with the extra arguments. In the case of the `print()` function, it prints each item (after converting to `str` if needed) with a space `' '` delimiter separating them. "
   ]
  },
  {
   "cell_type": "markdown",
   "metadata": {
    "id": "vTxjQSwKQPpl"
   },
   "source": [
    "### **Sanitizing Inputs**\n",
    "Sanitizing is a defensive programming technique intended to avoid system crashes and security vulnerabilities. Forgetting to **sanitize** inputs before doing a potentially dangerous calculation is a common security bug. (Actually, in a language like C without memory protection, every calculation was dangerous, so I guess that says something about how insecure paleolithic code can be.)\n",
    "\n",
    "In practice, the easiest way to sanitize function inputs is to check for invalid input parameters at the top of the function, **before** it does anything else. Let's go back to an example from the Defensive Programming section in Lesson 3, except this time packaged as a function:"
   ]
  },
  {
   "cell_type": "code",
   "execution_count": null,
   "metadata": {
    "id": "UaiQWBKQQPpm"
   },
   "outputs": [],
   "source": [
    "def warning_ratio_gt_1(x,y):\n",
    "    if (y/x > 1):\n",
    "        print(\"Warning! y/x > 1\")"
   ]
  },
  {
   "cell_type": "markdown",
   "metadata": {
    "id": "jNYGrEGyQPpo"
   },
   "source": [
    "This function crashes when called with `x` equal to 0:"
   ]
  },
  {
   "cell_type": "code",
   "execution_count": null,
   "metadata": {
    "id": "lFCWujlcQPpo",
    "outputId": "44113468-e8af-4296-e0bd-b7cf92f54690"
   },
   "outputs": [
    {
     "ename": "ZeroDivisionError",
     "evalue": "division by zero",
     "output_type": "error",
     "traceback": [
      "\u001b[0;31m---------------------------------------------------------------------------\u001b[0m",
      "\u001b[0;31mZeroDivisionError\u001b[0m                         Traceback (most recent call last)",
      "\u001b[0;32m<ipython-input-12-05c5e889093f>\u001b[0m in \u001b[0;36m<module>\u001b[0;34m\u001b[0m\n\u001b[0;32m----> 1\u001b[0;31m \u001b[0mwarning_ratio_gt_1\u001b[0m\u001b[0;34m(\u001b[0m\u001b[0;36m0\u001b[0m\u001b[0;34m,\u001b[0m\u001b[0;36m1\u001b[0m\u001b[0;34m)\u001b[0m\u001b[0;34m\u001b[0m\u001b[0;34m\u001b[0m\u001b[0m\n\u001b[0m",
      "\u001b[0;32m<ipython-input-11-115b0936e2ad>\u001b[0m in \u001b[0;36mwarning_ratio_gt_1\u001b[0;34m(x, y)\u001b[0m\n\u001b[1;32m      1\u001b[0m \u001b[0;32mdef\u001b[0m \u001b[0mwarning_ratio_gt_1\u001b[0m\u001b[0;34m(\u001b[0m\u001b[0mx\u001b[0m\u001b[0;34m,\u001b[0m\u001b[0my\u001b[0m\u001b[0;34m)\u001b[0m\u001b[0;34m:\u001b[0m\u001b[0;34m\u001b[0m\u001b[0;34m\u001b[0m\u001b[0m\n\u001b[0;32m----> 2\u001b[0;31m     \u001b[0;32mif\u001b[0m \u001b[0;34m(\u001b[0m\u001b[0my\u001b[0m\u001b[0;34m/\u001b[0m\u001b[0mx\u001b[0m \u001b[0;34m>\u001b[0m \u001b[0;36m1\u001b[0m\u001b[0;34m)\u001b[0m\u001b[0;34m:\u001b[0m\u001b[0;34m\u001b[0m\u001b[0;34m\u001b[0m\u001b[0m\n\u001b[0m\u001b[1;32m      3\u001b[0m         \u001b[0mprint\u001b[0m\u001b[0;34m(\u001b[0m\u001b[0;34m\"Warning! y/x > 1\"\u001b[0m\u001b[0;34m)\u001b[0m\u001b[0;34m\u001b[0m\u001b[0;34m\u001b[0m\u001b[0m\n",
      "\u001b[0;31mZeroDivisionError\u001b[0m: division by zero"
     ]
    }
   ],
   "source": [
    "warning_ratio_gt_1(0,1)"
   ]
  },
  {
   "cell_type": "markdown",
   "metadata": {
    "id": "ybbbBtgLQPpr"
   },
   "source": [
    "We can of course fix that with a boolean guard. "
   ]
  },
  {
   "cell_type": "code",
   "execution_count": null,
   "metadata": {
    "id": "maS39Q3DQPpr"
   },
   "outputs": [],
   "source": [
    "def warning_ratio_gt_1(x,y):\n",
    "    if (x !=0 and y/x > 1):\n",
    "        print(\"Warning! y/x > 1\")\n",
    "warning_ratio_gt_1(0,1)"
   ]
  },
  {
   "cell_type": "markdown",
   "metadata": {
    "id": "ZxgGLOD1QPpt"
   },
   "source": [
    "Looks good, right? Not exactly. It crashes if `x` or `y` isn't a number:"
   ]
  },
  {
   "cell_type": "code",
   "execution_count": null,
   "metadata": {
    "id": "acX3Qu1HQPpu",
    "outputId": "7fc8f900-8986-4257-8a6f-b5dec856f90e"
   },
   "outputs": [
    {
     "ename": "TypeError",
     "evalue": "unsupported operand type(s) for /: 'int' and 'str'",
     "output_type": "error",
     "traceback": [
      "\u001b[0;31m---------------------------------------------------------------------------\u001b[0m",
      "\u001b[0;31mTypeError\u001b[0m                                 Traceback (most recent call last)",
      "\u001b[0;32m<ipython-input-14-10705da9af44>\u001b[0m in \u001b[0;36m<module>\u001b[0;34m\u001b[0m\n\u001b[0;32m----> 1\u001b[0;31m \u001b[0mwarning_ratio_gt_1\u001b[0m\u001b[0;34m(\u001b[0m\u001b[0;34m\"1\"\u001b[0m\u001b[0;34m,\u001b[0m\u001b[0;36m1\u001b[0m\u001b[0;34m)\u001b[0m\u001b[0;34m\u001b[0m\u001b[0;34m\u001b[0m\u001b[0m\n\u001b[0m",
      "\u001b[0;32m<ipython-input-13-403182e46ade>\u001b[0m in \u001b[0;36mwarning_ratio_gt_1\u001b[0;34m(x, y)\u001b[0m\n\u001b[1;32m      1\u001b[0m \u001b[0;32mdef\u001b[0m \u001b[0mwarning_ratio_gt_1\u001b[0m\u001b[0;34m(\u001b[0m\u001b[0mx\u001b[0m\u001b[0;34m,\u001b[0m\u001b[0my\u001b[0m\u001b[0;34m)\u001b[0m\u001b[0;34m:\u001b[0m\u001b[0;34m\u001b[0m\u001b[0;34m\u001b[0m\u001b[0m\n\u001b[0;32m----> 2\u001b[0;31m     \u001b[0;32mif\u001b[0m \u001b[0;34m(\u001b[0m\u001b[0mx\u001b[0m \u001b[0;34m!=\u001b[0m\u001b[0;36m0\u001b[0m \u001b[0;32mand\u001b[0m \u001b[0my\u001b[0m\u001b[0;34m/\u001b[0m\u001b[0mx\u001b[0m \u001b[0;34m>\u001b[0m \u001b[0;36m1\u001b[0m\u001b[0;34m)\u001b[0m\u001b[0;34m:\u001b[0m\u001b[0;34m\u001b[0m\u001b[0;34m\u001b[0m\u001b[0m\n\u001b[0m\u001b[1;32m      3\u001b[0m         \u001b[0mprint\u001b[0m\u001b[0;34m(\u001b[0m\u001b[0;34m\"Warning! y/x > 1\"\u001b[0m\u001b[0;34m)\u001b[0m\u001b[0;34m\u001b[0m\u001b[0;34m\u001b[0m\u001b[0m\n\u001b[1;32m      4\u001b[0m \u001b[0mwarning_ratio_gt_1\u001b[0m\u001b[0;34m(\u001b[0m\u001b[0;36m0\u001b[0m\u001b[0;34m,\u001b[0m\u001b[0;36m1\u001b[0m\u001b[0;34m)\u001b[0m\u001b[0;34m\u001b[0m\u001b[0;34m\u001b[0m\u001b[0m\n",
      "\u001b[0;31mTypeError\u001b[0m: unsupported operand type(s) for /: 'int' and 'str'"
     ]
    }
   ],
   "source": [
    "warning_ratio_gt_1(\"1\",1)"
   ]
  },
  {
   "cell_type": "markdown",
   "metadata": {
    "id": "IP0IQ6vLQPpw"
   },
   "source": [
    "The solution is to sanitize `x` and `y` with a conversion to floats. "
   ]
  },
  {
   "cell_type": "code",
   "execution_count": null,
   "metadata": {
    "id": "cMQcDqT7QPpx"
   },
   "outputs": [],
   "source": [
    "def warning_ratio_gt_1(x,y):\n",
    "    denominator = float(x)\n",
    "    numerator = float(y)\n",
    "    if (numerator/denominator > 1):\n",
    "        print(\"Warning! y/x > 1\")\n",
    "warning_ratio_gt_1(\"1\",1)"
   ]
  },
  {
   "cell_type": "markdown",
   "metadata": {
    "id": "z7u0r8sbQPpy"
   },
   "source": [
    "But then how about this?"
   ]
  },
  {
   "cell_type": "code",
   "execution_count": null,
   "metadata": {
    "id": "nphGNIB_QPpz",
    "outputId": "5173f0e3-56fd-41ef-e788-0779b6c04a27"
   },
   "outputs": [
    {
     "ename": "ValueError",
     "evalue": "could not convert string to float: 'one'",
     "output_type": "error",
     "traceback": [
      "\u001b[0;31m---------------------------------------------------------------------------\u001b[0m",
      "\u001b[0;31mValueError\u001b[0m                                Traceback (most recent call last)",
      "\u001b[0;32m<ipython-input-16-899edde0c105>\u001b[0m in \u001b[0;36m<module>\u001b[0;34m\u001b[0m\n\u001b[0;32m----> 1\u001b[0;31m \u001b[0mprint\u001b[0m\u001b[0;34m(\u001b[0m\u001b[0mwarning_ratio_gt_1\u001b[0m\u001b[0;34m(\u001b[0m\u001b[0;34m\"one\"\u001b[0m\u001b[0;34m,\u001b[0m\u001b[0;36m1\u001b[0m\u001b[0;34m)\u001b[0m\u001b[0;34m)\u001b[0m\u001b[0;34m\u001b[0m\u001b[0;34m\u001b[0m\u001b[0m\n\u001b[0m",
      "\u001b[0;32m<ipython-input-15-562678b55d2e>\u001b[0m in \u001b[0;36mwarning_ratio_gt_1\u001b[0;34m(x, y)\u001b[0m\n\u001b[1;32m      1\u001b[0m \u001b[0;32mdef\u001b[0m \u001b[0mwarning_ratio_gt_1\u001b[0m\u001b[0;34m(\u001b[0m\u001b[0mx\u001b[0m\u001b[0;34m,\u001b[0m\u001b[0my\u001b[0m\u001b[0;34m)\u001b[0m\u001b[0;34m:\u001b[0m\u001b[0;34m\u001b[0m\u001b[0;34m\u001b[0m\u001b[0m\n\u001b[0;32m----> 2\u001b[0;31m     \u001b[0mdenominator\u001b[0m \u001b[0;34m=\u001b[0m \u001b[0mfloat\u001b[0m\u001b[0;34m(\u001b[0m\u001b[0mx\u001b[0m\u001b[0;34m)\u001b[0m\u001b[0;34m\u001b[0m\u001b[0;34m\u001b[0m\u001b[0m\n\u001b[0m\u001b[1;32m      3\u001b[0m     \u001b[0mnumerator\u001b[0m \u001b[0;34m=\u001b[0m \u001b[0mfloat\u001b[0m\u001b[0;34m(\u001b[0m\u001b[0my\u001b[0m\u001b[0;34m)\u001b[0m\u001b[0;34m\u001b[0m\u001b[0;34m\u001b[0m\u001b[0m\n\u001b[1;32m      4\u001b[0m     \u001b[0;32mif\u001b[0m \u001b[0;34m(\u001b[0m\u001b[0mnumerator\u001b[0m\u001b[0;34m/\u001b[0m\u001b[0mdenominator\u001b[0m \u001b[0;34m>\u001b[0m \u001b[0;36m1\u001b[0m\u001b[0;34m)\u001b[0m\u001b[0;34m:\u001b[0m\u001b[0;34m\u001b[0m\u001b[0;34m\u001b[0m\u001b[0m\n\u001b[1;32m      5\u001b[0m         \u001b[0mprint\u001b[0m\u001b[0;34m(\u001b[0m\u001b[0;34m\"Warning! y/x > 1\"\u001b[0m\u001b[0;34m)\u001b[0m\u001b[0;34m\u001b[0m\u001b[0;34m\u001b[0m\u001b[0m\n",
      "\u001b[0;31mValueError\u001b[0m: could not convert string to float: 'one'"
     ]
    }
   ],
   "source": [
    "print(warning_ratio_gt_1(\"one\",1))"
   ]
  },
  {
   "cell_type": "markdown",
   "metadata": {
    "id": "MKaiurKoQPp1"
   },
   "source": [
    "Oops. Now we can't just let this one go with a guard or a quick type conversion. We might either i) **throw** a more meaningful `ValueError` or ii) print out a warning message. Either way, we'll need to catch the error before it crashes the code. For that, we'll use the `try ... except` statement described in section 3.7 of the Py4E book. (Go back and reread it to be sure about how this works.) The following code prints out a warning message instead of throwing an error."
   ]
  },
  {
   "cell_type": "code",
   "execution_count": null,
   "metadata": {
    "id": "PFnDG4ItQPp1",
    "outputId": "242e870a-7d65-46be-d533-d0a823777374"
   },
   "outputs": [
    {
     "name": "stdout",
     "output_type": "stream",
     "text": [
      "Warning: Both arguments must be numbers\n"
     ]
    }
   ],
   "source": [
    "def warning_ratio_gt_1(x,y):\n",
    "    try:\n",
    "        denominator = float(x)\n",
    "        numerator = float(y)\n",
    "    except: \n",
    "        print(\"Warning: Both arguments must be numbers\")\n",
    "        return  # note that this short-ciruits the function before the if statement; it also doesn't return a value.\n",
    "    \n",
    "    if (numerator/denominator > 1):\n",
    "        print(\"Warning! y/x > 1\")\n",
    "        \n",
    "warning_ratio_gt_1(\"one\",1)"
   ]
  },
  {
   "cell_type": "markdown",
   "metadata": {
    "id": "g7Sk_qWPQPp5"
   },
   "source": [
    "### **Unit Testing**\n",
    "While testing is often seen as more engineering than data science, there are times when we will want to be 100% sure our code is free of any bugs that might throw off our analysis. In practice the more critical and potentially complex a calculation is, the more important it is to encapsulate it into a function that we can test with lots of different input values. That is the essence of test-driven development with **unit tests**. \n",
    "\n",
    "A unit test is a call for which we know the correct response. If the response does not match what we expect then the test fails. The set of all tests for the code being tested is called the **test suite**. Python has built-in support for unit testing code and, with a little help, so does Jupyter. The code below will install and load the ipython-unittest extension (plugin) for Jupyter. Run it to see what it does. "
   ]
  },
  {
   "cell_type": "code",
   "execution_count": null,
   "metadata": {
    "id": "zDa2hBcAQPp6"
   },
   "outputs": [],
   "source": [
    "# Run this cell to install the ipython-unittest library. You can clear the cell output after running. \n",
    "!pip install ipython_unittest\n",
    "!pip install jupyter_dojo\n",
    "%load_ext ipython_unittest"
   ]
  },
  {
   "cell_type": "markdown",
   "metadata": {
    "id": "jhP11Cx2QPp8"
   },
   "source": [
    "Let's try this out on the code we just debugged, starting with the first buggy version."
   ]
  },
  {
   "cell_type": "code",
   "execution_count": null,
   "metadata": {
    "id": "dwPaaVw8QPp8"
   },
   "outputs": [],
   "source": [
    "def warning_ratio_gt_1(x,y):\n",
    "    if y/x > 1:\n",
    "        print(\"Warning! y/x > 1\")"
   ]
  },
  {
   "cell_type": "markdown",
   "metadata": {
    "id": "5eZz3coKQPp-"
   },
   "source": [
    "The test suite is in the cell below. Run it to see the function fail. "
   ]
  },
  {
   "cell_type": "code",
   "execution_count": null,
   "metadata": {
    "id": "Y5Umb7SQQPp-",
    "outputId": "9ba13f3d-7f1a-4789-d371-ea9b7e52d778"
   },
   "outputs": [
    {
     "data": {
      "application/unittest.status+json": {
       "color": "yellow",
       "message": "",
       "previous": 0
      },
      "text/plain": []
     },
     "metadata": {
      "tags": []
     },
     "output_type": "display_data"
    },
    {
     "data": {
      "application/unittest.status+json": {
       "color": "salmon",
       "message": "EE\n======================================================================\nERROR: test_division_by_0 (__main__.JupyterTest)\ndivision by 0\n----------------------------------------------------------------------\nTraceback (most recent call last):\n  File \"Cell Tests\", line 2, in test_division_by_0\n  File \"<ipython-input-19-5025a7a73cb3>\", line 2, in warning_ratio_gt_1\n    if y/x > 1:\nZeroDivisionError: division by zero\n\n======================================================================\nERROR: test_not_a_number (__main__.JupyterTest)\nnot a number\n----------------------------------------------------------------------\nTraceback (most recent call last):\n  File \"Cell Tests\", line 4, in test_not_a_number\n  File \"<ipython-input-19-5025a7a73cb3>\", line 2, in warning_ratio_gt_1\n    if y/x > 1:\nTypeError: unsupported operand type(s) for /: 'str' and 'str'\n\n----------------------------------------------------------------------\nRan 2 tests in 0.001s\n\nFAILED (errors=2)\n",
       "previous": 0
      },
      "text/plain": [
       "Fail"
      ]
     },
     "metadata": {
      "tags": []
     },
     "output_type": "display_data"
    },
    {
     "name": "stdout",
     "output_type": "stream",
     "text": [
      "EE\n",
      "======================================================================\n",
      "ERROR: test_division_by_0 (__main__.JupyterTest)\n",
      "division by 0\n",
      "----------------------------------------------------------------------\n",
      "Traceback (most recent call last):\n",
      "  File \"Cell Tests\", line 2, in test_division_by_0\n",
      "  File \"<ipython-input-19-5025a7a73cb3>\", line 2, in warning_ratio_gt_1\n",
      "    if y/x > 1:\n",
      "ZeroDivisionError: division by zero\n",
      "\n",
      "======================================================================\n",
      "ERROR: test_not_a_number (__main__.JupyterTest)\n",
      "not a number\n",
      "----------------------------------------------------------------------\n",
      "Traceback (most recent call last):\n",
      "  File \"Cell Tests\", line 4, in test_not_a_number\n",
      "  File \"<ipython-input-19-5025a7a73cb3>\", line 2, in warning_ratio_gt_1\n",
      "    if y/x > 1:\n",
      "TypeError: unsupported operand type(s) for /: 'str' and 'str'\n",
      "\n",
      "----------------------------------------------------------------------\n",
      "Ran 2 tests in 0.001s\n",
      "\n",
      "FAILED (errors=2)\n"
     ]
    },
    {
     "data": {
      "text/plain": [
       "<unittest.runner.TextTestResult run=2 errors=2 failures=0>"
      ]
     },
     "execution_count": 20,
     "metadata": {
      "tags": []
     },
     "output_type": "execute_result"
    }
   ],
   "source": [
    "%%unittest\n",
    "\"division by 0\"\n",
    "warning_ratio_gt_1(0,1) == True \n",
    "\"not a number\"\n",
    "warning_ratio_gt_1(\"0\",\"1\") == True"
   ]
  },
  {
   "cell_type": "markdown",
   "metadata": {
    "id": "tGvTNTlcQPqA"
   },
   "source": [
    "The function failed as expected. **More importantly, we know how and why it failed. The tests told us!** \n",
    "\n",
    "Now let's add in our boolean guard `x != 0 and ...` to the conditional, add sanitizing code to the front of the body, and rerun the tests. "
   ]
  },
  {
   "cell_type": "code",
   "execution_count": null,
   "metadata": {
    "id": "0hyA-sBRQPqB"
   },
   "outputs": [],
   "source": [
    "def warning_ratio_gt_1(x,y):\n",
    "    try:\n",
    "        x = float(x)\n",
    "        y = float(y)\n",
    "    except: \n",
    "        print(\"Warning: Both arguments must be numbers\")\n",
    "        return\n",
    "    \n",
    "    if x!= 0 and y/x > 1:\n",
    "        print(\"Warning! y/x > 1\")"
   ]
  },
  {
   "cell_type": "code",
   "execution_count": null,
   "metadata": {
    "id": "XvtuO7eNQPqD",
    "outputId": "00430c9a-2e1a-46d0-9768-c5d5d97508d1"
   },
   "outputs": [
    {
     "data": {
      "application/unittest.status+json": {
       "color": "yellow",
       "message": "",
       "previous": 0
      },
      "text/plain": []
     },
     "metadata": {
      "tags": []
     },
     "output_type": "display_data"
    },
    {
     "data": {
      "application/unittest.status+json": {
       "color": "lightgreen",
       "message": "..\n----------------------------------------------------------------------\nRan 2 tests in 0.000s\n\nOK\n",
       "previous": 0
      },
      "text/plain": [
       "Success"
      ]
     },
     "metadata": {
      "tags": []
     },
     "output_type": "display_data"
    },
    {
     "name": "stdout",
     "output_type": "stream",
     "text": [
      "..\n",
      "----------------------------------------------------------------------\n",
      "Ran 2 tests in 0.000s\n",
      "\n",
      "OK\n"
     ]
    },
    {
     "data": {
      "text/plain": [
       "<unittest.runner.TextTestResult run=2 errors=0 failures=0>"
      ]
     },
     "execution_count": 22,
     "metadata": {
      "tags": []
     },
     "output_type": "execute_result"
    }
   ],
   "source": [
    "%%unittest\n",
    "\"division by 0\"\n",
    "warning_ratio_gt_1(0,1) == True \n",
    "\"not a number\"\n",
    "warning_ratio_gt_1(\"0\",\"1\") == True"
   ]
  },
  {
   "cell_type": "markdown",
   "metadata": {
    "id": "-sqn8VaKQPqF"
   },
   "source": [
    "Voila. We now know that our code works for the conditions that could crash it. If we ever change the code we can rerun the tests to be sure it still works. Or, if we ever get a crash we didn't expect, we can add a new test and debug the code until it passes again. It's like basic hygiene. It's always a good idea to wash your hands before dinner. It likely won't kill you if you don't, but ... you'd rather not find out the hard way, right? "
   ]
  },
  {
   "cell_type": "markdown",
   "metadata": {
    "id": "sEfYsmdHQPqF"
   },
   "source": [
    "## **Failing Forward**\n",
    "We'll close this lesson with a general comment about the nature of programming. Programming is one of those weird professions where it is best to learn from mistakes. **Nothing ever works at first.** Even if it seems to work, always assume that there are bugs in the code that you haven't discovered yet. \n",
    "\n",
    "In Lesson 1 we learned about the Edit / Run / Test cycle:\n",
    "1. Edit some code. \n",
    "2. Run it.\n",
    "3. Test to see that it worked. If not identify the mistake. \n",
    "4. Go back to step 1.\n",
    "\n",
    "In the hands of a novice, the work mostly happens in step 1. However, the learning (i.e., the thing that makes you a better programmer) happens in **step 3**. You discover that \"whenever we do X, this bad thing happens so let's try something else\" and that's when you get creative and smart. Until then it's just pounding keys on the keyboard. You don't **know** if your code works or how it is going to fail. So, why not get through steps 1 and 2 as quickly as you can, with **the least amount of code you can possibly test** and then linger a bit in step 3 to see what happened and plan for step 1 again. You'll ultimately go through more cycles but it will eventually take less time and be more likely to succeed. \n",
    "\n",
    "All of this leads to a general strategy that we might call **Failing Forward**:\n",
    "- Instead of trying to write your code all at once, **write code in tiny testable chunks** that will eventually build up into working code that does what you need it to do.\n",
    "- Use the tests you create as the model for all the things you've learned about how things can fail. **When a new kind of failure happens, embrace it** just as much as you would a nifty new coding tool or library.\n",
    "- Not all code requires an automated test suite. However, **if you bother to write unit tests, write the tests first**. Your first code after that should fail every test. Then the tests become your TODO list going forward. Keep rewriting the code and re-running the tests until the code passes every test. \n",
    "- When writing code that is hard, **start with whatever is most likely to fail**. After all, if you can't solve that then the rest of the code is irrelevant anyway. \n",
    "\n"
   ]
  },
  {
   "cell_type": "markdown",
   "metadata": {
    "id": "rQSMRvcGQPqF"
   },
   "source": [
    "Repackage your `waist2hip_ratio` calculation from Lesson 3 as a function with the following requirements:\n",
    "- Name the function `w2h_ratio` with three parameters: `waist_inches`, `hip_inches`, `gender`\n",
    "- The function should return a string with the pattern \"For a G with waist W and hip H, the w2h ratio is R, with a shape S.\", where G, W, H, R, and S are placeholders for the actual values. (Be sure to use Pythonic names for any variables, however.)\n",
    "- Round the ratio R to 2 decimal places. \n",
    "- The shape S is either \"Apple\" or \"Pear\".\n",
    "- Do not use `input()` to get data. Let that be passed into the function via arguments. \n",
    "- `waist_inches` and `hip_inches` can be given as anything that can be converted to `floats`.\n",
    "- You will need to sanitize your inputs before doing the calculations. The waist and hip measurements should be in inches. The gender needs to be either \"M\" or \"F\". \n",
    "- If `waist_inches` or `hip_inches` are invalid then return the string \"w2h_ratio: Invalid measurement(s)\". You may want a `try ... except` statement to prevent runtime errors. \n",
    "- If the gender is not \"M\" or \"F\" then return the string \"w2h_ratio: Unknown gender\"\n",
    "\n",
    "Run (and rerun and rerun and ...) the **unit tests** below to check your work. **Do not modify the tests. They are your design spec!** Instead, craft your code to pass all tests. The `%%unittest` output will indicate which tests failed.  Note: to be sure you are testing the current code, rerun your code cell with the function definition just before running each unit test."
   ]
  },
  {
   "cell_type": "code",
   "execution_count": null,
   "metadata": {
    "id": "EvKkP9VrQPqG"
   },
   "outputs": [],
   "source": [
    "# YOUR CODE HERE"
   ]
  },
  {
   "cell_type": "markdown",
   "metadata": {
    "id": "M3DMd8UrQPqH"
   },
   "source": [
    "**Unit Tests**"
   ]
  },
  {
   "cell_type": "code",
   "execution_count": null,
   "metadata": {
    "id": "s2jTnsBSQPqI"
   },
   "outputs": [],
   "source": [
    "# Run this cell once to install the ipython-unittest library for this notebook session. You can clear the cell output after running. \n",
    "!pip install ipython_unittest\n",
    "!pip install jupyter_dojo\n",
    "%load_ext ipython_unittest"
   ]
  },
  {
   "cell_type": "code",
   "execution_count": null,
   "metadata": {
    "id": "WTb_alWuQPqJ"
   },
   "outputs": [],
   "source": [
    "%%unittest\n",
    "\"function signature\"\n",
    "assert w2h_ratio(waist_inches=36,hip_inches=44,gender=\"M\") == 'For a M with waist 36.0 and hip 44.0 the w2h ratio is 0.82 with shape Pear.'\n",
    "\"divide by zero\"\n",
    "assert w2h_ratio(36,0,\"M\") == \"w2h_ratio: Invalid measurement(s)\"\n",
    "\"negative waist\"\n",
    "assert w2h_ratio(-36,44,\"M\") == \"w2h_ratio: Invalid measurement(s)\"\n",
    "\"negative hip\"\n",
    "assert w2h_ratio(36,-44,\"M\") == \"w2h_ratio: Invalid measurement(s)\"\n",
    "\"non-numercial waist\"\n",
    "assert w2h_ratio(\"36 and a half\",44,\"M\") == \"w2h_ratio: Invalid measurement(s)\"\n",
    "\"non-numercial hip\"\n",
    "assert w2h_ratio(\"36\",\"44 and a half\",\"M\") == \"w2h_ratio: Invalid measurement(s)\"\n",
    "\"numerical strings\"\n",
    "assert w2h_ratio(\"36\",\"44\",\"M\") == 'For a M with waist 36.0 and hip 44.0 the w2h ratio is 0.82 with shape Pear.'\n",
    "\"male Apple shape\"\n",
    "assert w2h_ratio(\"36\",\"38\",\"M\") == 'For a M with waist 36.0 and hip 38.0 the w2h ratio is 0.95 with shape Apple.'\n",
    "\"male Pear shape\"\n",
    "assert w2h_ratio(\"36\",\"42\",\"M\") == 'For a M with waist 36.0 and hip 42.0 the w2h ratio is 0.86 with shape Pear.'\n",
    "\"female Apple shape\"\n",
    "assert w2h_ratio(\"33\",\"36\",\"F\") == 'For a F with waist 33.0 and hip 36.0 the w2h ratio is 0.92 with shape Apple.'\n",
    "\"female Pear shape\"\n",
    "assert w2h_ratio(\"33\",\"44\",\"F\") == 'For a F with waist 33.0 and hip 44.0 the w2h ratio is 0.75 with shape Pear.'\n",
    "\"unknown gender\"\n",
    "assert w2h_ratio(36,44,\"B\") == \"w2h_ratio: Unknown gender\""
   ]
  },
  {
   "cell_type": "code",
   "execution_count": null,
   "metadata": {
    "id": "9eA8CP7wjdvv"
   },
   "outputs": [],
   "source": [
    "#@title <--- Check your work\n",
    "%%html\n",
    "<div style=\"max-width: 1000px\">\n",
    "   <div style=\"position: relative;padding-bottom: 56.25%;height: 0;\">\n",
    "     <iframe style=\"position: absolute;top: 0;left: 0;width: 100%;height: 100%;\" rel=\"0\" modestbranding=\"1\"  \n",
    "     src=\"https://www.youtube.com/embed/MPf65SlGN7g\"\n",
    "     frameborder=\"0\" allow=\"accelerometer; autoplay; encrypted-media; gyroscope; picture-in-picture\" allowfullscreen></iframe>\n",
    "   </div>\n",
    "</div>"
   ]
  },
  {
   "cell_type": "markdown",
   "metadata": {
    "id": "XoAs66WUQPqL"
   },
   "source": [
    "---\n",
    "## **Before you go ... Submit your work on Google Classroom**\n",
    "- Save your notebook to be sure it is up to date.\n",
    "- Go to the assignment in Google Classroom. \n",
    "- Turn in your notebook. Your notebook will become read-only. \n",
    "- Once it has been reviewed it will be returned and no-longer be read-only. "
   ]
  },
  {
   "cell_type": "markdown",
   "metadata": {
    "id": "lR3i5X_epKmN"
   },
   "source": [
    "---\n",
    "> ## Every Tee Shirt Has a Story\n",
    "> ABOUT THE CAMEL CODE     \n",
    "> This shirt is working code that is also art. The front of the shirt displays the commands needed to run the [Camel Code](https://www.perlmonks.org/?node_id=45213) displayed on the back. The code prints out the camel itself reduced 50% in size. I'm not a Perl aficionado but even I have to say that this is the most elegant text hack I've ever seen. So, I bought a tee shirt. You may wonder about the camel ... That's the image on O'Reilly's unofficial Perl manual. \n",
    "\n",
    "![L4 Tee Front](https://github.com/christopherhuntley/BUAN5405-docs/raw/master/Photos/L04_TeeFront.jpeg)\n",
    "![L4 Tee Back](https://github.com/christopherhuntley/BUAN5405-docs/raw/master/Photos/L04_TeeBack.jpeg)\n",
    "\n",
    "## Copyright &copy; 2020 Christopher Huntley. All rights reserved. "
   ]
  }
 ],
 "metadata": {
  "colab": {
   "collapsed_sections": [],
   "name": "L04_Functions.ipynb",
   "provenance": []
  },
  "kernelspec": {
   "display_name": "Python 3 (ipykernel)",
   "language": "python",
   "name": "python3"
  },
  "language_info": {
   "codemirror_mode": {
    "name": "ipython",
    "version": 3
   },
   "file_extension": ".py",
   "mimetype": "text/x-python",
   "name": "python",
   "nbconvert_exporter": "python",
   "pygments_lexer": "ipython3",
   "version": "3.8.13"
  }
 },
 "nbformat": 4,
 "nbformat_minor": 4
}
